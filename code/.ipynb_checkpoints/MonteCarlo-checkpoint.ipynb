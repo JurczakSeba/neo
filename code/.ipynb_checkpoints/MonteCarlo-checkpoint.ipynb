{
 "cells": [
  {
   "cell_type": "code",
   "execution_count": 1,
   "id": "761f5bfe-f921-4ecd-a32b-b87be8281599",
   "metadata": {},
   "outputs": [],
   "source": [
    "#from rdkit import Chem\n",
    "#from rdkit.Chem import Crippen\n",
    "import re\n",
    "import random\n",
    "from mhcflurry import Class1AffinityPredictor\n",
    "from tqdm import tqdm\n",
    "import sys"
   ]
  },
  {
   "cell_type": "code",
   "execution_count": 2,
   "id": "96dadd30-c1f0-4884-a59b-0c3506b3e54f",
   "metadata": {
    "scrolled": true
   },
   "outputs": [
    {
     "name": "stdout",
     "output_type": "stream",
     "text": [
      "Forcing tensorflow backend.\n"
     ]
    },
    {
     "name": "stderr",
     "output_type": "stream",
     "text": [
      "2023-12-06 13:32:18.122346: I tensorflow/tsl/cuda/cudart_stub.cc:28] Could not find cuda drivers on your machine, GPU will not be used.\n",
      "2023-12-06 13:32:18.150247: I tensorflow/tsl/cuda/cudart_stub.cc:28] Could not find cuda drivers on your machine, GPU will not be used.\n",
      "2023-12-06 13:32:18.150858: I tensorflow/core/platform/cpu_feature_guard.cc:182] This TensorFlow binary is optimized to use available CPU instructions in performance-critical operations.\n",
      "To enable the following instructions: AVX2 FMA, in other operations, rebuild TensorFlow with the appropriate compiler flags.\n",
      "2023-12-06 13:32:18.744666: W tensorflow/compiler/tf2tensorrt/utils/py_utils.cc:38] TF-TRT Warning: Could not find TensorRT\n",
      "2023-12-06 13:32:19.376824: I tensorflow/compiler/xla/stream_executor/cuda/cuda_gpu_executor.cc:995] successful NUMA node read from SysFS had negative value (-1), but there must be at least one NUMA node, so returning NUMA node zero. See more at https://github.com/torvalds/linux/blob/v6.0/Documentation/ABI/testing/sysfs-bus-pci#L344-L355\n",
      "2023-12-06 13:32:19.377606: W tensorflow/core/common_runtime/gpu/gpu_device.cc:1960] Cannot dlopen some GPU libraries. Please make sure the missing libraries mentioned above are installed properly if you would like to use GPU. Follow the guide at https://www.tensorflow.org/install/gpu for how to download and setup the required libraries for your platform.\n",
      "Skipping registering GPU devices...\n",
      "WARNING:tensorflow:From /home/sjurc/Documents/python/single_cell/lib/python3.8/site-packages/tensorflow/python/compat/v2_compat.py:107: disable_resource_variables (from tensorflow.python.ops.variable_scope) is deprecated and will be removed in a future version.\n",
      "Instructions for updating:\n",
      "non-resource variables are not supported in the long term\n",
      "WARNING:tensorflow:From /home/sjurc/Documents/python/single_cell/lib/python3.8/site-packages/keras/src/initializers/initializers_v1.py:297: calling RandomUniform.__init__ (from tensorflow.python.ops.init_ops) with dtype is deprecated and will be removed in a future version.\n",
      "Instructions for updating:\n",
      "Call initializer instance with the dtype argument instead of passing it to the constructor\n",
      "2023-12-06 13:32:19.522243: I tensorflow/compiler/mlir/mlir_graph_optimization_pass.cc:375] MLIR V1 optimization pass is not enabled\n",
      "2023-12-06 13:32:19.550993: W tensorflow/c/c_api.cc:304] Operation '{name:'output/bias/Assign' id:116 op device:{requested: '', assigned: ''} def:{{{node output/bias/Assign}} = AssignVariableOp[_has_manual_control_dependencies=true, dtype=DT_FLOAT, validate_shape=false](output/bias, output/bias/Initializer/zeros)}}' was changed by setting attribute after it was run by a session. This mutation will have no effect, and will trigger an error in the future. Either don't modify nodes after running them or create a new session.\n",
      "2023-12-06 13:32:19.668318: W tensorflow/c/c_api.cc:304] Operation '{name:'output_1/bias/Assign' id:303 op device:{requested: '', assigned: ''} def:{{{node output_1/bias/Assign}} = AssignVariableOp[_has_manual_control_dependencies=true, dtype=DT_FLOAT, validate_shape=false](output_1/bias, output_1/bias/Initializer/zeros)}}' was changed by setting attribute after it was run by a session. This mutation will have no effect, and will trigger an error in the future. Either don't modify nodes after running them or create a new session.\n",
      "2023-12-06 13:32:19.769483: W tensorflow/c/c_api.cc:304] Operation '{name:'output_2/kernel/Assign' id:456 op device:{requested: '', assigned: ''} def:{{{node output_2/kernel/Assign}} = AssignVariableOp[_has_manual_control_dependencies=true, dtype=DT_FLOAT, validate_shape=false](output_2/kernel, output_2/kernel/Initializer/random_uniform)}}' was changed by setting attribute after it was run by a session. This mutation will have no effect, and will trigger an error in the future. Either don't modify nodes after running them or create a new session.\n",
      "2023-12-06 13:32:19.872354: W tensorflow/c/c_api.cc:304] Operation '{name:'dense_1_3/kernel/Assign' id:567 op device:{requested: '', assigned: ''} def:{{{node dense_1_3/kernel/Assign}} = AssignVariableOp[_has_manual_control_dependencies=true, dtype=DT_FLOAT, validate_shape=false](dense_1_3/kernel, dense_1_3/kernel/Initializer/random_uniform)}}' was changed by setting attribute after it was run by a session. This mutation will have no effect, and will trigger an error in the future. Either don't modify nodes after running them or create a new session.\n",
      "2023-12-06 13:32:19.976867: W tensorflow/c/c_api.cc:304] Operation '{name:'dense_1_4/bias/Assign' id:720 op device:{requested: '', assigned: ''} def:{{{node dense_1_4/bias/Assign}} = AssignVariableOp[_has_manual_control_dependencies=true, dtype=DT_FLOAT, validate_shape=false](dense_1_4/bias, dense_1_4/bias/Initializer/zeros)}}' was changed by setting attribute after it was run by a session. This mutation will have no effect, and will trigger an error in the future. Either don't modify nodes after running them or create a new session.\n",
      "2023-12-06 13:32:20.092348: W tensorflow/c/c_api.cc:304] Operation '{name:'allele_representation_5/embeddings/Assign' id:804 op device:{requested: '', assigned: ''} def:{{{node allele_representation_5/embeddings/Assign}} = AssignVariableOp[_has_manual_control_dependencies=true, dtype=DT_FLOAT, validate_shape=false](allele_representation_5/embeddings, allele_representation_5/embeddings/Initializer/random_uniform)}}' was changed by setting attribute after it was run by a session. This mutation will have no effect, and will trigger an error in the future. Either don't modify nodes after running them or create a new session.\n",
      "2023-12-06 13:32:20.240909: W tensorflow/c/c_api.cc:304] Operation '{name:'dense_2_1/kernel/Assign' id:1052 op device:{requested: '', assigned: ''} def:{{{node dense_2_1/kernel/Assign}} = AssignVariableOp[_has_manual_control_dependencies=true, dtype=DT_FLOAT, validate_shape=false](dense_2_1/kernel, dense_2_1/kernel/Initializer/random_uniform)}}' was changed by setting attribute after it was run by a session. This mutation will have no effect, and will trigger an error in the future. Either don't modify nodes after running them or create a new session.\n",
      "2023-12-06 13:32:20.389248: W tensorflow/c/c_api.cc:304] Operation '{name:'dense_1_7/kernel/Assign' id:1208 op device:{requested: '', assigned: ''} def:{{{node dense_1_7/kernel/Assign}} = AssignVariableOp[_has_manual_control_dependencies=true, dtype=DT_FLOAT, validate_shape=false](dense_1_7/kernel, dense_1_7/kernel/Initializer/random_uniform)}}' was changed by setting attribute after it was run by a session. This mutation will have no effect, and will trigger an error in the future. Either don't modify nodes after running them or create a new session.\n",
      "2023-12-06 13:32:20.513339: W tensorflow/c/c_api.cc:304] Operation '{name:'dense_1_8/bias/Assign' id:1406 op device:{requested: '', assigned: ''} def:{{{node dense_1_8/bias/Assign}} = AssignVariableOp[_has_manual_control_dependencies=true, dtype=DT_FLOAT, validate_shape=false](dense_1_8/bias, dense_1_8/bias/Initializer/zeros)}}' was changed by setting attribute after it was run by a session. This mutation will have no effect, and will trigger an error in the future. Either don't modify nodes after running them or create a new session.\n",
      "2023-12-06 13:32:20.647296: W tensorflow/c/c_api.cc:304] Operation '{name:'output_9/bias/Assign' id:1591 op device:{requested: '', assigned: ''} def:{{{node output_9/bias/Assign}} = AssignVariableOp[_has_manual_control_dependencies=true, dtype=DT_FLOAT, validate_shape=false](output_9/bias, output_9/bias/Initializer/zeros)}}' was changed by setting attribute after it was run by a session. This mutation will have no effect, and will trigger an error in the future. Either don't modify nodes after running them or create a new session.\n"
     ]
    }
   ],
   "source": [
    "predictor = Class1AffinityPredictor.load()"
   ]
  },
  {
   "cell_type": "code",
   "execution_count": 3,
   "id": "b1fc429f-194f-4722-8add-90e134964479",
   "metadata": {},
   "outputs": [
    {
     "name": "stderr",
     "output_type": "stream",
     "text": [
      "WARNING:tensorflow:From /home/sjurc/Documents/python/single_cell/lib/python3.8/site-packages/tensorflow/python/ops/init_ops.py:94: calling VarianceScaling.__init__ (from tensorflow.python.ops.init_ops) with dtype is deprecated and will be removed in a future version.\n",
      "Instructions for updating:\n",
      "Call initializer instance with the dtype argument instead of passing it to the constructor\n",
      "WARNING:tensorflow:From /home/sjurc/Documents/python/single_cell/lib/python3.8/site-packages/tensorflow/python/ops/init_ops.py:94: calling Zeros.__init__ (from tensorflow.python.ops.init_ops) with dtype is deprecated and will be removed in a future version.\n",
      "Instructions for updating:\n",
      "Call initializer instance with the dtype argument instead of passing it to the constructor\n",
      "2023-12-06 13:26:25.654411: W tensorflow/c/c_api.cc:304] Operation '{name:'output_4_2/bias/Assign' id:3186 op device:{requested: '', assigned: ''} def:{{{node output_4_2/bias/Assign}} = AssignVariableOp[_has_manual_control_dependencies=true, dtype=DT_FLOAT, validate_shape=false](output_4_2/bias, output_4_2/bias/Initializer/zeros)}}' was changed by setting attribute after it was run by a session. This mutation will have no effect, and will trigger an error in the future. Either don't modify nodes after running them or create a new session.\n",
      "/home/sjurc/Documents/python/single_cell/lib/python3.8/site-packages/keras/src/engine/training_v1.py:2359: UserWarning: `Model.state_updates` will be removed in a future version. This property should not be used in TensorFlow 2.0, as `updates` are applied automatically.\n",
      "  updates=self.state_updates,\n",
      "2023-12-06 13:26:27.824249: W tensorflow/c/c_api.cc:304] Operation '{name:'concatenate_3/concat' id:3299 op device:{requested: '', assigned: ''} def:{{{node concatenate_3/concat}} = ConcatV2[N=10, T=DT_FLOAT, Tidx=DT_INT32, _has_manual_control_dependencies=true](output_0_1/Sigmoid, output_1_2/Sigmoid, output_2_2/Sigmoid, output_3_2/Sigmoid, output_4_2/Sigmoid, output_5_2/Sigmoid, output_6_2/Sigmoid, output_7_2/Sigmoid, output_8_2/Sigmoid, output_9_2/Sigmoid, concatenate_3/concat/axis)}}' was changed by setting attribute after it was run by a session. This mutation will have no effect, and will trigger an error in the future. Either don't modify nodes after running them or create a new session.\n"
     ]
    },
    {
     "ename": "TypeError",
     "evalue": "classification_reward() missing 1 required positional argument: 'curr_seq'",
     "output_type": "error",
     "traceback": [
      "\u001b[0;31m---------------------------------------------------------------------------\u001b[0m",
      "\u001b[0;31mTypeError\u001b[0m                                 Traceback (most recent call last)",
      "Cell \u001b[0;32mIn[3], line 110\u001b[0m\n\u001b[1;32m    108\u001b[0m curr_rew_mhc_values \u001b[38;5;241m=\u001b[39m get_binding_affinity(curr_seq, mhc_proteins) \n\u001b[1;32m    109\u001b[0m curr_rew_tcr \u001b[38;5;241m=\u001b[39m tcr_reward(curr_seq, tcr_sequences)\n\u001b[0;32m--> 110\u001b[0m curr_rew_class \u001b[38;5;241m=\u001b[39m \u001b[43mclassification_reward\u001b[49m\u001b[43m(\u001b[49m\u001b[43m)\u001b[49m\n\u001b[1;32m    112\u001b[0m \u001b[38;5;28;01mwith\u001b[39;00m \u001b[38;5;28mopen\u001b[39m(\u001b[38;5;124m\"\u001b[39m\u001b[38;5;124moutput_1.txt\u001b[39m\u001b[38;5;124m\"\u001b[39m, \u001b[38;5;124m\"\u001b[39m\u001b[38;5;124mw\u001b[39m\u001b[38;5;124m\"\u001b[39m) \u001b[38;5;28;01mas\u001b[39;00m output_file:\n\u001b[1;32m    113\u001b[0m     sys\u001b[38;5;241m.\u001b[39mstdout \u001b[38;5;241m=\u001b[39m output_file\n",
      "\u001b[0;31mTypeError\u001b[0m: classification_reward() missing 1 required positional argument: 'curr_seq'"
     ]
    }
   ],
   "source": [
    "import re\n",
    "import random\n",
    "from mhcflurry import Class1AffinityPredictor\n",
    "from tqdm import tqdm\n",
    "import sys\n",
    "\n",
    "def tcr_reward(curr_seq, tcr_sequences):\n",
    "    rewards = []\n",
    "    for tcr_sequence in tcr_sequences:\n",
    "        #Generate a random reward value between 0 and 1\n",
    "        random_tcr_reward = random.uniform(0, 1)\n",
    "        \n",
    "        rewards.append(random_tcr_reward)\n",
    "    \n",
    "    return rewards\n",
    "\n",
    "def classification_reward(curr_seq):\n",
    "    # Generate a random float value between 0 and 1\n",
    "    base_random = random.random()\n",
    "\n",
    "    # Apply a piecewise linear transformation\n",
    "    if base_random < 0.1:  # Assigning the first 10% of the range to the lower half (0 to 0.5)\n",
    "        reward = base_random * 5\n",
    "    else:  # Assigning the remaining 90% of the range to the upper half (0.5 to 1)\n",
    "        reward = 0.5 + (base_random - 0.1) * (0.5 / 0.9)\n",
    "\n",
    "    return reward\n",
    "\n",
    "\n",
    "\n",
    "\n",
    "# Load valid amino acids\n",
    "def load_valid_aas(dictname):\n",
    "    aas = []\n",
    "    fh = open(dictname, 'r')\n",
    "    for line in fh:\n",
    "        spl = re.split('\\s+', line.strip())\n",
    "        aas.append(spl[0])\n",
    "    fh.close()\n",
    "    return aas\n",
    "\n",
    "# Eliminate empty characters from a sequence\n",
    "def eliminate_empty(seq):\n",
    "    return seq.replace('0', '')\n",
    "\n",
    "# Randomly select an amino acid\n",
    "def random_aa(aas):\n",
    "    return aas[random.randint(0, len(aas) - 1)]\n",
    "\n",
    "# Generate a sequence within a length range\n",
    "def generate_seq(lmin, lmax, aas):\n",
    "    seq = ''\n",
    "    ltarg = random.randint(lmin, lmax)\n",
    "    while len(seq) < ltarg:\n",
    "        seq += eliminate_empty(random_aa(aas))\n",
    "    return seq\n",
    "\n",
    "# Alter a sequence by replacing an amino acid\n",
    "def alter_seq(seq, aas):\n",
    "    ind = random.randint(0, len(seq))\n",
    "    seq = list(seq)\n",
    "    aa = random_aa(aas)\n",
    "    if ind < len(seq):\n",
    "        seq[ind] = aa\n",
    "    else:\n",
    "        seq.append(aa)\n",
    "    seq = ''.join(seq)\n",
    "    return eliminate_empty(seq)\n",
    "\n",
    "# Calculate MHC binding affinity\n",
    "def get_binding_affinity(peptide_sequence, mhc_proteins):\n",
    "    rewards = []\n",
    "    for mhc_protein in mhc_proteins:\n",
    "        # Predict binding affinity using MHCflurry 2.0 model\n",
    "        predicted_ic50s = predictor.predict([peptide_sequence], [mhc_protein])\n",
    "        predicted_ic50 = predicted_ic50s[0]\n",
    "        \n",
    "        # Normalize the predicted IC50 to a reward value between 0 and 1\n",
    "        max_ic50 = 50000\n",
    "        reward = 1.0 - (predicted_ic50 / max_ic50)\n",
    "        \n",
    "        rewards.append(reward)\n",
    "    \n",
    "    return rewards\n",
    "\n",
    "# Update selected sequences\n",
    "def update_selected(selected, threshold_mhc, threshold_tcr, seq, mhc, rew_mhc, rew_tcr, rew_class, tcr_sequence):\n",
    "    if rew_mhc > threshold_mhc and rew_tcr > threshold_tcr and rew_class == 1 and seq not in selected:\n",
    "        selected[seq] = {'MHC': mhc, 'Rew_MHC': rew_mhc, 'TCR_Seq': tcr_sequence, 'Rew_TCR': rew_tcr, 'Rew_Class': rew_class}\n",
    "        print(' selected', end='')\n",
    "    return selected\n",
    "\n",
    "\n",
    "# Constants and settings\n",
    "lmin = 8\n",
    "lmax = 12\n",
    "thr_rew_mhc = 0.82  # Threshold for binding affinity\n",
    "thr_rew_tcr = 0.53  # Threshold for TCR reward\n",
    "mhc_proteins = ['HLA-A*02:01', 'HLA-A*03:01', 'HLA-B*07:02', 'HLA-C*06:02', 'HLA-B*40:01']\n",
    "aas = load_valid_aas('Dictionary')\n",
    "tcr_sequences = [\"ARNDCEQGHILKMFPSTWYV\", \"YTIQNAHSLGFEVCKPMDRW\", \"PLWYGQCEFNSTADHVRKIM\", \"KPLGDTWVYFNHQRAIMCES\", \"MHDVKRQNGAWYIETCPFSL\"]\n",
    "\n",
    "selected_seq = {}\n",
    "\n",
    "curr_seq = generate_seq(lmin, lmax, aas)  # Initialize curr_seq\n",
    "curr_rew_mhc_values = get_binding_affinity(curr_seq, mhc_proteins) \n",
    "curr_rew_tcr = tcr_reward(curr_seq, tcr_sequences)\n",
    "curr_rew_class = classification_reward()\n",
    "\n",
    "with open(\"output_1.txt\", \"w\") as output_file:\n",
    "    sys.stdout = output_file\n",
    "\n",
    "    pbar = tqdm()\n",
    "    while len(selected_seq) < 1:  # Change the loop condition here\n",
    "        new_seq = alter_seq(curr_seq, aas)\n",
    "\n",
    "        accept = False\n",
    "        if new_seq != curr_seq and lmin <= len(new_seq) <= lmax:\n",
    "            new_rew_class = classification_reward(new_seq)\n",
    "            if new_rew_class == 1:\n",
    "                new_rew_mhc_values = get_binding_affinity(new_seq, mhc_proteins)\n",
    "                new_rew_tcr_values = tcr_reward(new_seq, tcr_sequences)\n",
    "\n",
    "                for idx, mhc_protein in enumerate(mhc_proteins):\n",
    "                    if (\n",
    "                        new_rew_mhc_values[idx] > curr_rew_mhc_values[idx] - 0.15 * random.random() and\n",
    "                        new_rew_tcr_values[idx] > curr_rew_tcr[idx] - 0.15 * random.random() \n",
    "                    ):\n",
    "                        accept = True\n",
    "                        if new_seq not in selected_seq:\n",
    "                            selected_seq = update_selected(\n",
    "                                selected_seq, thr_rew_mhc, thr_rew_tcr,\n",
    "                                new_seq, mhc_protein, new_rew_mhc_values[idx], new_rew_tcr_values[idx], new_rew_class, tcr_sequences[idx]\n",
    "                            )\n",
    "                            pbar.update(1)\n",
    "\n",
    "        print(f\"{new_seq} Classification: {new_rew_class}\", end='')\n",
    "        for idx, mhc_protein in enumerate(mhc_proteins):\n",
    "            new_rew_mhc_values = get_binding_affinity(new_seq, mhc_proteins)\n",
    "            print(f\" {mhc_protein}: {new_rew_mhc_values[idx]}\", end='')\n",
    "        for idx, tcr_sequence in enumerate(tcr_sequences):\n",
    "            new_rew_tcr_values = tcr_reward(new_seq, tcr_sequences)\n",
    "            print(f\" TCR_{idx + 1}: {new_rew_tcr_values[idx]}\", end='')\n",
    "\n",
    "        if accept:\n",
    "            curr_seq = new_seq\n",
    "            print(' accepted', end='')\n",
    "        print()\n",
    "\n",
    "pbar.close()\n",
    "\n",
    "\n",
    "# Reset stdout to the standard output\n",
    "sys.stdout = sys.__stdout__"
   ]
  },
  {
   "cell_type": "code",
   "execution_count": 143,
   "id": "6c2453d2-3b3a-462b-b9e1-cf5510f36e38",
   "metadata": {
    "jupyter": {
     "source_hidden": true
    }
   },
   "outputs": [],
   "source": [
    "import re\n",
    "import random\n",
    "from mhcflurry import Class1AffinityPredictor\n",
    "from tqdm import tqdm\n",
    "import sys\n",
    "\n",
    "def tcr_reward(curr_seq, tcr_sequences):\n",
    "    rewards = []\n",
    "    for tcr_sequence in tcr_sequences:\n",
    "        #Generate a random reward value between 0 and 1\n",
    "        random_tcr_reward = random.uniform(0, 1)\n",
    "        \n",
    "        rewards.append(random_tcr_reward)\n",
    "    \n",
    "    return rewards\n",
    "\n",
    "def classification_reward(curr_seq):\n",
    "    # Generate a random float value between 0 and 1\n",
    "    base_random = random.random()\n",
    "\n",
    "    # Apply a piecewise linear transformation\n",
    "    if base_random < 0.1:  # Assigning the first 10% of the range to the lower half (0 to 0.5)\n",
    "        reward = base_random * 5\n",
    "    else:  # Assigning the remaining 90% of the range to the upper half (0.5 to 1)\n",
    "        reward = 0.5 + (base_random - 0.1) * (0.5 / 0.9)\n",
    "\n",
    "    return reward\n",
    "\n",
    "\n",
    "\n",
    "\n",
    "# Load valid amino acids\n",
    "def load_valid_aas(dictname):\n",
    "    aas = []\n",
    "    fh = open(dictname, 'r')\n",
    "    for line in fh:\n",
    "        spl = re.split('\\s+', line.strip())\n",
    "        aas.append(spl[0])\n",
    "    fh.close()\n",
    "    return aas\n",
    "\n",
    "\n",
    "# Eliminate empty characters from a sequence\n",
    "def eliminate_empty(seq):\n",
    "    return seq.replace('0', '')\n",
    "\n",
    "# Randomly select an amino acid\n",
    "def random_aa(aas):\n",
    "    return aas[random.randint(0, len(aas) - 1)]\n",
    "\n",
    "# Generate a sequence within a length range\n",
    "def generate_seq(lmin, lmax, aas):\n",
    "    seq = ''\n",
    "    ltarg = random.randint(lmin, lmax)\n",
    "    while len(seq) < ltarg:\n",
    "        seq += eliminate_empty(random_aa(aas))\n",
    "    return seq\n",
    "\n",
    "# Alter a sequence by replacing an amino acid\n",
    "def alter_seq(seq, aas):\n",
    "    ind = random.randint(0, len(seq))\n",
    "    seq = list(seq)\n",
    "    aa = random_aa(aas)\n",
    "    if ind < len(seq):\n",
    "        seq[ind] = aa\n",
    "    else:\n",
    "        seq.append(aa)\n",
    "    seq = ''.join(seq)\n",
    "    return eliminate_empty(seq)\n",
    "\n",
    "# Calculate MHC binding affinity\n",
    "def get_binding_affinity(peptide_sequence, mhc_proteins):\n",
    "    rewards = []\n",
    "    for mhc_protein in mhc_proteins:\n",
    "        # Predict binding affinity using MHCflurry 2.0 model\n",
    "        predicted_ic50s = predictor.predict([peptide_sequence], [mhc_protein])\n",
    "        predicted_ic50 = predicted_ic50s[0]\n",
    "        \n",
    "        # Normalize the predicted IC50 to a reward value between 0 and 1\n",
    "        max_ic50 = 50000\n",
    "        reward = 1.0 - (predicted_ic50 / max_ic50)\n",
    "        \n",
    "        rewards.append(reward)\n",
    "    \n",
    "    return rewards\n",
    "\n",
    "# Update selected sequences\n",
    "def update_selected(selected, threshold_mhc, threshold_tcr, seq, mhc, rew_mhc, rew_tcr, rew_class, tcr_sequence):\n",
    "    if rew_mhc > threshold_mhc and rew_tcr > threshold_tcr and rew_class == 1 and seq not in selected:\n",
    "        selected[seq] = {'MHC': mhc, 'Rew_MHC': rew_mhc, 'TCR_Seq': tcr_sequence, 'Rew_TCR': rew_tcr, 'Rew_Class': rew_class}\n",
    "        print(' selected', end='')\n",
    "    return selected"
   ]
  },
  {
   "cell_type": "code",
   "execution_count": 138,
   "id": "cb38b818-d8cc-43b5-be6a-63a0f4dec512",
   "metadata": {},
   "outputs": [],
   "source": [
    "import re\n",
    "import random\n",
    "from mhcflurry import Class1AffinityPredictor\n",
    "from tqdm import tqdm\n",
    "import sys\n",
    "import pandas as pd\n",
    "\n",
    "# Calculate probability immune response\n",
    "def tcr_reward(peptide_sequence, tcr_sequences):\n",
    "    rewards = []\n",
    "    for tcr_sequence in tcr_sequences:\n",
    "        tcr_predict = tcrgp.predict([peptide_sequence], [tcr_sequences])\n",
    "        predicted_tcr = tcr_predict[0]\n",
    "        rewards.append(predicted_tcr)\n",
    "    \n",
    "    return rewards\n",
    "# change to probs like in RL part\n",
    "def classification_reward(peptide_sequence):\n",
    "    classificator = pipeline.load_class()\n",
    "    rewards = []\n",
    "    reward = classificator.predict(peptide_sequence)\n",
    "    rewards.append(reward)\n",
    "\n",
    "    return rewards\n",
    "\n",
    "\n",
    "# Load valid amino acids\n",
    "def load_valid_aas(dictname):\n",
    "    aas = []\n",
    "    fh = open(dictname, 'r')\n",
    "    for line in fh:\n",
    "        spl = re.split('\\s+', line.strip())\n",
    "        aas.append(spl[0])\n",
    "    fh.close()\n",
    "    return aas\n",
    "\n",
    "# Eliminate empty characters from a sequence\n",
    "def eliminate_empty(seq):\n",
    "    \n",
    "    return seq.replace('0', '')\n",
    "\n",
    "# Randomly select an amino acid\n",
    "def random_aa(aas):\n",
    "    return aas[random.randint(0, len(aas) - 1)]\n",
    "\n",
    "# Generate a sequence within a length range\n",
    "def generate_seq(lmin, lmax, aas):\n",
    "    seq = ''\n",
    "    ltarg = random.randint(lmin, lmax)\n",
    "    while len(seq) < ltarg:\n",
    "        seq += eliminate_empty(random_aa(aas))\n",
    "    return seq\n",
    "\n",
    "# Alter a sequence by replacing an amino acid\n",
    "def alter_seq(seq, aas):\n",
    "    ind = random.randint(0, len(seq))\n",
    "    seq = list(seq)\n",
    "    aa = random_aa(aas)\n",
    "    if ind < len(seq):\n",
    "        seq[ind] = aa\n",
    "    else:\n",
    "        seq.append(aa)\n",
    "    seq = ''.join(seq)\n",
    "    return eliminate_empty(seq)\n",
    "\n",
    "# Calculate MHC binding affinity\n",
    "def get_binding_affinity(peptide_sequence, mhc_proteins):\n",
    "    rewards = []\n",
    "    for mhc_protein in mhc_proteins:\n",
    "        # Predict binding affinity using MHCflurry 2.0 model\n",
    "        predicted_ic50s = predictor.predict([peptide_sequence], [mhc_protein])\n",
    "        predicted_ic50 = predicted_ic50s[0]\n",
    "        \n",
    "        # Normalize the predicted IC50 to a reward value between 0 and 1\n",
    "        max_ic50 = 50000\n",
    "        reward = 1.0 - (predicted_ic50 / max_ic50)\n",
    "        \n",
    "        rewards.append(reward)\n",
    "    \n",
    "    return rewards\n",
    "\n",
    "# Update selected sequences\n",
    "def update_selected(selected, threshold_mhc, threshold_tcr, seq, mhc, rew_mhc, tcr_sequence, rew_tcr):\n",
    "    if rew_mhc > threshold_mhc and rew_tcr > threshold_tcr and seq not in selected:\n",
    "        selected[seq] = {'MHC': mhc, 'Rew_MHC': rew_mhc, 'TCR_Seq': tcr_sequence, 'Rew_TCR': rew_tcr}\n",
    "        print(' selected', end='')\n",
    "    return selected"
   ]
  },
  {
   "cell_type": "code",
   "execution_count": 23,
   "id": "e66a25bd-f787-476a-88d4-8e8919c0596f",
   "metadata": {},
   "outputs": [
    {
     "name": "stderr",
     "output_type": "stream",
     "text": [
      "\n",
      "Processing sequences: 0it [00:41, ?it/s]\u001b[A\n"
     ]
    },
    {
     "ename": "IndexError",
     "evalue": "list index out of range",
     "output_type": "error",
     "traceback": [
      "\u001b[0;31m---------------------------------------------------------------------------\u001b[0m",
      "\u001b[0;31mIndexError\u001b[0m                                Traceback (most recent call last)",
      "Cell \u001b[0;32mIn[23], line 48\u001b[0m\n\u001b[1;32m     45\u001b[0m     max_mhc_value \u001b[38;5;241m=\u001b[39m new_rew_mhc_values[idx]\n\u001b[1;32m     46\u001b[0m     max_mhc_idx \u001b[38;5;241m=\u001b[39m idx\n\u001b[0;32m---> 48\u001b[0m \u001b[38;5;28;01mif\u001b[39;00m \u001b[43mnew_rew_tcr_values\u001b[49m\u001b[43m[\u001b[49m\u001b[43midx\u001b[49m\u001b[43m]\u001b[49m \u001b[38;5;241m>\u001b[39m max_tcr_value:\n\u001b[1;32m     49\u001b[0m     max_tcr_value \u001b[38;5;241m=\u001b[39m new_rew_tcr_values[idx]\n\u001b[1;32m     50\u001b[0m     max_tcr_idx \u001b[38;5;241m=\u001b[39m idx\n",
      "\u001b[0;31mIndexError\u001b[0m: list index out of range"
     ]
    }
   ],
   "source": [
    "# Constants and settings\n",
    "lmin = 8\n",
    "lmax = 12\n",
    "thr_rew_mhc = 0.82  # Threshold for binding affinity\n",
    "thr_rew_tcr = 0.53  # Threshold for TCR reward\n",
    "#mhc_proteins = ['HLA-A*02:01', 'HLA-A*03:01', 'HLA-B*07:02', 'HLA-C*06:02', 'HLA-B*40:01'] # Extend list of MHC patients\n",
    "aas = load_valid_aas('Dictionary')\n",
    "#tcr_sequences = [\"ARNDCEQGHILKMFPSTWYV\", \"YTIQNAHSLGFEVCKPMDRW\", \"PLWYGQCEFNSTADHVRKIM\", \"KPLGDTWVYFNHQRAIMCES\", \"MHDVKRQNGAWYIETCPFSL\"] # Extend list of TCR patients\n",
    "mhc_proteins = mhc_molecule_list # 74 different mhc\n",
    "tcr_sequences = tcr_sequence_list # 72 different tcr\n",
    "selected_seq = {}\n",
    "\n",
    "curr_seq = generate_seq(lmin, lmax, aas)  # Initialize curr_seq\n",
    "curr_rew_mhc_values = get_binding_affinity(curr_seq, mhc_proteins) \n",
    "curr_rew_tcr = tcr_reward(curr_seq, tcr_sequences)\n",
    "curr_rew_class = classification_reward(curr_seq)\n",
    "\n",
    "# Create an empty dictionary to store selected sequences and their data\n",
    "selected_seq = {}\n",
    "\n",
    "# Create an empty list to store the output data dictionaries\n",
    "output_data = []\n",
    "\n",
    "# Initialize max values and corresponding indices\n",
    "max_mhc_value = -1\n",
    "max_tcr_value = -1\n",
    "max_mhc_idx = -1\n",
    "max_tcr_idx = -1\n",
    "\n",
    "pbar = tqdm(desc=\"Processing sequences\")\n",
    "while len(selected_seq) < 10:\n",
    "    new_seq = alter_seq(curr_seq, aas)\n",
    "    accept = False\n",
    "    selected_in_iteration = False\n",
    "# change condition for classification above 0.5   \n",
    "    if new_seq != curr_seq and lmin <= len(new_seq) <= lmax:\n",
    "        new_rew_class = classification_reward(new_seq)\n",
    "        if new_rew_class == 1:\n",
    "            new_rew_mhc_values = get_binding_affinity(new_seq, mhc_proteins)\n",
    "            new_rew_tcr_values = tcr_reward(new_seq, tcr_sequences)\n",
    "            \n",
    "            # Find the maximum MHC and TCR values and their corresponding indices\n",
    "            for idx, mhc_protein in enumerate(mhc_proteins):\n",
    "                if new_rew_mhc_values[idx] > max_mhc_value:\n",
    "                    max_mhc_value = new_rew_mhc_values[idx]\n",
    "                    max_mhc_idx = idx\n",
    "                \n",
    "                if new_rew_tcr_values[idx] > max_tcr_value:\n",
    "                    max_tcr_value = new_rew_tcr_values[idx]\n",
    "                    max_tcr_idx = idx\n",
    "\n",
    "            # Calculate the product of the maximum MHC and TCR values and classification (add variable)\n",
    "            product_value = max_mhc_value * max_tcr_value\n",
    "\n",
    "            if (\n",
    "                product_value > (curr_rew_mhc_values[max_mhc_idx] * curr_rew_tcr[max_tcr_idx]) - 0.15 * random.random()\n",
    "            ):\n",
    "                accept = True\n",
    "                if new_seq not in selected_seq:\n",
    "                    selected_in_iteration = True\n",
    "                    selected_seq = update_selected(selected_seq, thr_rew_mhc, thr_rew_tcr, new_seq, mhc_proteins[max_mhc_idx], max_mhc_value, tcr_sequences[max_tcr_idx], max_tcr_value)\n",
    "                    pbar.update(1)\n",
    "\n",
    "            # Reset max values and indices for the next iteration\n",
    "            max_mhc_value = -1\n",
    "            max_tcr_value = -1\n",
    "            max_mhc_idx = -1\n",
    "            max_tcr_idx = -1\n",
    "            # log a classification value\n",
    "            if selected_in_iteration:\n",
    "                data_dict = {\n",
    "                    \"Sequence\": new_seq,\n",
    "                    \"Classification\": new_rew_class,\n",
    "                    \"Accepted\": accept,\n",
    "                    **{f\"MHC_{i+1}\": new_rew_mhc_values[i] for i in range(len(mhc_proteins))},\n",
    "                    **{f\"TCR_{i+1}\": new_rew_tcr_values[i] for i in range(len(tcr_sequences))}\n",
    "                }\n",
    "                output_data.append(data_dict)\n",
    "\n",
    "pbar.close()\n",
    "\n",
    "# Create a DataFrame from the list of output data dictionaries\n",
    "output_df = pd.DataFrame(output_data)\n",
    "\n",
    "# Save the DataFrame to a CSV file\n",
    "output_df.to_csv(\"output_data.csv\", index=False)\n"
   ]
  },
  {
   "cell_type": "code",
   "execution_count": null,
   "id": "04b1fd48-5652-48db-b113-05fda4fcc88e",
   "metadata": {},
   "outputs": [],
   "source": [
    "selected_seq"
   ]
  },
  {
   "cell_type": "markdown",
   "id": "b504bfb9-7f3e-4ace-a21e-9dd5a6ead48e",
   "metadata": {},
   "source": [
    "### Patient A"
   ]
  },
  {
   "cell_type": "code",
   "execution_count": 133,
   "id": "9c717247-df1b-4ee5-843a-9dbf87bac53e",
   "metadata": {},
   "outputs": [
    {
     "data": {
      "text/html": [
       "<div>\n",
       "<style scoped>\n",
       "    .dataframe tbody tr th:only-of-type {\n",
       "        vertical-align: middle;\n",
       "    }\n",
       "\n",
       "    .dataframe tbody tr th {\n",
       "        vertical-align: top;\n",
       "    }\n",
       "\n",
       "    .dataframe thead th {\n",
       "        text-align: right;\n",
       "    }\n",
       "</style>\n",
       "<table border=\"1\" class=\"dataframe\">\n",
       "  <thead>\n",
       "    <tr style=\"text-align: right;\">\n",
       "      <th></th>\n",
       "      <th>antigen</th>\n",
       "      <th>mhc_molecule</th>\n",
       "      <th>sequence</th>\n",
       "      <th>tcr_sequence</th>\n",
       "      <th>neo_vs_anti</th>\n",
       "      <th>mhc_presentation_score</th>\n",
       "      <th>tcr_probability</th>\n",
       "    </tr>\n",
       "  </thead>\n",
       "  <tbody>\n",
       "    <tr>\n",
       "      <th>0</th>\n",
       "      <td>ALASCMGLIY</td>\n",
       "      <td>A*29:02</td>\n",
       "      <td>YTAMYLQNVAQTDANTLYIMYRDYTWAVLAYTWY</td>\n",
       "      <td>CASSRELGAVVLREQYF</td>\n",
       "      <td>1</td>\n",
       "      <td>0.835672</td>\n",
       "      <td>0.678191</td>\n",
       "    </tr>\n",
       "    <tr>\n",
       "      <th>1</th>\n",
       "      <td>CLMMILPAA</td>\n",
       "      <td>B*08:01</td>\n",
       "      <td>YDSEYRNIFTNTDESNLYLSYNYYTWAVDAYTWY</td>\n",
       "      <td>CASSFFLLAASSTDTQYF</td>\n",
       "      <td>1</td>\n",
       "      <td>0.998458</td>\n",
       "      <td>0.661518</td>\n",
       "    </tr>\n",
       "    <tr>\n",
       "      <th>2</th>\n",
       "      <td>CLMMILPAA</td>\n",
       "      <td>B*08:01</td>\n",
       "      <td>YSSEYEERAGHTDADTLYLTYHYYTWAEVAYTWY</td>\n",
       "      <td>CASSLAGTAYEQYF</td>\n",
       "      <td>1</td>\n",
       "      <td>0.998458</td>\n",
       "      <td>0.661518</td>\n",
       "    </tr>\n",
       "    <tr>\n",
       "      <th>3</th>\n",
       "      <td>CLMMILPAA</td>\n",
       "      <td>B*08:01</td>\n",
       "      <td>YYAMYREISTNTYVGNLYWTYRFYTWAWLAYTWY</td>\n",
       "      <td>CASSFSSYEQYFCASSQVLG</td>\n",
       "      <td>1</td>\n",
       "      <td>0.998458</td>\n",
       "      <td>0.661518</td>\n",
       "    </tr>\n",
       "    <tr>\n",
       "      <th>4</th>\n",
       "      <td>DPPEPLVRI</td>\n",
       "      <td>A*26:01</td>\n",
       "      <td>YYAMYRNNVAHTDANTLYIRYQDYTWAEWAYRWY</td>\n",
       "      <td>CASSSNTLGGNTIYF</td>\n",
       "      <td>1</td>\n",
       "      <td>0.906975</td>\n",
       "      <td>0.652630</td>\n",
       "    </tr>\n",
       "    <tr>\n",
       "      <th>...</th>\n",
       "      <td>...</td>\n",
       "      <td>...</td>\n",
       "      <td>...</td>\n",
       "      <td>...</td>\n",
       "      <td>...</td>\n",
       "      <td>...</td>\n",
       "      <td>...</td>\n",
       "    </tr>\n",
       "    <tr>\n",
       "      <th>1967</th>\n",
       "      <td>FADINGKLY</td>\n",
       "      <td>A*02:01</td>\n",
       "      <td>YFAMYGEKVAHTHVDTLYVRYHYYTWAVLAYTWY</td>\n",
       "      <td>CASSFFLLAASSTDTQYF</td>\n",
       "      <td>1</td>\n",
       "      <td>0.439003</td>\n",
       "      <td>0.000428</td>\n",
       "    </tr>\n",
       "    <tr>\n",
       "      <th>1968</th>\n",
       "      <td>FADINGKLY</td>\n",
       "      <td>A*02:01</td>\n",
       "      <td>YFAMYEESAAHTDVDTLYIIYRDYTWAARAYTWY</td>\n",
       "      <td>CASRRDSQGGAFF</td>\n",
       "      <td>1</td>\n",
       "      <td>0.439003</td>\n",
       "      <td>0.000428</td>\n",
       "    </tr>\n",
       "    <tr>\n",
       "      <th>1969</th>\n",
       "      <td>AAKYVEHDPR</td>\n",
       "      <td>A*68:01</td>\n",
       "      <td>YYAMYRNNVAQTDVDTLYIMYRDYTWAVWAYTWY</td>\n",
       "      <td>CASSLVTRAQETQYF</td>\n",
       "      <td>1</td>\n",
       "      <td>0.341908</td>\n",
       "      <td>0.000425</td>\n",
       "    </tr>\n",
       "    <tr>\n",
       "      <th>1970</th>\n",
       "      <td>FIRYGDASL</td>\n",
       "      <td>B*38:01</td>\n",
       "      <td>YYSEYRNICTNTYENIAYLRYNFYTWAVLTYTWY</td>\n",
       "      <td>CASSVTRTGGVNGYTF</td>\n",
       "      <td>1</td>\n",
       "      <td>0.452703</td>\n",
       "      <td>0.000416</td>\n",
       "    </tr>\n",
       "    <tr>\n",
       "      <th>1971</th>\n",
       "      <td>AVLSEYETMV</td>\n",
       "      <td>A*02:06</td>\n",
       "      <td>YYAMYGEKVAHTHVDTLYVRYHYYTWAVLAYTWY</td>\n",
       "      <td>CASSFFLLAASSTDTQYF</td>\n",
       "      <td>1</td>\n",
       "      <td>0.423450</td>\n",
       "      <td>0.000367</td>\n",
       "    </tr>\n",
       "  </tbody>\n",
       "</table>\n",
       "<p>1972 rows × 7 columns</p>\n",
       "</div>"
      ],
      "text/plain": [
       "         antigen mhc_molecule  ... mhc_presentation_score tcr_probability\n",
       "0     ALASCMGLIY      A*29:02  ...               0.835672        0.678191\n",
       "1      CLMMILPAA      B*08:01  ...               0.998458        0.661518\n",
       "2      CLMMILPAA      B*08:01  ...               0.998458        0.661518\n",
       "3      CLMMILPAA      B*08:01  ...               0.998458        0.661518\n",
       "4      DPPEPLVRI      A*26:01  ...               0.906975        0.652630\n",
       "...          ...          ...  ...                    ...             ...\n",
       "1967   FADINGKLY      A*02:01  ...               0.439003        0.000428\n",
       "1968   FADINGKLY      A*02:01  ...               0.439003        0.000428\n",
       "1969  AAKYVEHDPR      A*68:01  ...               0.341908        0.000425\n",
       "1970   FIRYGDASL      B*38:01  ...               0.452703        0.000416\n",
       "1971  AVLSEYETMV      A*02:06  ...               0.423450        0.000367\n",
       "\n",
       "[1972 rows x 7 columns]"
      ]
     },
     "execution_count": 133,
     "metadata": {},
     "output_type": "execute_result"
    }
   ],
   "source": [
    "import pandas as pd\n",
    "\n",
    "patient_a = pd.read_csv('patient_A.csv')\n",
    "patient_a"
   ]
  },
  {
   "cell_type": "code",
   "execution_count": 134,
   "id": "b18bef82-7baf-44bf-8634-266733f11a18",
   "metadata": {},
   "outputs": [],
   "source": [
    "import pandas as pd\n",
    "\n",
    "# Assuming you have a DataFrame called 'df' with columns 'mhc_molecule' and 'tcr_sequence'\n",
    "mhc_molecule_list = patient_a['mhc_molecule'].unique().tolist()\n",
    "tcr_sequence_list = patient_a['tcr_sequence'].unique().tolist()\n"
   ]
  },
  {
   "cell_type": "code",
   "execution_count": 142,
   "id": "9987cdd1-6e9a-404c-9560-9fc67ecfc41e",
   "metadata": {},
   "outputs": [],
   "source": [
    "import re\n",
    "import random\n",
    "from mhcflurry import Class1AffinityPredictor\n",
    "from tqdm import tqdm\n",
    "import sys\n",
    "\n",
    "def tcr_reward(curr_seq, tcr_sequences):\n",
    "    rewards = []\n",
    "    for tcr_sequence in tcr_sequences:\n",
    "        tcr_predict = tcrgp.predict([curr_seq], [tcr_sequences])\n",
    "        predicted_tcr = tcr_predict[0]\n",
    "        rewards.append(predicted_tcr)\n",
    "    \n",
    "    return rewards\n",
    "\n",
    "def classification_reward(curr_seq):\n",
    "    peptide_sequence = [curr_seq]  \n",
    "    probabilities = classifier.predict_proba(peptide_sequence)\n",
    "    class_1_probabilities = [prob[1] for prob in probabilities]\n",
    "    return class_1_probabilities\n",
    "\n",
    "\n",
    "# Load valid amino acids\n",
    "def load_valid_aas(dictname):\n",
    "    aas = []\n",
    "    fh = open(dictname, 'r')\n",
    "    for line in fh:\n",
    "        spl = re.split('\\s+', line.strip())\n",
    "        aas.append(spl[0])\n",
    "    fh.close()\n",
    "    return aas\n",
    "\n",
    "\n",
    "# Eliminate empty characters from a sequence\n",
    "def eliminate_empty(seq):\n",
    "    return seq.replace('0', '')\n",
    "\n",
    "# Randomly select an amino acid\n",
    "def random_aa(aas):\n",
    "    return aas[random.randint(0, len(aas) - 1)]\n",
    "\n",
    "# Generate a sequence within a length range\n",
    "def generate_seq(lmin, lmax, aas):\n",
    "    seq = ''\n",
    "    ltarg = random.randint(lmin, lmax)\n",
    "    while len(seq) < ltarg:\n",
    "        seq += eliminate_empty(random_aa(aas))\n",
    "    return seq\n",
    "\n",
    "# Alter a sequence by replacing an amino acid\n",
    "def alter_seq(seq, aas):\n",
    "    ind = random.randint(0, len(seq))\n",
    "    seq = list(seq)\n",
    "    aa = random_aa(aas)\n",
    "    if ind < len(seq):\n",
    "        seq[ind] = aa\n",
    "    else:\n",
    "        seq.append(aa)\n",
    "    seq = ''.join(seq)\n",
    "    return eliminate_empty(seq)\n",
    "\n",
    "# Calculate MHC binding affinity\n",
    "def get_binding_affinity(peptide_sequence, mhc_proteins):\n",
    "    rewards = []\n",
    "    for mhc_protein in mhc_proteins:\n",
    "        # Predict binding affinity using MHCflurry 2.0 model\n",
    "        predicted_ic50s = predictor.predict([peptide_sequence], [mhc_protein])\n",
    "        predicted_ic50 = predicted_ic50s[0]\n",
    "        \n",
    "        # Normalize the predicted IC50 to a reward value between 0 and 1\n",
    "        max_ic50 = 50000\n",
    "        reward = 1.0 - (predicted_ic50 / max_ic50)\n",
    "        \n",
    "        rewards.append(reward)\n",
    "    \n",
    "    return rewards\n",
    "\n",
    "# Update selected sequences\n",
    "def update_selected(selected, threshold_mhc, threshold_tcr, seq, mhc, rew_mhc, rew_tcr, rew_class, tcr_sequence):\n",
    "    if rew_mhc > threshold_mhc and rew_tcr > threshold_tcr and rew_class == 1 and seq not in selected:\n",
    "        selected[seq] = {'MHC': mhc, 'Rew_MHC': rew_mhc, 'TCR_Seq': tcr_sequence, 'Rew_TCR': rew_tcr, 'Rew_Class': rew_class}\n",
    "        print(' selected', end='')\n",
    "    return selected"
   ]
  },
  {
   "cell_type": "code",
   "execution_count": 9,
   "id": "d470b9d9-0127-4a37-b4c4-ea3f3f99ab0c",
   "metadata": {
    "scrolled": true
   },
   "outputs": [
    {
     "name": "stderr",
     "output_type": "stream",
     "text": [
      "\n",
      "Processing sequences: 17it [01:26,  5.07s/it]\n",
      "\n",
      "Processing sequences: 1it [00:03,  3.77s/it]\u001b[A\n",
      "Processing sequences: 2it [00:05,  2.64s/it]\u001b[A\n",
      "Processing sequences: 3it [00:07,  2.27s/it]\u001b[A\n",
      "Processing sequences: 4it [00:09,  2.11s/it]\u001b[A\n",
      "Processing sequences: 5it [00:11,  2.03s/it]\u001b[A\n",
      "Processing sequences: 6it [00:13,  1.97s/it]\u001b[A\n",
      "Processing sequences: 7it [00:14,  1.95s/it]\u001b[A\n",
      "Processing sequences: 8it [00:16,  1.92s/it]\u001b[A\n",
      "Processing sequences: 9it [00:18,  1.91s/it]\u001b[A\n",
      "Processing sequences: 10it [00:20,  1.91s/it]\u001b[A\n",
      "Processing sequences: 11it [00:22,  1.90s/it]\u001b[A\n",
      "Processing sequences: 12it [00:24,  1.89s/it]\u001b[A\n",
      "Processing sequences: 13it [00:31,  3.59s/it]\u001b[A\n",
      "Processing sequences: 14it [00:39,  4.76s/it]\u001b[A\n",
      "Processing sequences: 15it [00:41,  3.90s/it]\u001b[A\n",
      "Processing sequences: 16it [00:46,  4.41s/it]\u001b[A\n",
      "Processing sequences: 17it [00:58,  6.46s/it]\u001b[A\n",
      "Processing sequences: 18it [01:05,  6.78s/it]\u001b[A\n",
      "Processing sequences: 19it [01:07,  5.31s/it]\u001b[A\n",
      "Processing sequences: 20it [01:09,  4.28s/it]\u001b[A\n",
      "Processing sequences: 21it [01:13,  4.13s/it]\u001b[A\n",
      "Processing sequences: 22it [01:22,  5.70s/it]\u001b[A\n",
      "Processing sequences: 23it [01:24,  4.56s/it]\u001b[A\n",
      "Processing sequences: 24it [01:28,  4.34s/it]\u001b[A\n",
      "Processing sequences: 25it [01:47,  8.80s/it]\u001b[A\n",
      "Processing sequences: 26it [01:57,  9.09s/it]\u001b[A\n",
      "Processing sequences: 27it [02:06,  9.25s/it]\u001b[A\n",
      "Processing sequences: 28it [02:10,  7.61s/it]\u001b[A\n",
      "Processing sequences: 29it [02:16,  7.01s/it]\u001b[A\n",
      "Processing sequences: 30it [02:19,  6.03s/it]\u001b[A\n",
      "Processing sequences: 31it [02:23,  5.34s/it]\u001b[A\n",
      "Processing sequences: 32it [02:27,  4.86s/it]\u001b[A\n",
      "Processing sequences: 33it [02:44,  8.45s/it]\u001b[A\n",
      "Processing sequences: 34it [02:59, 10.41s/it]\u001b[A\n",
      "Processing sequences: 35it [03:08, 10.12s/it]\u001b[A\n",
      "Processing sequences: 36it [03:14,  8.77s/it]\u001b[A\n",
      "Processing sequences: 37it [03:18,  7.27s/it]\u001b[A\n",
      "Processing sequences: 38it [03:25,  7.34s/it]\u001b[A\n",
      "Processing sequences: 39it [03:53, 13.63s/it]\u001b[A\n",
      "Processing sequences: 40it [03:57, 10.70s/it]\u001b[A\n",
      "Processing sequences: 41it [04:39, 19.86s/it]\u001b[A\n",
      "Processing sequences: 42it [05:23, 27.34s/it]\u001b[A\n",
      "Processing sequences: 43it [05:59, 29.93s/it]\u001b[A\n",
      "Processing sequences: 44it [06:24, 28.25s/it]\u001b[A\n",
      "Processing sequences: 45it [06:42, 25.40s/it]\u001b[A\n",
      "Processing sequences: 46it [06:55, 21.70s/it]\u001b[A\n",
      "Processing sequences: 47it [07:18, 21.95s/it]\u001b[A\n",
      "Processing sequences: 48it [07:44, 23.30s/it]\u001b[A\n",
      "Processing sequences: 49it [08:55, 37.60s/it]\u001b[A"
     ]
    },
    {
     "ename": "KeyboardInterrupt",
     "evalue": "",
     "output_type": "error",
     "traceback": [
      "\u001b[0;31m---------------------------------------------------------------------------\u001b[0m",
      "\u001b[0;31mKeyboardInterrupt\u001b[0m                         Traceback (most recent call last)",
      "Cell \u001b[0;32mIn[9], line 86\u001b[0m\n\u001b[1;32m     82\u001b[0m new_rew_class \u001b[38;5;241m=\u001b[39m classification_reward(new_seq)\n\u001b[1;32m     84\u001b[0m \u001b[38;5;28;01mif\u001b[39;00m new_rew_class \u001b[38;5;241m>\u001b[39m \u001b[38;5;241m0.5\u001b[39m:  \u001b[38;5;66;03m# Updated condition\u001b[39;00m\n\u001b[1;32m     85\u001b[0m     \u001b[38;5;66;03m# Removed the Needleman-Wunsch sequence similarity check\u001b[39;00m\n\u001b[0;32m---> 86\u001b[0m     new_rew_mhc_values \u001b[38;5;241m=\u001b[39m \u001b[43mget_binding_affinity\u001b[49m\u001b[43m(\u001b[49m\u001b[43mnew_seq\u001b[49m\u001b[43m,\u001b[49m\u001b[43m \u001b[49m\u001b[43mmhc_proteins\u001b[49m\u001b[43m)\u001b[49m\n\u001b[1;32m     87\u001b[0m     new_rew_tcr_values \u001b[38;5;241m=\u001b[39m tcr_reward(new_seq, tcr_sequences)\n\u001b[1;32m     89\u001b[0m     max_mhc_idx \u001b[38;5;241m=\u001b[39m new_rew_mhc_values\u001b[38;5;241m.\u001b[39mindex(\u001b[38;5;28mmax\u001b[39m(new_rew_mhc_values))\n",
      "Cell \u001b[0;32mIn[5], line 75\u001b[0m, in \u001b[0;36mget_binding_affinity\u001b[0;34m(peptide_sequence, mhc_proteins)\u001b[0m\n\u001b[1;32m     72\u001b[0m rewards \u001b[38;5;241m=\u001b[39m []\n\u001b[1;32m     73\u001b[0m \u001b[38;5;28;01mfor\u001b[39;00m mhc_protein \u001b[38;5;129;01min\u001b[39;00m mhc_proteins:\n\u001b[1;32m     74\u001b[0m     \u001b[38;5;66;03m# Predict binding affinity using MHCflurry 2.0 model\u001b[39;00m\n\u001b[0;32m---> 75\u001b[0m     predicted_ic50s \u001b[38;5;241m=\u001b[39m \u001b[43mpredictor\u001b[49m\u001b[38;5;241;43m.\u001b[39;49m\u001b[43mpredict\u001b[49m\u001b[43m(\u001b[49m\u001b[43m[\u001b[49m\u001b[43mpeptide_sequence\u001b[49m\u001b[43m]\u001b[49m\u001b[43m,\u001b[49m\u001b[43m \u001b[49m\u001b[43m[\u001b[49m\u001b[43mmhc_protein\u001b[49m\u001b[43m]\u001b[49m\u001b[43m)\u001b[49m\n\u001b[1;32m     76\u001b[0m     predicted_ic50 \u001b[38;5;241m=\u001b[39m predicted_ic50s[\u001b[38;5;241m0\u001b[39m]\n\u001b[1;32m     78\u001b[0m     \u001b[38;5;66;03m# Normalize the predicted IC50 to a reward value between 0 and 1\u001b[39;00m\n",
      "File \u001b[0;32m~/Documents/python/single_cell/lib/python3.8/site-packages/mhcflurry/class1_affinity_predictor.py:1085\u001b[0m, in \u001b[0;36mClass1AffinityPredictor.predict\u001b[0;34m(self, peptides, alleles, allele, throw, centrality_measure, model_kwargs)\u001b[0m\n\u001b[1;32m   1047\u001b[0m \u001b[38;5;28;01mdef\u001b[39;00m \u001b[38;5;21mpredict\u001b[39m(\n\u001b[1;32m   1048\u001b[0m         \u001b[38;5;28mself\u001b[39m,\n\u001b[1;32m   1049\u001b[0m         peptides,\n\u001b[0;32m   (...)\u001b[0m\n\u001b[1;32m   1053\u001b[0m         centrality_measure\u001b[38;5;241m=\u001b[39mDEFAULT_CENTRALITY_MEASURE,\n\u001b[1;32m   1054\u001b[0m         model_kwargs\u001b[38;5;241m=\u001b[39m{}):\n\u001b[1;32m   1055\u001b[0m \u001b[38;5;250m    \u001b[39m\u001b[38;5;124;03m\"\"\"\u001b[39;00m\n\u001b[1;32m   1056\u001b[0m \u001b[38;5;124;03m    Predict nM binding affinities.\u001b[39;00m\n\u001b[1;32m   1057\u001b[0m \u001b[38;5;124;03m    \u001b[39;00m\n\u001b[0;32m   (...)\u001b[0m\n\u001b[1;32m   1083\u001b[0m \u001b[38;5;124;03m    numpy.array of predictions\u001b[39;00m\n\u001b[1;32m   1084\u001b[0m \u001b[38;5;124;03m    \"\"\"\u001b[39;00m\n\u001b[0;32m-> 1085\u001b[0m     df \u001b[38;5;241m=\u001b[39m \u001b[38;5;28;43mself\u001b[39;49m\u001b[38;5;241;43m.\u001b[39;49m\u001b[43mpredict_to_dataframe\u001b[49m\u001b[43m(\u001b[49m\n\u001b[1;32m   1086\u001b[0m \u001b[43m        \u001b[49m\u001b[43mpeptides\u001b[49m\u001b[38;5;241;43m=\u001b[39;49m\u001b[43mpeptides\u001b[49m\u001b[43m,\u001b[49m\n\u001b[1;32m   1087\u001b[0m \u001b[43m        \u001b[49m\u001b[43malleles\u001b[49m\u001b[38;5;241;43m=\u001b[39;49m\u001b[43malleles\u001b[49m\u001b[43m,\u001b[49m\n\u001b[1;32m   1088\u001b[0m \u001b[43m        \u001b[49m\u001b[43mallele\u001b[49m\u001b[38;5;241;43m=\u001b[39;49m\u001b[43mallele\u001b[49m\u001b[43m,\u001b[49m\n\u001b[1;32m   1089\u001b[0m \u001b[43m        \u001b[49m\u001b[43mthrow\u001b[49m\u001b[38;5;241;43m=\u001b[39;49m\u001b[43mthrow\u001b[49m\u001b[43m,\u001b[49m\n\u001b[1;32m   1090\u001b[0m \u001b[43m        \u001b[49m\u001b[43minclude_percentile_ranks\u001b[49m\u001b[38;5;241;43m=\u001b[39;49m\u001b[38;5;28;43;01mFalse\u001b[39;49;00m\u001b[43m,\u001b[49m\n\u001b[1;32m   1091\u001b[0m \u001b[43m        \u001b[49m\u001b[43minclude_confidence_intervals\u001b[49m\u001b[38;5;241;43m=\u001b[39;49m\u001b[38;5;28;43;01mFalse\u001b[39;49;00m\u001b[43m,\u001b[49m\n\u001b[1;32m   1092\u001b[0m \u001b[43m        \u001b[49m\u001b[43mcentrality_measure\u001b[49m\u001b[38;5;241;43m=\u001b[39;49m\u001b[43mcentrality_measure\u001b[49m\u001b[43m,\u001b[49m\n\u001b[1;32m   1093\u001b[0m \u001b[43m        \u001b[49m\u001b[43mmodel_kwargs\u001b[49m\u001b[38;5;241;43m=\u001b[39;49m\u001b[43mmodel_kwargs\u001b[49m\n\u001b[1;32m   1094\u001b[0m \u001b[43m    \u001b[49m\u001b[43m)\u001b[49m\n\u001b[1;32m   1095\u001b[0m     \u001b[38;5;28;01mreturn\u001b[39;00m df\u001b[38;5;241m.\u001b[39mprediction\u001b[38;5;241m.\u001b[39mvalues\n",
      "File \u001b[0;32m~/Documents/python/single_cell/lib/python3.8/site-packages/mhcflurry/class1_affinity_predictor.py:1292\u001b[0m, in \u001b[0;36mClass1AffinityPredictor.predict_to_dataframe\u001b[0;34m(self, peptides, alleles, allele, throw, include_individual_model_predictions, include_percentile_ranks, include_confidence_intervals, centrality_measure, model_kwargs)\u001b[0m\n\u001b[1;32m   1288\u001b[0m \u001b[38;5;28;01mif\u001b[39;00m \u001b[38;5;28mself\u001b[39m\u001b[38;5;241m.\u001b[39moptimization_info\u001b[38;5;241m.\u001b[39mget(\u001b[38;5;124m\"\u001b[39m\u001b[38;5;124mpan_models_merged\u001b[39m\u001b[38;5;124m\"\u001b[39m):\n\u001b[1;32m   1289\u001b[0m     \u001b[38;5;66;03m# Multiple pan-allele models have been merged into one\u001b[39;00m\n\u001b[1;32m   1290\u001b[0m     \u001b[38;5;66;03m# at the tensorflow level.\u001b[39;00m\n\u001b[1;32m   1291\u001b[0m     \u001b[38;5;28;01massert\u001b[39;00m \u001b[38;5;28mlen\u001b[39m(\u001b[38;5;28mself\u001b[39m\u001b[38;5;241m.\u001b[39mclass1_pan_allele_models) \u001b[38;5;241m==\u001b[39m \u001b[38;5;241m1\u001b[39m\n\u001b[0;32m-> 1292\u001b[0m     predictions \u001b[38;5;241m=\u001b[39m \u001b[38;5;28;43mself\u001b[39;49m\u001b[38;5;241;43m.\u001b[39;49m\u001b[43mclass1_pan_allele_models\u001b[49m\u001b[43m[\u001b[49m\u001b[38;5;241;43m0\u001b[39;49m\u001b[43m]\u001b[49m\u001b[38;5;241;43m.\u001b[39;49m\u001b[43mpredict\u001b[49m\u001b[43m(\u001b[49m\n\u001b[1;32m   1293\u001b[0m \u001b[43m        \u001b[49m\u001b[43mmasked_peptides\u001b[49m\u001b[43m,\u001b[49m\n\u001b[1;32m   1294\u001b[0m \u001b[43m        \u001b[49m\u001b[43mallele_encoding\u001b[49m\u001b[38;5;241;43m=\u001b[39;49m\u001b[43mmasked_allele_encoding\u001b[49m\u001b[43m,\u001b[49m\n\u001b[1;32m   1295\u001b[0m \u001b[43m        \u001b[49m\u001b[43moutput_index\u001b[49m\u001b[38;5;241;43m=\u001b[39;49m\u001b[38;5;28;43;01mNone\u001b[39;49;00m\u001b[43m,\u001b[49m\n\u001b[1;32m   1296\u001b[0m \u001b[43m        \u001b[49m\u001b[38;5;241;43m*\u001b[39;49m\u001b[38;5;241;43m*\u001b[39;49m\u001b[43mmodel_kwargs\u001b[49m\u001b[43m)\u001b[49m\n\u001b[1;32m   1297\u001b[0m     predictions_array[row_slice, :num_pan_models] \u001b[38;5;241m=\u001b[39m predictions\n\u001b[1;32m   1298\u001b[0m \u001b[38;5;28;01melse\u001b[39;00m:\n",
      "File \u001b[0;32m~/Documents/python/single_cell/lib/python3.8/site-packages/mhcflurry/class1_neural_network.py:1114\u001b[0m, in \u001b[0;36mClass1NeuralNetwork.predict\u001b[0;34m(self, peptides, allele_encoding, batch_size, output_index)\u001b[0m\n\u001b[1;32m   1111\u001b[0m     (allele_encoding_input, allele_representations) \u001b[38;5;241m=\u001b[39m (\n\u001b[1;32m   1112\u001b[0m         \u001b[38;5;28mself\u001b[39m\u001b[38;5;241m.\u001b[39mallele_encoding_to_network_input(allele_encoding))\n\u001b[1;32m   1113\u001b[0m     x_dict[\u001b[38;5;124m'\u001b[39m\u001b[38;5;124mallele\u001b[39m\u001b[38;5;124m'\u001b[39m] \u001b[38;5;241m=\u001b[39m allele_encoding_input\n\u001b[0;32m-> 1114\u001b[0m     \u001b[38;5;28;43mself\u001b[39;49m\u001b[38;5;241;43m.\u001b[39;49m\u001b[43mset_allele_representations\u001b[49m\u001b[43m(\u001b[49m\u001b[43mallele_representations\u001b[49m\u001b[43m)\u001b[49m\n\u001b[1;32m   1115\u001b[0m     network \u001b[38;5;241m=\u001b[39m \u001b[38;5;28mself\u001b[39m\u001b[38;5;241m.\u001b[39mnetwork()\n\u001b[1;32m   1116\u001b[0m \u001b[38;5;28;01melse\u001b[39;00m:\n",
      "File \u001b[0;32m~/Documents/python/single_cell/lib/python3.8/site-packages/mhcflurry/class1_neural_network.py:1510\u001b[0m, in \u001b[0;36mClass1NeuralNetwork.set_allele_representations\u001b[0;34m(self, allele_representations, force_surgery)\u001b[0m\n\u001b[1;32m   1503\u001b[0m         \u001b[38;5;28;01mraise\u001b[39;00m \u001b[38;5;167;01mRuntimeError\u001b[39;00m(\u001b[38;5;124m\"\u001b[39m\u001b[38;5;124mUsing a disabled model!\u001b[39m\u001b[38;5;124m\"\u001b[39m)\n\u001b[1;32m   1504\u001b[0m     original_model\u001b[38;5;241m.\u001b[39mpredict \u001b[38;5;241m=\u001b[39m \\\n\u001b[1;32m   1505\u001b[0m         original_model\u001b[38;5;241m.\u001b[39mto_json \u001b[38;5;241m=\u001b[39m \\\n\u001b[1;32m   1506\u001b[0m         original_model\u001b[38;5;241m.\u001b[39mget_weights \u001b[38;5;241m=\u001b[39m \\\n\u001b[1;32m   1507\u001b[0m         original_model\u001b[38;5;241m.\u001b[39mfit \u001b[38;5;241m=\u001b[39m \\\n\u001b[1;32m   1508\u001b[0m         original_model\u001b[38;5;241m.\u001b[39mfit_generator \u001b[38;5;241m=\u001b[39m throw\n\u001b[0;32m-> 1510\u001b[0m \u001b[43mlayer\u001b[49m\u001b[38;5;241;43m.\u001b[39;49m\u001b[43mset_weights\u001b[49m\u001b[43m(\u001b[49m\u001b[43m[\u001b[49m\u001b[43mreshaped\u001b[49m\u001b[43m]\u001b[49m\u001b[43m)\u001b[49m\n",
      "File \u001b[0;32m~/Documents/python/single_cell/lib/python3.8/site-packages/keras/src/engine/base_layer_v1.py:1402\u001b[0m, in \u001b[0;36mLayer.set_weights\u001b[0;34m(self, weights)\u001b[0m\n\u001b[1;32m   1399\u001b[0m         weight_value_tuples\u001b[38;5;241m.\u001b[39mappend((param, weight))\n\u001b[1;32m   1400\u001b[0m         weight_index \u001b[38;5;241m+\u001b[39m\u001b[38;5;241m=\u001b[39m \u001b[38;5;241m1\u001b[39m\n\u001b[0;32m-> 1402\u001b[0m \u001b[43mbackend\u001b[49m\u001b[38;5;241;43m.\u001b[39;49m\u001b[43mbatch_set_value\u001b[49m\u001b[43m(\u001b[49m\u001b[43mweight_value_tuples\u001b[49m\u001b[43m)\u001b[49m\n",
      "File \u001b[0;32m~/Documents/python/single_cell/lib/python3.8/site-packages/tensorflow/python/util/traceback_utils.py:150\u001b[0m, in \u001b[0;36mfilter_traceback.<locals>.error_handler\u001b[0;34m(*args, **kwargs)\u001b[0m\n\u001b[1;32m    148\u001b[0m filtered_tb \u001b[38;5;241m=\u001b[39m \u001b[38;5;28;01mNone\u001b[39;00m\n\u001b[1;32m    149\u001b[0m \u001b[38;5;28;01mtry\u001b[39;00m:\n\u001b[0;32m--> 150\u001b[0m   \u001b[38;5;28;01mreturn\u001b[39;00m \u001b[43mfn\u001b[49m\u001b[43m(\u001b[49m\u001b[38;5;241;43m*\u001b[39;49m\u001b[43margs\u001b[49m\u001b[43m,\u001b[49m\u001b[43m \u001b[49m\u001b[38;5;241;43m*\u001b[39;49m\u001b[38;5;241;43m*\u001b[39;49m\u001b[43mkwargs\u001b[49m\u001b[43m)\u001b[49m\n\u001b[1;32m    151\u001b[0m \u001b[38;5;28;01mexcept\u001b[39;00m \u001b[38;5;167;01mException\u001b[39;00m \u001b[38;5;28;01mas\u001b[39;00m e:\n\u001b[1;32m    152\u001b[0m   filtered_tb \u001b[38;5;241m=\u001b[39m _process_traceback_frames(e\u001b[38;5;241m.\u001b[39m__traceback__)\n",
      "File \u001b[0;32m~/Documents/python/single_cell/lib/python3.8/site-packages/tensorflow/python/util/dispatch.py:1176\u001b[0m, in \u001b[0;36madd_dispatch_support.<locals>.decorator.<locals>.op_dispatch_handler\u001b[0;34m(*args, **kwargs)\u001b[0m\n\u001b[1;32m   1174\u001b[0m \u001b[38;5;66;03m# Fallback dispatch system (dispatch v1):\u001b[39;00m\n\u001b[1;32m   1175\u001b[0m \u001b[38;5;28;01mtry\u001b[39;00m:\n\u001b[0;32m-> 1176\u001b[0m   \u001b[38;5;28;01mreturn\u001b[39;00m \u001b[43mdispatch_target\u001b[49m\u001b[43m(\u001b[49m\u001b[38;5;241;43m*\u001b[39;49m\u001b[43margs\u001b[49m\u001b[43m,\u001b[49m\u001b[43m \u001b[49m\u001b[38;5;241;43m*\u001b[39;49m\u001b[38;5;241;43m*\u001b[39;49m\u001b[43mkwargs\u001b[49m\u001b[43m)\u001b[49m\n\u001b[1;32m   1177\u001b[0m \u001b[38;5;28;01mexcept\u001b[39;00m (\u001b[38;5;167;01mTypeError\u001b[39;00m, \u001b[38;5;167;01mValueError\u001b[39;00m):\n\u001b[1;32m   1178\u001b[0m   \u001b[38;5;66;03m# Note: convert_to_eager_tensor currently raises a ValueError, not a\u001b[39;00m\n\u001b[1;32m   1179\u001b[0m   \u001b[38;5;66;03m# TypeError, when given unexpected types.  So we need to catch both.\u001b[39;00m\n\u001b[1;32m   1180\u001b[0m   result \u001b[38;5;241m=\u001b[39m dispatch(op_dispatch_handler, args, kwargs)\n",
      "File \u001b[0;32m~/Documents/python/single_cell/lib/python3.8/site-packages/keras/src/backend.py:4340\u001b[0m, in \u001b[0;36mbatch_set_value\u001b[0;34m(tuples)\u001b[0m\n\u001b[1;32m   4338\u001b[0m     assign_ops\u001b[38;5;241m.\u001b[39mappend(assign_op)\n\u001b[1;32m   4339\u001b[0m     feed_dict[assign_placeholder] \u001b[38;5;241m=\u001b[39m value\n\u001b[0;32m-> 4340\u001b[0m \u001b[43mget_session\u001b[49m\u001b[43m(\u001b[49m\u001b[43m)\u001b[49m\u001b[38;5;241;43m.\u001b[39;49m\u001b[43mrun\u001b[49m\u001b[43m(\u001b[49m\u001b[43massign_ops\u001b[49m\u001b[43m,\u001b[49m\u001b[43m \u001b[49m\u001b[43mfeed_dict\u001b[49m\u001b[38;5;241;43m=\u001b[39;49m\u001b[43mfeed_dict\u001b[49m\u001b[43m)\u001b[49m\n",
      "File \u001b[0;32m~/Documents/python/single_cell/lib/python3.8/site-packages/tensorflow/python/client/session.py:969\u001b[0m, in \u001b[0;36mBaseSession.run\u001b[0;34m(self, fetches, feed_dict, options, run_metadata)\u001b[0m\n\u001b[1;32m    966\u001b[0m run_metadata_ptr \u001b[38;5;241m=\u001b[39m tf_session\u001b[38;5;241m.\u001b[39mTF_NewBuffer() \u001b[38;5;28;01mif\u001b[39;00m run_metadata \u001b[38;5;28;01melse\u001b[39;00m \u001b[38;5;28;01mNone\u001b[39;00m\n\u001b[1;32m    968\u001b[0m \u001b[38;5;28;01mtry\u001b[39;00m:\n\u001b[0;32m--> 969\u001b[0m   result \u001b[38;5;241m=\u001b[39m \u001b[38;5;28;43mself\u001b[39;49m\u001b[38;5;241;43m.\u001b[39;49m\u001b[43m_run\u001b[49m\u001b[43m(\u001b[49m\u001b[38;5;28;43;01mNone\u001b[39;49;00m\u001b[43m,\u001b[49m\u001b[43m \u001b[49m\u001b[43mfetches\u001b[49m\u001b[43m,\u001b[49m\u001b[43m \u001b[49m\u001b[43mfeed_dict\u001b[49m\u001b[43m,\u001b[49m\u001b[43m \u001b[49m\u001b[43moptions_ptr\u001b[49m\u001b[43m,\u001b[49m\n\u001b[1;32m    970\u001b[0m \u001b[43m                     \u001b[49m\u001b[43mrun_metadata_ptr\u001b[49m\u001b[43m)\u001b[49m\n\u001b[1;32m    971\u001b[0m   \u001b[38;5;28;01mif\u001b[39;00m run_metadata:\n\u001b[1;32m    972\u001b[0m     proto_data \u001b[38;5;241m=\u001b[39m tf_session\u001b[38;5;241m.\u001b[39mTF_GetBuffer(run_metadata_ptr)\n",
      "File \u001b[0;32m~/Documents/python/single_cell/lib/python3.8/site-packages/tensorflow/python/client/session.py:1192\u001b[0m, in \u001b[0;36mBaseSession._run\u001b[0;34m(self, handle, fetches, feed_dict, options, run_metadata)\u001b[0m\n\u001b[1;32m   1189\u001b[0m \u001b[38;5;66;03m# We only want to really perform the run if fetches or targets are provided,\u001b[39;00m\n\u001b[1;32m   1190\u001b[0m \u001b[38;5;66;03m# or if the call is a partial run that specifies feeds.\u001b[39;00m\n\u001b[1;32m   1191\u001b[0m \u001b[38;5;28;01mif\u001b[39;00m final_fetches \u001b[38;5;129;01mor\u001b[39;00m final_targets \u001b[38;5;129;01mor\u001b[39;00m (handle \u001b[38;5;129;01mand\u001b[39;00m feed_dict_tensor):\n\u001b[0;32m-> 1192\u001b[0m   results \u001b[38;5;241m=\u001b[39m \u001b[38;5;28;43mself\u001b[39;49m\u001b[38;5;241;43m.\u001b[39;49m\u001b[43m_do_run\u001b[49m\u001b[43m(\u001b[49m\u001b[43mhandle\u001b[49m\u001b[43m,\u001b[49m\u001b[43m \u001b[49m\u001b[43mfinal_targets\u001b[49m\u001b[43m,\u001b[49m\u001b[43m \u001b[49m\u001b[43mfinal_fetches\u001b[49m\u001b[43m,\u001b[49m\n\u001b[1;32m   1193\u001b[0m \u001b[43m                         \u001b[49m\u001b[43mfeed_dict_tensor\u001b[49m\u001b[43m,\u001b[49m\u001b[43m \u001b[49m\u001b[43moptions\u001b[49m\u001b[43m,\u001b[49m\u001b[43m \u001b[49m\u001b[43mrun_metadata\u001b[49m\u001b[43m)\u001b[49m\n\u001b[1;32m   1194\u001b[0m \u001b[38;5;28;01melse\u001b[39;00m:\n\u001b[1;32m   1195\u001b[0m   results \u001b[38;5;241m=\u001b[39m []\n",
      "File \u001b[0;32m~/Documents/python/single_cell/lib/python3.8/site-packages/tensorflow/python/client/session.py:1372\u001b[0m, in \u001b[0;36mBaseSession._do_run\u001b[0;34m(self, handle, target_list, fetch_list, feed_dict, options, run_metadata)\u001b[0m\n\u001b[1;32m   1369\u001b[0m   \u001b[38;5;28;01mreturn\u001b[39;00m \u001b[38;5;28mself\u001b[39m\u001b[38;5;241m.\u001b[39m_call_tf_sessionprun(handle, feed_dict, fetch_list)\n\u001b[1;32m   1371\u001b[0m \u001b[38;5;28;01mif\u001b[39;00m handle \u001b[38;5;129;01mis\u001b[39;00m \u001b[38;5;28;01mNone\u001b[39;00m:\n\u001b[0;32m-> 1372\u001b[0m   \u001b[38;5;28;01mreturn\u001b[39;00m \u001b[38;5;28;43mself\u001b[39;49m\u001b[38;5;241;43m.\u001b[39;49m\u001b[43m_do_call\u001b[49m\u001b[43m(\u001b[49m\u001b[43m_run_fn\u001b[49m\u001b[43m,\u001b[49m\u001b[43m \u001b[49m\u001b[43mfeeds\u001b[49m\u001b[43m,\u001b[49m\u001b[43m \u001b[49m\u001b[43mfetches\u001b[49m\u001b[43m,\u001b[49m\u001b[43m \u001b[49m\u001b[43mtargets\u001b[49m\u001b[43m,\u001b[49m\u001b[43m \u001b[49m\u001b[43moptions\u001b[49m\u001b[43m,\u001b[49m\n\u001b[1;32m   1373\u001b[0m \u001b[43m                       \u001b[49m\u001b[43mrun_metadata\u001b[49m\u001b[43m)\u001b[49m\n\u001b[1;32m   1374\u001b[0m \u001b[38;5;28;01melse\u001b[39;00m:\n\u001b[1;32m   1375\u001b[0m   \u001b[38;5;28;01mreturn\u001b[39;00m \u001b[38;5;28mself\u001b[39m\u001b[38;5;241m.\u001b[39m_do_call(_prun_fn, handle, feeds, fetches)\n",
      "File \u001b[0;32m~/Documents/python/single_cell/lib/python3.8/site-packages/tensorflow/python/client/session.py:1379\u001b[0m, in \u001b[0;36mBaseSession._do_call\u001b[0;34m(self, fn, *args)\u001b[0m\n\u001b[1;32m   1377\u001b[0m \u001b[38;5;28;01mdef\u001b[39;00m \u001b[38;5;21m_do_call\u001b[39m(\u001b[38;5;28mself\u001b[39m, fn, \u001b[38;5;241m*\u001b[39margs):\n\u001b[1;32m   1378\u001b[0m   \u001b[38;5;28;01mtry\u001b[39;00m:\n\u001b[0;32m-> 1379\u001b[0m     \u001b[38;5;28;01mreturn\u001b[39;00m \u001b[43mfn\u001b[49m\u001b[43m(\u001b[49m\u001b[38;5;241;43m*\u001b[39;49m\u001b[43margs\u001b[49m\u001b[43m)\u001b[49m\n\u001b[1;32m   1380\u001b[0m   \u001b[38;5;28;01mexcept\u001b[39;00m errors\u001b[38;5;241m.\u001b[39mOpError \u001b[38;5;28;01mas\u001b[39;00m e:\n\u001b[1;32m   1381\u001b[0m     message \u001b[38;5;241m=\u001b[39m compat\u001b[38;5;241m.\u001b[39mas_text(e\u001b[38;5;241m.\u001b[39mmessage)\n",
      "File \u001b[0;32m~/Documents/python/single_cell/lib/python3.8/site-packages/tensorflow/python/client/session.py:1362\u001b[0m, in \u001b[0;36mBaseSession._do_run.<locals>._run_fn\u001b[0;34m(feed_dict, fetch_list, target_list, options, run_metadata)\u001b[0m\n\u001b[1;32m   1359\u001b[0m \u001b[38;5;28;01mdef\u001b[39;00m \u001b[38;5;21m_run_fn\u001b[39m(feed_dict, fetch_list, target_list, options, run_metadata):\n\u001b[1;32m   1360\u001b[0m   \u001b[38;5;66;03m# Ensure any changes to the graph are reflected in the runtime.\u001b[39;00m\n\u001b[1;32m   1361\u001b[0m   \u001b[38;5;28mself\u001b[39m\u001b[38;5;241m.\u001b[39m_extend_graph()\n\u001b[0;32m-> 1362\u001b[0m   \u001b[38;5;28;01mreturn\u001b[39;00m \u001b[38;5;28;43mself\u001b[39;49m\u001b[38;5;241;43m.\u001b[39;49m\u001b[43m_call_tf_sessionrun\u001b[49m\u001b[43m(\u001b[49m\u001b[43moptions\u001b[49m\u001b[43m,\u001b[49m\u001b[43m \u001b[49m\u001b[43mfeed_dict\u001b[49m\u001b[43m,\u001b[49m\u001b[43m \u001b[49m\u001b[43mfetch_list\u001b[49m\u001b[43m,\u001b[49m\n\u001b[1;32m   1363\u001b[0m \u001b[43m                                  \u001b[49m\u001b[43mtarget_list\u001b[49m\u001b[43m,\u001b[49m\u001b[43m \u001b[49m\u001b[43mrun_metadata\u001b[49m\u001b[43m)\u001b[49m\n",
      "File \u001b[0;32m~/Documents/python/single_cell/lib/python3.8/site-packages/tensorflow/python/client/session.py:1455\u001b[0m, in \u001b[0;36mBaseSession._call_tf_sessionrun\u001b[0;34m(self, options, feed_dict, fetch_list, target_list, run_metadata)\u001b[0m\n\u001b[1;32m   1453\u001b[0m \u001b[38;5;28;01mdef\u001b[39;00m \u001b[38;5;21m_call_tf_sessionrun\u001b[39m(\u001b[38;5;28mself\u001b[39m, options, feed_dict, fetch_list, target_list,\n\u001b[1;32m   1454\u001b[0m                         run_metadata):\n\u001b[0;32m-> 1455\u001b[0m   \u001b[38;5;28;01mreturn\u001b[39;00m \u001b[43mtf_session\u001b[49m\u001b[38;5;241;43m.\u001b[39;49m\u001b[43mTF_SessionRun_wrapper\u001b[49m\u001b[43m(\u001b[49m\u001b[38;5;28;43mself\u001b[39;49m\u001b[38;5;241;43m.\u001b[39;49m\u001b[43m_session\u001b[49m\u001b[43m,\u001b[49m\u001b[43m \u001b[49m\u001b[43moptions\u001b[49m\u001b[43m,\u001b[49m\u001b[43m \u001b[49m\u001b[43mfeed_dict\u001b[49m\u001b[43m,\u001b[49m\n\u001b[1;32m   1456\u001b[0m \u001b[43m                                          \u001b[49m\u001b[43mfetch_list\u001b[49m\u001b[43m,\u001b[49m\u001b[43m \u001b[49m\u001b[43mtarget_list\u001b[49m\u001b[43m,\u001b[49m\n\u001b[1;32m   1457\u001b[0m \u001b[43m                                          \u001b[49m\u001b[43mrun_metadata\u001b[49m\u001b[43m)\u001b[49m\n",
      "\u001b[0;31mKeyboardInterrupt\u001b[0m: "
     ]
    }
   ],
   "source": [
    "import numpy as np\n",
    "\n",
    "def needleman_wunsch_normalized(seq1, seq2, match=2, mismatch=1, gap=0):\n",
    "    def calculate_max_score(seq1, seq2, match, mismatch, gap):\n",
    "        # Calculate the maximum possible score\n",
    "        max_score = max(len(seq1), len(seq2)) * match\n",
    "        return max_score\n",
    "\n",
    "#     Create a matrix to store alignment scores\n",
    "    matrix = np.zeros((len(seq1) + 1, len(seq2) + 1))\n",
    "\n",
    "    #Initialize the first row and first column with gap penalties\n",
    "    for i in range(len(seq1) + 1):\n",
    "        matrix[i][0] = i * gap\n",
    "    for j in range(len(seq2) + 1):\n",
    "        matrix[0][j] = j * gap\n",
    "\n",
    "    # Fill in the matrix\n",
    "    for i in range(1, len(seq1) + 1):\n",
    "        for j in range(1, len(seq2) + 1):\n",
    "            match_score = matrix[i-1][j-1] + (match if seq1[i-1] == seq2[j-1] else mismatch) \n",
    "            delete_score = matrix[i-1][j] + gap\n",
    "            insert_score = matrix[i][j-1] + gap\n",
    "            matrix[i][j] = max(match_score, delete_score, insert_score)\n",
    "\n",
    "    # Calculate the normalized similarity score\n",
    "    similarity_score = matrix[len(seq1)][len(seq2)] / calculate_max_score(seq1, seq2, match, mismatch, gap)\n",
    "\n",
    "    return similarity_score\n",
    "\n",
    "# Check sequence similarity using your Needleman-Wunsch algorithm\n",
    "def is_sequence_similar_to_selected(new_seq, selected_seq, similarity_threshold):\n",
    "    for selected_peptide in selected_seq:\n",
    "        similarity_score = needleman_wunsch_normalized(new_seq, selected_peptide)  \n",
    "\n",
    "        if similarity_score >= similarity_threshold:\n",
    "            return True\n",
    "    return False\n",
    "\n",
    "\n",
    "lmin = 8\n",
    "lmax = 12\n",
    "thr_rew_mhc = 0.82  # Threshold for binding affinity\n",
    "thr_rew_tcr = 0.53  # Threshold for TCR reward\n",
    "similarity_threshold = 0.7\n",
    "\n",
    "\n",
    "# Extend the list of MHC proteins and TCR sequences\n",
    "mhc_proteins = mhc_molecule_list\n",
    "tcr_sequences = tcr_sequence_list\n",
    "aas = load_valid_aas('Dictionary')\n",
    "\n",
    "# Initialize selected sequences dictionary and output data list\n",
    "selected_seq = {}\n",
    "output_data = []\n",
    "\n",
    "# Define a dictionary to track the count of each MHC molecule\n",
    "mhc_counts = {mhc: 0 for mhc in mhc_proteins}\n",
    "tcr_seq_counts = {tcr: 0 for tcr in tcr_sequences}\n",
    "\n",
    "# Initialize max MHC and TCR values and corresponding indices\n",
    "max_mhc_values = [-1] * len(mhc_proteins)\n",
    "max_tcr_values = [-1] * len(tcr_sequences)\n",
    "max_mhc_idx = -1\n",
    "max_tcr_idx = -1\n",
    "\n",
    "# Initialize progress bar\n",
    "pbar = tqdm(desc=\"Processing sequences\")\n",
    "\n",
    "curr_seq = generate_seq(lmin, lmax, aas)  # Initialize curr_seq\n",
    "curr_rew_mhc_values = get_binding_affinity(curr_seq, mhc_proteins) \n",
    "curr_rew_tcr = tcr_reward(curr_seq, tcr_sequences)\n",
    "curr_rew_class = classification_reward(curr_seq)\n",
    "\n",
    "\n",
    "while len(selected_seq) < 100:\n",
    "    new_seq = alter_seq(curr_seq, aas)\n",
    "    accept = False\n",
    "    selected_in_iteration = False\n",
    "\n",
    "    if new_seq != curr_seq and lmin <= len(new_seq) <= lmax:\n",
    "        new_rew_class = classification_reward(new_seq)\n",
    "\n",
    "        if new_rew_class > 0.5:  # Updated condition\n",
    "            # Check if the new sequence is similar to any selected sequence\n",
    "            if not is_sequence_similar_to_selected(new_seq, selected_seq.keys(), similarity_threshold):\n",
    "                new_rew_mhc_values = get_binding_affinity(new_seq, mhc_proteins)\n",
    "                new_rew_tcr_values = tcr_reward(new_seq, tcr_sequences)\n",
    "\n",
    "                max_mhc_idx = new_rew_mhc_values.index(max(new_rew_mhc_values))\n",
    "                max_tcr_idx = new_rew_tcr_values.index(max(new_rew_tcr_values))\n",
    "\n",
    "                # Check if the selected MHC molecule and TCR sequence have exceeded the maximum count\n",
    "                selected_mhc = mhc_proteins[max_mhc_idx]\n",
    "                selected_tcr = tcr_sequences[max_tcr_idx]\n",
    "\n",
    "                if mhc_counts[selected_mhc] < 5 and tcr_seq_counts[selected_tcr] < 5:\n",
    "                    product_value = new_rew_mhc_values[max_mhc_idx] * new_rew_tcr_values[max_tcr_idx]\n",
    "\n",
    "                    if product_value > (curr_rew_mhc_values[max_mhc_idx] * curr_rew_tcr[max_tcr_idx]) - 0.35 * random.random():\n",
    "                        accept = True\n",
    "                        if new_seq not in selected_seq:\n",
    "                            selected_in_iteration = True\n",
    "                            # Update the count of the selected MHC molecule and TCR sequence\n",
    "                            mhc_counts[selected_mhc] += 1\n",
    "                            tcr_seq_counts[selected_tcr] += 1\n",
    "                            selected_seq = update_selected(selected_seq, thr_rew_mhc, thr_rew_tcr, new_seq, selected_mhc, new_rew_mhc_values[max_mhc_idx], new_rew_tcr_values[max_tcr_idx], curr_rew_class, selected_tcr)\n",
    "                            pbar.update(1)\n",
    "\n",
    "                # Initialize max MHC and TCR values and corresponding indices\n",
    "                max_mhc_values = [-1] * len(mhc_proteins)\n",
    "                max_tcr_values = [-1] * len(tcr_sequences)\n",
    "                max_mhc_idx = -1\n",
    "                max_tcr_idx = -1\n",
    "\n",
    "                if selected_in_iteration:\n",
    "                    data_dict = {\n",
    "                        \"Sequence\": new_seq,\n",
    "                        **{f\"MHC_{i+1}\": new_rew_mhc_values[i] for i in range(len(mhc_proteins))},\n",
    "                        **{f\"TCR_{i+1}\": new_rew_tcr_values[i] for i in range(len(tcr_sequences))},\n",
    "                        \"Classification\": new_rew_class,  # Add new_rew_class here\n",
    "                    }\n",
    "                    output_data.append(data_dict)  # Ensure data_dict is appended to output_data\n",
    "\n",
    "                # Remove MHC molecule if its count reaches 10\n",
    "                if mhc_counts[selected_mhc] >= 10:\n",
    "                    mhc_proteins.remove(selected_mhc)\n",
    "\n",
    "                # Remove TCR sequence if its count reaches 10\n",
    "                if tcr_seq_counts[selected_tcr] >= 10:\n",
    "                    tcr_sequences.remove(selected_tcr)\n",
    "\n",
    "pbar.close()"
   ]
  },
  {
   "cell_type": "code",
   "execution_count": 131,
   "id": "9c0cd07e-a495-4f34-9243-149ccf589292",
   "metadata": {
    "scrolled": true
   },
   "outputs": [
    {
     "data": {
      "text/plain": [
       "{'VYVSYLTYYS': {'MHC': 'B*27:04',\n",
       "  'Rew_MHC': 0.8585689895272436,\n",
       "  'TCR_Seq': 'CASSLLPGKGDEQYF',\n",
       "  'Rew_TCR': 0.9897299362864784,\n",
       "  'Classification': 0.5265767374131936},\n",
       " 'LGYGAWRFSKQ': {'MHC': 'B*27:04',\n",
       "  'Rew_MHC': 0.9434274645888,\n",
       "  'TCR_Seq': 'CASRRDSQGGAFF',\n",
       "  'Rew_TCR': 0.8593624014381541,\n",
       "  'Classification': 0.9119617001601055},\n",
       " 'PVRQVCPR': {'MHC': 'A*32:01',\n",
       "  'Rew_MHC': 0.9352821381768497,\n",
       "  'TCR_Seq': 'CATSRERTGTGVGRAGELFF',\n",
       "  'Rew_TCR': 0.9067570253384871,\n",
       "  'Classification': 0.5374620516945761},\n",
       " 'TVWEGSGSQKFW': {'MHC': 'B*54:01',\n",
       "  'Rew_MHC': 0.8290249992193891,\n",
       "  'TCR_Seq': 'CATSRERTGTGVGRAGELFF',\n",
       "  'Rew_TCR': 0.8938711564985139,\n",
       "  'Classification': 0.6041544574785255},\n",
       " 'MRVTYFHQPD': {'MHC': 'A*02:19',\n",
       "  'Rew_MHC': 0.8796993544979826,\n",
       "  'TCR_Seq': 'CASSQVLGAVTYEQYF',\n",
       "  'Rew_TCR': 0.8630951346027276,\n",
       "  'Classification': 0.529509560126285},\n",
       " 'WQQMLYQSG': {'MHC': 'B*15:03',\n",
       "  'Rew_MHC': 0.8039257411675265,\n",
       "  'TCR_Seq': 'CASRRDSQGGAFF',\n",
       "  'Rew_TCR': 0.7398452460238553,\n",
       "  'Classification': 0.8501614404296713},\n",
       " 'SGEQYWMDAR': {'MHC': 'B*15:03',\n",
       "  'Rew_MHC': 0.9847525859910151,\n",
       "  'TCR_Seq': 'CASSSNTLGGNTIYF',\n",
       "  'Rew_TCR': 0.8773478057649,\n",
       "  'Classification': 0.8985186256186977},\n",
       " 'TFLEQIWWGQ': {'MHC': 'B*35:01',\n",
       "  'Rew_MHC': 0.9254058080991786,\n",
       "  'TCR_Seq': 'CASSSNTLGGNTIYF',\n",
       "  'Rew_TCR': 0.9926422464099873,\n",
       "  'Classification': 0.7430031056161503},\n",
       " 'ASSFIWLEHNP': {'MHC': 'A*32:07',\n",
       "  'Rew_MHC': 0.8074126384667984,\n",
       "  'TCR_Seq': 'CASSYWAAYEQYF',\n",
       "  'Rew_TCR': 0.770463052503127,\n",
       "  'Classification': 0.8312741981010998},\n",
       " 'HLHWCETFHKP': {'MHC': 'A*24:02',\n",
       "  'Rew_MHC': 0.924170728053061,\n",
       "  'TCR_Seq': 'CASSLLPGKGDEQYF',\n",
       "  'Rew_TCR': 0.8123243928990881,\n",
       "  'Classification': 0.6918579937558844},\n",
       " 'DKEEITWS': {'MHC': 'B*15:17',\n",
       "  'Rew_MHC': 0.9482019654466884,\n",
       "  'TCR_Seq': 'CASSLLPGKGDEQYF',\n",
       "  'Rew_TCR': 0.994697461549032,\n",
       "  'Classification': 0.5354181712081691},\n",
       " 'KPSFLEIF': {'MHC': 'B*44:03',\n",
       "  'Rew_MHC': 0.8589477683750473,\n",
       "  'TCR_Seq': 'CATSRERTGTGVGRAGELFF',\n",
       "  'Rew_TCR': 0.7182300151800063,\n",
       "  'Classification': 0.6435084262766199},\n",
       " 'AMRRHLSGP': {'MHC': 'B*44:02',\n",
       "  'Rew_MHC': 0.8079927349894308,\n",
       "  'TCR_Seq': 'CASSFSSYEQYF',\n",
       "  'Rew_TCR': 0.9732523239358726,\n",
       "  'Classification': 0.8981602950922734},\n",
       " 'WEACSQDFGFD': {'MHC': 'A*26:03',\n",
       "  'Rew_MHC': 0.803786938533432,\n",
       "  'TCR_Seq': 'CSAGGGQGYEQYF',\n",
       "  'Rew_TCR': 0.851220616824166,\n",
       "  'Classification': 0.9110963022185934},\n",
       " 'HFEGHFPC': {'MHC': 'B*37:01',\n",
       "  'Rew_MHC': 0.9058240396307822,\n",
       "  'TCR_Seq': 'CASSLVTRAQETQYF',\n",
       "  'Rew_TCR': 0.8418459136934273,\n",
       "  'Classification': 0.6142322591450422},\n",
       " 'PHQMFRPNQYR': {'MHC': 'A*31:01',\n",
       "  'Rew_MHC': 0.8804454913967024,\n",
       "  'TCR_Seq': 'CASSLVTRAQETQYF',\n",
       "  'Rew_TCR': 0.7875476180541089,\n",
       "  'Classification': 0.8497348264768072},\n",
       " 'CGSLIMFL': {'MHC': 'A*33:01',\n",
       "  'Rew_MHC': 0.9357571035216021,\n",
       "  'TCR_Seq': 'CASSLAGTAYEQYF',\n",
       "  'Rew_TCR': 0.9128869436625493,\n",
       "  'Classification': 0.7095514498115145},\n",
       " 'YRGCVEPA': {'MHC': 'C*04:01',\n",
       "  'Rew_MHC': 0.9291083244123183,\n",
       "  'TCR_Seq': 'CASSFSSYEQYF',\n",
       "  'Rew_TCR': 0.9766916781476104,\n",
       "  'Classification': 0.8057904184983633},\n",
       " 'AYTGMTYRNN': {'MHC': 'B*58:01',\n",
       "  'Rew_MHC': 0.8955257034527689,\n",
       "  'TCR_Seq': 'CASSQVLGAVTYEQYF',\n",
       "  'Rew_TCR': 0.9197173241598681,\n",
       "  'Classification': 0.8784225902874607},\n",
       " 'NGWYGQTELNEF': {'MHC': 'A*02:02',\n",
       "  'Rew_MHC': 0.9039141599581222,\n",
       "  'TCR_Seq': 'CASSSSGASYGYTF',\n",
       "  'Rew_TCR': 0.8361116213430085,\n",
       "  'Classification': 0.896735695046962},\n",
       " 'RKWFWCNRE': {'MHC': 'B*18:01',\n",
       "  'Rew_MHC': 0.8168810899920325,\n",
       "  'TCR_Seq': 'CASSLAGTAYEQYF',\n",
       "  'Rew_TCR': 0.9650058717899941,\n",
       "  'Classification': 0.6466415135315136},\n",
       " 'VYIAYLVYQAKN': {'MHC': 'B*51:01',\n",
       "  'Rew_MHC': 0.8632825210198047,\n",
       "  'TCR_Seq': 'CASQHGQREKLIGGDTQYF',\n",
       "  'Rew_TCR': 0.8471254826503736,\n",
       "  'Classification': 0.7374480303305161},\n",
       " 'HMLDQVLTD': {'MHC': 'B*08:02',\n",
       "  'Rew_MHC': 0.9193856038597926,\n",
       "  'TCR_Seq': 'CASSFFLLAASSTDTQYF',\n",
       "  'Rew_TCR': 0.8167390372976165,\n",
       "  'Classification': 0.7526958198999814},\n",
       " 'HQNHWPPN': {'MHC': 'A*02:03',\n",
       "  'Rew_MHC': 0.8021694253134729,\n",
       "  'TCR_Seq': 'CASSSSGASYGYTF',\n",
       "  'Rew_TCR': 0.7027759466556643,\n",
       "  'Classification': 0.6524245088084677},\n",
       " 'QIFQYFTWHSQS': {'MHC': 'A*02:12',\n",
       "  'Rew_MHC': 0.8254115001767193,\n",
       "  'TCR_Seq': 'CASSRELGAVVLREQYF',\n",
       "  'Rew_TCR': 0.8733590706252623,\n",
       "  'Classification': 0.5421093698558338},\n",
       " 'YAVMIKDKSDHL': {'MHC': 'B*39:01',\n",
       "  'Rew_MHC': 0.9870908880097847,\n",
       "  'TCR_Seq': 'CASSVTRTGGVNGYTF',\n",
       "  'Rew_TCR': 0.8291007232641763,\n",
       "  'Classification': 0.8171571248640557},\n",
       " 'EHWEHMIINN': {'MHC': 'B*58:01',\n",
       "  'Rew_MHC': 0.8338856756098197,\n",
       "  'TCR_Seq': 'CASSSSGASYGYTF',\n",
       "  'Rew_TCR': 0.7194220655573358,\n",
       "  'Classification': 0.6138568246002651},\n",
       " 'YKNVWLEQ': {'MHC': 'B*35:01',\n",
       "  'Rew_MHC': 0.8952611353601814,\n",
       "  'TCR_Seq': 'CSARERVGSQEQYF',\n",
       "  'Rew_TCR': 0.8548004750136362,\n",
       "  'Classification': 0.7336412174458062},\n",
       " 'VPVVGCCT': {'MHC': 'A*68:02',\n",
       "  'Rew_MHC': 0.8330546218131173,\n",
       "  'TCR_Seq': 'CASRRDSQGGAFF',\n",
       "  'Rew_TCR': 0.9895824559365228,\n",
       "  'Classification': 0.6034461769941997},\n",
       " 'ARLLMFPGRYMF': {'MHC': 'B*46:01',\n",
       "  'Rew_MHC': 0.8713556785848079,\n",
       "  'TCR_Seq': 'CSAGGGQGYEQYF',\n",
       "  'Rew_TCR': 0.7370882062652879,\n",
       "  'Classification': 0.6598302022387245},\n",
       " 'GGNGESTW': {'MHC': 'A*02:11',\n",
       "  'Rew_MHC': 0.8003893702803678,\n",
       "  'TCR_Seq': 'CASSSAREYEKLFF',\n",
       "  'Rew_TCR': 0.837782698431195,\n",
       "  'Classification': 0.5490952610309418},\n",
       " 'RPIVRESEYQHS': {'MHC': 'A*68:02',\n",
       "  'Rew_MHC': 0.9836306866649754,\n",
       "  'TCR_Seq': 'CASSSTRKEKLFF',\n",
       "  'Rew_TCR': 0.8965152935470617,\n",
       "  'Classification': 0.6511937787535603},\n",
       " 'STCHKMRAR': {'MHC': 'C*07:01',\n",
       "  'Rew_MHC': 0.9024427328574829,\n",
       "  'TCR_Seq': 'CASSLLPGKGDEQYF',\n",
       "  'Rew_TCR': 0.9970858432893094,\n",
       "  'Classification': 0.6944738093824577},\n",
       " 'FNHFRTQIE': {'MHC': 'A*23:01',\n",
       "  'Rew_MHC': 0.8620349122000038,\n",
       "  'TCR_Seq': 'CASSLVTRAQETQYF',\n",
       "  'Rew_TCR': 0.8526194768018434,\n",
       "  'Classification': 0.6836360122763793},\n",
       " 'AFQNMSRGAME': {'MHC': 'B*44:03',\n",
       "  'Rew_MHC': 0.9659616553515284,\n",
       "  'TCR_Seq': 'CSARERVGSQEQYF',\n",
       "  'Rew_TCR': 0.9358144417882533,\n",
       "  'Classification': 0.6901945891223789},\n",
       " 'HISCLCKD': {'MHC': 'B*27:04',\n",
       "  'Rew_MHC': 0.8368306793916439,\n",
       "  'TCR_Seq': 'CSAGGGQGYEQYF',\n",
       "  'Rew_TCR': 0.8754856923590063,\n",
       "  'Classification': 0.5927266294786202},\n",
       " 'HCKVGEAKWPC': {'MHC': 'A*02:17',\n",
       "  'Rew_MHC': 0.893143274351867,\n",
       "  'TCR_Seq': 'CASSVTRTGGVNGYTF',\n",
       "  'Rew_TCR': 0.8163430664599209,\n",
       "  'Classification': 0.6176334635060198},\n",
       " 'EHKQPFNSTAA': {'MHC': 'A*26:02',\n",
       "  'Rew_MHC': 0.8337270646607357,\n",
       "  'TCR_Seq': 'CASSSAREYEKLFF',\n",
       "  'Rew_TCR': 0.7465505168000243,\n",
       "  'Classification': 0.6881028439358441},\n",
       " 'CQEKGVHKSCH': {'MHC': 'B*58:01',\n",
       "  'Rew_MHC': 0.8857868468226335,\n",
       "  'TCR_Seq': 'CASSRELGAVVLREQYF',\n",
       "  'Rew_TCR': 0.7495428590397598,\n",
       "  'Classification': 0.8390578324250272},\n",
       " 'QSHDCESWDNG': {'MHC': 'A*02:11',\n",
       "  'Rew_MHC': 0.9124377966782288,\n",
       "  'TCR_Seq': 'CASSGTGVGYTF',\n",
       "  'Rew_TCR': 0.7045722029761734,\n",
       "  'Classification': 0.9067986284186753},\n",
       " 'IHPMNWNFGNY': {'MHC': 'B*46:01',\n",
       "  'Rew_MHC': 0.8199648026972651,\n",
       "  'TCR_Seq': 'CASSFSSYEQYF',\n",
       "  'Rew_TCR': 0.9665977072385294,\n",
       "  'Classification': 0.5822306927026804},\n",
       " 'MFMKVIIWRIKW': {'MHC': 'B*46:01',\n",
       "  'Rew_MHC': 0.8223614673661847,\n",
       "  'TCR_Seq': 'CASSQVLGAVTYEQYF',\n",
       "  'Rew_TCR': 0.9873447436283319,\n",
       "  'Classification': 0.9265061142860975},\n",
       " 'DDRPDKFVDKIE': {'MHC': 'A*02:06',\n",
       "  'Rew_MHC': 0.8118569449251293,\n",
       "  'TCR_Seq': 'CASQHGQREKLIGGDTQYF',\n",
       "  'Rew_TCR': 0.8157115216343205,\n",
       "  'Classification': 0.8513631176838097},\n",
       " 'RCLGPWAV': {'MHC': 'B*57:01',\n",
       "  'Rew_MHC': 0.8949814287520265,\n",
       "  'TCR_Seq': 'CASSSAREYEKLFF',\n",
       "  'Rew_TCR': 0.7420018754608309,\n",
       "  'Classification': 0.5226725271899062},\n",
       " 'RNLWSKHDNMQ': {'MHC': 'A*66:01',\n",
       "  'Rew_MHC': 0.8079448631879883,\n",
       "  'TCR_Seq': 'CASSLVTRAQETQYF',\n",
       "  'Rew_TCR': 0.8928655037986678,\n",
       "  'Classification': 0.9134137255453529},\n",
       " 'CQYPCSHGHKQN': {'MHC': 'A*02:11',\n",
       "  'Rew_MHC': 0.9975287281724395,\n",
       "  'TCR_Seq': 'CASSFFLLAASSTDTQYF',\n",
       "  'Rew_TCR': 0.7317556488328402,\n",
       "  'Classification': 0.8622276232672061},\n",
       " 'MYYVKRCPP': {'MHC': 'A*01:01',\n",
       "  'Rew_MHC': 0.914053561852135,\n",
       "  'TCR_Seq': 'CASSFFLLAASSTDTQYF',\n",
       "  'Rew_TCR': 0.8806364507360845,\n",
       "  'Classification': 0.7851829058712664},\n",
       " 'MNCPSFRNVSWT': {'MHC': 'C*05:01',\n",
       "  'Rew_MHC': 0.9924790317752434,\n",
       "  'TCR_Seq': 'CASSLAGTAYEQYF',\n",
       "  'Rew_TCR': 0.7000725656415763,\n",
       "  'Classification': 0.6556247110575985},\n",
       " 'FVHPYMLEFARQ': {'MHC': 'A*02:19',\n",
       "  'Rew_MHC': 0.8146487390912668,\n",
       "  'TCR_Seq': 'CASSFFLLAASSTDTQYF',\n",
       "  'Rew_TCR': 0.8195548347389235,\n",
       "  'Classification': 0.7330572351911595},\n",
       " 'LYHRQWLM': {'MHC': 'B*45:01',\n",
       "  'Rew_MHC': 0.9300190762188465,\n",
       "  'TCR_Seq': 'CASSSAREYEKLFF',\n",
       "  'Rew_TCR': 0.9674351872387265,\n",
       "  'Classification': 0.782221313694599},\n",
       " 'DDDDLLQCII': {'MHC': 'A*24:02',\n",
       "  'Rew_MHC': 0.9742795538695266,\n",
       "  'TCR_Seq': 'CASSGTGVGYTF',\n",
       "  'Rew_TCR': 0.9959589346297327,\n",
       "  'Classification': 0.6839000593986804},\n",
       " 'KESMLSAT': {'MHC': 'A*02:10',\n",
       "  'Rew_MHC': 0.8396216689282039,\n",
       "  'TCR_Seq': 'CASSSTRKEKLFF',\n",
       "  'Rew_TCR': 0.8473692342112442,\n",
       "  'Classification': 0.5192697493244787},\n",
       " 'RRQCLSPPL': {'MHC': 'A*03:01',\n",
       "  'Rew_MHC': 0.8362630447331728,\n",
       "  'TCR_Seq': 'CSARERVGSQEQYF',\n",
       "  'Rew_TCR': 0.8862915696449793,\n",
       "  'Classification': 0.9121285651602153},\n",
       " 'YWAIKCHCIL': {'MHC': 'B*27:05',\n",
       "  'Rew_MHC': 0.9210192853031465,\n",
       "  'TCR_Seq': 'CASSLSPTGSGEQFF',\n",
       "  'Rew_TCR': 0.9079390792254519,\n",
       "  'Classification': 0.9156165169834377},\n",
       " 'QRGDVPIT': {'MHC': 'B*35:01',\n",
       "  'Rew_MHC': 0.9308417508882718,\n",
       "  'TCR_Seq': 'CASSLVTRAQETQYF',\n",
       "  'Rew_TCR': 0.9602484663882014,\n",
       "  'Classification': 0.7540117118218881},\n",
       " 'VFKTWWYPN': {'MHC': 'A*01:01',\n",
       "  'Rew_MHC': 0.8662880941673881,\n",
       "  'TCR_Seq': 'CASSLSPTGSGEQFF',\n",
       "  'Rew_TCR': 0.9591871176620996,\n",
       "  'Classification': 0.7893761458174958},\n",
       " 'DEKYPCGEDHDS': {'MHC': 'A*30:01',\n",
       "  'Rew_MHC': 0.9817185067615606,\n",
       "  'TCR_Seq': 'CASSSSGASYGYTF',\n",
       "  'Rew_TCR': 0.9377098340874549,\n",
       "  'Classification': 0.7979602987065999},\n",
       " 'QVFLEGAANL': {'MHC': 'A*66:01',\n",
       "  'Rew_MHC': 0.9845858677786631,\n",
       "  'TCR_Seq': 'CASSLVTRAQETQYF',\n",
       "  'Rew_TCR': 0.859511479477203,\n",
       "  'Classification': 0.8697324745202284},\n",
       " 'CIQFIQRKEEQ': {'MHC': 'A*29:02',\n",
       "  'Rew_MHC': 0.942554146269213,\n",
       "  'TCR_Seq': 'CASSLLPGKGDEQYF',\n",
       "  'Rew_TCR': 0.8257751495569641,\n",
       "  'Classification': 0.6683557016652594},\n",
       " 'ENISNDPTPMHS': {'MHC': 'A*02:10',\n",
       "  'Rew_MHC': 0.8854790419180788,\n",
       "  'TCR_Seq': 'CASSLLPGKGDEQYF',\n",
       "  'Rew_TCR': 0.7702819816579192,\n",
       "  'Classification': 0.7401232846898391},\n",
       " 'HSEVWAWP': {'MHC': 'B*27:03',\n",
       "  'Rew_MHC': 0.8189440671028058,\n",
       "  'TCR_Seq': 'CASSLAGTAYEQYF',\n",
       "  'Rew_TCR': 0.71566934118193,\n",
       "  'Classification': 0.6861331584433827},\n",
       " 'VGLRWCVECST': {'MHC': 'B*15:17',\n",
       "  'Rew_MHC': 0.8876744620355829,\n",
       "  'TCR_Seq': 'CSARERVGSQEQYF',\n",
       "  'Rew_TCR': 0.7777044024574992,\n",
       "  'Classification': 0.8500632166254636},\n",
       " 'CRRYKEET': {'MHC': 'A*68:02',\n",
       "  'Rew_MHC': 0.8791148158186199,\n",
       "  'TCR_Seq': 'CASSLAGTAYEQYF',\n",
       "  'Rew_TCR': 0.7451112679267257,\n",
       "  'Classification': 0.5698514558720141},\n",
       " 'LLPLSSDTPH': {'MHC': 'B*40:02',\n",
       "  'Rew_MHC': 0.8117608554214099,\n",
       "  'TCR_Seq': 'CSAGGGQGYEQYF',\n",
       "  'Rew_TCR': 0.9241825231434371,\n",
       "  'Classification': 0.8328920893545328},\n",
       " 'YCEWGFRWE': {'MHC': 'A*25:01',\n",
       "  'Rew_MHC': 0.853327254746802,\n",
       "  'TCR_Seq': 'CASSSAREYEKLFF',\n",
       "  'Rew_TCR': 0.7034124773743663,\n",
       "  'Classification': 0.7137055399234984},\n",
       " 'RGVLNHPAYPM': {'MHC': 'B*15:03',\n",
       "  'Rew_MHC': 0.9269633990417486,\n",
       "  'TCR_Seq': 'CASSLVTRAQETQYF',\n",
       "  'Rew_TCR': 0.7939715920948026,\n",
       "  'Classification': 0.5156627414252124},\n",
       " 'HSVYCHTTVAS': {'MHC': 'B*40:01',\n",
       "  'Rew_MHC': 0.9056876814659925,\n",
       "  'TCR_Seq': 'CASSYWAAYEQYF',\n",
       "  'Rew_TCR': 0.7020275320747599,\n",
       "  'Classification': 0.7999883738060136},\n",
       " 'GIYNWLQMDTA': {'MHC': 'A*33:01',\n",
       "  'Rew_MHC': 0.9213749721030184,\n",
       "  'TCR_Seq': 'CSAGGGQGYEQYF',\n",
       "  'Rew_TCR': 0.8801170737604525,\n",
       "  'Classification': 0.8357435389932333},\n",
       " 'HRKAIPMWR': {'MHC': 'A*01:01',\n",
       "  'Rew_MHC': 0.9935711508426475,\n",
       "  'TCR_Seq': 'CASSLVTRAQETQYF',\n",
       "  'Rew_TCR': 0.8088428797555852,\n",
       "  'Classification': 0.5878667370851207},\n",
       " 'MRCKQYFFT': {'MHC': 'B*40:13',\n",
       "  'Rew_MHC': 0.9344928067915576,\n",
       "  'TCR_Seq': 'CASSLAGTAYEQYF',\n",
       "  'Rew_TCR': 0.7726461109160816,\n",
       "  'Classification': 0.7014292658139649},\n",
       " 'DTCRSPCK': {'MHC': 'A*26:02',\n",
       "  'Rew_MHC': 0.9216172835393989,\n",
       "  'TCR_Seq': 'CASSSNTLGGNTIYF',\n",
       "  'Rew_TCR': 0.9963449035471128,\n",
       "  'Classification': 0.5883049621880879},\n",
       " 'WLLAEDFCNQ': {'MHC': 'A*02:11',\n",
       "  'Rew_MHC': 0.9909126142397996,\n",
       "  'TCR_Seq': 'CASSQVLGAVTYEQYF',\n",
       "  'Rew_TCR': 0.7103430591467496,\n",
       "  'Classification': 0.8366147145541694},\n",
       " 'AHQLPAYTKL': {'MHC': 'A*02:19',\n",
       "  'Rew_MHC': 0.9748700181353382,\n",
       "  'TCR_Seq': 'CASSGTGVGYTF',\n",
       "  'Rew_TCR': 0.9118503454614213,\n",
       "  'Classification': 0.9261983126337014},\n",
       " 'WCVKYACNTAW': {'MHC': 'A*01:01',\n",
       "  'Rew_MHC': 0.949660079389784,\n",
       "  'TCR_Seq': 'CASSLSPTGSGEQFF',\n",
       "  'Rew_TCR': 0.8554426339925544,\n",
       "  'Classification': 0.7949316443250285},\n",
       " 'GVDISTQVYQS': {'MHC': 'A*68:01',\n",
       "  'Rew_MHC': 0.9875638980791408,\n",
       "  'TCR_Seq': 'CASSFSSYEQYFCASSQVLG',\n",
       "  'Rew_TCR': 0.7231578107982973,\n",
       "  'Classification': 0.8689144617579768},\n",
       " 'MTNNEFMETKKT': {'MHC': 'B*44:03',\n",
       "  'Rew_MHC': 0.8390210053243294,\n",
       "  'TCR_Seq': 'CASSFSSYEQYF',\n",
       "  'Rew_TCR': 0.7962946073822884,\n",
       "  'Classification': 0.7728591292627477},\n",
       " 'INPLCVYH': {'MHC': 'B*15:42',\n",
       "  'Rew_MHC': 0.8733119653540382,\n",
       "  'TCR_Seq': 'CASSSTRKEKLFF',\n",
       "  'Rew_TCR': 0.8728964733425246,\n",
       "  'Classification': 0.578055660166935},\n",
       " 'RSENAHAF': {'MHC': 'A*29:02',\n",
       "  'Rew_MHC': 0.812304149144334,\n",
       "  'TCR_Seq': 'CASSGTGVGYTF',\n",
       "  'Rew_TCR': 0.9600194869786736,\n",
       "  'Classification': 0.5473818556063295},\n",
       " 'TEDQTTTIWKSQ': {'MHC': 'B*27:05',\n",
       "  'Rew_MHC': 0.9884865003616684,\n",
       "  'TCR_Seq': 'CASSLLPGKGDEQYF',\n",
       "  'Rew_TCR': 0.8928175723137198,\n",
       "  'Classification': 0.8405556555893469},\n",
       " 'HHKEDSYL': {'MHC': 'B*58:01',\n",
       "  'Rew_MHC': 0.8796336027378537,\n",
       "  'TCR_Seq': 'CASSLLPGKGDEQYF',\n",
       "  'Rew_TCR': 0.7839557594253823,\n",
       "  'Classification': 0.8529388288665916},\n",
       " 'FASMKEACGK': {'MHC': 'A*30:01',\n",
       "  'Rew_MHC': 0.8571403930621524,\n",
       "  'TCR_Seq': 'CSAGGGQGYEQYF',\n",
       "  'Rew_TCR': 0.7185489565918749,\n",
       "  'Classification': 0.7091615910359494},\n",
       " 'VSRECPEGS': {'MHC': 'B*40:02',\n",
       "  'Rew_MHC': 0.8784132320623982,\n",
       "  'TCR_Seq': 'CASRRDSQGGAFF',\n",
       "  'Rew_TCR': 0.7067944796643648,\n",
       "  'Classification': 0.6888884424420194},\n",
       " 'VSRISLATWRAK': {'MHC': 'A*02:17',\n",
       "  'Rew_MHC': 0.9318566350178341,\n",
       "  'TCR_Seq': 'CASSSTRKEKLFF',\n",
       "  'Rew_TCR': 0.7122313663779277,\n",
       "  'Classification': 0.7911541191982363},\n",
       " 'HVFDGIPH': {'MHC': 'A*26:02',\n",
       "  'Rew_MHC': 0.9533242816046795,\n",
       "  'TCR_Seq': 'CASSFSSYEQYF',\n",
       "  'Rew_TCR': 0.8079157717356253,\n",
       "  'Classification': 0.9015331641245008},\n",
       " 'DEWSLKITYTQY': {'MHC': 'B*53:01',\n",
       "  'Rew_MHC': 0.8929638992564141,\n",
       "  'TCR_Seq': 'CASSYWAAYEQYF',\n",
       "  'Rew_TCR': 0.8160056475202966,\n",
       "  'Classification': 0.5232685946000641},\n",
       " 'ITDSIYSYYNM': {'MHC': 'A*26:02',\n",
       "  'Rew_MHC': 0.8313771144982055,\n",
       "  'TCR_Seq': 'CASSFFLLAASSTDTQYF',\n",
       "  'Rew_TCR': 0.8494309563609911,\n",
       "  'Classification': 0.6567162023037911},\n",
       " 'YPIHRSTCQ': {'MHC': 'A*23:01',\n",
       "  'Rew_MHC': 0.9628632246881488,\n",
       "  'TCR_Seq': 'CASSFSSYEQYF',\n",
       "  'Rew_TCR': 0.7120714913324978,\n",
       "  'Classification': 0.5727041186454417},\n",
       " 'SREAIFSI': {'MHC': 'A*03:01',\n",
       "  'Rew_MHC': 0.8269226094275712,\n",
       "  'TCR_Seq': 'CASSGTGVGYTF',\n",
       "  'Rew_TCR': 0.7594738179563777,\n",
       "  'Classification': 0.699154922762157},\n",
       " 'CVVFWDQSRK': {'MHC': 'A*02:17',\n",
       "  'Rew_MHC': 0.8742854239658343,\n",
       "  'TCR_Seq': 'CASSSAREYEKLFF',\n",
       "  'Rew_TCR': 0.8669830652498316,\n",
       "  'Classification': 0.7970838538700753},\n",
       " 'TPIKVLII': {'MHC': 'B*15:03',\n",
       "  'Rew_MHC': 0.8006335900064145,\n",
       "  'TCR_Seq': 'CASSLLPGKGDEQYF',\n",
       "  'Rew_TCR': 0.8658490865620583,\n",
       "  'Classification': 0.5406923843630856},\n",
       " 'CANPPPLWLCWI': {'MHC': 'B*15:17',\n",
       "  'Rew_MHC': 0.9757652141668437,\n",
       "  'TCR_Seq': 'CSAGGGQGYEQYF',\n",
       "  'Rew_TCR': 0.9320834879319555,\n",
       "  'Classification': 0.9109794855736169},\n",
       " 'LDIYMCTWL': {'MHC': 'B*35:01',\n",
       "  'Rew_MHC': 0.9869932314563756,\n",
       "  'TCR_Seq': 'CASSSSGASYGYTF',\n",
       "  'Rew_TCR': 0.7376706074767949,\n",
       "  'Classification': 0.7518959633983183},\n",
       " 'ESCISTERIIC': {'MHC': 'A*29:02',\n",
       "  'Rew_MHC': 0.9962756199795783,\n",
       "  'TCR_Seq': 'CASSSSGASYGYTF',\n",
       "  'Rew_TCR': 0.8713755149883692,\n",
       "  'Classification': 0.6412458649961412},\n",
       " 'EDWFPEHNMP': {'MHC': 'A*24:03',\n",
       "  'Rew_MHC': 0.9082427439205187,\n",
       "  'TCR_Seq': 'CASSVTRTGGVNGYTF',\n",
       "  'Rew_TCR': 0.8957585848471517,\n",
       "  'Classification': 0.8074375825634909},\n",
       " 'EICLCVKCGVQ': {'MHC': 'A*26:01',\n",
       "  'Rew_MHC': 0.951528915147191,\n",
       "  'TCR_Seq': 'CATSRERTGTGVGRAGELFF',\n",
       "  'Rew_TCR': 0.8782160642956875,\n",
       "  'Classification': 0.6153526137862202},\n",
       " 'LERWTMGNSWPS': {'MHC': 'B*15:09',\n",
       "  'Rew_MHC': 0.875026478756503,\n",
       "  'TCR_Seq': 'CASSFSSYEQYFCASSQVLG',\n",
       "  'Rew_TCR': 0.8215505760347512,\n",
       "  'Classification': 0.5819475255999769},\n",
       " 'FFQTPPRK': {'MHC': 'C*04:01',\n",
       "  'Rew_MHC': 0.8404413452596908,\n",
       "  'TCR_Seq': 'CASSRELGAVVLREQYF',\n",
       "  'Rew_TCR': 0.7198476528477039,\n",
       "  'Classification': 0.8176535095685318},\n",
       " 'NIDKRLATKLCF': {'MHC': 'A*02:19',\n",
       "  'Rew_MHC': 0.8570467688579556,\n",
       "  'TCR_Seq': 'CASRRDSQGGAFF',\n",
       "  'Rew_TCR': 0.7160725835882775,\n",
       "  'Classification': 0.6547277037050232},\n",
       " 'TDDFVLECGCM': {'MHC': 'B*27:03',\n",
       "  'Rew_MHC': 0.9608130877611272,\n",
       "  'TCR_Seq': 'CASSRELGAVVLREQYF',\n",
       "  'Rew_TCR': 0.8928619245163549,\n",
       "  'Classification': 0.5131466093720323},\n",
       " 'NIEDVCHACLSA': {'MHC': 'A*33:01',\n",
       "  'Rew_MHC': 0.8892010414627896,\n",
       "  'TCR_Seq': 'CASSFFLLAASSTDTQYF',\n",
       "  'Rew_TCR': 0.8824601360495111,\n",
       "  'Classification': 0.9184719690755456}}"
      ]
     },
     "execution_count": 131,
     "metadata": {},
     "output_type": "execute_result"
    }
   ],
   "source": [
    "selected_seq"
   ]
  },
  {
   "cell_type": "code",
   "execution_count": 129,
   "id": "dcc13cf9-4b75-489f-9880-433b60799d3a",
   "metadata": {
    "scrolled": true
   },
   "outputs": [
    {
     "data": {
      "text/plain": [
       "{'B*27:04': 3,\n",
       " 'A*32:01': 1,\n",
       " 'B*54:01': 1,\n",
       " 'A*02:19': 4,\n",
       " 'B*15:03': 4,\n",
       " 'B*35:01': 4,\n",
       " 'A*32:07': 1,\n",
       " 'A*24:02': 2,\n",
       " 'B*15:17': 3,\n",
       " 'B*44:03': 3,\n",
       " 'B*44:02': 1,\n",
       " 'A*26:03': 1,\n",
       " 'B*37:01': 1,\n",
       " 'A*31:01': 1,\n",
       " 'A*33:01': 3,\n",
       " 'C*04:01': 2,\n",
       " 'B*58:01': 4,\n",
       " 'A*02:02': 1,\n",
       " 'B*18:01': 1,\n",
       " 'B*51:01': 1,\n",
       " 'B*08:02': 1,\n",
       " 'A*02:03': 1,\n",
       " 'A*02:12': 1,\n",
       " 'B*39:01': 1,\n",
       " 'A*68:02': 3,\n",
       " 'B*46:01': 3,\n",
       " 'A*02:11': 4,\n",
       " 'C*07:01': 1,\n",
       " 'A*23:01': 2,\n",
       " 'A*02:17': 3,\n",
       " 'A*26:02': 4,\n",
       " 'A*02:06': 1,\n",
       " 'B*57:01': 1,\n",
       " 'A*66:01': 2,\n",
       " 'A*01:01': 4,\n",
       " 'C*05:01': 1,\n",
       " 'B*45:01': 1,\n",
       " 'A*02:10': 2,\n",
       " 'A*03:01': 2,\n",
       " 'B*27:05': 2,\n",
       " 'A*30:01': 2,\n",
       " 'A*29:02': 3,\n",
       " 'B*27:03': 2,\n",
       " 'B*40:02': 2,\n",
       " 'A*25:01': 1,\n",
       " 'B*40:01': 1,\n",
       " 'B*40:13': 1,\n",
       " 'A*68:01': 1,\n",
       " 'B*15:42': 1,\n",
       " 'B*53:01': 1,\n",
       " 'A*24:03': 1,\n",
       " 'A*26:01': 1,\n",
       " 'B*15:09': 1}"
      ]
     },
     "execution_count": 129,
     "metadata": {},
     "output_type": "execute_result"
    }
   ],
   "source": [
    "mhc_counts"
   ]
  },
  {
   "cell_type": "code",
   "execution_count": 128,
   "id": "c0b514c4-722c-465c-8260-f875c1fb64a4",
   "metadata": {},
   "outputs": [
    {
     "data": {
      "text/plain": [
       "{'CASSLLPGKGDEQYF': 9,\n",
       " 'CASRRDSQGGAFF': 5,\n",
       " 'CATSRERTGTGVGRAGELFF': 4,\n",
       " 'CASSQVLGAVTYEQYF': 4,\n",
       " 'CASSSNTLGGNTIYF': 3,\n",
       " 'CASSYWAAYEQYF': 3,\n",
       " 'CASSFSSYEQYF': 6,\n",
       " 'CSAGGGQGYEQYF': 7,\n",
       " 'CASSLVTRAQETQYF': 8,\n",
       " 'CASSLAGTAYEQYF': 6,\n",
       " 'CASSSSGASYGYTF': 6,\n",
       " 'CASQHGQREKLIGGDTQYF': 2,\n",
       " 'CASSFFLLAASSTDTQYF': 6,\n",
       " 'CASSRELGAVVLREQYF': 4,\n",
       " 'CASSVTRTGGVNGYTF': 3,\n",
       " 'CSARERVGSQEQYF': 4,\n",
       " 'CASSSAREYEKLFF': 6,\n",
       " 'CASSSTRKEKLFF': 4,\n",
       " 'CASSGTGVGYTF': 5,\n",
       " 'CASSLSPTGSGEQFF': 3,\n",
       " 'CASSFSSYEQYFCASSQVLG': 2}"
      ]
     },
     "execution_count": 128,
     "metadata": {},
     "output_type": "execute_result"
    }
   ],
   "source": [
    "tcr_seq_counts"
   ]
  },
  {
   "cell_type": "code",
   "execution_count": 132,
   "id": "71649117-d28f-4790-a042-ce6750054cc9",
   "metadata": {},
   "outputs": [
    {
     "name": "stdout",
     "output_type": "stream",
     "text": [
      "Peptide: CANPPPLWLCWI, MHC: B*15:17, TCR_Seq: CSAGGGQGYEQYF, Rew_MHC: 0.9757652141668437, Rew_TCR: 0.9320834879319555, Classification: 0.9109794855736169, Product: 0.8285309631265045\n",
      "Peptide: AHQLPAYTKL, MHC: A*02:19, TCR_Seq: CASSGTGVGYTF, Rew_MHC: 0.9748700181353382, Rew_TCR: 0.9118503454614213, Classification: 0.9261983126337014, Product: 0.8233306183209081\n",
      "Peptide: SGEQYWMDAR, MHC: B*15:03, TCR_Seq: CASSSNTLGGNTIYF, Rew_MHC: 0.9847525859910151, Rew_TCR: 0.8773478057649, Classification: 0.8985186256186977, Product: 0.7762936046911462\n",
      "Peptide: YWAIKCHCIL, MHC: B*27:05, TCR_Seq: CASSLSPTGSGEQFF, Rew_MHC: 0.9210192853031465, Rew_TCR: 0.9079390792254519, Classification: 0.9156165169834377, Product: 0.7656654523183144\n",
      "Peptide: MFMKVIIWRIKW, MHC: B*46:01, TCR_Seq: CASSQVLGAVTYEQYF, Rew_MHC: 0.8223614673661847, Rew_TCR: 0.9873447436283319, Classification: 0.9265061142860975, Product: 0.752280597682966\n"
     ]
    }
   ],
   "source": [
    "# Calculate the product of Rew_MHC, Rew_TCR, and Classification for each entry\n",
    "for key, value in selected_seq.items():\n",
    "    product = value['Rew_MHC'] * value['Rew_TCR'] * value['Classification']\n",
    "    selected_seq[key]['Product'] = product\n",
    "\n",
    "# Sort the entries by the product value in descending order and get the top 5\n",
    "top_5_entries = sorted(selected_seq.items(), key=lambda x: x[1]['Product'], reverse=True)[:5]\n",
    "\n",
    "# Print top 5 entries\n",
    "for key, value in top_5_entries:\n",
    "    print(f\"Peptide: {key}, MHC: {value['MHC']}, TCR_Seq: {value['TCR_Seq']}, \"\n",
    "          f\"Rew_MHC: {value['Rew_MHC']}, Rew_TCR: {value['Rew_TCR']}, \"\n",
    "          f\"Classification: {value['Classification']}, Product: {value['Product']}\")"
   ]
  },
  {
   "cell_type": "markdown",
   "id": "a08d1dff-c0ab-4593-8e91-a9f127ccad9a",
   "metadata": {},
   "source": [
    "### Patient B"
   ]
  },
  {
   "cell_type": "code",
   "execution_count": 14,
   "id": "f78ce61b-3940-47c2-aa86-2567292fb8ed",
   "metadata": {},
   "outputs": [
    {
     "data": {
      "text/html": [
       "<div>\n",
       "<style scoped>\n",
       "    .dataframe tbody tr th:only-of-type {\n",
       "        vertical-align: middle;\n",
       "    }\n",
       "\n",
       "    .dataframe tbody tr th {\n",
       "        vertical-align: top;\n",
       "    }\n",
       "\n",
       "    .dataframe thead th {\n",
       "        text-align: right;\n",
       "    }\n",
       "</style>\n",
       "<table border=\"1\" class=\"dataframe\">\n",
       "  <thead>\n",
       "    <tr style=\"text-align: right;\">\n",
       "      <th></th>\n",
       "      <th>antigen</th>\n",
       "      <th>mhc_molecule</th>\n",
       "      <th>sequence</th>\n",
       "      <th>tcr_sequence</th>\n",
       "      <th>neo_vs_anti</th>\n",
       "      <th>mhc_presentation_score</th>\n",
       "      <th>tcr_probability</th>\n",
       "    </tr>\n",
       "  </thead>\n",
       "  <tbody>\n",
       "    <tr>\n",
       "      <th>0</th>\n",
       "      <td>ERYFRIHSL</td>\n",
       "      <td>A*01:01</td>\n",
       "      <td>YFAMYQENMAHTDANTLYIIYRDYTWVARVYRGY</td>\n",
       "      <td>CSAREGGPGNTIYF</td>\n",
       "      <td>1</td>\n",
       "      <td>0.033656</td>\n",
       "      <td>0.111119</td>\n",
       "    </tr>\n",
       "    <tr>\n",
       "      <th>1</th>\n",
       "      <td>ERYFRIHSL</td>\n",
       "      <td>A*01:01</td>\n",
       "      <td>YFAMYQESAAHTDVDTLYIIYRDYTWAAQAYTWY</td>\n",
       "      <td>CASRGQGVTYNEQFF</td>\n",
       "      <td>1</td>\n",
       "      <td>0.033656</td>\n",
       "      <td>0.111119</td>\n",
       "    </tr>\n",
       "    <tr>\n",
       "      <th>2</th>\n",
       "      <td>CQFDHVNTLH</td>\n",
       "      <td>A*03:01</td>\n",
       "      <td>YFAMYQENVAQTDVDTLYIIYRDYTWAELAYTWY</td>\n",
       "      <td>CASRWDTNTEAFF</td>\n",
       "      <td>1</td>\n",
       "      <td>0.119797</td>\n",
       "      <td>0.084107</td>\n",
       "    </tr>\n",
       "    <tr>\n",
       "      <th>3</th>\n",
       "      <td>CQFDHVNTLH</td>\n",
       "      <td>A*03:01</td>\n",
       "      <td>YYAMYQENMASTDVDTLYIIYRDYTWAALAYRWY</td>\n",
       "      <td>CASSPQRDVPYEQYF</td>\n",
       "      <td>1</td>\n",
       "      <td>0.119797</td>\n",
       "      <td>0.084107</td>\n",
       "    </tr>\n",
       "    <tr>\n",
       "      <th>4</th>\n",
       "      <td>FLARKGIDT</td>\n",
       "      <td>A*02:01</td>\n",
       "      <td>YFAMYGEKVAHTHVDTLYVRYHYYTWAVLAYTWY</td>\n",
       "      <td>CASSLDGGRTYEQYF</td>\n",
       "      <td>1</td>\n",
       "      <td>0.182677</td>\n",
       "      <td>0.158581</td>\n",
       "    </tr>\n",
       "    <tr>\n",
       "      <th>...</th>\n",
       "      <td>...</td>\n",
       "      <td>...</td>\n",
       "      <td>...</td>\n",
       "      <td>...</td>\n",
       "      <td>...</td>\n",
       "      <td>...</td>\n",
       "      <td>...</td>\n",
       "    </tr>\n",
       "    <tr>\n",
       "      <th>914</th>\n",
       "      <td>ALLALTRAI</td>\n",
       "      <td>A*02:01</td>\n",
       "      <td>YFAMYEESAAHTDVDTLYIIYRDYTWAARAYTWY</td>\n",
       "      <td>CASSLQGGFAEAFF</td>\n",
       "      <td>1</td>\n",
       "      <td>0.278313</td>\n",
       "      <td>0.064211</td>\n",
       "    </tr>\n",
       "    <tr>\n",
       "      <th>915</th>\n",
       "      <td>AMMWRIAQL</td>\n",
       "      <td>B*58:01</td>\n",
       "      <td>YYATYGENMASTYENIAYIRYDSYTWAVLAYLWY</td>\n",
       "      <td>CASSLPGVDSLGQPQHF</td>\n",
       "      <td>1</td>\n",
       "      <td>0.091692</td>\n",
       "      <td>0.402610</td>\n",
       "    </tr>\n",
       "    <tr>\n",
       "      <th>916</th>\n",
       "      <td>ALRANSAVK</td>\n",
       "      <td>A*02:03</td>\n",
       "      <td>YFAMYGEKVAHTHVDTLYVRYHYYTWAEWAYTWY</td>\n",
       "      <td>CASSPGQAGLAGYTF</td>\n",
       "      <td>1</td>\n",
       "      <td>0.121182</td>\n",
       "      <td>0.097124</td>\n",
       "    </tr>\n",
       "    <tr>\n",
       "      <th>917</th>\n",
       "      <td>AQNAISTTF</td>\n",
       "      <td>A*02:01</td>\n",
       "      <td>YFAMYGEKVAHTHVDTLYVRYHYYTWAVLAYTWY</td>\n",
       "      <td>CASGDGTSGWTQYF</td>\n",
       "      <td>1</td>\n",
       "      <td>0.170682</td>\n",
       "      <td>0.389730</td>\n",
       "    </tr>\n",
       "    <tr>\n",
       "      <th>918</th>\n",
       "      <td>AQNAISTTF</td>\n",
       "      <td>A*02:01</td>\n",
       "      <td>YFAMYEESAAHTDVDTLYIIYRDYTWAARAYTWY</td>\n",
       "      <td>CASIRTGNYGYTF</td>\n",
       "      <td>1</td>\n",
       "      <td>0.170682</td>\n",
       "      <td>0.389730</td>\n",
       "    </tr>\n",
       "  </tbody>\n",
       "</table>\n",
       "<p>919 rows × 7 columns</p>\n",
       "</div>"
      ],
      "text/plain": [
       "        antigen mhc_molecule  ... mhc_presentation_score tcr_probability\n",
       "0     ERYFRIHSL      A*01:01  ...               0.033656        0.111119\n",
       "1     ERYFRIHSL      A*01:01  ...               0.033656        0.111119\n",
       "2    CQFDHVNTLH      A*03:01  ...               0.119797        0.084107\n",
       "3    CQFDHVNTLH      A*03:01  ...               0.119797        0.084107\n",
       "4     FLARKGIDT      A*02:01  ...               0.182677        0.158581\n",
       "..          ...          ...  ...                    ...             ...\n",
       "914   ALLALTRAI      A*02:01  ...               0.278313        0.064211\n",
       "915   AMMWRIAQL      B*58:01  ...               0.091692        0.402610\n",
       "916   ALRANSAVK      A*02:03  ...               0.121182        0.097124\n",
       "917   AQNAISTTF      A*02:01  ...               0.170682        0.389730\n",
       "918   AQNAISTTF      A*02:01  ...               0.170682        0.389730\n",
       "\n",
       "[919 rows x 7 columns]"
      ]
     },
     "execution_count": 14,
     "metadata": {},
     "output_type": "execute_result"
    }
   ],
   "source": [
    "patient_b = pd.read_csv('patient_b.csv')\n",
    "patient_b"
   ]
  },
  {
   "cell_type": "code",
   "execution_count": 15,
   "id": "1c731c21-8e1d-4075-8957-3901d9451364",
   "metadata": {},
   "outputs": [],
   "source": [
    "mhc_molecule_list = patient_b['mhc_molecule'].unique().tolist()\n",
    "tcr_sequence_list = patient_b['tcr_sequence'].unique().tolist()\n"
   ]
  },
  {
   "cell_type": "code",
   "execution_count": 70,
   "id": "b89375ea-7b44-4bc4-a038-19423d31e114",
   "metadata": {
    "scrolled": true
   },
   "outputs": [
    {
     "name": "stderr",
     "output_type": "stream",
     "text": [
      "\n",
      "\n",
      "Processing sequences: 7it [00:20,  2.95s/it][A\n",
      "\n",
      "\n",
      "Processing sequences: 1it [00:03,  3.81s/it]\u001b[A\u001b[A\n",
      "\n",
      "Processing sequences: 2it [00:05,  2.66s/it]\u001b[A\u001b[A"
     ]
    },
    {
     "name": "stdout",
     "output_type": "stream",
     "text": [
      " selected"
     ]
    },
    {
     "name": "stderr",
     "output_type": "stream",
     "text": [
      "\n",
      "\n",
      "Processing sequences: 3it [00:07,  2.33s/it]\u001b[A\u001b[A"
     ]
    },
    {
     "name": "stdout",
     "output_type": "stream",
     "text": [
      " selected"
     ]
    },
    {
     "name": "stderr",
     "output_type": "stream",
     "text": [
      "\n",
      "\n",
      "Processing sequences: 4it [00:09,  2.14s/it]\u001b[A\u001b[A"
     ]
    },
    {
     "name": "stdout",
     "output_type": "stream",
     "text": [
      " selected"
     ]
    },
    {
     "name": "stderr",
     "output_type": "stream",
     "text": [
      "\n",
      "\n",
      "Processing sequences: 5it [00:11,  2.03s/it]\u001b[A\u001b[A"
     ]
    },
    {
     "name": "stdout",
     "output_type": "stream",
     "text": [
      " selected"
     ]
    },
    {
     "name": "stderr",
     "output_type": "stream",
     "text": [
      "\n",
      "\n",
      "Processing sequences: 6it [00:13,  1.96s/it]\u001b[A\u001b[A"
     ]
    },
    {
     "name": "stdout",
     "output_type": "stream",
     "text": [
      " selected"
     ]
    },
    {
     "name": "stderr",
     "output_type": "stream",
     "text": [
      "\n",
      "\n",
      "Processing sequences: 7it [00:15,  1.94s/it]\u001b[A\u001b[A"
     ]
    },
    {
     "name": "stdout",
     "output_type": "stream",
     "text": [
      " selected"
     ]
    },
    {
     "name": "stderr",
     "output_type": "stream",
     "text": [
      "\n",
      "\n",
      "Processing sequences: 8it [00:16,  1.91s/it]\u001b[A\u001b[A"
     ]
    },
    {
     "name": "stdout",
     "output_type": "stream",
     "text": [
      " selected"
     ]
    },
    {
     "name": "stderr",
     "output_type": "stream",
     "text": [
      "\n",
      "\n",
      "Processing sequences: 9it [00:18,  1.89s/it]\u001b[A\u001b[A"
     ]
    },
    {
     "name": "stdout",
     "output_type": "stream",
     "text": [
      " selected"
     ]
    },
    {
     "name": "stderr",
     "output_type": "stream",
     "text": [
      "\n",
      "\n",
      "Processing sequences: 10it [00:20,  1.85s/it]\u001b[A\u001b[A"
     ]
    },
    {
     "name": "stdout",
     "output_type": "stream",
     "text": [
      " selected"
     ]
    },
    {
     "name": "stderr",
     "output_type": "stream",
     "text": [
      "\n",
      "\n",
      "Processing sequences: 11it [00:22,  1.83s/it]\u001b[A\u001b[A"
     ]
    },
    {
     "name": "stdout",
     "output_type": "stream",
     "text": [
      " selected"
     ]
    },
    {
     "name": "stderr",
     "output_type": "stream",
     "text": [
      "\n",
      "\n",
      "Processing sequences: 12it [00:24,  1.83s/it]\u001b[A\u001b[A"
     ]
    },
    {
     "name": "stdout",
     "output_type": "stream",
     "text": [
      " selected"
     ]
    },
    {
     "name": "stderr",
     "output_type": "stream",
     "text": [
      "\n",
      "\n",
      "Processing sequences: 13it [00:25,  1.83s/it]\u001b[A\u001b[A"
     ]
    },
    {
     "name": "stdout",
     "output_type": "stream",
     "text": [
      " selected"
     ]
    },
    {
     "name": "stderr",
     "output_type": "stream",
     "text": [
      "\n",
      "\n",
      "Processing sequences: 14it [00:27,  1.82s/it]\u001b[A\u001b[A"
     ]
    },
    {
     "name": "stdout",
     "output_type": "stream",
     "text": [
      " selected"
     ]
    },
    {
     "name": "stderr",
     "output_type": "stream",
     "text": [
      "\n",
      "\n",
      "Processing sequences: 15it [00:29,  1.83s/it]\u001b[A\u001b[A\n",
      "\n",
      "Processing sequences: 16it [00:31,  1.81s/it]\u001b[A\u001b[A"
     ]
    },
    {
     "name": "stdout",
     "output_type": "stream",
     "text": [
      " selected"
     ]
    },
    {
     "name": "stderr",
     "output_type": "stream",
     "text": [
      "\n",
      "\n",
      "Processing sequences: 17it [00:38,  3.41s/it]\u001b[A\u001b[A"
     ]
    },
    {
     "name": "stdout",
     "output_type": "stream",
     "text": [
      " selected"
     ]
    },
    {
     "name": "stderr",
     "output_type": "stream",
     "text": [
      "\n",
      "\n",
      "Processing sequences: 18it [00:40,  2.91s/it]\u001b[A\u001b[A\n",
      "\n",
      "Processing sequences: 19it [00:41,  2.58s/it]\u001b[A\u001b[A"
     ]
    },
    {
     "name": "stdout",
     "output_type": "stream",
     "text": [
      " selected"
     ]
    },
    {
     "name": "stderr",
     "output_type": "stream",
     "text": [
      "\n",
      "\n",
      "Processing sequences: 20it [00:43,  2.34s/it]\u001b[A\u001b[A"
     ]
    },
    {
     "name": "stdout",
     "output_type": "stream",
     "text": [
      " selected"
     ]
    },
    {
     "name": "stderr",
     "output_type": "stream",
     "text": [
      "\n",
      "\n",
      "Processing sequences: 21it [00:45,  2.19s/it]\u001b[A\u001b[A"
     ]
    },
    {
     "name": "stdout",
     "output_type": "stream",
     "text": [
      " selected"
     ]
    },
    {
     "name": "stderr",
     "output_type": "stream",
     "text": [
      "\n",
      "\n",
      "Processing sequences: 22it [00:47,  2.06s/it]\u001b[A\u001b[A\n",
      "\n",
      "Processing sequences: 23it [00:50,  2.51s/it]\u001b[A\u001b[A"
     ]
    },
    {
     "name": "stdout",
     "output_type": "stream",
     "text": [
      " selected"
     ]
    },
    {
     "name": "stderr",
     "output_type": "stream",
     "text": [
      "\n",
      "\n",
      "Processing sequences: 24it [00:54,  2.84s/it]\u001b[A\u001b[A"
     ]
    },
    {
     "name": "stdout",
     "output_type": "stream",
     "text": [
      " selected"
     ]
    },
    {
     "name": "stderr",
     "output_type": "stream",
     "text": [
      "\n",
      "\n",
      "Processing sequences: 25it [00:56,  2.55s/it]\u001b[A\u001b[A"
     ]
    },
    {
     "name": "stdout",
     "output_type": "stream",
     "text": [
      " selected"
     ]
    },
    {
     "name": "stderr",
     "output_type": "stream",
     "text": [
      "Processing sequences: 115it [17:23,  9.08s/it]\n",
      "\n",
      "\n",
      "Processing sequences: 26it [01:00,  2.98s/it]\u001b[A\u001b[A"
     ]
    },
    {
     "name": "stdout",
     "output_type": "stream",
     "text": [
      " selected"
     ]
    },
    {
     "name": "stderr",
     "output_type": "stream",
     "text": [
      "\n",
      "\n",
      "Processing sequences: 27it [01:02,  2.64s/it]\u001b[A\u001b[A"
     ]
    },
    {
     "name": "stdout",
     "output_type": "stream",
     "text": [
      " selected"
     ]
    },
    {
     "name": "stderr",
     "output_type": "stream",
     "text": [
      "\n",
      "\n",
      "Processing sequences: 28it [01:04,  2.40s/it]\u001b[A\u001b[A\n",
      "\n",
      "Processing sequences: 29it [01:14,  4.90s/it]\u001b[A\u001b[A"
     ]
    },
    {
     "name": "stdout",
     "output_type": "stream",
     "text": [
      " selected"
     ]
    },
    {
     "name": "stderr",
     "output_type": "stream",
     "text": [
      "\n",
      "\n",
      "Processing sequences: 30it [01:21,  5.57s/it]\u001b[A\u001b[A"
     ]
    },
    {
     "name": "stdout",
     "output_type": "stream",
     "text": [
      " selected"
     ]
    },
    {
     "name": "stderr",
     "output_type": "stream",
     "text": [
      "\n",
      "\n",
      "Processing sequences: 31it [01:27,  5.49s/it]\u001b[A\u001b[A"
     ]
    },
    {
     "name": "stdout",
     "output_type": "stream",
     "text": [
      " selected"
     ]
    },
    {
     "name": "stderr",
     "output_type": "stream",
     "text": [
      "\n",
      "\n",
      "Processing sequences: 32it [01:32,  5.46s/it]\u001b[A\u001b[A"
     ]
    },
    {
     "name": "stdout",
     "output_type": "stream",
     "text": [
      " selected"
     ]
    },
    {
     "name": "stderr",
     "output_type": "stream",
     "text": [
      "\n",
      "\n",
      "Processing sequences: 33it [01:34,  4.37s/it]\u001b[A\u001b[A\n",
      "\n",
      "Processing sequences: 34it [01:43,  5.72s/it]\u001b[A\u001b[A\n",
      "\n",
      "Processing sequences: 35it [01:50,  6.14s/it]\u001b[A\u001b[A"
     ]
    },
    {
     "name": "stdout",
     "output_type": "stream",
     "text": [
      " selected"
     ]
    },
    {
     "name": "stderr",
     "output_type": "stream",
     "text": [
      "\n",
      "\n",
      "Processing sequences: 36it [01:52,  4.85s/it]\u001b[A\u001b[A"
     ]
    },
    {
     "name": "stdout",
     "output_type": "stream",
     "text": [
      " selected"
     ]
    },
    {
     "name": "stderr",
     "output_type": "stream",
     "text": [
      "\n",
      "\n",
      "Processing sequences: 37it [01:57,  5.00s/it]\u001b[A\u001b[A"
     ]
    },
    {
     "name": "stdout",
     "output_type": "stream",
     "text": [
      " selected"
     ]
    },
    {
     "name": "stderr",
     "output_type": "stream",
     "text": [
      "\n",
      "\n",
      "Processing sequences: 38it [01:59,  4.05s/it]\u001b[A\u001b[A"
     ]
    },
    {
     "name": "stdout",
     "output_type": "stream",
     "text": [
      " selected"
     ]
    },
    {
     "name": "stderr",
     "output_type": "stream",
     "text": [
      "\n",
      "\n",
      "Processing sequences: 39it [02:03,  3.90s/it]\u001b[A\u001b[A\n",
      "\n",
      "Processing sequences: 40it [02:13,  5.95s/it]\u001b[A\u001b[A"
     ]
    },
    {
     "name": "stdout",
     "output_type": "stream",
     "text": [
      " selected"
     ]
    },
    {
     "name": "stderr",
     "output_type": "stream",
     "text": [
      "\n",
      "\n",
      "Processing sequences: 41it [02:15,  4.71s/it]\u001b[A\u001b[A\n",
      "\n",
      "Processing sequences: 42it [02:17,  3.84s/it]\u001b[A\u001b[A"
     ]
    },
    {
     "name": "stdout",
     "output_type": "stream",
     "text": [
      " selected"
     ]
    },
    {
     "name": "stderr",
     "output_type": "stream",
     "text": [
      "\n",
      "\n",
      "Processing sequences: 43it [02:20,  3.75s/it]\u001b[A\u001b[A"
     ]
    },
    {
     "name": "stdout",
     "output_type": "stream",
     "text": [
      " selected"
     ]
    },
    {
     "name": "stderr",
     "output_type": "stream",
     "text": [
      "\n",
      "\n",
      "Processing sequences: 44it [02:22,  3.18s/it]\u001b[A\u001b[A"
     ]
    },
    {
     "name": "stdout",
     "output_type": "stream",
     "text": [
      " selected"
     ]
    },
    {
     "name": "stderr",
     "output_type": "stream",
     "text": [
      "\n",
      "\n",
      "Processing sequences: 45it [02:24,  2.76s/it]\u001b[A\u001b[A\n",
      "\n",
      "Processing sequences: 46it [02:47,  8.92s/it]\u001b[A\u001b[A"
     ]
    },
    {
     "name": "stdout",
     "output_type": "stream",
     "text": [
      " selected"
     ]
    },
    {
     "name": "stderr",
     "output_type": "stream",
     "text": [
      "\n",
      "\n",
      "Processing sequences: 47it [02:51,  7.31s/it]\u001b[A\u001b[A"
     ]
    },
    {
     "name": "stdout",
     "output_type": "stream",
     "text": [
      " selected"
     ]
    },
    {
     "name": "stderr",
     "output_type": "stream",
     "text": [
      "\n",
      "\n",
      "Processing sequences: 48it [02:58,  7.26s/it]\u001b[A\u001b[A"
     ]
    },
    {
     "name": "stdout",
     "output_type": "stream",
     "text": [
      " selected"
     ]
    },
    {
     "name": "stderr",
     "output_type": "stream",
     "text": [
      "\n",
      "\n",
      "Processing sequences: 49it [03:07,  7.89s/it]\u001b[A\u001b[A"
     ]
    },
    {
     "name": "stdout",
     "output_type": "stream",
     "text": [
      " selected"
     ]
    },
    {
     "name": "stderr",
     "output_type": "stream",
     "text": [
      "\n",
      "\n",
      "Processing sequences: 50it [03:19,  8.88s/it]\u001b[A\u001b[A"
     ]
    },
    {
     "name": "stdout",
     "output_type": "stream",
     "text": [
      " selected"
     ]
    },
    {
     "name": "stderr",
     "output_type": "stream",
     "text": [
      "\n",
      "\n",
      "Processing sequences: 51it [03:20,  6.75s/it]\u001b[A\u001b[A"
     ]
    },
    {
     "name": "stdout",
     "output_type": "stream",
     "text": [
      " selected"
     ]
    },
    {
     "name": "stderr",
     "output_type": "stream",
     "text": [
      "\n",
      "\n",
      "Processing sequences: 52it [03:31,  7.94s/it]\u001b[A\u001b[A"
     ]
    },
    {
     "name": "stdout",
     "output_type": "stream",
     "text": [
      " selected"
     ]
    },
    {
     "name": "stderr",
     "output_type": "stream",
     "text": [
      "\n",
      "\n",
      "Processing sequences: 53it [03:56, 13.08s/it]\u001b[A\u001b[A"
     ]
    },
    {
     "name": "stdout",
     "output_type": "stream",
     "text": [
      " selected"
     ]
    },
    {
     "name": "stderr",
     "output_type": "stream",
     "text": [
      "\n",
      "\n",
      "Processing sequences: 54it [03:58,  9.70s/it]\u001b[A\u001b[A"
     ]
    },
    {
     "name": "stdout",
     "output_type": "stream",
     "text": [
      " selected"
     ]
    },
    {
     "name": "stderr",
     "output_type": "stream",
     "text": [
      "\n",
      "\n",
      "Processing sequences: 55it [04:02,  7.86s/it]\u001b[A\u001b[A"
     ]
    },
    {
     "name": "stdout",
     "output_type": "stream",
     "text": [
      " selected"
     ]
    },
    {
     "name": "stderr",
     "output_type": "stream",
     "text": [
      "\n",
      "\n",
      "Processing sequences: 56it [04:20, 10.91s/it]\u001b[A\u001b[A"
     ]
    },
    {
     "name": "stdout",
     "output_type": "stream",
     "text": [
      " selected"
     ]
    },
    {
     "name": "stderr",
     "output_type": "stream",
     "text": [
      "\n",
      "\n",
      "Processing sequences: 57it [04:21,  8.16s/it]\u001b[A\u001b[A\n",
      "\n",
      "Processing sequences: 58it [04:25,  6.80s/it]\u001b[A\u001b[A"
     ]
    },
    {
     "name": "stdout",
     "output_type": "stream",
     "text": [
      " selected"
     ]
    },
    {
     "name": "stderr",
     "output_type": "stream",
     "text": [
      "\n",
      "\n",
      "Processing sequences: 59it [04:36,  7.95s/it]\u001b[A\u001b[A"
     ]
    },
    {
     "name": "stdout",
     "output_type": "stream",
     "text": [
      " selected"
     ]
    },
    {
     "name": "stderr",
     "output_type": "stream",
     "text": [
      "\n",
      "\n",
      "Processing sequences: 60it [04:53, 10.92s/it]\u001b[A\u001b[A"
     ]
    },
    {
     "name": "stdout",
     "output_type": "stream",
     "text": [
      " selected"
     ]
    },
    {
     "name": "stderr",
     "output_type": "stream",
     "text": [
      "\n",
      "\n",
      "Processing sequences: 61it [05:29, 18.35s/it]\u001b[A\u001b[A"
     ]
    },
    {
     "name": "stdout",
     "output_type": "stream",
     "text": [
      " selected"
     ]
    },
    {
     "name": "stderr",
     "output_type": "stream",
     "text": [
      "\n",
      "\n",
      "Processing sequences: 62it [05:49, 18.68s/it]\u001b[A\u001b[A"
     ]
    },
    {
     "name": "stdout",
     "output_type": "stream",
     "text": [
      " selected"
     ]
    },
    {
     "name": "stderr",
     "output_type": "stream",
     "text": [
      "\n",
      "\n",
      "Processing sequences: 63it [06:14, 20.60s/it]\u001b[A\u001b[A\n",
      "\n",
      "Processing sequences: 64it [06:17, 15.51s/it]\u001b[A\u001b[A"
     ]
    },
    {
     "name": "stdout",
     "output_type": "stream",
     "text": [
      " selected"
     ]
    },
    {
     "name": "stderr",
     "output_type": "stream",
     "text": [
      "\n",
      "\n",
      "Processing sequences: 65it [06:21, 11.93s/it]\u001b[A\u001b[A"
     ]
    },
    {
     "name": "stdout",
     "output_type": "stream",
     "text": [
      " selected"
     ]
    },
    {
     "name": "stderr",
     "output_type": "stream",
     "text": [
      "\n",
      "\n",
      "Processing sequences: 66it [07:28, 28.59s/it]\u001b[A\u001b[A"
     ]
    },
    {
     "name": "stdout",
     "output_type": "stream",
     "text": [
      " selected"
     ]
    },
    {
     "name": "stderr",
     "output_type": "stream",
     "text": [
      "\n",
      "\n",
      "Processing sequences: 67it [07:44, 24.81s/it]\u001b[A\u001b[A"
     ]
    },
    {
     "name": "stdout",
     "output_type": "stream",
     "text": [
      " selected"
     ]
    },
    {
     "name": "stderr",
     "output_type": "stream",
     "text": [
      "\n",
      "\n",
      "Processing sequences: 68it [08:02, 22.70s/it]\u001b[A\u001b[A\n",
      "\n",
      "Processing sequences: 69it [09:40, 45.23s/it]\u001b[A\u001b[A"
     ]
    },
    {
     "name": "stdout",
     "output_type": "stream",
     "text": [
      " selected"
     ]
    },
    {
     "name": "stderr",
     "output_type": "stream",
     "text": [
      "\n",
      "\n",
      "Processing sequences: 70it [13:27, 99.74s/it]\u001b[A\u001b[A"
     ]
    },
    {
     "name": "stdout",
     "output_type": "stream",
     "text": [
      " selected"
     ]
    },
    {
     "name": "stderr",
     "output_type": "stream",
     "text": [
      "\n",
      "\n",
      "Processing sequences: 71it [16:56, 132.45s/it]\u001b[A\u001b[A"
     ]
    },
    {
     "name": "stdout",
     "output_type": "stream",
     "text": [
      " selected"
     ]
    },
    {
     "ename": "KeyboardInterrupt",
     "evalue": "",
     "output_type": "error",
     "traceback": [
      "\u001b[0;31m---------------------------------------------------------------------------\u001b[0m",
      "\u001b[0;31mLossySetitemError\u001b[0m                         Traceback (most recent call last)",
      "File \u001b[0;32m~/Documents/python/single_cell/lib/python3.8/site-packages/pandas/core/dtypes/cast.py:1692\u001b[0m, in \u001b[0;36mcan_hold_element\u001b[0;34m(arr, element)\u001b[0m\n\u001b[1;32m   1691\u001b[0m \u001b[38;5;28;01mtry\u001b[39;00m:\n\u001b[0;32m-> 1692\u001b[0m     \u001b[43mnp_can_hold_element\u001b[49m\u001b[43m(\u001b[49m\u001b[43mdtype\u001b[49m\u001b[43m,\u001b[49m\u001b[43m \u001b[49m\u001b[43melement\u001b[49m\u001b[43m)\u001b[49m\n\u001b[1;32m   1693\u001b[0m     \u001b[38;5;28;01mreturn\u001b[39;00m \u001b[38;5;28;01mTrue\u001b[39;00m\n",
      "File \u001b[0;32m~/Documents/python/single_cell/lib/python3.8/site-packages/pandas/core/dtypes/cast.py:1776\u001b[0m, in \u001b[0;36mnp_can_hold_element\u001b[0;34m(dtype, element)\u001b[0m\n\u001b[1;32m   1774\u001b[0m         \u001b[38;5;28;01mreturn\u001b[39;00m element\n\u001b[0;32m-> 1776\u001b[0m     \u001b[38;5;28;01mraise\u001b[39;00m LossySetitemError\n\u001b[1;32m   1778\u001b[0m \u001b[38;5;28;01mif\u001b[39;00m dtype\u001b[38;5;241m.\u001b[39mkind \u001b[38;5;241m==\u001b[39m \u001b[38;5;124m\"\u001b[39m\u001b[38;5;124mf\u001b[39m\u001b[38;5;124m\"\u001b[39m:\n",
      "\u001b[0;31mLossySetitemError\u001b[0m: ",
      "\nDuring handling of the above exception, another exception occurred:\n",
      "\u001b[0;31mKeyboardInterrupt\u001b[0m                         Traceback (most recent call last)",
      "Cell \u001b[0;32mIn[70], line 42\u001b[0m\n\u001b[1;32m     39\u001b[0m new_rew_class \u001b[38;5;241m=\u001b[39m classification_reward(new_seq)\n\u001b[1;32m     41\u001b[0m \u001b[38;5;28;01mif\u001b[39;00m new_rew_class \u001b[38;5;241m==\u001b[39m \u001b[38;5;241m1\u001b[39m:\n\u001b[0;32m---> 42\u001b[0m     new_rew_mhc_values \u001b[38;5;241m=\u001b[39m \u001b[43mget_binding_affinity\u001b[49m\u001b[43m(\u001b[49m\u001b[43mnew_seq\u001b[49m\u001b[43m,\u001b[49m\u001b[43m \u001b[49m\u001b[43mmhc_proteins\u001b[49m\u001b[43m)\u001b[49m\n\u001b[1;32m     43\u001b[0m     new_rew_tcr_values \u001b[38;5;241m=\u001b[39m tcr_reward(new_seq, tcr_sequences)\n\u001b[1;32m     45\u001b[0m     max_mhc_idx \u001b[38;5;241m=\u001b[39m new_rew_mhc_values\u001b[38;5;241m.\u001b[39mindex(\u001b[38;5;28mmax\u001b[39m(new_rew_mhc_values))\n",
      "Cell \u001b[0;32mIn[4], line 71\u001b[0m, in \u001b[0;36mget_binding_affinity\u001b[0;34m(peptide_sequence, mhc_proteins)\u001b[0m\n\u001b[1;32m     68\u001b[0m rewards \u001b[38;5;241m=\u001b[39m []\n\u001b[1;32m     69\u001b[0m \u001b[38;5;28;01mfor\u001b[39;00m mhc_protein \u001b[38;5;129;01min\u001b[39;00m mhc_proteins:\n\u001b[1;32m     70\u001b[0m     \u001b[38;5;66;03m# Predict binding affinity using MHCflurry 2.0 model\u001b[39;00m\n\u001b[0;32m---> 71\u001b[0m     predicted_ic50s \u001b[38;5;241m=\u001b[39m \u001b[43mpredictor\u001b[49m\u001b[38;5;241;43m.\u001b[39;49m\u001b[43mpredict\u001b[49m\u001b[43m(\u001b[49m\u001b[43m[\u001b[49m\u001b[43mpeptide_sequence\u001b[49m\u001b[43m]\u001b[49m\u001b[43m,\u001b[49m\u001b[43m \u001b[49m\u001b[43m[\u001b[49m\u001b[43mmhc_protein\u001b[49m\u001b[43m]\u001b[49m\u001b[43m)\u001b[49m\n\u001b[1;32m     72\u001b[0m     predicted_ic50 \u001b[38;5;241m=\u001b[39m predicted_ic50s[\u001b[38;5;241m0\u001b[39m]\n\u001b[1;32m     74\u001b[0m     \u001b[38;5;66;03m# Normalize the predicted IC50 to a reward value between 0 and 1\u001b[39;00m\n",
      "File \u001b[0;32m~/Documents/python/single_cell/lib/python3.8/site-packages/mhcflurry/class1_affinity_predictor.py:1085\u001b[0m, in \u001b[0;36mClass1AffinityPredictor.predict\u001b[0;34m(self, peptides, alleles, allele, throw, centrality_measure, model_kwargs)\u001b[0m\n\u001b[1;32m   1047\u001b[0m \u001b[38;5;28;01mdef\u001b[39;00m \u001b[38;5;21mpredict\u001b[39m(\n\u001b[1;32m   1048\u001b[0m         \u001b[38;5;28mself\u001b[39m,\n\u001b[1;32m   1049\u001b[0m         peptides,\n\u001b[0;32m   (...)\u001b[0m\n\u001b[1;32m   1053\u001b[0m         centrality_measure\u001b[38;5;241m=\u001b[39mDEFAULT_CENTRALITY_MEASURE,\n\u001b[1;32m   1054\u001b[0m         model_kwargs\u001b[38;5;241m=\u001b[39m{}):\n\u001b[1;32m   1055\u001b[0m \u001b[38;5;250m    \u001b[39m\u001b[38;5;124;03m\"\"\"\u001b[39;00m\n\u001b[1;32m   1056\u001b[0m \u001b[38;5;124;03m    Predict nM binding affinities.\u001b[39;00m\n\u001b[1;32m   1057\u001b[0m \u001b[38;5;124;03m    \u001b[39;00m\n\u001b[0;32m   (...)\u001b[0m\n\u001b[1;32m   1083\u001b[0m \u001b[38;5;124;03m    numpy.array of predictions\u001b[39;00m\n\u001b[1;32m   1084\u001b[0m \u001b[38;5;124;03m    \"\"\"\u001b[39;00m\n\u001b[0;32m-> 1085\u001b[0m     df \u001b[38;5;241m=\u001b[39m \u001b[38;5;28;43mself\u001b[39;49m\u001b[38;5;241;43m.\u001b[39;49m\u001b[43mpredict_to_dataframe\u001b[49m\u001b[43m(\u001b[49m\n\u001b[1;32m   1086\u001b[0m \u001b[43m        \u001b[49m\u001b[43mpeptides\u001b[49m\u001b[38;5;241;43m=\u001b[39;49m\u001b[43mpeptides\u001b[49m\u001b[43m,\u001b[49m\n\u001b[1;32m   1087\u001b[0m \u001b[43m        \u001b[49m\u001b[43malleles\u001b[49m\u001b[38;5;241;43m=\u001b[39;49m\u001b[43malleles\u001b[49m\u001b[43m,\u001b[49m\n\u001b[1;32m   1088\u001b[0m \u001b[43m        \u001b[49m\u001b[43mallele\u001b[49m\u001b[38;5;241;43m=\u001b[39;49m\u001b[43mallele\u001b[49m\u001b[43m,\u001b[49m\n\u001b[1;32m   1089\u001b[0m \u001b[43m        \u001b[49m\u001b[43mthrow\u001b[49m\u001b[38;5;241;43m=\u001b[39;49m\u001b[43mthrow\u001b[49m\u001b[43m,\u001b[49m\n\u001b[1;32m   1090\u001b[0m \u001b[43m        \u001b[49m\u001b[43minclude_percentile_ranks\u001b[49m\u001b[38;5;241;43m=\u001b[39;49m\u001b[38;5;28;43;01mFalse\u001b[39;49;00m\u001b[43m,\u001b[49m\n\u001b[1;32m   1091\u001b[0m \u001b[43m        \u001b[49m\u001b[43minclude_confidence_intervals\u001b[49m\u001b[38;5;241;43m=\u001b[39;49m\u001b[38;5;28;43;01mFalse\u001b[39;49;00m\u001b[43m,\u001b[49m\n\u001b[1;32m   1092\u001b[0m \u001b[43m        \u001b[49m\u001b[43mcentrality_measure\u001b[49m\u001b[38;5;241;43m=\u001b[39;49m\u001b[43mcentrality_measure\u001b[49m\u001b[43m,\u001b[49m\n\u001b[1;32m   1093\u001b[0m \u001b[43m        \u001b[49m\u001b[43mmodel_kwargs\u001b[49m\u001b[38;5;241;43m=\u001b[39;49m\u001b[43mmodel_kwargs\u001b[49m\n\u001b[1;32m   1094\u001b[0m \u001b[43m    \u001b[49m\u001b[43m)\u001b[49m\n\u001b[1;32m   1095\u001b[0m     \u001b[38;5;28;01mreturn\u001b[39;00m df\u001b[38;5;241m.\u001b[39mprediction\u001b[38;5;241m.\u001b[39mvalues\n",
      "File \u001b[0;32m~/Documents/python/single_cell/lib/python3.8/site-packages/mhcflurry/class1_affinity_predictor.py:1292\u001b[0m, in \u001b[0;36mClass1AffinityPredictor.predict_to_dataframe\u001b[0;34m(self, peptides, alleles, allele, throw, include_individual_model_predictions, include_percentile_ranks, include_confidence_intervals, centrality_measure, model_kwargs)\u001b[0m\n\u001b[1;32m   1288\u001b[0m \u001b[38;5;28;01mif\u001b[39;00m \u001b[38;5;28mself\u001b[39m\u001b[38;5;241m.\u001b[39moptimization_info\u001b[38;5;241m.\u001b[39mget(\u001b[38;5;124m\"\u001b[39m\u001b[38;5;124mpan_models_merged\u001b[39m\u001b[38;5;124m\"\u001b[39m):\n\u001b[1;32m   1289\u001b[0m     \u001b[38;5;66;03m# Multiple pan-allele models have been merged into one\u001b[39;00m\n\u001b[1;32m   1290\u001b[0m     \u001b[38;5;66;03m# at the tensorflow level.\u001b[39;00m\n\u001b[1;32m   1291\u001b[0m     \u001b[38;5;28;01massert\u001b[39;00m \u001b[38;5;28mlen\u001b[39m(\u001b[38;5;28mself\u001b[39m\u001b[38;5;241m.\u001b[39mclass1_pan_allele_models) \u001b[38;5;241m==\u001b[39m \u001b[38;5;241m1\u001b[39m\n\u001b[0;32m-> 1292\u001b[0m     predictions \u001b[38;5;241m=\u001b[39m \u001b[38;5;28;43mself\u001b[39;49m\u001b[38;5;241;43m.\u001b[39;49m\u001b[43mclass1_pan_allele_models\u001b[49m\u001b[43m[\u001b[49m\u001b[38;5;241;43m0\u001b[39;49m\u001b[43m]\u001b[49m\u001b[38;5;241;43m.\u001b[39;49m\u001b[43mpredict\u001b[49m\u001b[43m(\u001b[49m\n\u001b[1;32m   1293\u001b[0m \u001b[43m        \u001b[49m\u001b[43mmasked_peptides\u001b[49m\u001b[43m,\u001b[49m\n\u001b[1;32m   1294\u001b[0m \u001b[43m        \u001b[49m\u001b[43mallele_encoding\u001b[49m\u001b[38;5;241;43m=\u001b[39;49m\u001b[43mmasked_allele_encoding\u001b[49m\u001b[43m,\u001b[49m\n\u001b[1;32m   1295\u001b[0m \u001b[43m        \u001b[49m\u001b[43moutput_index\u001b[49m\u001b[38;5;241;43m=\u001b[39;49m\u001b[38;5;28;43;01mNone\u001b[39;49;00m\u001b[43m,\u001b[49m\n\u001b[1;32m   1296\u001b[0m \u001b[43m        \u001b[49m\u001b[38;5;241;43m*\u001b[39;49m\u001b[38;5;241;43m*\u001b[39;49m\u001b[43mmodel_kwargs\u001b[49m\u001b[43m)\u001b[49m\n\u001b[1;32m   1297\u001b[0m     predictions_array[row_slice, :num_pan_models] \u001b[38;5;241m=\u001b[39m predictions\n\u001b[1;32m   1298\u001b[0m \u001b[38;5;28;01melse\u001b[39;00m:\n",
      "File \u001b[0;32m~/Documents/python/single_cell/lib/python3.8/site-packages/mhcflurry/class1_neural_network.py:1112\u001b[0m, in \u001b[0;36mClass1NeuralNetwork.predict\u001b[0;34m(self, peptides, allele_encoding, batch_size, output_index)\u001b[0m\n\u001b[1;32m   1106\u001b[0m x_dict \u001b[38;5;241m=\u001b[39m {\n\u001b[1;32m   1107\u001b[0m     \u001b[38;5;124m'\u001b[39m\u001b[38;5;124mpeptide\u001b[39m\u001b[38;5;124m'\u001b[39m: \u001b[38;5;28mself\u001b[39m\u001b[38;5;241m.\u001b[39mpeptides_to_network_input(peptides)\n\u001b[1;32m   1108\u001b[0m }\n\u001b[1;32m   1110\u001b[0m \u001b[38;5;28;01mif\u001b[39;00m allele_encoding \u001b[38;5;129;01mis\u001b[39;00m \u001b[38;5;129;01mnot\u001b[39;00m \u001b[38;5;28;01mNone\u001b[39;00m:\n\u001b[1;32m   1111\u001b[0m     (allele_encoding_input, allele_representations) \u001b[38;5;241m=\u001b[39m (\n\u001b[0;32m-> 1112\u001b[0m         \u001b[38;5;28;43mself\u001b[39;49m\u001b[38;5;241;43m.\u001b[39;49m\u001b[43mallele_encoding_to_network_input\u001b[49m\u001b[43m(\u001b[49m\u001b[43mallele_encoding\u001b[49m\u001b[43m)\u001b[49m)\n\u001b[1;32m   1113\u001b[0m     x_dict[\u001b[38;5;124m'\u001b[39m\u001b[38;5;124mallele\u001b[39m\u001b[38;5;124m'\u001b[39m] \u001b[38;5;241m=\u001b[39m allele_encoding_input\n\u001b[1;32m   1114\u001b[0m     \u001b[38;5;28mself\u001b[39m\u001b[38;5;241m.\u001b[39mset_allele_representations(allele_representations)\n",
      "File \u001b[0;32m~/Documents/python/single_cell/lib/python3.8/site-packages/mhcflurry/class1_neural_network.py:495\u001b[0m, in \u001b[0;36mClass1NeuralNetwork.allele_encoding_to_network_input\u001b[0;34m(self, allele_encoding)\u001b[0m\n\u001b[1;32m    477\u001b[0m \u001b[38;5;28;01mdef\u001b[39;00m \u001b[38;5;21mallele_encoding_to_network_input\u001b[39m(\u001b[38;5;28mself\u001b[39m, allele_encoding):\n\u001b[1;32m    478\u001b[0m \u001b[38;5;250m    \u001b[39m\u001b[38;5;124;03m\"\"\"\u001b[39;00m\n\u001b[1;32m    479\u001b[0m \u001b[38;5;124;03m    Encode alleles to the fixed-length encoding expected by the neural\u001b[39;00m\n\u001b[1;32m    480\u001b[0m \u001b[38;5;124;03m    network (which depends on the architecture).\u001b[39;00m\n\u001b[0;32m   (...)\u001b[0m\n\u001b[1;32m    491\u001b[0m \n\u001b[1;32m    492\u001b[0m \u001b[38;5;124;03m    \"\"\"\u001b[39;00m\n\u001b[1;32m    493\u001b[0m     \u001b[38;5;28;01mreturn\u001b[39;00m (\n\u001b[1;32m    494\u001b[0m         allele_encoding\u001b[38;5;241m.\u001b[39mindices,\n\u001b[0;32m--> 495\u001b[0m         \u001b[43mallele_encoding\u001b[49m\u001b[38;5;241;43m.\u001b[39;49m\u001b[43mallele_representations\u001b[49m\u001b[43m(\u001b[49m\n\u001b[1;32m    496\u001b[0m \u001b[43m            \u001b[49m\u001b[38;5;28;43mself\u001b[39;49m\u001b[38;5;241;43m.\u001b[39;49m\u001b[43mhyperparameters\u001b[49m\u001b[43m[\u001b[49m\u001b[38;5;124;43m'\u001b[39;49m\u001b[38;5;124;43mallele_amino_acid_encoding\u001b[39;49m\u001b[38;5;124;43m'\u001b[39;49m\u001b[43m]\u001b[49m\u001b[43m)\u001b[49m)\n",
      "File \u001b[0;32m~/Documents/python/single_cell/lib/python3.8/site-packages/mhcflurry/allele_encoding.py:112\u001b[0m, in \u001b[0;36mAlleleEncoding.allele_representations\u001b[0;34m(self, encoding_name)\u001b[0m\n\u001b[1;32m    108\u001b[0m cache_key \u001b[38;5;241m=\u001b[39m (\n\u001b[1;32m    109\u001b[0m     \u001b[38;5;124m\"\u001b[39m\u001b[38;5;124mallele_representations\u001b[39m\u001b[38;5;124m\"\u001b[39m,\n\u001b[1;32m    110\u001b[0m     encoding_name)\n\u001b[1;32m    111\u001b[0m \u001b[38;5;28;01mif\u001b[39;00m cache_key \u001b[38;5;129;01mnot\u001b[39;00m \u001b[38;5;129;01min\u001b[39;00m \u001b[38;5;28mself\u001b[39m\u001b[38;5;241m.\u001b[39mencoding_cache:\n\u001b[0;32m--> 112\u001b[0m     index_encoded_matrix \u001b[38;5;241m=\u001b[39m \u001b[43mamino_acid\u001b[49m\u001b[38;5;241;43m.\u001b[39;49m\u001b[43mindex_encoding\u001b[49m\u001b[43m(\u001b[49m\n\u001b[1;32m    113\u001b[0m \u001b[43m        \u001b[49m\u001b[38;5;28;43mself\u001b[39;49m\u001b[38;5;241;43m.\u001b[39;49m\u001b[43msequences\u001b[49m\u001b[38;5;241;43m.\u001b[39;49m\u001b[43mvalues\u001b[49m\u001b[43m,\u001b[49m\n\u001b[1;32m    114\u001b[0m \u001b[43m        \u001b[49m\u001b[43mamino_acid\u001b[49m\u001b[38;5;241;43m.\u001b[39;49m\u001b[43mAMINO_ACID_INDEX\u001b[49m\u001b[43m)\u001b[49m\n\u001b[1;32m    115\u001b[0m     vector_encoded \u001b[38;5;241m=\u001b[39m amino_acid\u001b[38;5;241m.\u001b[39mfixed_vectors_encoding(\n\u001b[1;32m    116\u001b[0m         index_encoded_matrix,\n\u001b[1;32m    117\u001b[0m         amino_acid\u001b[38;5;241m.\u001b[39mENCODING_DATA_FRAMES[encoding_name])\n\u001b[1;32m    118\u001b[0m     \u001b[38;5;28mself\u001b[39m\u001b[38;5;241m.\u001b[39mencoding_cache[cache_key] \u001b[38;5;241m=\u001b[39m vector_encoded\n",
      "File \u001b[0;32m~/Documents/python/single_cell/lib/python3.8/site-packages/mhcflurry/amino_acid.py:132\u001b[0m, in \u001b[0;36mindex_encoding\u001b[0;34m(sequences, letter_to_index_dict)\u001b[0m\n\u001b[1;32m    114\u001b[0m \u001b[38;5;250m\u001b[39m\u001b[38;5;124;03m\"\"\"\u001b[39;00m\n\u001b[1;32m    115\u001b[0m \u001b[38;5;124;03mEncode a sequence of same-length strings to a matrix of integers of the\u001b[39;00m\n\u001b[1;32m    116\u001b[0m \u001b[38;5;124;03msame shape. The map from characters to integers is given by\u001b[39;00m\n\u001b[0;32m   (...)\u001b[0m\n\u001b[1;32m    129\u001b[0m \u001b[38;5;124;03mnumpy.array of integers with shape (`k`, `n`)\u001b[39;00m\n\u001b[1;32m    130\u001b[0m \u001b[38;5;124;03m\"\"\"\u001b[39;00m\n\u001b[1;32m    131\u001b[0m df \u001b[38;5;241m=\u001b[39m pandas\u001b[38;5;241m.\u001b[39mDataFrame(\u001b[38;5;28miter\u001b[39m(s) \u001b[38;5;28;01mfor\u001b[39;00m s \u001b[38;5;129;01min\u001b[39;00m sequences)\n\u001b[0;32m--> 132\u001b[0m result \u001b[38;5;241m=\u001b[39m \u001b[43mdf\u001b[49m\u001b[38;5;241;43m.\u001b[39;49m\u001b[43mreplace\u001b[49m\u001b[43m(\u001b[49m\u001b[43mletter_to_index_dict\u001b[49m\u001b[43m)\u001b[49m\n\u001b[1;32m    133\u001b[0m \u001b[38;5;28;01mreturn\u001b[39;00m result\u001b[38;5;241m.\u001b[39mvalues\n",
      "File \u001b[0;32m~/Documents/python/single_cell/lib/python3.8/site-packages/pandas/core/frame.py:5592\u001b[0m, in \u001b[0;36mDataFrame.replace\u001b[0;34m(self, to_replace, value, inplace, limit, regex, method)\u001b[0m\n\u001b[1;32m   5581\u001b[0m \u001b[38;5;129m@doc\u001b[39m(NDFrame\u001b[38;5;241m.\u001b[39mreplace, \u001b[38;5;241m*\u001b[39m\u001b[38;5;241m*\u001b[39m_shared_doc_kwargs)\n\u001b[1;32m   5582\u001b[0m \u001b[38;5;28;01mdef\u001b[39;00m \u001b[38;5;21mreplace\u001b[39m(\n\u001b[1;32m   5583\u001b[0m     \u001b[38;5;28mself\u001b[39m,\n\u001b[0;32m   (...)\u001b[0m\n\u001b[1;32m   5590\u001b[0m     method: Literal[\u001b[38;5;124m\"\u001b[39m\u001b[38;5;124mpad\u001b[39m\u001b[38;5;124m\"\u001b[39m, \u001b[38;5;124m\"\u001b[39m\u001b[38;5;124mffill\u001b[39m\u001b[38;5;124m\"\u001b[39m, \u001b[38;5;124m\"\u001b[39m\u001b[38;5;124mbfill\u001b[39m\u001b[38;5;124m\"\u001b[39m] \u001b[38;5;241m|\u001b[39m lib\u001b[38;5;241m.\u001b[39mNoDefault \u001b[38;5;241m=\u001b[39m lib\u001b[38;5;241m.\u001b[39mno_default,\n\u001b[1;32m   5591\u001b[0m ) \u001b[38;5;241m-\u001b[39m\u001b[38;5;241m>\u001b[39m DataFrame \u001b[38;5;241m|\u001b[39m \u001b[38;5;28;01mNone\u001b[39;00m:\n\u001b[0;32m-> 5592\u001b[0m     \u001b[38;5;28;01mreturn\u001b[39;00m \u001b[38;5;28;43msuper\u001b[39;49m\u001b[43m(\u001b[49m\u001b[43m)\u001b[49m\u001b[38;5;241;43m.\u001b[39;49m\u001b[43mreplace\u001b[49m\u001b[43m(\u001b[49m\n\u001b[1;32m   5593\u001b[0m \u001b[43m        \u001b[49m\u001b[43mto_replace\u001b[49m\u001b[38;5;241;43m=\u001b[39;49m\u001b[43mto_replace\u001b[49m\u001b[43m,\u001b[49m\n\u001b[1;32m   5594\u001b[0m \u001b[43m        \u001b[49m\u001b[43mvalue\u001b[49m\u001b[38;5;241;43m=\u001b[39;49m\u001b[43mvalue\u001b[49m\u001b[43m,\u001b[49m\n\u001b[1;32m   5595\u001b[0m \u001b[43m        \u001b[49m\u001b[43minplace\u001b[49m\u001b[38;5;241;43m=\u001b[39;49m\u001b[43minplace\u001b[49m\u001b[43m,\u001b[49m\n\u001b[1;32m   5596\u001b[0m \u001b[43m        \u001b[49m\u001b[43mlimit\u001b[49m\u001b[38;5;241;43m=\u001b[39;49m\u001b[43mlimit\u001b[49m\u001b[43m,\u001b[49m\n\u001b[1;32m   5597\u001b[0m \u001b[43m        \u001b[49m\u001b[43mregex\u001b[49m\u001b[38;5;241;43m=\u001b[39;49m\u001b[43mregex\u001b[49m\u001b[43m,\u001b[49m\n\u001b[1;32m   5598\u001b[0m \u001b[43m        \u001b[49m\u001b[43mmethod\u001b[49m\u001b[38;5;241;43m=\u001b[39;49m\u001b[43mmethod\u001b[49m\u001b[43m,\u001b[49m\n\u001b[1;32m   5599\u001b[0m \u001b[43m    \u001b[49m\u001b[43m)\u001b[49m\n",
      "File \u001b[0;32m~/Documents/python/single_cell/lib/python3.8/site-packages/pandas/core/generic.py:7299\u001b[0m, in \u001b[0;36mNDFrame.replace\u001b[0;34m(self, to_replace, value, inplace, limit, regex, method)\u001b[0m\n\u001b[1;32m   7296\u001b[0m     \u001b[38;5;28;01melse\u001b[39;00m:\n\u001b[1;32m   7297\u001b[0m         to_replace, value \u001b[38;5;241m=\u001b[39m keys, values\n\u001b[0;32m-> 7299\u001b[0m     \u001b[38;5;28;01mreturn\u001b[39;00m \u001b[38;5;28;43mself\u001b[39;49m\u001b[38;5;241;43m.\u001b[39;49m\u001b[43mreplace\u001b[49m\u001b[43m(\u001b[49m\n\u001b[1;32m   7300\u001b[0m \u001b[43m        \u001b[49m\u001b[43mto_replace\u001b[49m\u001b[43m,\u001b[49m\u001b[43m \u001b[49m\u001b[43mvalue\u001b[49m\u001b[43m,\u001b[49m\u001b[43m \u001b[49m\u001b[43minplace\u001b[49m\u001b[38;5;241;43m=\u001b[39;49m\u001b[43minplace\u001b[49m\u001b[43m,\u001b[49m\u001b[43m \u001b[49m\u001b[43mlimit\u001b[49m\u001b[38;5;241;43m=\u001b[39;49m\u001b[43mlimit\u001b[49m\u001b[43m,\u001b[49m\u001b[43m \u001b[49m\u001b[43mregex\u001b[49m\u001b[38;5;241;43m=\u001b[39;49m\u001b[43mregex\u001b[49m\n\u001b[1;32m   7301\u001b[0m \u001b[43m    \u001b[49m\u001b[43m)\u001b[49m\n\u001b[1;32m   7302\u001b[0m \u001b[38;5;28;01melse\u001b[39;00m:\n\u001b[1;32m   7303\u001b[0m     \u001b[38;5;66;03m# need a non-zero len on all axes\u001b[39;00m\n\u001b[1;32m   7304\u001b[0m     \u001b[38;5;28;01mif\u001b[39;00m \u001b[38;5;129;01mnot\u001b[39;00m \u001b[38;5;28mself\u001b[39m\u001b[38;5;241m.\u001b[39msize:\n",
      "File \u001b[0;32m~/Documents/python/single_cell/lib/python3.8/site-packages/pandas/core/frame.py:5592\u001b[0m, in \u001b[0;36mDataFrame.replace\u001b[0;34m(self, to_replace, value, inplace, limit, regex, method)\u001b[0m\n\u001b[1;32m   5581\u001b[0m \u001b[38;5;129m@doc\u001b[39m(NDFrame\u001b[38;5;241m.\u001b[39mreplace, \u001b[38;5;241m*\u001b[39m\u001b[38;5;241m*\u001b[39m_shared_doc_kwargs)\n\u001b[1;32m   5582\u001b[0m \u001b[38;5;28;01mdef\u001b[39;00m \u001b[38;5;21mreplace\u001b[39m(\n\u001b[1;32m   5583\u001b[0m     \u001b[38;5;28mself\u001b[39m,\n\u001b[0;32m   (...)\u001b[0m\n\u001b[1;32m   5590\u001b[0m     method: Literal[\u001b[38;5;124m\"\u001b[39m\u001b[38;5;124mpad\u001b[39m\u001b[38;5;124m\"\u001b[39m, \u001b[38;5;124m\"\u001b[39m\u001b[38;5;124mffill\u001b[39m\u001b[38;5;124m\"\u001b[39m, \u001b[38;5;124m\"\u001b[39m\u001b[38;5;124mbfill\u001b[39m\u001b[38;5;124m\"\u001b[39m] \u001b[38;5;241m|\u001b[39m lib\u001b[38;5;241m.\u001b[39mNoDefault \u001b[38;5;241m=\u001b[39m lib\u001b[38;5;241m.\u001b[39mno_default,\n\u001b[1;32m   5591\u001b[0m ) \u001b[38;5;241m-\u001b[39m\u001b[38;5;241m>\u001b[39m DataFrame \u001b[38;5;241m|\u001b[39m \u001b[38;5;28;01mNone\u001b[39;00m:\n\u001b[0;32m-> 5592\u001b[0m     \u001b[38;5;28;01mreturn\u001b[39;00m \u001b[38;5;28;43msuper\u001b[39;49m\u001b[43m(\u001b[49m\u001b[43m)\u001b[49m\u001b[38;5;241;43m.\u001b[39;49m\u001b[43mreplace\u001b[49m\u001b[43m(\u001b[49m\n\u001b[1;32m   5593\u001b[0m \u001b[43m        \u001b[49m\u001b[43mto_replace\u001b[49m\u001b[38;5;241;43m=\u001b[39;49m\u001b[43mto_replace\u001b[49m\u001b[43m,\u001b[49m\n\u001b[1;32m   5594\u001b[0m \u001b[43m        \u001b[49m\u001b[43mvalue\u001b[49m\u001b[38;5;241;43m=\u001b[39;49m\u001b[43mvalue\u001b[49m\u001b[43m,\u001b[49m\n\u001b[1;32m   5595\u001b[0m \u001b[43m        \u001b[49m\u001b[43minplace\u001b[49m\u001b[38;5;241;43m=\u001b[39;49m\u001b[43minplace\u001b[49m\u001b[43m,\u001b[49m\n\u001b[1;32m   5596\u001b[0m \u001b[43m        \u001b[49m\u001b[43mlimit\u001b[49m\u001b[38;5;241;43m=\u001b[39;49m\u001b[43mlimit\u001b[49m\u001b[43m,\u001b[49m\n\u001b[1;32m   5597\u001b[0m \u001b[43m        \u001b[49m\u001b[43mregex\u001b[49m\u001b[38;5;241;43m=\u001b[39;49m\u001b[43mregex\u001b[49m\u001b[43m,\u001b[49m\n\u001b[1;32m   5598\u001b[0m \u001b[43m        \u001b[49m\u001b[43mmethod\u001b[49m\u001b[38;5;241;43m=\u001b[39;49m\u001b[43mmethod\u001b[49m\u001b[43m,\u001b[49m\n\u001b[1;32m   5599\u001b[0m \u001b[43m    \u001b[49m\u001b[43m)\u001b[49m\n",
      "File \u001b[0;32m~/Documents/python/single_cell/lib/python3.8/site-packages/pandas/core/generic.py:7347\u001b[0m, in \u001b[0;36mNDFrame.replace\u001b[0;34m(self, to_replace, value, inplace, limit, regex, method)\u001b[0m\n\u001b[1;32m   7342\u001b[0m     \u001b[38;5;28;01mif\u001b[39;00m \u001b[38;5;28mlen\u001b[39m(to_replace) \u001b[38;5;241m!=\u001b[39m \u001b[38;5;28mlen\u001b[39m(value):\n\u001b[1;32m   7343\u001b[0m         \u001b[38;5;28;01mraise\u001b[39;00m \u001b[38;5;167;01mValueError\u001b[39;00m(\n\u001b[1;32m   7344\u001b[0m             \u001b[38;5;124mf\u001b[39m\u001b[38;5;124m\"\u001b[39m\u001b[38;5;124mReplacement lists must match in length. \u001b[39m\u001b[38;5;124m\"\u001b[39m\n\u001b[1;32m   7345\u001b[0m             \u001b[38;5;124mf\u001b[39m\u001b[38;5;124m\"\u001b[39m\u001b[38;5;124mExpecting \u001b[39m\u001b[38;5;132;01m{\u001b[39;00m\u001b[38;5;28mlen\u001b[39m(to_replace)\u001b[38;5;132;01m}\u001b[39;00m\u001b[38;5;124m got \u001b[39m\u001b[38;5;132;01m{\u001b[39;00m\u001b[38;5;28mlen\u001b[39m(value)\u001b[38;5;132;01m}\u001b[39;00m\u001b[38;5;124m \u001b[39m\u001b[38;5;124m\"\u001b[39m\n\u001b[1;32m   7346\u001b[0m         )\n\u001b[0;32m-> 7347\u001b[0m     new_data \u001b[38;5;241m=\u001b[39m \u001b[38;5;28;43mself\u001b[39;49m\u001b[38;5;241;43m.\u001b[39;49m\u001b[43m_mgr\u001b[49m\u001b[38;5;241;43m.\u001b[39;49m\u001b[43mreplace_list\u001b[49m\u001b[43m(\u001b[49m\n\u001b[1;32m   7348\u001b[0m \u001b[43m        \u001b[49m\u001b[43msrc_list\u001b[49m\u001b[38;5;241;43m=\u001b[39;49m\u001b[43mto_replace\u001b[49m\u001b[43m,\u001b[49m\n\u001b[1;32m   7349\u001b[0m \u001b[43m        \u001b[49m\u001b[43mdest_list\u001b[49m\u001b[38;5;241;43m=\u001b[39;49m\u001b[43mvalue\u001b[49m\u001b[43m,\u001b[49m\n\u001b[1;32m   7350\u001b[0m \u001b[43m        \u001b[49m\u001b[43minplace\u001b[49m\u001b[38;5;241;43m=\u001b[39;49m\u001b[43minplace\u001b[49m\u001b[43m,\u001b[49m\n\u001b[1;32m   7351\u001b[0m \u001b[43m        \u001b[49m\u001b[43mregex\u001b[49m\u001b[38;5;241;43m=\u001b[39;49m\u001b[43mregex\u001b[49m\u001b[43m,\u001b[49m\n\u001b[1;32m   7352\u001b[0m \u001b[43m    \u001b[49m\u001b[43m)\u001b[49m\n\u001b[1;32m   7354\u001b[0m \u001b[38;5;28;01melif\u001b[39;00m to_replace \u001b[38;5;129;01mis\u001b[39;00m \u001b[38;5;28;01mNone\u001b[39;00m:\n\u001b[1;32m   7355\u001b[0m     \u001b[38;5;28;01mif\u001b[39;00m \u001b[38;5;129;01mnot\u001b[39;00m (\n\u001b[1;32m   7356\u001b[0m         is_re_compilable(regex)\n\u001b[1;32m   7357\u001b[0m         \u001b[38;5;129;01mor\u001b[39;00m is_list_like(regex)\n\u001b[1;32m   7358\u001b[0m         \u001b[38;5;129;01mor\u001b[39;00m is_dict_like(regex)\n\u001b[1;32m   7359\u001b[0m     ):\n",
      "File \u001b[0;32m~/Documents/python/single_cell/lib/python3.8/site-packages/pandas/core/internals/managers.py:496\u001b[0m, in \u001b[0;36mBaseBlockManager.replace_list\u001b[0;34m(self, src_list, dest_list, inplace, regex)\u001b[0m\n\u001b[1;32m    493\u001b[0m \u001b[38;5;250m\u001b[39m\u001b[38;5;124;03m\"\"\"do a list replace\"\"\"\u001b[39;00m\n\u001b[1;32m    494\u001b[0m inplace \u001b[38;5;241m=\u001b[39m validate_bool_kwarg(inplace, \u001b[38;5;124m\"\u001b[39m\u001b[38;5;124minplace\u001b[39m\u001b[38;5;124m\"\u001b[39m)\n\u001b[0;32m--> 496\u001b[0m bm \u001b[38;5;241m=\u001b[39m \u001b[38;5;28;43mself\u001b[39;49m\u001b[38;5;241;43m.\u001b[39;49m\u001b[43mapply\u001b[49m\u001b[43m(\u001b[49m\n\u001b[1;32m    497\u001b[0m \u001b[43m    \u001b[49m\u001b[38;5;124;43m\"\u001b[39;49m\u001b[38;5;124;43mreplace_list\u001b[39;49m\u001b[38;5;124;43m\"\u001b[39;49m\u001b[43m,\u001b[49m\n\u001b[1;32m    498\u001b[0m \u001b[43m    \u001b[49m\u001b[43msrc_list\u001b[49m\u001b[38;5;241;43m=\u001b[39;49m\u001b[43msrc_list\u001b[49m\u001b[43m,\u001b[49m\n\u001b[1;32m    499\u001b[0m \u001b[43m    \u001b[49m\u001b[43mdest_list\u001b[49m\u001b[38;5;241;43m=\u001b[39;49m\u001b[43mdest_list\u001b[49m\u001b[43m,\u001b[49m\n\u001b[1;32m    500\u001b[0m \u001b[43m    \u001b[49m\u001b[43minplace\u001b[49m\u001b[38;5;241;43m=\u001b[39;49m\u001b[43minplace\u001b[49m\u001b[43m,\u001b[49m\n\u001b[1;32m    501\u001b[0m \u001b[43m    \u001b[49m\u001b[43mregex\u001b[49m\u001b[38;5;241;43m=\u001b[39;49m\u001b[43mregex\u001b[49m\u001b[43m,\u001b[49m\n\u001b[1;32m    502\u001b[0m \u001b[43m    \u001b[49m\u001b[43musing_cow\u001b[49m\u001b[38;5;241;43m=\u001b[39;49m\u001b[43musing_copy_on_write\u001b[49m\u001b[43m(\u001b[49m\u001b[43m)\u001b[49m\u001b[43m,\u001b[49m\n\u001b[1;32m    503\u001b[0m \u001b[43m\u001b[49m\u001b[43m)\u001b[49m\n\u001b[1;32m    504\u001b[0m bm\u001b[38;5;241m.\u001b[39m_consolidate_inplace()\n\u001b[1;32m    505\u001b[0m \u001b[38;5;28;01mreturn\u001b[39;00m bm\n",
      "File \u001b[0;32m~/Documents/python/single_cell/lib/python3.8/site-packages/pandas/core/internals/managers.py:352\u001b[0m, in \u001b[0;36mBaseBlockManager.apply\u001b[0;34m(self, f, align_keys, **kwargs)\u001b[0m\n\u001b[1;32m    350\u001b[0m         applied \u001b[38;5;241m=\u001b[39m b\u001b[38;5;241m.\u001b[39mapply(f, \u001b[38;5;241m*\u001b[39m\u001b[38;5;241m*\u001b[39mkwargs)\n\u001b[1;32m    351\u001b[0m     \u001b[38;5;28;01melse\u001b[39;00m:\n\u001b[0;32m--> 352\u001b[0m         applied \u001b[38;5;241m=\u001b[39m \u001b[38;5;28;43mgetattr\u001b[39;49m\u001b[43m(\u001b[49m\u001b[43mb\u001b[49m\u001b[43m,\u001b[49m\u001b[43m \u001b[49m\u001b[43mf\u001b[49m\u001b[43m)\u001b[49m\u001b[43m(\u001b[49m\u001b[38;5;241;43m*\u001b[39;49m\u001b[38;5;241;43m*\u001b[39;49m\u001b[43mkwargs\u001b[49m\u001b[43m)\u001b[49m\n\u001b[1;32m    353\u001b[0m     result_blocks \u001b[38;5;241m=\u001b[39m extend_blocks(applied, result_blocks)\n\u001b[1;32m    355\u001b[0m out \u001b[38;5;241m=\u001b[39m \u001b[38;5;28mtype\u001b[39m(\u001b[38;5;28mself\u001b[39m)\u001b[38;5;241m.\u001b[39mfrom_blocks(result_blocks, \u001b[38;5;28mself\u001b[39m\u001b[38;5;241m.\u001b[39maxes)\n",
      "File \u001b[0;32m~/Documents/python/single_cell/lib/python3.8/site-packages/pandas/core/internals/blocks.py:788\u001b[0m, in \u001b[0;36mBlock.replace_list\u001b[0;34m(self, src_list, dest_list, inplace, regex, using_cow)\u001b[0m\n\u001b[1;32m    783\u001b[0m     m \u001b[38;5;241m=\u001b[39m mib[blk_num : blk_num \u001b[38;5;241m+\u001b[39m \u001b[38;5;241m1\u001b[39m]\n\u001b[1;32m    785\u001b[0m \u001b[38;5;66;03m# error: Argument \"mask\" to \"_replace_coerce\" of \"Block\" has\u001b[39;00m\n\u001b[1;32m    786\u001b[0m \u001b[38;5;66;03m# incompatible type \"Union[ExtensionArray, ndarray[Any, Any], bool]\";\u001b[39;00m\n\u001b[1;32m    787\u001b[0m \u001b[38;5;66;03m# expected \"ndarray[Any, dtype[bool_]]\"\u001b[39;00m\n\u001b[0;32m--> 788\u001b[0m result \u001b[38;5;241m=\u001b[39m \u001b[43mblk\u001b[49m\u001b[38;5;241;43m.\u001b[39;49m\u001b[43m_replace_coerce\u001b[49m\u001b[43m(\u001b[49m\n\u001b[1;32m    789\u001b[0m \u001b[43m    \u001b[49m\u001b[43mto_replace\u001b[49m\u001b[38;5;241;43m=\u001b[39;49m\u001b[43msrc\u001b[49m\u001b[43m,\u001b[49m\n\u001b[1;32m    790\u001b[0m \u001b[43m    \u001b[49m\u001b[43mvalue\u001b[49m\u001b[38;5;241;43m=\u001b[39;49m\u001b[43mdest\u001b[49m\u001b[43m,\u001b[49m\n\u001b[1;32m    791\u001b[0m \u001b[43m    \u001b[49m\u001b[43mmask\u001b[49m\u001b[38;5;241;43m=\u001b[39;49m\u001b[43mm\u001b[49m\u001b[43m,\u001b[49m\n\u001b[1;32m    792\u001b[0m \u001b[43m    \u001b[49m\u001b[43minplace\u001b[49m\u001b[38;5;241;43m=\u001b[39;49m\u001b[43minplace\u001b[49m\u001b[43m,\u001b[49m\n\u001b[1;32m    793\u001b[0m \u001b[43m    \u001b[49m\u001b[43mregex\u001b[49m\u001b[38;5;241;43m=\u001b[39;49m\u001b[43mregex\u001b[49m\u001b[43m,\u001b[49m\n\u001b[1;32m    794\u001b[0m \u001b[43m    \u001b[49m\u001b[43musing_cow\u001b[49m\u001b[38;5;241;43m=\u001b[39;49m\u001b[43musing_cow\u001b[49m\u001b[43m,\u001b[49m\n\u001b[1;32m    795\u001b[0m \u001b[43m\u001b[49m\u001b[43m)\u001b[49m\n\u001b[1;32m    796\u001b[0m \u001b[38;5;28;01mif\u001b[39;00m convert \u001b[38;5;129;01mand\u001b[39;00m blk\u001b[38;5;241m.\u001b[39mis_object \u001b[38;5;129;01mand\u001b[39;00m \u001b[38;5;129;01mnot\u001b[39;00m \u001b[38;5;28mall\u001b[39m(x \u001b[38;5;129;01mis\u001b[39;00m \u001b[38;5;28;01mNone\u001b[39;00m \u001b[38;5;28;01mfor\u001b[39;00m x \u001b[38;5;129;01min\u001b[39;00m dest_list):\n\u001b[1;32m    797\u001b[0m     \u001b[38;5;66;03m# GH#44498 avoid unwanted cast-back\u001b[39;00m\n\u001b[1;32m    798\u001b[0m     result \u001b[38;5;241m=\u001b[39m extend_blocks(\n\u001b[1;32m    799\u001b[0m         [\n\u001b[1;32m    800\u001b[0m             b\u001b[38;5;241m.\u001b[39mconvert(copy\u001b[38;5;241m=\u001b[39m\u001b[38;5;28;01mTrue\u001b[39;00m \u001b[38;5;129;01mand\u001b[39;00m \u001b[38;5;129;01mnot\u001b[39;00m using_cow, using_cow\u001b[38;5;241m=\u001b[39musing_cow)\n\u001b[1;32m    801\u001b[0m             \u001b[38;5;28;01mfor\u001b[39;00m b \u001b[38;5;129;01min\u001b[39;00m result\n\u001b[1;32m    802\u001b[0m         ]\n\u001b[1;32m    803\u001b[0m     )\n",
      "File \u001b[0;32m~/Documents/python/single_cell/lib/python3.8/site-packages/pandas/core/internals/blocks.py:862\u001b[0m, in \u001b[0;36mBlock._replace_coerce\u001b[0;34m(self, to_replace, value, mask, inplace, regex, using_cow)\u001b[0m\n\u001b[1;32m    860\u001b[0m         \u001b[38;5;28;01mreturn\u001b[39;00m [\u001b[38;5;28mself\u001b[39m\u001b[38;5;241m.\u001b[39mcopy(deep\u001b[38;5;241m=\u001b[39m\u001b[38;5;28;01mFalse\u001b[39;00m)]\n\u001b[1;32m    861\u001b[0m     \u001b[38;5;28;01mreturn\u001b[39;00m [\u001b[38;5;28mself\u001b[39m] \u001b[38;5;28;01mif\u001b[39;00m inplace \u001b[38;5;28;01melse\u001b[39;00m [\u001b[38;5;28mself\u001b[39m\u001b[38;5;241m.\u001b[39mcopy()]\n\u001b[0;32m--> 862\u001b[0m \u001b[38;5;28;01mreturn\u001b[39;00m \u001b[38;5;28;43mself\u001b[39;49m\u001b[38;5;241;43m.\u001b[39;49m\u001b[43mreplace\u001b[49m\u001b[43m(\u001b[49m\n\u001b[1;32m    863\u001b[0m \u001b[43m    \u001b[49m\u001b[43mto_replace\u001b[49m\u001b[38;5;241;43m=\u001b[39;49m\u001b[43mto_replace\u001b[49m\u001b[43m,\u001b[49m\n\u001b[1;32m    864\u001b[0m \u001b[43m    \u001b[49m\u001b[43mvalue\u001b[49m\u001b[38;5;241;43m=\u001b[39;49m\u001b[43mvalue\u001b[49m\u001b[43m,\u001b[49m\n\u001b[1;32m    865\u001b[0m \u001b[43m    \u001b[49m\u001b[43minplace\u001b[49m\u001b[38;5;241;43m=\u001b[39;49m\u001b[43minplace\u001b[49m\u001b[43m,\u001b[49m\n\u001b[1;32m    866\u001b[0m \u001b[43m    \u001b[49m\u001b[43mmask\u001b[49m\u001b[38;5;241;43m=\u001b[39;49m\u001b[43mmask\u001b[49m\u001b[43m,\u001b[49m\n\u001b[1;32m    867\u001b[0m \u001b[43m    \u001b[49m\u001b[43musing_cow\u001b[49m\u001b[38;5;241;43m=\u001b[39;49m\u001b[43musing_cow\u001b[49m\u001b[43m,\u001b[49m\n\u001b[1;32m    868\u001b[0m \u001b[43m\u001b[49m\u001b[43m)\u001b[49m\n",
      "File \u001b[0;32m~/Documents/python/single_cell/lib/python3.8/site-packages/pandas/core/internals/blocks.py:582\u001b[0m, in \u001b[0;36mBlock.replace\u001b[0;34m(self, to_replace, value, inplace, mask, using_cow)\u001b[0m\n\u001b[1;32m    579\u001b[0m     values\u001b[38;5;241m.\u001b[39m_replace(to_replace\u001b[38;5;241m=\u001b[39mto_replace, value\u001b[38;5;241m=\u001b[39mvalue, inplace\u001b[38;5;241m=\u001b[39m\u001b[38;5;28;01mTrue\u001b[39;00m)\n\u001b[1;32m    580\u001b[0m     \u001b[38;5;28;01mreturn\u001b[39;00m [blk]\n\u001b[0;32m--> 582\u001b[0m \u001b[38;5;28;01mif\u001b[39;00m \u001b[38;5;129;01mnot\u001b[39;00m \u001b[38;5;28;43mself\u001b[39;49m\u001b[38;5;241;43m.\u001b[39;49m\u001b[43m_can_hold_element\u001b[49m\u001b[43m(\u001b[49m\u001b[43mto_replace\u001b[49m\u001b[43m)\u001b[49m:\n\u001b[1;32m    583\u001b[0m     \u001b[38;5;66;03m# We cannot hold `to_replace`, so we know immediately that\u001b[39;00m\n\u001b[1;32m    584\u001b[0m     \u001b[38;5;66;03m#  replacing it is a no-op.\u001b[39;00m\n\u001b[1;32m    585\u001b[0m     \u001b[38;5;66;03m# Note: If to_replace were a list, NDFrame.replace would call\u001b[39;00m\n\u001b[1;32m    586\u001b[0m     \u001b[38;5;66;03m#  replace_list instead of replace.\u001b[39;00m\n\u001b[1;32m    587\u001b[0m     \u001b[38;5;28;01mif\u001b[39;00m using_cow:\n\u001b[1;32m    588\u001b[0m         \u001b[38;5;28;01mreturn\u001b[39;00m [\u001b[38;5;28mself\u001b[39m\u001b[38;5;241m.\u001b[39mcopy(deep\u001b[38;5;241m=\u001b[39m\u001b[38;5;28;01mFalse\u001b[39;00m)]\n",
      "File \u001b[0;32m~/Documents/python/single_cell/lib/python3.8/site-packages/pandas/core/internals/blocks.py:299\u001b[0m, in \u001b[0;36mBlock._can_hold_element\u001b[0;34m(self, element)\u001b[0m\n\u001b[1;32m    297\u001b[0m \u001b[38;5;250m\u001b[39m\u001b[38;5;124;03m\"\"\"require the same dtype as ourselves\"\"\"\u001b[39;00m\n\u001b[1;32m    298\u001b[0m element \u001b[38;5;241m=\u001b[39m extract_array(element, extract_numpy\u001b[38;5;241m=\u001b[39m\u001b[38;5;28;01mTrue\u001b[39;00m)\n\u001b[0;32m--> 299\u001b[0m \u001b[38;5;28;01mreturn\u001b[39;00m \u001b[43mcan_hold_element\u001b[49m\u001b[43m(\u001b[49m\u001b[38;5;28;43mself\u001b[39;49m\u001b[38;5;241;43m.\u001b[39;49m\u001b[43mvalues\u001b[49m\u001b[43m,\u001b[49m\u001b[43m \u001b[49m\u001b[43melement\u001b[49m\u001b[43m)\u001b[49m\n",
      "File \u001b[0;32m~/Documents/python/single_cell/lib/python3.8/site-packages/pandas/core/dtypes/cast.py:1692\u001b[0m, in \u001b[0;36mcan_hold_element\u001b[0;34m(arr, element)\u001b[0m\n\u001b[1;32m   1689\u001b[0m     \u001b[38;5;28;01mreturn\u001b[39;00m \u001b[38;5;28;01mTrue\u001b[39;00m\n\u001b[1;32m   1691\u001b[0m \u001b[38;5;28;01mtry\u001b[39;00m:\n\u001b[0;32m-> 1692\u001b[0m     \u001b[43mnp_can_hold_element\u001b[49m\u001b[43m(\u001b[49m\u001b[43mdtype\u001b[49m\u001b[43m,\u001b[49m\u001b[43m \u001b[49m\u001b[43melement\u001b[49m\u001b[43m)\u001b[49m\n\u001b[1;32m   1693\u001b[0m     \u001b[38;5;28;01mreturn\u001b[39;00m \u001b[38;5;28;01mTrue\u001b[39;00m\n\u001b[1;32m   1694\u001b[0m \u001b[38;5;28;01mexcept\u001b[39;00m (\u001b[38;5;167;01mTypeError\u001b[39;00m, LossySetitemError):\n",
      "\u001b[0;31mKeyboardInterrupt\u001b[0m: "
     ]
    }
   ],
   "source": [
    "import numpy as np\n",
    "\n",
    "def needleman_wunsch_normalized(seq1, seq2, match=2, mismatch=1, gap=0):\n",
    "    def calculate_max_score(seq1, seq2, match, mismatch, gap):\n",
    "        # Calculate the maximum possible score\n",
    "        max_score = max(len(seq1), len(seq2)) * match\n",
    "        return max_score\n",
    "\n",
    "#     Create a matrix to store alignment scores\n",
    "    matrix = np.zeros((len(seq1) + 1, len(seq2) + 1))\n",
    "\n",
    "    #Initialize the first row and first column with gap penalties\n",
    "    for i in range(len(seq1) + 1):\n",
    "        matrix[i][0] = i * gap\n",
    "    for j in range(len(seq2) + 1):\n",
    "        matrix[0][j] = j * gap\n",
    "\n",
    "    # Fill in the matrix\n",
    "    for i in range(1, len(seq1) + 1):\n",
    "        for j in range(1, len(seq2) + 1):\n",
    "            match_score = matrix[i-1][j-1] + (match if seq1[i-1] == seq2[j-1] else mismatch) \n",
    "            delete_score = matrix[i-1][j] + gap\n",
    "            insert_score = matrix[i][j-1] + gap\n",
    "            matrix[i][j] = max(match_score, delete_score, insert_score)\n",
    "\n",
    "    # Calculate the normalized similarity score\n",
    "    similarity_score = matrix[len(seq1)][len(seq2)] / calculate_max_score(seq1, seq2, match, mismatch, gap)\n",
    "\n",
    "    return similarity_score\n",
    "\n",
    "# Check sequence similarity using your Needleman-Wunsch algorithm\n",
    "def is_sequence_similar_to_selected(new_seq, selected_seq, similarity_threshold):\n",
    "    for selected_peptide in selected_seq:\n",
    "        similarity_score = needleman_wunsch_normalized(new_seq, selected_peptide)  \n",
    "\n",
    "        if similarity_score >= similarity_threshold:\n",
    "            return True\n",
    "    return False\n",
    "\n",
    "\n",
    "lmin = 8\n",
    "lmax = 12\n",
    "thr_rew_mhc = 0.82  # Threshold for binding affinity\n",
    "thr_rew_tcr = 0.53  # Threshold for TCR reward\n",
    "similarity_threshold = 0.7\n",
    "\n",
    "\n",
    "# Extend the list of MHC proteins and TCR sequences\n",
    "mhc_proteins = mhc_molecule_list\n",
    "tcr_sequences = tcr_sequence_list\n",
    "aas = load_valid_aas('Dictionary')\n",
    "\n",
    "# Initialize selected sequences dictionary and output data list\n",
    "selected_seq = {}\n",
    "output_data = []\n",
    "\n",
    "# Define a dictionary to track the count of each MHC molecule\n",
    "mhc_counts = {mhc: 0 for mhc in mhc_proteins}\n",
    "tcr_seq_counts = {tcr: 0 for tcr in tcr_sequences}\n",
    "\n",
    "# Initialize max MHC and TCR values and corresponding indices\n",
    "max_mhc_values = [-1] * len(mhc_proteins)\n",
    "max_tcr_values = [-1] * len(tcr_sequences)\n",
    "max_mhc_idx = -1\n",
    "max_tcr_idx = -1\n",
    "\n",
    "# Initialize progress bar\n",
    "pbar = tqdm(desc=\"Processing sequences\")\n",
    "\n",
    "curr_seq = generate_seq(lmin, lmax, aas)  # Initialize curr_seq\n",
    "curr_rew_mhc_values = get_binding_affinity(curr_seq, mhc_proteins) \n",
    "curr_rew_tcr = tcr_reward(curr_seq, tcr_sequences)\n",
    "curr_rew_class = classification_reward(curr_seq)\n",
    "\n",
    "\n",
    "while len(selected_seq) < 100:\n",
    "    new_seq = alter_seq(curr_seq, aas)\n",
    "    accept = False\n",
    "    selected_in_iteration = False\n",
    "\n",
    "    if new_seq != curr_seq and lmin <= len(new_seq) <= lmax:\n",
    "        new_rew_class = classification_reward(new_seq)\n",
    "\n",
    "        if new_rew_class > 0.5:  # Updated condition\n",
    "            # Check if the new sequence is similar to any selected sequence\n",
    "            if not is_sequence_similar_to_selected(new_seq, selected_seq.keys(), similarity_threshold):\n",
    "                new_rew_mhc_values = get_binding_affinity(new_seq, mhc_proteins)\n",
    "                new_rew_tcr_values = tcr_reward(new_seq, tcr_sequences)\n",
    "\n",
    "                max_mhc_idx = new_rew_mhc_values.index(max(new_rew_mhc_values))\n",
    "                max_tcr_idx = new_rew_tcr_values.index(max(new_rew_tcr_values))\n",
    "\n",
    "                # Check if the selected MHC molecule and TCR sequence have exceeded the maximum count\n",
    "                selected_mhc = mhc_proteins[max_mhc_idx]\n",
    "                selected_tcr = tcr_sequences[max_tcr_idx]\n",
    "\n",
    "                if mhc_counts[selected_mhc] < 5 and tcr_seq_counts[selected_tcr] < 5:\n",
    "                    product_value = new_rew_mhc_values[max_mhc_idx] * new_rew_tcr_values[max_tcr_idx]\n",
    "\n",
    "                    if product_value > (curr_rew_mhc_values[max_mhc_idx] * curr_rew_tcr[max_tcr_idx]) - 0.35 * random.random():\n",
    "                        accept = True\n",
    "                        if new_seq not in selected_seq:\n",
    "                            selected_in_iteration = True\n",
    "                            # Update the count of the selected MHC molecule and TCR sequence\n",
    "                            mhc_counts[selected_mhc] += 1\n",
    "                            tcr_seq_counts[selected_tcr] += 1\n",
    "                            selected_seq = update_selected(selected_seq, thr_rew_mhc, thr_rew_tcr, new_seq, selected_mhc, new_rew_mhc_values[max_mhc_idx], new_rew_tcr_values[max_tcr_idx], curr_rew_class, selected_tcr)\n",
    "                            pbar.update(1)\n",
    "\n",
    "                # Initialize max MHC and TCR values and corresponding indices\n",
    "                max_mhc_values = [-1] * len(mhc_proteins)\n",
    "                max_tcr_values = [-1] * len(tcr_sequences)\n",
    "                max_mhc_idx = -1\n",
    "                max_tcr_idx = -1\n",
    "\n",
    "                if selected_in_iteration:\n",
    "                    data_dict = {\n",
    "                        \"Sequence\": new_seq,\n",
    "                        **{f\"MHC_{i+1}\": new_rew_mhc_values[i] for i in range(len(mhc_proteins))},\n",
    "                        **{f\"TCR_{i+1}\": new_rew_tcr_values[i] for i in range(len(tcr_sequences))},\n",
    "                        \"Classification\": new_rew_class,  # Add new_rew_class here\n",
    "                    }\n",
    "                    output_data.append(data_dict)  # Ensure data_dict is appended to output_data\n",
    "\n",
    "                # Remove MHC molecule if its count reaches 10\n",
    "                if mhc_counts[selected_mhc] >= 10:\n",
    "                    mhc_proteins.remove(selected_mhc)\n",
    "\n",
    "                # Remove TCR sequence if its count reaches 10\n",
    "                if tcr_seq_counts[selected_tcr] >= 10:\n",
    "                    tcr_sequences.remove(selected_tcr)\n",
    "\n",
    "pbar.close()"
   ]
  },
  {
   "cell_type": "code",
   "execution_count": 31,
   "id": "555cdf61-c264-4cc5-9d66-42601fa8831e",
   "metadata": {
    "scrolled": true
   },
   "outputs": [
    {
     "data": {
      "text/plain": [
       "{'EFYVRDRITVF': {'MHC': 'B*35:01',\n",
       "  'Rew_MHC': 0.9980433389101172,\n",
       "  'TCR_Seq': 'CASSAGRIYEQYF',\n",
       "  'Rew_TCR': 0.947009143931925,\n",
       "  'Classification': 0.7762641805368873},\n",
       " 'WQPMASQKCV': {'MHC': 'B*18:01',\n",
       "  'Rew_MHC': 0.9969738199099456,\n",
       "  'TCR_Seq': 'CSAKTGGYTF',\n",
       "  'Rew_TCR': 0.9010431280605598,\n",
       "  'Classification': 0.7862484131166922},\n",
       " 'KAGWVRIPRPQ': {'MHC': 'B*44:03',\n",
       "  'Rew_MHC': 0.9971471958286339,\n",
       "  'TCR_Seq': 'CASSLPGVDSLGQPQHF',\n",
       "  'Rew_TCR': 0.7515217929889761,\n",
       "  'Classification': 0.8458443358783292},\n",
       " 'YHGPPNFPDSW': {'MHC': 'B*15:09',\n",
       "  'Rew_MHC': 0.9978168146717651,\n",
       "  'TCR_Seq': 'CASRDRDSNYGYTF',\n",
       "  'Rew_TCR': 0.9754895756863236,\n",
       "  'Classification': 0.8478429596911701},\n",
       " 'FMKCVAQATLI': {'MHC': 'B*14:02',\n",
       "  'Rew_MHC': 0.9981073883391114,\n",
       "  'TCR_Seq': 'CASGDGTSGWTQYF',\n",
       "  'Rew_TCR': 0.9827307237055244,\n",
       "  'Classification': 0.6992303710746756},\n",
       " 'CNHVQVAYLVM': {'MHC': 'A*11:01',\n",
       "  'Rew_MHC': 0.998221231516631,\n",
       "  'TCR_Seq': 'CASSLNGDRGSYEQYF',\n",
       "  'Rew_TCR': 0.8970297481961188,\n",
       "  'Classification': 0.6722130475752068},\n",
       " 'TVGYHKTTHPW': {'MHC': 'B*53:01',\n",
       "  'Rew_MHC': 0.9991491316969099,\n",
       "  'TCR_Seq': 'CASSLGQMNTEAFF',\n",
       "  'Rew_TCR': 0.8219902896093365,\n",
       "  'Classification': 0.8025112810813075},\n",
       " 'TKFHDCEWYK': {'MHC': 'B*08:02',\n",
       "  'Rew_MHC': 0.9970574676819296,\n",
       "  'TCR_Seq': 'CASSHSGGRGEQFF',\n",
       "  'Rew_TCR': 0.9522613019560028,\n",
       "  'Classification': 0.8791421116714311},\n",
       " 'HRASRWNHI': {'MHC': 'A*29:02',\n",
       "  'Rew_MHC': 0.9980658695773095,\n",
       "  'TCR_Seq': 'CASSITSARGETQYF',\n",
       "  'Rew_TCR': 0.868730557715538,\n",
       "  'Classification': 0.9161426042001342},\n",
       " 'VQWGYHPDM': {'MHC': 'A*02:16',\n",
       "  'Rew_MHC': 0.9957916822488783,\n",
       "  'TCR_Seq': 'CASSIGTSGSPTDTQYF',\n",
       "  'Rew_TCR': 0.8851452378533335,\n",
       "  'Classification': 0.7093463267402059},\n",
       " 'FFMMGFFTHVDE': {'MHC': 'A*02:02',\n",
       "  'Rew_MHC': 0.8324660901311396,\n",
       "  'TCR_Seq': 'CASRDRDSNYGYTF',\n",
       "  'Rew_TCR': 0.7274716039744669,\n",
       "  'Classification': 0.6491878136069287},\n",
       " 'VMCNHTWSRKR': {'MHC': 'A*11:01',\n",
       "  'Rew_MHC': 0.9990351823017171,\n",
       "  'TCR_Seq': 'CASSLTGTGEDTQYF',\n",
       "  'Rew_TCR': 0.966863019702741,\n",
       "  'Classification': 0.7173429016383718},\n",
       " 'NECTINCK': {'MHC': 'A*26:02',\n",
       "  'Rew_MHC': 0.9993914205470156,\n",
       "  'TCR_Seq': 'CSARDAQAEDGYTF',\n",
       "  'Rew_TCR': 0.7390877496268775,\n",
       "  'Classification': 0.5231721897049971},\n",
       " 'NHGRVKYWV': {'MHC': 'A*02:19',\n",
       "  'Rew_MHC': 0.998084948746564,\n",
       "  'TCR_Seq': 'CASSPFMGGSYEQYF',\n",
       "  'Rew_TCR': 0.8895646989992367,\n",
       "  'Classification': 0.8350487033951335},\n",
       " 'PPKIQWRAQLR': {'MHC': 'B*51:01',\n",
       "  'Rew_MHC': 0.9842210018946972,\n",
       "  'TCR_Seq': 'CASSPGQGRYEQYF',\n",
       "  'Rew_TCR': 0.7119749634393431,\n",
       "  'Classification': 0.8797458614923768},\n",
       " 'ELPEKKELTCN': {'MHC': 'B*15:42',\n",
       "  'Rew_MHC': 0.9993173045579,\n",
       "  'TCR_Seq': 'CASSHGLNSNQPQHF',\n",
       "  'Rew_TCR': 0.9996123179927181,\n",
       "  'Classification': 0.5507780510932664},\n",
       " 'LLSDVPLFYGI': {'MHC': 'A*31:01',\n",
       "  'Rew_MHC': 0.994242924387361,\n",
       "  'TCR_Seq': 'CASSLGTEGTYEQYF',\n",
       "  'Rew_TCR': 0.8931582848924705,\n",
       "  'Classification': 0.6394200785613612},\n",
       " 'CHAWKGHADCV': {'MHC': 'C*03:03',\n",
       "  'Rew_MHC': 0.9993606360513777,\n",
       "  'TCR_Seq': 'CSASPRALGNYEQYF',\n",
       "  'Rew_TCR': 0.9385925949903631,\n",
       "  'Classification': 0.7917424496812148},\n",
       " 'WSTHATES': {'MHC': 'A*02:19',\n",
       "  'Rew_MHC': 0.9971494889521435,\n",
       "  'TCR_Seq': 'CASSLAGASYNEQFF',\n",
       "  'Rew_TCR': 0.9321443439311599,\n",
       "  'Classification': 0.8901779561726768},\n",
       " 'HFERQQDH': {'MHC': 'A*24:03',\n",
       "  'Rew_MHC': 0.8778725555037327,\n",
       "  'TCR_Seq': 'CSARTGEMWTEAFF',\n",
       "  'Rew_TCR': 0.9463233800581173,\n",
       "  'Classification': 0.819061377699325},\n",
       " 'DSSHKFNCWS': {'MHC': 'C*05:01',\n",
       "  'Rew_MHC': 0.9954182392194479,\n",
       "  'TCR_Seq': 'CASSHSGGRGEQFF',\n",
       "  'Rew_TCR': 0.8554342892115138,\n",
       "  'Classification': 0.8196888625266301},\n",
       " 'TLTDIWKHVFK': {'MHC': 'B*57:01',\n",
       "  'Rew_MHC': 0.9932373148356395,\n",
       "  'TCR_Seq': 'CSARDAQAEDGYTF',\n",
       "  'Rew_TCR': 0.9963429974129198,\n",
       "  'Classification': 0.8748500809018642},\n",
       " 'SDFRSPWFL': {'MHC': 'B*07:02',\n",
       "  'Rew_MHC': 0.9981609679179498,\n",
       "  'TCR_Seq': 'CASSAERSSYNSPLHF',\n",
       "  'Rew_TCR': 0.9255497562373516,\n",
       "  'Classification': 0.9263755958358235},\n",
       " 'PLPLIMHMVNH': {'MHC': 'B*15:01',\n",
       "  'Rew_MHC': 0.999424922776811,\n",
       "  'TCR_Seq': 'CASSPGRVSNEQFF',\n",
       "  'Rew_TCR': 0.9512432023964885,\n",
       "  'Classification': 0.8538496786327672},\n",
       " 'EEQHWRAYNF': {'MHC': 'A*26:02',\n",
       "  'Rew_MHC': 0.9978835106463152,\n",
       "  'TCR_Seq': 'CASKETDYGYTF',\n",
       "  'Rew_TCR': 0.9077352371567528,\n",
       "  'Classification': 0.9010376479843392},\n",
       " 'IYMQPQDDKVM': {'MHC': 'A*03:01',\n",
       "  'Rew_MHC': 0.9988194226524554,\n",
       "  'TCR_Seq': 'CASSIGQGGNSPLHF',\n",
       "  'Rew_TCR': 0.9333430650036155,\n",
       "  'Classification': 0.8221669893821084},\n",
       " 'FPGSREAWGLCT': {'MHC': 'B*39:01',\n",
       "  'Rew_MHC': 0.963402950724196,\n",
       "  'TCR_Seq': 'CASEGDIQYF',\n",
       "  'Rew_TCR': 0.9428249279272463,\n",
       "  'Classification': 0.7461046278680474},\n",
       " 'KTRNFMPLHNAC': {'MHC': 'B*54:01',\n",
       "  'Rew_MHC': 0.868287292942537,\n",
       "  'TCR_Seq': 'CASSAERSSYNSPLHF',\n",
       "  'Rew_TCR': 0.9132240000875732,\n",
       "  'Classification': 0.7706699879919544},\n",
       " 'CCNHMANYYS': {'MHC': 'A*31:01',\n",
       "  'Rew_MHC': 0.9987077809119483,\n",
       "  'TCR_Seq': 'CASSPQRDVPYEQYF',\n",
       "  'Rew_TCR': 0.9795100746203318,\n",
       "  'Classification': 0.7599130746791247},\n",
       " 'VKYVQTHCGP': {'MHC': 'B*15:09',\n",
       "  'Rew_MHC': 0.998869799292758,\n",
       "  'TCR_Seq': 'CASSLPGTAYEQYF',\n",
       "  'Rew_TCR': 0.8884775694834621,\n",
       "  'Classification': 0.8882448357440348},\n",
       " 'HHATYNCGHSYT': {'MHC': 'A*02:02',\n",
       "  'Rew_MHC': 0.9993694449242334,\n",
       "  'TCR_Seq': 'CASSPFMGGSYEQYF',\n",
       "  'Rew_TCR': 0.8458100719069341,\n",
       "  'Classification': 0.5239464558197688},\n",
       " 'MDFQGYTIR': {'MHC': 'A*68:01',\n",
       "  'Rew_MHC': 0.999444575165701,\n",
       "  'TCR_Seq': 'CASSAGRIYEQYF',\n",
       "  'Rew_TCR': 0.8843824087938338,\n",
       "  'Classification': 0.7878189324497229},\n",
       " 'WFKPWVFDRE': {'MHC': 'A*26:01',\n",
       "  'Rew_MHC': 0.997453977387049,\n",
       "  'TCR_Seq': 'CASSLDRQGRDTQYF',\n",
       "  'Rew_TCR': 0.8971615056505728,\n",
       "  'Classification': 0.8106241073171863},\n",
       " 'YERLNGLCWV': {'MHC': 'A*30:02',\n",
       "  'Rew_MHC': 0.998504925469422,\n",
       "  'TCR_Seq': 'CASSLNGDRGSYEQYF',\n",
       "  'Rew_TCR': 0.9477557346420385,\n",
       "  'Classification': 0.7138620926447726},\n",
       " 'NIIKRWMIHTAY': {'MHC': 'C*06:02',\n",
       "  'Rew_MHC': 0.9973095848432447,\n",
       "  'TCR_Seq': 'CASSPFMGGSYEQYF',\n",
       "  'Rew_TCR': 0.8327941893116639,\n",
       "  'Classification': 0.6031548349229011},\n",
       " 'QQSDLFNISD': {'MHC': 'A*02:02',\n",
       "  'Rew_MHC': 0.9986062515229943,\n",
       "  'TCR_Seq': 'CASSPGQAGLAGYTF',\n",
       "  'Rew_TCR': 0.9776745561147719,\n",
       "  'Classification': 0.5598684545101936},\n",
       " 'ACWIWRVN': {'MHC': 'A*68:02',\n",
       "  'Rew_MHC': 0.9964896614083217,\n",
       "  'TCR_Seq': 'CASSLNGDRGSYEQYF',\n",
       "  'Rew_TCR': 0.9428156982850286,\n",
       "  'Classification': 0.8559052260261959},\n",
       " 'VYTPGFNIGL': {'MHC': 'A*23:01',\n",
       "  'Rew_MHC': 0.9974145853723988,\n",
       "  'TCR_Seq': 'CASSIGATLYGYTF',\n",
       "  'Rew_TCR': 0.8923654886326543,\n",
       "  'Classification': 0.8323018228784458},\n",
       " 'NAWVEMFWDQNS': {'MHC': 'A*68:02',\n",
       "  'Rew_MHC': 0.9994491958342674,\n",
       "  'TCR_Seq': 'CASRWDTNTEAFF',\n",
       "  'Rew_TCR': 0.905753883844438,\n",
       "  'Classification': 0.8790438363839832},\n",
       " 'WDCPHNRF': {'MHC': 'C*03:03',\n",
       "  'Rew_MHC': 0.9986838833434526,\n",
       "  'TCR_Seq': 'CASSLGNYEQYF',\n",
       "  'Rew_TCR': 0.9280293792196048,\n",
       "  'Classification': 0.5185322266852168},\n",
       " 'KFSLESLLAPYG': {'MHC': 'B*27:03',\n",
       "  'Rew_MHC': 0.9988116398677136,\n",
       "  'TCR_Seq': 'CASSLVYGSELSNTGELFF',\n",
       "  'Rew_TCR': 0.7864984577268853,\n",
       "  'Classification': 0.556317119422941},\n",
       " 'VGPMIHIGCF': {'MHC': 'A*69:01',\n",
       "  'Rew_MHC': 0.9968263301132106,\n",
       "  'TCR_Seq': 'CASSLPGVDSLGQPQHF',\n",
       "  'Rew_TCR': 0.9859641359650949,\n",
       "  'Classification': 0.9196404822268601},\n",
       " 'YYAFWAITDPS': {'MHC': 'A*30:01',\n",
       "  'Rew_MHC': 0.9981392131494573,\n",
       "  'TCR_Seq': 'CASSAERSSYNSPLHF',\n",
       "  'Rew_TCR': 0.756121867178047,\n",
       "  'Classification': 0.8523321702212481},\n",
       " 'IADTLFGA': {'MHC': 'B*27:03',\n",
       "  'Rew_MHC': 0.998145071973687,\n",
       "  'TCR_Seq': 'CASSHGLNSNQPQHF',\n",
       "  'Rew_TCR': 0.561115551809868,\n",
       "  'Classification': 0.5559337798660337},\n",
       " 'CSPETLLY': {'MHC': 'C*05:01',\n",
       "  'Rew_MHC': 0.998318344967234,\n",
       "  'TCR_Seq': 'CASSLQGGFAEAFF',\n",
       "  'Rew_TCR': 0.8360975796951642,\n",
       "  'Classification': 0.916344731038242},\n",
       " 'KEPVFRVIP': {'MHC': 'C*03:03',\n",
       "  'Rew_MHC': 0.9974800616371526,\n",
       "  'TCR_Seq': 'CASRKRQEPYYGYTF',\n",
       "  'Rew_TCR': 0.8894960086997146,\n",
       "  'Classification': 0.8650854922099032},\n",
       " 'CYGKCLLKAC': {'MHC': 'A*02:03',\n",
       "  'Rew_MHC': 0.9988045456633254,\n",
       "  'TCR_Seq': 'CASSHGLNSNQPQHF',\n",
       "  'Rew_TCR': 0.878611655776202,\n",
       "  'Classification': 0.632584500653604},\n",
       " 'GPDENCIKIA': {'MHC': 'C*06:02',\n",
       "  'Rew_MHC': 0.9814270668405058,\n",
       "  'TCR_Seq': 'CSAKTGGYTF',\n",
       "  'Rew_TCR': 0.9212570170804167,\n",
       "  'Classification': 0.6651783953367516},\n",
       " 'VQWTSGDLF': {'MHC': 'B*45:01',\n",
       "  'Rew_MHC': 0.9973201091981118,\n",
       "  'TCR_Seq': 'CASPPSAEAKATNEKLFF',\n",
       "  'Rew_TCR': 0.9661347807795136,\n",
       "  'Classification': 0.6370758099128291},\n",
       " 'DVLPLNAYLA': {'MHC': 'A*24:03',\n",
       "  'Rew_MHC': 0.9993984947044093,\n",
       "  'TCR_Seq': 'CASSITSARGETQYF',\n",
       "  'Rew_TCR': 0.9934794478311494,\n",
       "  'Classification': 0.846508618612646},\n",
       " 'IPIDGDPMADG': {'MHC': 'A*32:01',\n",
       "  'Rew_MHC': 0.9993962829782017,\n",
       "  'TCR_Seq': 'CASSFGRSTDTQYF',\n",
       "  'Rew_TCR': 0.7870260257482121,\n",
       "  'Classification': 0.8793244746708301},\n",
       " 'PCNIKRTNVS': {'MHC': 'A*03:01',\n",
       "  'Rew_MHC': 0.9933210992397703,\n",
       "  'TCR_Seq': 'CASSPQRDVPYEQYF',\n",
       "  'Rew_TCR': 0.9809556776774229,\n",
       "  'Classification': 0.8958180777537053},\n",
       " 'RPRNGTRD': {'MHC': 'B*54:01',\n",
       "  'Rew_MHC': 0.9840833194639378,\n",
       "  'TCR_Seq': 'CASSLNGDRGSYEQYF',\n",
       "  'Rew_TCR': 0.8372300543904623,\n",
       "  'Classification': 0.7653395489841806},\n",
       " 'RRKPCGTPME': {'MHC': 'B*07:02',\n",
       "  'Rew_MHC': 0.9886806617054584,\n",
       "  'TCR_Seq': 'CASSLRTGRPEAFF',\n",
       "  'Rew_TCR': 0.9414168882314052,\n",
       "  'Classification': 0.9078214059314983},\n",
       " 'FKHYTQTG': {'MHC': 'B*44:03',\n",
       "  'Rew_MHC': 0.9965964075399983,\n",
       "  'TCR_Seq': 'CASSLRTGRPEAFF',\n",
       "  'Rew_TCR': 0.9417170849512628,\n",
       "  'Classification': 0.6105990267359811},\n",
       " 'LIYRMLSTAN': {'MHC': 'B*08:01',\n",
       "  'Rew_MHC': 0.9827925969671868,\n",
       "  'TCR_Seq': 'CASSETGADSGYTF',\n",
       "  'Rew_TCR': 0.9530848214664845,\n",
       "  'Classification': 0.7239533675992825},\n",
       " 'YLIQDSPIVNVR': {'MHC': 'B*15:03',\n",
       "  'Rew_MHC': 0.9758919671987175,\n",
       "  'TCR_Seq': 'CASSITSARGETQYF',\n",
       "  'Rew_TCR': 0.9251620329676806,\n",
       "  'Classification': 0.7372138409890242},\n",
       " 'DREIMGWY': {'MHC': 'A*33:01',\n",
       "  'Rew_MHC': 0.9802783744475031,\n",
       "  'TCR_Seq': 'CSARDAQAEDGYTF',\n",
       "  'Rew_TCR': 0.9578414272554954,\n",
       "  'Classification': 0.875225366516509},\n",
       " 'CVSSPALAGS': {'MHC': 'A*29:02',\n",
       "  'Rew_MHC': 0.9262245526073177,\n",
       "  'TCR_Seq': 'CASSLQGGFAEAFF',\n",
       "  'Rew_TCR': 0.7803671576959808,\n",
       "  'Classification': 0.6313057821761723},\n",
       " 'YTWYLTWGHM': {'MHC': 'A*31:01',\n",
       "  'Rew_MHC': 0.9189791542603701,\n",
       "  'TCR_Seq': 'CASSHGLNSNQPQHF',\n",
       "  'Rew_TCR': 0.9249604966752163,\n",
       "  'Classification': 0.9081806418865639},\n",
       " 'SARNPVDIY': {'MHC': 'B*48:01',\n",
       "  'Rew_MHC': 0.8323593236438716,\n",
       "  'TCR_Seq': 'CASSAGRIYEQYF',\n",
       "  'Rew_TCR': 0.8933677374385777,\n",
       "  'Classification': 0.8736799081251957},\n",
       " 'QSHCWVHY': {'MHC': 'B*48:01',\n",
       "  'Rew_MHC': 0.8372462741115927,\n",
       "  'TCR_Seq': 'CSAKTGGYTF',\n",
       "  'Rew_TCR': 0.9714994758729135,\n",
       "  'Classification': 0.5927669891794938},\n",
       " 'DADITEHVDS': {'MHC': 'A*02:12',\n",
       "  'Rew_MHC': 0.9139157375400131,\n",
       "  'TCR_Seq': 'CASIRTGNYGYTF',\n",
       "  'Rew_TCR': 0.853656011232399,\n",
       "  'Classification': 0.8683586853208055},\n",
       " 'YCYNYQWPHR': {'MHC': 'A*03:01',\n",
       "  'Rew_MHC': 0.8627235194763344,\n",
       "  'TCR_Seq': 'CASSLGNYEQYF',\n",
       "  'Rew_TCR': 0.8207871444953092,\n",
       "  'Classification': 0.5717757755371772},\n",
       " 'MPWFYPVAN': {'MHC': 'B*08:01',\n",
       "  'Rew_MHC': 0.9577532572180454,\n",
       "  'TCR_Seq': 'CSARDAQAEDGYTF',\n",
       "  'Rew_TCR': 0.9797406398678017,\n",
       "  'Classification': 0.7498808207583867},\n",
       " 'SPCYPRWCE': {'MHC': 'A*30:01',\n",
       "  'Rew_MHC': 0.8365713344605775,\n",
       "  'TCR_Seq': 'CASEGDIQYF',\n",
       "  'Rew_TCR': 0.7983140207385404,\n",
       "  'Classification': 0.5737294423619075},\n",
       " 'IYPPHPNICADK': {'MHC': 'C*06:02',\n",
       "  'Rew_MHC': 0.935386070568367,\n",
       "  'TCR_Seq': 'CASSIGTSGSPTDTQYF',\n",
       "  'Rew_TCR': 0.7283914660446557,\n",
       "  'Classification': 0.8299915346520497},\n",
       " 'RSEYCTPCR': {'MHC': 'A*68:02',\n",
       "  'Rew_MHC': 0.9717075364546355,\n",
       "  'TCR_Seq': 'CASSPGRVSNEQFF',\n",
       "  'Rew_TCR': 0.9099995918907038,\n",
       "  'Classification': 0.5605338709846402},\n",
       " 'CFMQGMHDS': {'MHC': 'A*24:02',\n",
       "  'Rew_MHC': 0.817493252264834,\n",
       "  'TCR_Seq': 'CASSLDRQGRDTQYF',\n",
       "  'Rew_TCR': 0.8157694478955868,\n",
       "  'Classification': 0.7778722096867849},\n",
       " 'LRSMSPSAG': {'MHC': 'B*15:03',\n",
       "  'Rew_MHC': 0.8364349096552243,\n",
       "  'TCR_Seq': 'CASSLGQMNTEAFF',\n",
       "  'Rew_TCR': 0.7754499547049383,\n",
       "  'Classification': 0.5802376375021625},\n",
       " 'HWMWVDMY': {'MHC': 'A*31:01',\n",
       "  'Rew_MHC': 0.9142301767839651,\n",
       "  'TCR_Seq': 'CASSLPGTAYEQYF',\n",
       "  'Rew_TCR': 0.840764658360629,\n",
       "  'Classification': 0.825857442230205},\n",
       " 'SEMSWLDEALAW': {'MHC': 'C*12:03',\n",
       "  'Rew_MHC': 0.9189776983506344,\n",
       "  'TCR_Seq': 'CASSAHASGSYNEQFF',\n",
       "  'Rew_TCR': 0.8768140345446329,\n",
       "  'Classification': 0.5791763673086278},\n",
       " 'CVDGPDQKGFS': {'MHC': 'C*12:03',\n",
       "  'Rew_MHC': 0.9422544948307575,\n",
       "  'TCR_Seq': 'CASSLSGRTGMNTEAFF',\n",
       "  'Rew_TCR': 0.9611155207144886,\n",
       "  'Classification': 0.6831153778385188},\n",
       " 'SGQTRAIQ': {'MHC': 'A*02:03',\n",
       "  'Rew_MHC': 0.9476147862568107,\n",
       "  'TCR_Seq': 'CASSLRSKETQYF',\n",
       "  'Rew_TCR': 0.9985476238652043,\n",
       "  'Classification': 0.8324488484327739},\n",
       " 'GTVGQETKV': {'MHC': 'B*27:03',\n",
       "  'Rew_MHC': 0.9512299231899541,\n",
       "  'TCR_Seq': 'CASSPHRETPLHF',\n",
       "  'Rew_TCR': 0.8804781174990121,\n",
       "  'Classification': 0.7713136757655707},\n",
       " 'GVMKWIGTCP': {'MHC': 'B*44:02',\n",
       "  'Rew_MHC': 0.9860827352351458,\n",
       "  'TCR_Seq': 'CASSIGATLYGYTF',\n",
       "  'Rew_TCR': 0.7355889973262496,\n",
       "  'Classification': 0.7549559647522779},\n",
       " 'LLLFWRDGRQVQ': {'MHC': 'B*39:01',\n",
       "  'Rew_MHC': 0.8405157861952183,\n",
       "  'TCR_Seq': 'CASSIGTSGSPTDTQYF',\n",
       "  'Rew_TCR': 0.837206676113501,\n",
       "  'Classification': 0.829807824614756},\n",
       " 'YHHNKLQLEMY': {'MHC': 'C*06:02',\n",
       "  'Rew_MHC': 0.9760706378285993,\n",
       "  'TCR_Seq': 'CASSLPGTAYEQYF',\n",
       "  'Rew_TCR': 0.7115448841691882,\n",
       "  'Classification': 0.8207241491398158},\n",
       " 'EDNASNVNPD': {'MHC': 'B*39:01',\n",
       "  'Rew_MHC': 0.8262810258413544,\n",
       "  'TCR_Seq': 'CASSLRSKETQYF',\n",
       "  'Rew_TCR': 0.7420489407415889,\n",
       "  'Classification': 0.9255519246428865},\n",
       " 'MRQIFPQRITRK': {'MHC': 'B*57:01',\n",
       "  'Rew_MHC': 0.8234661425106885,\n",
       "  'TCR_Seq': 'CASSLPGVDSLGQPQHF',\n",
       "  'Rew_TCR': 0.7201369686115028,\n",
       "  'Classification': 0.8228828812810938},\n",
       " 'ISASNKRGVN': {'MHC': 'A*02:11',\n",
       "  'Rew_MHC': 0.9274715659299733,\n",
       "  'TCR_Seq': 'CSARDAQAEDGYTF',\n",
       "  'Rew_TCR': 0.8966710740124383,\n",
       "  'Classification': 0.8060015777483392},\n",
       " 'RVPLVSCRKDKY': {'MHC': 'C*04:01',\n",
       "  'Rew_MHC': 0.824606089914935,\n",
       "  'TCR_Seq': 'CASNRGTEAFF',\n",
       "  'Rew_TCR': 0.7522721386928978,\n",
       "  'Classification': 0.8650554454197515},\n",
       " 'GMSSFRSWLE': {'MHC': 'C*08:02',\n",
       "  'Rew_MHC': 0.9824546771921321,\n",
       "  'TCR_Seq': 'CASRWDTNTEAFF',\n",
       "  'Rew_TCR': 0.7962937381372274,\n",
       "  'Classification': 0.6751830654154164},\n",
       " 'CYMYVANQVSCT': {'MHC': 'B*57:01',\n",
       "  'Rew_MHC': 0.9108238608225188,\n",
       "  'TCR_Seq': 'CASSETGADSGYTF',\n",
       "  'Rew_TCR': 0.7084806777736119,\n",
       "  'Classification': 0.5952149785998098},\n",
       " 'RQHAANQI': {'MHC': 'A*24:02',\n",
       "  'Rew_MHC': 0.9728147276714386,\n",
       "  'TCR_Seq': 'CASSAERSSYNSPLHF',\n",
       "  'Rew_TCR': 0.8770176301946931,\n",
       "  'Classification': 0.8137380260699129},\n",
       " 'YRQGGAKRE': {'MHC': 'B*44:03',\n",
       "  'Rew_MHC': 0.9960783359484612,\n",
       "  'TCR_Seq': 'CASSLVYGSELSNTGELFF',\n",
       "  'Rew_TCR': 0.918963879053631,\n",
       "  'Classification': 0.8150404184787187},\n",
       " 'TWELSKRLW': {'MHC': 'C*06:02',\n",
       "  'Rew_MHC': 0.9613440158374364,\n",
       "  'TCR_Seq': 'CASRGQGAREQYF',\n",
       "  'Rew_TCR': 0.7562504557837645,\n",
       "  'Classification': 0.7514289572906108},\n",
       " 'IFRARHYKSYV': {'MHC': 'A*30:01',\n",
       "  'Rew_MHC': 0.8984051336783676,\n",
       "  'TCR_Seq': 'CASRKRQEPYYGYTF',\n",
       "  'Rew_TCR': 0.9845767976000237,\n",
       "  'Classification': 0.547220638670944},\n",
       " 'VFECEDRCN': {'MHC': 'C*08:02',\n",
       "  'Rew_MHC': 0.9113779910596771,\n",
       "  'TCR_Seq': 'CSARDAQAEDGYTF',\n",
       "  'Rew_TCR': 0.7492232404241594,\n",
       "  'Classification': 0.8526984997805991},\n",
       " 'YWGPQVDHIRD': {'MHC': 'B*45:01',\n",
       "  'Rew_MHC': 0.8541111371969523,\n",
       "  'TCR_Seq': 'CASIRTGNYGYTF',\n",
       "  'Rew_TCR': 0.9230870128603291,\n",
       "  'Classification': 0.8836652346637954},\n",
       " 'QTRMTRER': {'MHC': 'A*33:01',\n",
       "  'Rew_MHC': 0.8069159416264434,\n",
       "  'TCR_Seq': 'CASSAHASGSYNEQFF',\n",
       "  'Rew_TCR': 0.8770631670006763,\n",
       "  'Classification': 0.7861160766829369},\n",
       " 'HDIVMVPGV': {'MHC': 'A*02:03',\n",
       "  'Rew_MHC': 0.8275903397969865,\n",
       "  'TCR_Seq': 'CASRGQGVTYNEQFF',\n",
       "  'Rew_TCR': 0.8803959454348069,\n",
       "  'Classification': 0.8893803370862752},\n",
       " 'VKYELPKELC': {'MHC': 'B*15:09',\n",
       "  'Rew_MHC': 0.9014008082418535,\n",
       "  'TCR_Seq': 'CSAKTGGYTF',\n",
       "  'Rew_TCR': 0.9060740555970217,\n",
       "  'Classification': 0.6468886643898245},\n",
       " 'DVDDNWWTLHIW': {'MHC': 'A*02:11',\n",
       "  'Rew_MHC': 0.9353476466444126,\n",
       "  'TCR_Seq': 'CASSIGATLYGYTF',\n",
       "  'Rew_TCR': 0.7181474709951897,\n",
       "  'Classification': 0.8280230366153314},\n",
       " 'CTGASSCYA': {'MHC': 'A*30:01',\n",
       "  'Rew_MHC': 0.8384938558627208,\n",
       "  'TCR_Seq': 'CASSLPGVDSLGQPQHF',\n",
       "  'Rew_TCR': 0.7856458527964824,\n",
       "  'Classification': 0.7618961784206242},\n",
       " 'AGVNFCAWH': {'MHC': 'A*68:02',\n",
       "  'Rew_MHC': 0.8908436243895657,\n",
       "  'TCR_Seq': 'CASSHSGGRGEQFF',\n",
       "  'Rew_TCR': 0.7471995966178379,\n",
       "  'Classification': 0.8952745907505089},\n",
       " 'QIPYVEHW': {'MHC': 'A*23:01',\n",
       "  'Rew_MHC': 0.8030638691074583,\n",
       "  'TCR_Seq': 'CASSFARGTGVYEQYF',\n",
       "  'Rew_TCR': 0.8031532880439626,\n",
       "  'Classification': 0.620534838138133},\n",
       " 'MDQPVDCC': {'MHC': 'B*27:05',\n",
       "  'Rew_MHC': 0.9896378410417954,\n",
       "  'TCR_Seq': 'CASSPRGQGAEEQYF',\n",
       "  'Rew_TCR': 0.8900824786788047,\n",
       "  'Classification': 0.532638803560358},\n",
       " 'CGPNQRNLYID': {'MHC': 'B*35:01',\n",
       "  'Rew_MHC': 0.8702512130640628,\n",
       "  'TCR_Seq': 'CASRWDTNTEAFF',\n",
       "  'Rew_TCR': 0.9140010048534071,\n",
       "  'Classification': 0.7585817410738126},\n",
       " 'HRLVRKDCYQC': {'MHC': 'B*15:17',\n",
       "  'Rew_MHC': 0.900724280197771,\n",
       "  'TCR_Seq': 'CASRTTRALFF',\n",
       "  'Rew_TCR': 0.8371946174015912,\n",
       "  'Classification': 0.7196012073316643},\n",
       " 'TRNPSHANRAP': {'MHC': 'B*15:09',\n",
       "  'Rew_MHC': 0.8310902135246104,\n",
       "  'TCR_Seq': 'CSARTGEMWTEAFF',\n",
       "  'Rew_TCR': 0.8832591145499006,\n",
       "  'Classification': 0.5335585489570474},\n",
       " 'LLVNFVLPLWI': {'MHC': 'A*03:01',\n",
       "  'Rew_MHC': 0.9991144731202231,\n",
       "  'TCR_Seq': 'CASSLGTEGTYEQYF',\n",
       "  'Rew_TCR': 0.8976417200850579,\n",
       "  'Classification': 0.5729351187598329},\n",
       " 'STWNIGPP': {'MHC': 'B*40:01',\n",
       "  'Rew_MHC': 0.8048130994755648,\n",
       "  'TCR_Seq': 'CASSLPGVDSLGQPQHF',\n",
       "  'Rew_TCR': 0.7046059282601347,\n",
       "  'Classification': 0.700064765951893},\n",
       " 'EFAWTGSNHY': {'MHC': 'A*26:03',\n",
       "  'Rew_MHC': 0.9711372530375362,\n",
       "  'TCR_Seq': 'CASSLPGVDSLGQPQHF',\n",
       "  'Rew_TCR': 0.8762107731956744,\n",
       "  'Classification': 0.7676496058140854},\n",
       " 'VTEPGIVC': {'MHC': 'B*40:01',\n",
       "  'Rew_MHC': 0.8007439037522658,\n",
       "  'TCR_Seq': 'CASSLTGTGEDTQYF',\n",
       "  'Rew_TCR': 0.7940191476501682,\n",
       "  'Classification': 0.5880099428771001},\n",
       " 'QARRPHERMHV': {'MHC': 'A*02:01',\n",
       "  'Rew_MHC': 0.8397163856293238,\n",
       "  'TCR_Seq': 'CASSLRSKETQYF',\n",
       "  'Rew_TCR': 0.7849842009838085,\n",
       "  'Classification': 0.603577287491198},\n",
       " 'FQGHFCLWFA': {'MHC': 'A*33:01',\n",
       "  'Rew_MHC': 0.9155588087040317,\n",
       "  'TCR_Seq': 'CASSLVYGSELSNTGELFF',\n",
       "  'Rew_TCR': 0.7596322156280804,\n",
       "  'Classification': 0.6833501653226957},\n",
       " 'WWLVCYDVDRCY': {'MHC': 'A*30:02',\n",
       "  'Rew_MHC': 0.8852768062521225,\n",
       "  'TCR_Seq': 'CASSLALAGGIADTQYF',\n",
       "  'Rew_TCR': 0.8585337205361199,\n",
       "  'Classification': 0.5375052231881642},\n",
       " 'QTSLNYYSKVQH': {'MHC': 'B*15:03',\n",
       "  'Rew_MHC': 0.9692089626229605,\n",
       "  'TCR_Seq': 'CASSETGADSGYTF',\n",
       "  'Rew_TCR': 0.7409971429399255,\n",
       "  'Classification': 0.7315845998950409},\n",
       " 'FFSCLFKCTVMW': {'MHC': 'A*68:02',\n",
       "  'Rew_MHC': 0.9661036773577344,\n",
       "  'TCR_Seq': 'CASSLTGTGEDTQYF',\n",
       "  'Rew_TCR': 0.7763333847367935,\n",
       "  'Classification': 0.5770128723688104},\n",
       " 'WFKTRWIRFAG': {'MHC': 'A*24:03',\n",
       "  'Rew_MHC': 0.9031735319407596,\n",
       "  'TCR_Seq': 'CSASPRALGNYEQYF',\n",
       "  'Rew_TCR': 0.7629531073439325,\n",
       "  'Classification': 0.6505683801512271},\n",
       " 'HREANCMY': {'MHC': 'A*02:02',\n",
       "  'Rew_MHC': 0.9737204097436467,\n",
       "  'TCR_Seq': 'CSAKTGGYTF',\n",
       "  'Rew_TCR': 0.7611769817721526,\n",
       "  'Classification': 0.8596694315163861},\n",
       " 'RFCDPDVD': {'MHC': 'A*02:02',\n",
       "  'Rew_MHC': 0.9363677495633813,\n",
       "  'TCR_Seq': 'CASPPSAEAKATNEKLFF',\n",
       "  'Rew_TCR': 0.9068626403156189,\n",
       "  'Classification': 0.8486286517846298},\n",
       " 'GFCNTMHGC': {'MHC': 'A*24:03',\n",
       "  'Rew_MHC': 0.9429764637468802,\n",
       "  'TCR_Seq': 'CASSFARGTGVYEQYF',\n",
       "  'Rew_TCR': 0.8247137586586173,\n",
       "  'Classification': 0.9107991409535849},\n",
       " 'LGTRYVQA': {'MHC': 'A*02:02',\n",
       "  'Rew_MHC': 0.9381722058759034,\n",
       "  'TCR_Seq': 'CASSFARGTGVYEQYF',\n",
       "  'Rew_TCR': 0.9287693788704127,\n",
       "  'Classification': 0.8037167113203536},\n",
       " 'HTPNYLSLCPY': {'MHC': 'A*32:07',\n",
       "  'Rew_MHC': 0.9805496417503526,\n",
       "  'TCR_Seq': 'CAWSRLGEKLFF',\n",
       "  'Rew_TCR': 0.7943074911439925,\n",
       "  'Classification': 0.9224526546881511},\n",
       " 'IFMSIFKI': {'MHC': 'A*80:01',\n",
       "  'Rew_MHC': 0.9196730630738215,\n",
       "  'TCR_Seq': 'CASSLSGRTGMNTEAFF',\n",
       "  'Rew_TCR': 0.8517106537612649,\n",
       "  'Classification': 0.6240742547000827},\n",
       " 'APQILDFPY': {'MHC': 'A*23:01',\n",
       "  'Rew_MHC': 0.8405947882581029,\n",
       "  'TCR_Seq': 'CASSPGQAGLAGYTF',\n",
       "  'Rew_TCR': 0.7369653594745039,\n",
       "  'Classification': 0.6789230894325262},\n",
       " 'YQVPTDTQA': {'MHC': 'B*15:09',\n",
       "  'Rew_MHC': 0.9521276482192502,\n",
       "  'TCR_Seq': 'CASSAGRIYEQYF',\n",
       "  'Rew_TCR': 0.9564064825932401,\n",
       "  'Classification': 0.8029099101893111},\n",
       " 'FYSLDEPYKT': {'MHC': 'A*66:01',\n",
       "  'Rew_MHC': 0.9416083643138246,\n",
       "  'TCR_Seq': 'CASSLALAGGIADTQYF',\n",
       "  'Rew_TCR': 0.9588138576852065,\n",
       "  'Classification': 0.8894158418430633},\n",
       " 'NHLKLTDSSS': {'MHC': 'B*15:17',\n",
       "  'Rew_MHC': 0.8209976452309579,\n",
       "  'TCR_Seq': 'CASSITSARGETQYF',\n",
       "  'Rew_TCR': 0.7145546192725737,\n",
       "  'Classification': 0.9215354940189124},\n",
       " 'FLCRNCSFVY': {'MHC': 'B*07:02',\n",
       "  'Rew_MHC': 0.8261037114075859,\n",
       "  'TCR_Seq': 'CASSAERSSYNSPLHF',\n",
       "  'Rew_TCR': 0.720624133650577,\n",
       "  'Classification': 0.7593739860785406},\n",
       " 'TWPSNFIAPEA': {'MHC': 'A*66:01',\n",
       "  'Rew_MHC': 0.8324605173385018,\n",
       "  'TCR_Seq': 'CASSLRSKETQYF',\n",
       "  'Rew_TCR': 0.733637613609359,\n",
       "  'Classification': 0.616412295595199},\n",
       " 'RWCGSWLPNTTR': {'MHC': 'B*53:01',\n",
       "  'Rew_MHC': 0.8643956744393412,\n",
       "  'TCR_Seq': 'CASRTTRALFF',\n",
       "  'Rew_TCR': 0.9030143236569688,\n",
       "  'Classification': 0.5141522375789737},\n",
       " 'FFTICFAVMMVL': {'MHC': 'C*08:02',\n",
       "  'Rew_MHC': 0.8596419876316382,\n",
       "  'TCR_Seq': 'CASSFVGENQPQHF',\n",
       "  'Rew_TCR': 0.8444369479836968,\n",
       "  'Classification': 0.8742675260021214},\n",
       " 'YWHEPAPEGM': {'MHC': 'A*02:02',\n",
       "  'Rew_MHC': 0.975454843262296,\n",
       "  'TCR_Seq': 'CASPPSAEAKATNEKLFF',\n",
       "  'Rew_TCR': 0.7376498855842856,\n",
       "  'Classification': 0.81541462696878},\n",
       " 'WMPMHGPT': {'MHC': 'A*29:02',\n",
       "  'Rew_MHC': 0.9192389235390503,\n",
       "  'TCR_Seq': 'CASSPFMGGSYEQYF',\n",
       "  'Rew_TCR': 0.8477096659567647,\n",
       "  'Classification': 0.843610472625793},\n",
       " 'CWYLCDRC': {'MHC': 'A*02:02',\n",
       "  'Rew_MHC': 0.9816412403111234,\n",
       "  'TCR_Seq': 'CASEGDIQYF',\n",
       "  'Rew_TCR': 0.9143280251685099,\n",
       "  'Classification': 0.8966617500398593},\n",
       " 'FMLVLDRT': {'MHC': 'C*04:01',\n",
       "  'Rew_MHC': 0.9559720140691422,\n",
       "  'TCR_Seq': 'CSVARGNGNTIYF',\n",
       "  'Rew_TCR': 0.7016996757846501,\n",
       "  'Classification': 0.8131433547677567},\n",
       " 'DWSFPEDKWCA': {'MHC': 'C*05:01',\n",
       "  'Rew_MHC': 0.8033667950805347,\n",
       "  'TCR_Seq': 'CASSAHASGSYNEQFF',\n",
       "  'Rew_TCR': 0.7276328573523876,\n",
       "  'Classification': 0.6561893211034684},\n",
       " 'LLPYAMIL': {'MHC': 'B*58:01',\n",
       "  'Rew_MHC': 0.940895927197348,\n",
       "  'TCR_Seq': 'CASSFGRSTDTQYF',\n",
       "  'Rew_TCR': 0.7610107217544252,\n",
       "  'Classification': 0.6271991211029413},\n",
       " 'NCQGNEKWVHIN': {'MHC': 'A*68:01',\n",
       "  'Rew_MHC': 0.8726124171039996,\n",
       "  'TCR_Seq': 'CASRKRQEPYYGYTF',\n",
       "  'Rew_TCR': 0.8103580984727533,\n",
       "  'Classification': 0.5124762765784586},\n",
       " 'YAFDDGPPVYFN': {'MHC': 'A*02:11',\n",
       "  'Rew_MHC': 0.885632644411334,\n",
       "  'TCR_Seq': 'CASSEARSNQVTEAFF',\n",
       "  'Rew_TCR': 0.9865705737414286,\n",
       "  'Classification': 0.8374682405001903},\n",
       " 'RFDAFFIKGQI': {'MHC': 'B*39:01',\n",
       "  'Rew_MHC': 0.8052762975347648,\n",
       "  'TCR_Seq': 'CASSAERSSYNSPLHF',\n",
       "  'Rew_TCR': 0.9016497285480072,\n",
       "  'Classification': 0.5940553332364507},\n",
       " 'NYYQKRTWFM': {'MHC': 'B*40:02',\n",
       "  'Rew_MHC': 0.928890077156763,\n",
       "  'TCR_Seq': 'CASSLAGASYNEQFF',\n",
       "  'Rew_TCR': 0.8538363044157864,\n",
       "  'Classification': 0.5868284756650244},\n",
       " 'CQDQVHHMFHS': {'MHC': 'A*32:07',\n",
       "  'Rew_MHC': 0.9827204287334027,\n",
       "  'TCR_Seq': 'CASSLPGTAYEQYF',\n",
       "  'Rew_TCR': 0.8830108793198526,\n",
       "  'Classification': 0.7115342896599943},\n",
       " 'CQQHMQMHI': {'MHC': 'A*24:03',\n",
       "  'Rew_MHC': 0.908868555551264,\n",
       "  'TCR_Seq': 'CASNRGTEAFF',\n",
       "  'Rew_TCR': 0.9649145127138907,\n",
       "  'Classification': 0.5121243055725709},\n",
       " 'SKGGKFRG': {'MHC': 'A*02:03',\n",
       "  'Rew_MHC': 0.9116783419437684,\n",
       "  'TCR_Seq': 'CSASSAGGTDTQYF',\n",
       "  'Rew_TCR': 0.9683442980600796,\n",
       "  'Classification': 0.7928799016502901},\n",
       " 'HHRNKTGAESP': {'MHC': 'A*02:12',\n",
       "  'Rew_MHC': 0.9266417767420201,\n",
       "  'TCR_Seq': 'CASSLGNYEQYF',\n",
       "  'Rew_TCR': 0.9328529536468919,\n",
       "  'Classification': 0.531978666393456},\n",
       " 'KCERIAIVVT': {'MHC': 'A*02:02',\n",
       "  'Rew_MHC': 0.9828558473134218,\n",
       "  'TCR_Seq': 'CSASSAGGTDTQYF',\n",
       "  'Rew_TCR': 0.8768861674179325,\n",
       "  'Classification': 0.5436345742729684},\n",
       " 'GLVARETINEA': {'MHC': 'A*03:01',\n",
       "  'Rew_MHC': 0.9317774718218481,\n",
       "  'TCR_Seq': 'CASRDRDSNYGYTF',\n",
       "  'Rew_TCR': 0.7119906486163621,\n",
       "  'Classification': 0.6062599421493214},\n",
       " 'RPKEKVLQMG': {'MHC': 'A*23:01',\n",
       "  'Rew_MHC': 0.810521042993571,\n",
       "  'TCR_Seq': 'CASSFGRSTDTQYF',\n",
       "  'Rew_TCR': 0.8724813826245068,\n",
       "  'Classification': 0.6351192601753691},\n",
       " 'VAPHITWTIFK': {'MHC': 'A*31:01',\n",
       "  'Rew_MHC': 0.8208185951807194,\n",
       "  'TCR_Seq': 'CASRDRDSNYGYTF',\n",
       "  'Rew_TCR': 0.9861994044009155,\n",
       "  'Classification': 0.6137531752111755},\n",
       " 'GFEISWYLKGLN': {'MHC': 'B*27:03',\n",
       "  'Rew_MHC': 0.8634257593115148,\n",
       "  'TCR_Seq': 'CASSLGTEGTYEQYF',\n",
       "  'Rew_TCR': 0.8418362291808695,\n",
       "  'Classification': 0.8085393317983981},\n",
       " 'CHFTDQQC': {'MHC': 'C*08:02',\n",
       "  'Rew_MHC': 0.8117250436404485,\n",
       "  'TCR_Seq': 'CSARDNFPGANVLTF',\n",
       "  'Rew_TCR': 0.9720507668169238,\n",
       "  'Classification': 0.7926666280010299},\n",
       " 'MNKEYYIP': {'MHC': 'B*08:01',\n",
       "  'Rew_MHC': 0.8198754516794324,\n",
       "  'TCR_Seq': 'CSARTGEMWTEAFF',\n",
       "  'Rew_TCR': 0.9613376802496941,\n",
       "  'Classification': 0.6258710351294152},\n",
       " 'KIQQESME': {'MHC': 'B*07:02',\n",
       "  'Rew_MHC': 0.9774484021515095,\n",
       "  'TCR_Seq': 'CASSMLGAYEQYF',\n",
       "  'Rew_TCR': 0.7318592131552365,\n",
       "  'Classification': 0.7640275779009393},\n",
       " 'LKWWECGGY': {'MHC': 'A*02:01',\n",
       "  'Rew_MHC': 0.9584914483141206,\n",
       "  'TCR_Seq': 'CASSLDRQGRDTQYF',\n",
       "  'Rew_TCR': 0.90220036004349,\n",
       "  'Classification': 0.6879904161444109},\n",
       " 'TDQNIETWM': {'MHC': 'B*07:02',\n",
       "  'Rew_MHC': 0.9624176684939294,\n",
       "  'TCR_Seq': 'CASRDRVGTGELFF',\n",
       "  'Rew_TCR': 0.9411800350254741,\n",
       "  'Classification': 0.743720552446976},\n",
       " 'LCPVMTDD': {'MHC': 'C*04:01',\n",
       "  'Rew_MHC': 0.8799367271125569,\n",
       "  'TCR_Seq': 'CASSMLGAYEQYF',\n",
       "  'Rew_TCR': 0.9314484302341071,\n",
       "  'Classification': 0.9233243896895242},\n",
       " 'MSWYNALAS': {'MHC': 'A*02:03',\n",
       "  'Rew_MHC': 0.8856270361641526,\n",
       "  'TCR_Seq': 'CASSPGQAGLAGYTF',\n",
       "  'Rew_TCR': 0.7415579221324763,\n",
       "  'Classification': 0.8357208251785713},\n",
       " 'EPFGGRLTM': {'MHC': 'B*46:01',\n",
       "  'Rew_MHC': 0.8163216899070415,\n",
       "  'TCR_Seq': 'CASRDRVGTGELFF',\n",
       "  'Rew_TCR': 0.7364545959331824,\n",
       "  'Classification': 0.8875046900375059},\n",
       " 'MGSQVWRED': {'MHC': 'A*03:01',\n",
       "  'Rew_MHC': 0.9641685557609951,\n",
       "  'TCR_Seq': 'CASSPFMGGSYEQYF',\n",
       "  'Rew_TCR': 0.9417866179716201,\n",
       "  'Classification': 0.9135963754029488},\n",
       " 'RVHHATKP': {'MHC': 'A*80:01',\n",
       "  'Rew_MHC': 0.8582198224835298,\n",
       "  'TCR_Seq': 'CASSLGNYEQYF',\n",
       "  'Rew_TCR': 0.723159660691285,\n",
       "  'Classification': 0.5429685316712131},\n",
       " 'CQPKLCVE': {'MHC': 'C*08:02',\n",
       "  'Rew_MHC': 0.8591679508613278,\n",
       "  'TCR_Seq': 'CSASSAGGTDTQYF',\n",
       "  'Rew_TCR': 0.7924906068579436,\n",
       "  'Classification': 0.739105305369223},\n",
       " 'CYIMKLWRQMQ': {'MHC': 'A*02:12',\n",
       "  'Rew_MHC': 0.891312860363328,\n",
       "  'TCR_Seq': 'CASSPGQGRYEQYF',\n",
       "  'Rew_TCR': 0.9955019879477558,\n",
       "  'Classification': 0.6953193645492812},\n",
       " 'QSEAGVELKSQ': {'MHC': 'A*01:01',\n",
       "  'Rew_MHC': 0.9913298651416917,\n",
       "  'TCR_Seq': 'CASSLNGDRGSYEQYF',\n",
       "  'Rew_TCR': 0.8672941322321627,\n",
       "  'Classification': 0.6311905954353312},\n",
       " 'TDEDHISWLHAE': {'MHC': 'A*33:01',\n",
       "  'Rew_MHC': 0.8501751089676426,\n",
       "  'TCR_Seq': 'CASSIFSGRINEQFF',\n",
       "  'Rew_TCR': 0.7106454016843959,\n",
       "  'Classification': 0.9299152272017546},\n",
       " 'NASGQAMQKR': {'MHC': 'A*02:16',\n",
       "  'Rew_MHC': 0.9647515412905525,\n",
       "  'TCR_Seq': 'CASSMLGAYEQYF',\n",
       "  'Rew_TCR': 0.9318150156414684,\n",
       "  'Classification': 0.669174619839912},\n",
       " 'KPLCLAHP': {'MHC': 'B*14:02',\n",
       "  'Rew_MHC': 0.9719456427647393,\n",
       "  'TCR_Seq': 'CASSPRGQGAEEQYF',\n",
       "  'Rew_TCR': 0.9990591657429664,\n",
       "  'Classification': 0.6553221862998253},\n",
       " 'PYPQDGIAFH': {'MHC': 'A*01:01',\n",
       "  'Rew_MHC': 0.8739337761256825,\n",
       "  'TCR_Seq': 'CASSIFSGRINEQFF',\n",
       "  'Rew_TCR': 0.966808935031423,\n",
       "  'Classification': 0.7825200725095516},\n",
       " 'LMKVYGDD': {'MHC': 'A*80:01',\n",
       "  'Rew_MHC': 0.8723040797721872,\n",
       "  'TCR_Seq': 'CASSIGTSGSPTDTQYF',\n",
       "  'Rew_TCR': 0.8359195844210274,\n",
       "  'Classification': 0.7389447074246784},\n",
       " 'VHWLPQSPGHCR': {'MHC': 'A*11:01',\n",
       "  'Rew_MHC': 0.9784733559698406,\n",
       "  'TCR_Seq': 'CASSETGADSGYTF',\n",
       "  'Rew_TCR': 0.9307147789869843,\n",
       "  'Classification': 0.5443946038142684},\n",
       " 'EENIRHWR': {'MHC': 'C*05:01',\n",
       "  'Rew_MHC': 0.8639127849840829,\n",
       "  'TCR_Seq': 'CASSPGRVSNEQFF',\n",
       "  'Rew_TCR': 0.9232888055549697,\n",
       "  'Classification': 0.656989767433274},\n",
       " 'WTLISDHQDAV': {'MHC': 'B*08:02',\n",
       "  'Rew_MHC': 0.8446652932374796,\n",
       "  'TCR_Seq': 'CASSLVYGSELSNTGELFF',\n",
       "  'Rew_TCR': 0.9432441405268384,\n",
       "  'Classification': 0.6170460048358914},\n",
       " 'EKKVQWFYIFEI': {'MHC': 'A*26:03',\n",
       "  'Rew_MHC': 0.9048309344702341,\n",
       "  'TCR_Seq': 'CASSLGRVISYEQYF',\n",
       "  'Rew_TCR': 0.7430213539640474,\n",
       "  'Classification': 0.5122884569847046},\n",
       " 'YFISCKFPH': {'MHC': 'B*15:42',\n",
       "  'Rew_MHC': 0.981482865002275,\n",
       "  'TCR_Seq': 'CASRTTRALFF',\n",
       "  'Rew_TCR': 0.7630279415051956,\n",
       "  'Classification': 0.6305237216766736},\n",
       " 'ENQNRGMPITF': {'MHC': 'A*02:01',\n",
       "  'Rew_MHC': 0.9164292334219405,\n",
       "  'TCR_Seq': 'CASSLQGGFAEAFF',\n",
       "  'Rew_TCR': 0.8968989213726777,\n",
       "  'Classification': 0.8292819596895257},\n",
       " 'AHNMVALQAC': {'MHC': 'A*80:01',\n",
       "  'Rew_MHC': 0.8193014106406813,\n",
       "  'TCR_Seq': 'CASSLGTEGTYEQYF',\n",
       "  'Rew_TCR': 0.7716303928102467,\n",
       "  'Classification': 0.5939669923904021},\n",
       " 'NKRRLCDCWQC': {'MHC': 'A*69:01',\n",
       "  'Rew_MHC': 0.908183105060617,\n",
       "  'TCR_Seq': 'CASSMLGAYEQYF',\n",
       "  'Rew_TCR': 0.9496823161502276,\n",
       "  'Classification': 0.7623967928622135},\n",
       " 'QKHYMRWFL': {'MHC': 'C*12:03',\n",
       "  'Rew_MHC': 0.8579280952198666,\n",
       "  'TCR_Seq': 'CASSLPGTAYEQYF',\n",
       "  'Rew_TCR': 0.7589625766163476,\n",
       "  'Classification': 0.9119006039893085},\n",
       " 'GGECEPDL': {'MHC': 'C*03:03',\n",
       "  'Rew_MHC': 0.9356300182054724,\n",
       "  'TCR_Seq': 'CASSFGRSTDTQYF',\n",
       "  'Rew_TCR': 0.7056812696196043,\n",
       "  'Classification': 0.9195501726945622},\n",
       " 'CIQWTYPRFHEM': {'MHC': 'A*02:03',\n",
       "  'Rew_MHC': 0.8223804034428859,\n",
       "  'TCR_Seq': 'CASKETDYGYTF',\n",
       "  'Rew_TCR': 0.9057801796237752,\n",
       "  'Classification': 0.5448791714687427},\n",
       " 'AMVGSDTAQI': {'MHC': 'B*46:01',\n",
       "  'Rew_MHC': 0.8969467685804242,\n",
       "  'TCR_Seq': 'CASSLVYGSELSNTGELFF',\n",
       "  'Rew_TCR': 0.8148446072206089,\n",
       "  'Classification': 0.8720081335197218},\n",
       " 'INVPWGAVIQM': {'MHC': 'A*01:01',\n",
       "  'Rew_MHC': 0.9690326102433655,\n",
       "  'TCR_Seq': 'CASSHSGGRGEQFF',\n",
       "  'Rew_TCR': 0.7635769965574821,\n",
       "  'Classification': 0.6995202266254794},\n",
       " 'IPLYARPQFMIH': {'MHC': 'A*32:01',\n",
       "  'Rew_MHC': 0.988472022313682,\n",
       "  'TCR_Seq': 'CASSPRGQGAEEQYF',\n",
       "  'Rew_TCR': 0.9252216021638855,\n",
       "  'Classification': 0.701635279246976},\n",
       " 'LGPTRACIVM': {'MHC': 'B*44:03',\n",
       "  'Rew_MHC': 0.9353786059725313,\n",
       "  'TCR_Seq': 'CASKETDYGYTF',\n",
       "  'Rew_TCR': 0.8994608512120754,\n",
       "  'Classification': 0.704009227625289},\n",
       " 'WHKNDRPWM': {'MHC': 'A*11:01',\n",
       "  'Rew_MHC': 0.8514740161147555,\n",
       "  'TCR_Seq': 'CASSLNGDRGSYEQYF',\n",
       "  'Rew_TCR': 0.909629768282082,\n",
       "  'Classification': 0.5413982508348076},\n",
       " 'QIHDMLYMIT': {'MHC': 'B*39:01',\n",
       "  'Rew_MHC': 0.9399379202892867,\n",
       "  'TCR_Seq': 'CASSFARGTGVYEQYF',\n",
       "  'Rew_TCR': 0.9178694880125804,\n",
       "  'Classification': 0.9293644733144828},\n",
       " 'VGILTIQTTVRQ': {'MHC': 'A*02:02',\n",
       "  'Rew_MHC': 0.8625351299188837,\n",
       "  'TCR_Seq': 'CASSAGRIYEQYF',\n",
       "  'Rew_TCR': 0.8008296911139471,\n",
       "  'Classification': 0.7836519361761658},\n",
       " 'DSEVNWWYI': {'MHC': 'A*26:01',\n",
       "  'Rew_MHC': 0.8731551786992223,\n",
       "  'TCR_Seq': 'CASRGQGVTYNEQFF',\n",
       "  'Rew_TCR': 0.9761939050108331,\n",
       "  'Classification': 0.5981762005808405},\n",
       " 'IRIEMHGCYK': {'MHC': 'A*26:01',\n",
       "  'Rew_MHC': 0.9718996329511365,\n",
       "  'TCR_Seq': 'CASRDRDSNYGYTF',\n",
       "  'Rew_TCR': 0.7348225355689054,\n",
       "  'Classification': 0.5672280237273003},\n",
       " 'FWNYMCLLMYCE': {'MHC': 'B*44:03',\n",
       "  'Rew_MHC': 0.9733744814094226,\n",
       "  'TCR_Seq': 'CASRKRQEPYYGYTF',\n",
       "  'Rew_TCR': 0.9560672236102645,\n",
       "  'Classification': 0.9106490918575325},\n",
       " 'GMVVLQLHAYY': {'MHC': 'C*12:03',\n",
       "  'Rew_MHC': 0.906761944960689,\n",
       "  'TCR_Seq': 'CASSPFMGGSYEQYF',\n",
       "  'Rew_TCR': 0.8000454549281726,\n",
       "  'Classification': 0.8152516208450302}}"
      ]
     },
     "execution_count": 31,
     "metadata": {},
     "output_type": "execute_result"
    }
   ],
   "source": [
    "selected_seq"
   ]
  },
  {
   "cell_type": "code",
   "execution_count": 32,
   "id": "048c2975-fc9a-48d1-ab8b-47739b3e39ac",
   "metadata": {},
   "outputs": [
    {
     "data": {
      "text/plain": [
       "{'B*35:01': 2,\n",
       " 'B*18:01': 1,\n",
       " 'B*44:03': 5,\n",
       " 'B*15:09': 5,\n",
       " 'B*14:02': 2,\n",
       " 'A*11:01': 4,\n",
       " 'B*53:01': 2,\n",
       " 'B*08:02': 2,\n",
       " 'A*29:02': 3,\n",
       " 'A*02:16': 2,\n",
       " 'A*02:02': 10,\n",
       " 'A*26:02': 2,\n",
       " 'A*02:19': 2,\n",
       " 'B*51:01': 1,\n",
       " 'B*15:42': 2,\n",
       " 'A*31:01': 5,\n",
       " 'C*03:03': 4,\n",
       " 'A*24:03': 5,\n",
       " 'C*05:01': 4,\n",
       " 'B*57:01': 3,\n",
       " 'B*07:02': 5,\n",
       " 'B*15:01': 1,\n",
       " 'A*03:01': 6,\n",
       " 'B*39:01': 5,\n",
       " 'B*54:01': 2,\n",
       " 'A*68:01': 2,\n",
       " 'A*26:01': 3,\n",
       " 'A*30:02': 2,\n",
       " 'C*06:02': 5,\n",
       " 'A*68:02': 5,\n",
       " 'A*23:01': 4,\n",
       " 'B*27:03': 4,\n",
       " 'A*69:01': 2,\n",
       " 'A*30:01': 4,\n",
       " 'A*02:03': 6,\n",
       " 'B*45:01': 2,\n",
       " 'A*32:01': 2,\n",
       " 'B*08:01': 3,\n",
       " 'B*15:03': 3,\n",
       " 'A*33:01': 4,\n",
       " 'B*48:01': 2,\n",
       " 'A*02:12': 3,\n",
       " 'A*24:02': 2,\n",
       " 'C*12:03': 4,\n",
       " 'B*44:02': 1,\n",
       " 'A*02:11': 3,\n",
       " 'C*04:01': 3,\n",
       " 'C*08:02': 5,\n",
       " 'B*27:05': 1,\n",
       " 'B*15:17': 2,\n",
       " 'B*40:01': 2,\n",
       " 'A*26:03': 2,\n",
       " 'A*02:01': 3,\n",
       " 'A*32:07': 2,\n",
       " 'A*80:01': 4,\n",
       " 'A*66:01': 2,\n",
       " 'B*58:01': 1,\n",
       " 'B*40:02': 1,\n",
       " 'B*46:01': 2,\n",
       " 'A*01:01': 3}"
      ]
     },
     "execution_count": 32,
     "metadata": {},
     "output_type": "execute_result"
    }
   ],
   "source": [
    "mhc_counts"
   ]
  },
  {
   "cell_type": "code",
   "execution_count": 33,
   "id": "3dcc4d1a-a740-4caf-9000-3e1fab0e281e",
   "metadata": {
    "scrolled": true
   },
   "outputs": [
    {
     "data": {
      "text/plain": [
       "{'CASSAGRIYEQYF': 5,\n",
       " 'CSAKTGGYTF': 5,\n",
       " 'CASSLPGVDSLGQPQHF': 6,\n",
       " 'CASRDRDSNYGYTF': 5,\n",
       " 'CASGDGTSGWTQYF': 1,\n",
       " 'CASSLNGDRGSYEQYF': 6,\n",
       " 'CASSLGQMNTEAFF': 2,\n",
       " 'CASSHSGGRGEQFF': 4,\n",
       " 'CASSITSARGETQYF': 4,\n",
       " 'CASSIGTSGSPTDTQYF': 4,\n",
       " 'CASSLTGTGEDTQYF': 3,\n",
       " 'CSARDAQAEDGYTF': 6,\n",
       " 'CASSPFMGGSYEQYF': 6,\n",
       " 'CASSPGQGRYEQYF': 2,\n",
       " 'CASSHGLNSNQPQHF': 4,\n",
       " 'CASSLGTEGTYEQYF': 4,\n",
       " 'CSASPRALGNYEQYF': 2,\n",
       " 'CASSLAGASYNEQFF': 2,\n",
       " 'CSARTGEMWTEAFF': 3,\n",
       " 'CASSAERSSYNSPLHF': 6,\n",
       " 'CASSPGRVSNEQFF': 3,\n",
       " 'CASKETDYGYTF': 3,\n",
       " 'CASSIGQGGNSPLHF': 1,\n",
       " 'CASEGDIQYF': 3,\n",
       " 'CASSPQRDVPYEQYF': 2,\n",
       " 'CASSLPGTAYEQYF': 5,\n",
       " 'CASSLDRQGRDTQYF': 3,\n",
       " 'CASSPGQAGLAGYTF': 3,\n",
       " 'CASSIGATLYGYTF': 3,\n",
       " 'CASRWDTNTEAFF': 3,\n",
       " 'CASSLGNYEQYF': 4,\n",
       " 'CASSLVYGSELSNTGELFF': 5,\n",
       " 'CASSLQGGFAEAFF': 3,\n",
       " 'CASRKRQEPYYGYTF': 4,\n",
       " 'CASPPSAEAKATNEKLFF': 3,\n",
       " 'CASSFGRSTDTQYF': 4,\n",
       " 'CASSLRTGRPEAFF': 2,\n",
       " 'CASSETGADSGYTF': 4,\n",
       " 'CASIRTGNYGYTF': 2,\n",
       " 'CASSAHASGSYNEQFF': 3,\n",
       " 'CASSLSGRTGMNTEAFF': 2,\n",
       " 'CASSLRSKETQYF': 4,\n",
       " 'CASSPHRETPLHF': 1,\n",
       " 'CASNRGTEAFF': 2,\n",
       " 'CASRGQGAREQYF': 1,\n",
       " 'CASRGQGVTYNEQFF': 2,\n",
       " 'CASSFARGTGVYEQYF': 4,\n",
       " 'CASSPRGQGAEEQYF': 3,\n",
       " 'CASRTTRALFF': 3,\n",
       " 'CASSLALAGGIADTQYF': 2,\n",
       " 'CAWSRLGEKLFF': 1,\n",
       " 'CASSFVGENQPQHF': 1,\n",
       " 'CSVARGNGNTIYF': 1,\n",
       " 'CASSEARSNQVTEAFF': 1,\n",
       " 'CSASSAGGTDTQYF': 3,\n",
       " 'CSARDNFPGANVLTF': 1,\n",
       " 'CASSMLGAYEQYF': 4,\n",
       " 'CASRDRVGTGELFF': 2,\n",
       " 'CASSIFSGRINEQFF': 2,\n",
       " 'CASSLGRVISYEQYF': 1}"
      ]
     },
     "execution_count": 33,
     "metadata": {},
     "output_type": "execute_result"
    }
   ],
   "source": [
    "tcr_seq_counts"
   ]
  },
  {
   "cell_type": "code",
   "execution_count": 35,
   "id": "d2424283-169a-4eeb-9c7e-1fbfb4fe49b5",
   "metadata": {},
   "outputs": [
    {
     "name": "stdout",
     "output_type": "stream",
     "text": [
      "Peptide: VGPMIHIGCF, MHC: A*69:01, TCR_Seq: CASSLPGVDSLGQPQHF, Rew_MHC: 0.9968263301132106, Rew_TCR: 0.9859641359650949, Classification: 0.9196404822268601, Product: 0.9038548637205236\n",
      "Peptide: PCNIKRTNVS, MHC: A*03:01, TCR_Seq: CASSPQRDVPYEQYF, Rew_MHC: 0.9933210992397703, Rew_TCR: 0.9809556776774229, Classification: 0.8958180777537053, Product: 0.8728886932028093\n",
      "Peptide: TLTDIWKHVFK, MHC: B*57:01, TCR_Seq: CSARDAQAEDGYTF, Rew_MHC: 0.9932373148356395, Rew_TCR: 0.9963429974129198, Classification: 0.8748500809018642, Product: 0.8657560522843702\n",
      "Peptide: SDFRSPWFL, MHC: B*07:02, TCR_Seq: CASSAERSSYNSPLHF, Rew_MHC: 0.9981609679179498, Rew_TCR: 0.9255497562373516, Classification: 0.9263755958358235, Product: 0.8558299084687051\n",
      "Peptide: FWNYMCLLMYCE, MHC: B*44:03, TCR_Seq: CASRKRQEPYYGYTF, Rew_MHC: 0.9733744814094226, Rew_TCR: 0.9560672236102645, Classification: 0.9106490918575325, Product: 0.8474604608634265\n"
     ]
    }
   ],
   "source": [
    "# Calculate the product of Rew_MHC, Rew_TCR, and Classification for each entry\n",
    "for key, value in selected_seq.items():\n",
    "    product = value['Rew_MHC'] * value['Rew_TCR'] * value['Classification']\n",
    "    selected_seq[key]['Product'] = product\n",
    "\n",
    "# Sort the entries by the product value in descending order and get the top 5\n",
    "top_5_entries = sorted(selected_seq.items(), key=lambda x: x[1]['Product'], reverse=True)[:5]\n",
    "\n",
    "# Print top 5 entries\n",
    "for key, value in top_5_entries:\n",
    "    print(f\"Peptide: {key}, MHC: {value['MHC']}, TCR_Seq: {value['TCR_Seq']}, \"\n",
    "          f\"Rew_MHC: {value['Rew_MHC']}, Rew_TCR: {value['Rew_TCR']}, \"\n",
    "          f\"Classification: {value['Classification']}, Product: {value['Product']}\")\n"
   ]
  },
  {
   "cell_type": "markdown",
   "id": "2607f82c-81c7-4604-a7aa-60fd6a7dfbde",
   "metadata": {},
   "source": [
    "### Patient C"
   ]
  },
  {
   "cell_type": "code",
   "execution_count": 36,
   "id": "ce056fc1-114e-47df-8a36-c2e8318d3cbd",
   "metadata": {},
   "outputs": [
    {
     "data": {
      "text/html": [
       "<div>\n",
       "<style scoped>\n",
       "    .dataframe tbody tr th:only-of-type {\n",
       "        vertical-align: middle;\n",
       "    }\n",
       "\n",
       "    .dataframe tbody tr th {\n",
       "        vertical-align: top;\n",
       "    }\n",
       "\n",
       "    .dataframe thead th {\n",
       "        text-align: right;\n",
       "    }\n",
       "</style>\n",
       "<table border=\"1\" class=\"dataframe\">\n",
       "  <thead>\n",
       "    <tr style=\"text-align: right;\">\n",
       "      <th></th>\n",
       "      <th>antigen</th>\n",
       "      <th>mhc_molecule</th>\n",
       "      <th>sequence</th>\n",
       "      <th>tcr_sequence</th>\n",
       "      <th>neo_vs_anti</th>\n",
       "      <th>mhc_presentation_score</th>\n",
       "      <th>tcr_probability</th>\n",
       "    </tr>\n",
       "  </thead>\n",
       "  <tbody>\n",
       "    <tr>\n",
       "      <th>0</th>\n",
       "      <td>AMWLLLLSI</td>\n",
       "      <td>A*02:03</td>\n",
       "      <td>YFAMYGEKVAHTHVDTLYVRYHYYTWAEWAYTWY</td>\n",
       "      <td>CSAQQGLTEAFF</td>\n",
       "      <td>1</td>\n",
       "      <td>0.380097</td>\n",
       "      <td>0.172635</td>\n",
       "    </tr>\n",
       "    <tr>\n",
       "      <th>1</th>\n",
       "      <td>FINFFNLLAK</td>\n",
       "      <td>A*33:01</td>\n",
       "      <td>YTAMYRNNVAHIDVDTLYIMYQDYTWAVLAYTWH</td>\n",
       "      <td>CATSDFSRTAHYGYTF</td>\n",
       "      <td>1</td>\n",
       "      <td>0.100867</td>\n",
       "      <td>0.087445</td>\n",
       "    </tr>\n",
       "    <tr>\n",
       "      <th>2</th>\n",
       "      <td>FLMAYANQIH</td>\n",
       "      <td>A*03:01</td>\n",
       "      <td>YFAMYQENVAQTDVDTLYIIYRDYTWAELAYTWY</td>\n",
       "      <td>CASKRQGAIDNEQFF</td>\n",
       "      <td>1</td>\n",
       "      <td>0.321097</td>\n",
       "      <td>0.197201</td>\n",
       "    </tr>\n",
       "    <tr>\n",
       "      <th>3</th>\n",
       "      <td>FLMAYANQIH</td>\n",
       "      <td>A*03:01</td>\n",
       "      <td>YYAMYQENMASTDVDTLYIIYRDYTWAALAYRWY</td>\n",
       "      <td>CASQAGGNSPLHF</td>\n",
       "      <td>1</td>\n",
       "      <td>0.321097</td>\n",
       "      <td>0.197201</td>\n",
       "    </tr>\n",
       "    <tr>\n",
       "      <th>4</th>\n",
       "      <td>ALYSYASAK</td>\n",
       "      <td>A*26:01</td>\n",
       "      <td>YYAMYRNNVAHTDANTLYIRYQDYTWAEWAYRWY</td>\n",
       "      <td>CASRLGGGAEAFF</td>\n",
       "      <td>1</td>\n",
       "      <td>0.256215</td>\n",
       "      <td>0.383158</td>\n",
       "    </tr>\n",
       "    <tr>\n",
       "      <th>...</th>\n",
       "      <td>...</td>\n",
       "      <td>...</td>\n",
       "      <td>...</td>\n",
       "      <td>...</td>\n",
       "      <td>...</td>\n",
       "      <td>...</td>\n",
       "      <td>...</td>\n",
       "    </tr>\n",
       "    <tr>\n",
       "      <th>1377</th>\n",
       "      <td>SIPISELSR</td>\n",
       "      <td>A*02:01</td>\n",
       "      <td>YFAMYEESAAHTDVDTLYIIYRDYTWAARAYTWY</td>\n",
       "      <td>CASRGQFNTEAFF</td>\n",
       "      <td>1</td>\n",
       "      <td>0.858972</td>\n",
       "      <td>0.586187</td>\n",
       "    </tr>\n",
       "    <tr>\n",
       "      <th>1378</th>\n",
       "      <td>SIPITAAAWY</td>\n",
       "      <td>A*02:01</td>\n",
       "      <td>YFAMYGEKVAHTHVDTLYVRYHYYTWAVLAYTWY</td>\n",
       "      <td>CASSEFSYNSPLHF</td>\n",
       "      <td>1</td>\n",
       "      <td>0.827562</td>\n",
       "      <td>0.587824</td>\n",
       "    </tr>\n",
       "    <tr>\n",
       "      <th>1379</th>\n",
       "      <td>SIPITAAAWY</td>\n",
       "      <td>A*02:01</td>\n",
       "      <td>YFAMYEESAAHTDVDTLYIIYRDYTWAARAYTWY</td>\n",
       "      <td>CASSYTTGEDSPLHF</td>\n",
       "      <td>1</td>\n",
       "      <td>0.827562</td>\n",
       "      <td>0.587824</td>\n",
       "    </tr>\n",
       "    <tr>\n",
       "      <th>1380</th>\n",
       "      <td>SLNFLGGTTV</td>\n",
       "      <td>A*02:01</td>\n",
       "      <td>YFAMYGEKVAHTHVDTLYVRYHYYTWAVLAYTWY</td>\n",
       "      <td>CASSGGPYNEQFF</td>\n",
       "      <td>1</td>\n",
       "      <td>0.839824</td>\n",
       "      <td>0.618562</td>\n",
       "    </tr>\n",
       "    <tr>\n",
       "      <th>1381</th>\n",
       "      <td>SLNFLGGTTV</td>\n",
       "      <td>A*02:01</td>\n",
       "      <td>YFAMYEESAAHTDVDTLYIIYRDYTWAARAYTWY</td>\n",
       "      <td>CSASGNTGELFF</td>\n",
       "      <td>1</td>\n",
       "      <td>0.839824</td>\n",
       "      <td>0.618562</td>\n",
       "    </tr>\n",
       "  </tbody>\n",
       "</table>\n",
       "<p>1382 rows × 7 columns</p>\n",
       "</div>"
      ],
      "text/plain": [
       "         antigen mhc_molecule  ... mhc_presentation_score tcr_probability\n",
       "0      AMWLLLLSI      A*02:03  ...               0.380097        0.172635\n",
       "1     FINFFNLLAK      A*33:01  ...               0.100867        0.087445\n",
       "2     FLMAYANQIH      A*03:01  ...               0.321097        0.197201\n",
       "3     FLMAYANQIH      A*03:01  ...               0.321097        0.197201\n",
       "4      ALYSYASAK      A*26:01  ...               0.256215        0.383158\n",
       "...          ...          ...  ...                    ...             ...\n",
       "1377   SIPISELSR      A*02:01  ...               0.858972        0.586187\n",
       "1378  SIPITAAAWY      A*02:01  ...               0.827562        0.587824\n",
       "1379  SIPITAAAWY      A*02:01  ...               0.827562        0.587824\n",
       "1380  SLNFLGGTTV      A*02:01  ...               0.839824        0.618562\n",
       "1381  SLNFLGGTTV      A*02:01  ...               0.839824        0.618562\n",
       "\n",
       "[1382 rows x 7 columns]"
      ]
     },
     "execution_count": 36,
     "metadata": {},
     "output_type": "execute_result"
    }
   ],
   "source": [
    "import pandas as pd\n",
    "patient_c = pd.read_csv('patient_c.csv')\n",
    "patient_c"
   ]
  },
  {
   "cell_type": "code",
   "execution_count": 37,
   "id": "7f515a03-3984-48ff-b214-b0c554722b2b",
   "metadata": {},
   "outputs": [],
   "source": [
    "mhc_molecule_list = patient_c['mhc_molecule'].unique().tolist()\n",
    "tcr_sequence_list = patient_c['tcr_sequence'].unique().tolist()"
   ]
  },
  {
   "cell_type": "code",
   "execution_count": 39,
   "id": "cca2787a-e3dc-45cc-9705-dbe44751aaf3",
   "metadata": {
    "scrolled": true
   },
   "outputs": [
    {
     "name": "stderr",
     "output_type": "stream",
     "text": [
      "\n",
      "\n",
      "Processing sequences: 0it [00:00, ?it/s]\u001b[A\u001b[A\n",
      "\n",
      "Processing sequences: 1it [00:04,  4.62s/it]\u001b[A\u001b[A"
     ]
    },
    {
     "name": "stdout",
     "output_type": "stream",
     "text": [
      " selected"
     ]
    },
    {
     "name": "stderr",
     "output_type": "stream",
     "text": [
      "\n",
      "\n",
      "Processing sequences: 2it [00:06,  3.21s/it]\u001b[A\u001b[A"
     ]
    },
    {
     "name": "stdout",
     "output_type": "stream",
     "text": [
      " selected"
     ]
    },
    {
     "name": "stderr",
     "output_type": "stream",
     "text": [
      "\n",
      "\n",
      "Processing sequences: 3it [00:09,  2.76s/it]\u001b[A\u001b[A"
     ]
    },
    {
     "name": "stdout",
     "output_type": "stream",
     "text": [
      " selected"
     ]
    },
    {
     "name": "stderr",
     "output_type": "stream",
     "text": [
      "\n",
      "\n",
      "Processing sequences: 4it [00:11,  2.55s/it]\u001b[A\u001b[A"
     ]
    },
    {
     "name": "stdout",
     "output_type": "stream",
     "text": [
      " selected"
     ]
    },
    {
     "name": "stderr",
     "output_type": "stream",
     "text": [
      "\n",
      "\n",
      "Processing sequences: 5it [00:13,  2.43s/it]\u001b[A\u001b[A"
     ]
    },
    {
     "name": "stdout",
     "output_type": "stream",
     "text": [
      " selected"
     ]
    },
    {
     "name": "stderr",
     "output_type": "stream",
     "text": [
      "\n",
      "\n",
      "Processing sequences: 6it [00:15,  2.33s/it]\u001b[A\u001b[A"
     ]
    },
    {
     "name": "stdout",
     "output_type": "stream",
     "text": [
      " selected"
     ]
    },
    {
     "name": "stderr",
     "output_type": "stream",
     "text": [
      "\n",
      "\n",
      "Processing sequences: 7it [00:17,  2.27s/it]\u001b[A\u001b[A\n",
      "\n",
      "Processing sequences: 8it [00:19,  2.25s/it]\u001b[A\u001b[A"
     ]
    },
    {
     "name": "stdout",
     "output_type": "stream",
     "text": [
      " selected"
     ]
    },
    {
     "name": "stderr",
     "output_type": "stream",
     "text": [
      "\n",
      "\n",
      "Processing sequences: 9it [00:22,  2.23s/it]\u001b[A\u001b[A"
     ]
    },
    {
     "name": "stdout",
     "output_type": "stream",
     "text": [
      " selected"
     ]
    },
    {
     "name": "stderr",
     "output_type": "stream",
     "text": [
      "\n",
      "\n",
      "Processing sequences: 10it [00:24,  2.20s/it]\u001b[A\u001b[A"
     ]
    },
    {
     "name": "stdout",
     "output_type": "stream",
     "text": [
      " selected"
     ]
    },
    {
     "name": "stderr",
     "output_type": "stream",
     "text": [
      "\n",
      "\n",
      "Processing sequences: 11it [00:26,  2.18s/it]\u001b[A\u001b[A"
     ]
    },
    {
     "name": "stdout",
     "output_type": "stream",
     "text": [
      " selected"
     ]
    },
    {
     "name": "stderr",
     "output_type": "stream",
     "text": [
      "\n",
      "\n",
      "Processing sequences: 12it [00:28,  2.20s/it]\u001b[A\u001b[A"
     ]
    },
    {
     "name": "stdout",
     "output_type": "stream",
     "text": [
      " selected"
     ]
    },
    {
     "name": "stderr",
     "output_type": "stream",
     "text": [
      "\n",
      "\n",
      "Processing sequences: 13it [00:30,  2.18s/it]\u001b[A\u001b[A"
     ]
    },
    {
     "name": "stdout",
     "output_type": "stream",
     "text": [
      " selected"
     ]
    },
    {
     "name": "stderr",
     "output_type": "stream",
     "text": [
      "\n",
      "\n",
      "Processing sequences: 14it [00:33,  2.18s/it]\u001b[A\u001b[A"
     ]
    },
    {
     "name": "stdout",
     "output_type": "stream",
     "text": [
      " selected"
     ]
    },
    {
     "name": "stderr",
     "output_type": "stream",
     "text": [
      "\n",
      "\n",
      "Processing sequences: 15it [00:35,  2.19s/it]\u001b[A\u001b[A"
     ]
    },
    {
     "name": "stdout",
     "output_type": "stream",
     "text": [
      " selected"
     ]
    },
    {
     "name": "stderr",
     "output_type": "stream",
     "text": [
      "\n",
      "\n",
      "Processing sequences: 16it [00:37,  2.18s/it]\u001b[A\u001b[A"
     ]
    },
    {
     "name": "stdout",
     "output_type": "stream",
     "text": [
      " selected"
     ]
    },
    {
     "name": "stderr",
     "output_type": "stream",
     "text": [
      "\n",
      "\n",
      "Processing sequences: 17it [00:48,  4.82s/it]\u001b[A\u001b[A"
     ]
    },
    {
     "name": "stdout",
     "output_type": "stream",
     "text": [
      " selected"
     ]
    },
    {
     "name": "stderr",
     "output_type": "stream",
     "text": [
      "\n",
      "\n",
      "Processing sequences: 18it [00:52,  4.66s/it]\u001b[A\u001b[A"
     ]
    },
    {
     "name": "stdout",
     "output_type": "stream",
     "text": [
      " selected"
     ]
    },
    {
     "name": "stderr",
     "output_type": "stream",
     "text": [
      "Processing sequences: 85it [20:43, 14.63s/it]\n",
      "Processing sequences: 20it [01:49,  5.49s/it]\n",
      "\n",
      "\n",
      "Processing sequences: 19it [00:55,  4.01s/it]\u001b[A\u001b[A"
     ]
    },
    {
     "name": "stdout",
     "output_type": "stream",
     "text": [
      " selected"
     ]
    },
    {
     "name": "stderr",
     "output_type": "stream",
     "text": [
      "\n",
      "\n",
      "Processing sequences: 20it [00:57,  3.45s/it]\u001b[A\u001b[A"
     ]
    },
    {
     "name": "stdout",
     "output_type": "stream",
     "text": [
      " selected"
     ]
    },
    {
     "name": "stderr",
     "output_type": "stream",
     "text": [
      "\n",
      "\n",
      "Processing sequences: 21it [01:03,  4.39s/it]\u001b[A\u001b[A"
     ]
    },
    {
     "name": "stdout",
     "output_type": "stream",
     "text": [
      " selected"
     ]
    },
    {
     "name": "stderr",
     "output_type": "stream",
     "text": [
      "\n",
      "\n",
      "Processing sequences: 22it [01:06,  3.73s/it]\u001b[A\u001b[A"
     ]
    },
    {
     "name": "stdout",
     "output_type": "stream",
     "text": [
      " selected"
     ]
    },
    {
     "name": "stderr",
     "output_type": "stream",
     "text": [
      "\n",
      "\n",
      "Processing sequences: 23it [01:08,  3.27s/it]\u001b[A\u001b[A"
     ]
    },
    {
     "name": "stdout",
     "output_type": "stream",
     "text": [
      " selected"
     ]
    },
    {
     "name": "stderr",
     "output_type": "stream",
     "text": [
      "\n",
      "\n",
      "Processing sequences: 24it [01:10,  2.95s/it]\u001b[A\u001b[A"
     ]
    },
    {
     "name": "stdout",
     "output_type": "stream",
     "text": [
      " selected"
     ]
    },
    {
     "name": "stderr",
     "output_type": "stream",
     "text": [
      "\n",
      "\n",
      "Processing sequences: 25it [01:17,  4.06s/it]\u001b[A\u001b[A"
     ]
    },
    {
     "name": "stdout",
     "output_type": "stream",
     "text": [
      " selected"
     ]
    },
    {
     "name": "stderr",
     "output_type": "stream",
     "text": [
      "\n",
      "\n",
      "Processing sequences: 26it [01:37,  8.82s/it]\u001b[A\u001b[A"
     ]
    },
    {
     "name": "stdout",
     "output_type": "stream",
     "text": [
      " selected"
     ]
    },
    {
     "name": "stderr",
     "output_type": "stream",
     "text": [
      "\n",
      "\n",
      "Processing sequences: 27it [01:41,  7.50s/it]\u001b[A\u001b[A"
     ]
    },
    {
     "name": "stdout",
     "output_type": "stream",
     "text": [
      " selected"
     ]
    },
    {
     "name": "stderr",
     "output_type": "stream",
     "text": [
      "\n",
      "\n",
      "Processing sequences: 28it [01:43,  5.91s/it]\u001b[A\u001b[A"
     ]
    },
    {
     "name": "stdout",
     "output_type": "stream",
     "text": [
      " selected"
     ]
    },
    {
     "name": "stderr",
     "output_type": "stream",
     "text": [
      "\n",
      "\n",
      "Processing sequences: 29it [01:52,  6.75s/it]\u001b[A\u001b[A"
     ]
    },
    {
     "name": "stdout",
     "output_type": "stream",
     "text": [
      " selected"
     ]
    },
    {
     "name": "stderr",
     "output_type": "stream",
     "text": [
      "\n",
      "\n",
      "Processing sequences: 30it [01:54,  5.40s/it]\u001b[A\u001b[A"
     ]
    },
    {
     "name": "stdout",
     "output_type": "stream",
     "text": [
      " selected"
     ]
    },
    {
     "name": "stderr",
     "output_type": "stream",
     "text": [
      "\n",
      "\n",
      "Processing sequences: 31it [02:05,  7.05s/it]\u001b[A\u001b[A"
     ]
    },
    {
     "name": "stdout",
     "output_type": "stream",
     "text": [
      " selected"
     ]
    },
    {
     "name": "stderr",
     "output_type": "stream",
     "text": [
      "\n",
      "\n",
      "Processing sequences: 32it [02:12,  6.89s/it]\u001b[A\u001b[A"
     ]
    },
    {
     "name": "stdout",
     "output_type": "stream",
     "text": [
      " selected"
     ]
    },
    {
     "name": "stderr",
     "output_type": "stream",
     "text": [
      "\n",
      "\n",
      "Processing sequences: 33it [02:27,  9.38s/it]\u001b[A\u001b[A"
     ]
    },
    {
     "name": "stdout",
     "output_type": "stream",
     "text": [
      " selected"
     ]
    },
    {
     "name": "stderr",
     "output_type": "stream",
     "text": [
      "\n",
      "\n",
      "Processing sequences: 34it [02:31,  7.90s/it]\u001b[A\u001b[A"
     ]
    },
    {
     "name": "stdout",
     "output_type": "stream",
     "text": [
      " selected"
     ]
    },
    {
     "name": "stderr",
     "output_type": "stream",
     "text": [
      "\n",
      "\n",
      "Processing sequences: 35it [02:33,  6.19s/it]\u001b[A\u001b[A"
     ]
    },
    {
     "name": "stdout",
     "output_type": "stream",
     "text": [
      " selected"
     ]
    },
    {
     "name": "stderr",
     "output_type": "stream",
     "text": [
      "\n",
      "\n",
      "Processing sequences: 36it [02:40,  6.29s/it]\u001b[A\u001b[A"
     ]
    },
    {
     "name": "stdout",
     "output_type": "stream",
     "text": [
      " selected"
     ]
    },
    {
     "name": "stderr",
     "output_type": "stream",
     "text": [
      "\n",
      "\n",
      "Processing sequences: 37it [02:57,  9.68s/it]\u001b[A\u001b[A"
     ]
    },
    {
     "name": "stdout",
     "output_type": "stream",
     "text": [
      " selected"
     ]
    },
    {
     "name": "stderr",
     "output_type": "stream",
     "text": [
      "\n",
      "\n",
      "Processing sequences: 38it [03:13, 11.41s/it]\u001b[A\u001b[A\n",
      "\n",
      "Processing sequences: 39it [03:15,  8.64s/it]\u001b[A\u001b[A"
     ]
    },
    {
     "name": "stdout",
     "output_type": "stream",
     "text": [
      " selected"
     ]
    },
    {
     "name": "stderr",
     "output_type": "stream",
     "text": [
      "\n",
      "\n",
      "Processing sequences: 40it [05:39, 49.11s/it]\u001b[A\u001b[A"
     ]
    },
    {
     "name": "stdout",
     "output_type": "stream",
     "text": [
      " selected"
     ]
    },
    {
     "name": "stderr",
     "output_type": "stream",
     "text": [
      "\n",
      "\n",
      "Processing sequences: 41it [05:56, 39.63s/it]\u001b[A\u001b[A"
     ]
    },
    {
     "name": "stdout",
     "output_type": "stream",
     "text": [
      " selected"
     ]
    },
    {
     "name": "stderr",
     "output_type": "stream",
     "text": [
      "\n",
      "\n",
      "Processing sequences: 42it [06:00, 29.03s/it]\u001b[A\u001b[A"
     ]
    },
    {
     "name": "stdout",
     "output_type": "stream",
     "text": [
      " selected"
     ]
    },
    {
     "name": "stderr",
     "output_type": "stream",
     "text": [
      "\n",
      "\n",
      "Processing sequences: 43it [06:43, 33.14s/it]\u001b[A\u001b[A\n",
      "\n",
      "Processing sequences: 44it [07:12, 32.00s/it]\u001b[A\u001b[A"
     ]
    },
    {
     "name": "stdout",
     "output_type": "stream",
     "text": [
      " selected"
     ]
    },
    {
     "name": "stderr",
     "output_type": "stream",
     "text": [
      "\n",
      "\n",
      "Processing sequences: 45it [07:22, 25.13s/it]\u001b[A\u001b[A"
     ]
    },
    {
     "name": "stdout",
     "output_type": "stream",
     "text": [
      " selected"
     ]
    },
    {
     "name": "stderr",
     "output_type": "stream",
     "text": [
      "\n",
      "\n",
      "Processing sequences: 46it [07:26, 19.00s/it]\u001b[A\u001b[A"
     ]
    },
    {
     "name": "stdout",
     "output_type": "stream",
     "text": [
      " selected"
     ]
    },
    {
     "name": "stderr",
     "output_type": "stream",
     "text": [
      "\n",
      "\n",
      "Processing sequences: 47it [08:43, 36.18s/it]\u001b[A\u001b[A"
     ]
    },
    {
     "name": "stdout",
     "output_type": "stream",
     "text": [
      " selected"
     ]
    },
    {
     "name": "stderr",
     "output_type": "stream",
     "text": [
      "\n",
      "\n",
      "Processing sequences: 48it [10:17, 53.66s/it]\u001b[A\u001b[A"
     ]
    },
    {
     "name": "stdout",
     "output_type": "stream",
     "text": [
      " selected"
     ]
    },
    {
     "name": "stderr",
     "output_type": "stream",
     "text": [
      "\n",
      "\n",
      "Processing sequences: 49it [10:41, 44.84s/it]\u001b[A\u001b[A"
     ]
    },
    {
     "name": "stdout",
     "output_type": "stream",
     "text": [
      " selected"
     ]
    },
    {
     "name": "stderr",
     "output_type": "stream",
     "text": [
      "\n",
      "\n",
      "Processing sequences: 50it [13:15, 77.37s/it]\u001b[A\u001b[A"
     ]
    },
    {
     "name": "stdout",
     "output_type": "stream",
     "text": [
      " selected"
     ]
    },
    {
     "name": "stderr",
     "output_type": "stream",
     "text": [
      "\n",
      "\n",
      "Processing sequences: 51it [15:09, 88.41s/it]\u001b[A\u001b[A"
     ]
    },
    {
     "name": "stdout",
     "output_type": "stream",
     "text": [
      " selected"
     ]
    },
    {
     "ename": "KeyboardInterrupt",
     "evalue": "",
     "output_type": "error",
     "traceback": [
      "\u001b[0;31m---------------------------------------------------------------------------\u001b[0m",
      "\u001b[0;31mKeyboardInterrupt\u001b[0m                         Traceback (most recent call last)",
      "Cell \u001b[0;32mIn[39], line 42\u001b[0m\n\u001b[1;32m     39\u001b[0m new_rew_class \u001b[38;5;241m=\u001b[39m classification_reward(new_seq)\n\u001b[1;32m     41\u001b[0m \u001b[38;5;28;01mif\u001b[39;00m new_rew_class \u001b[38;5;241m==\u001b[39m \u001b[38;5;241m1\u001b[39m:\n\u001b[0;32m---> 42\u001b[0m     new_rew_mhc_values \u001b[38;5;241m=\u001b[39m \u001b[43mget_binding_affinity\u001b[49m\u001b[43m(\u001b[49m\u001b[43mnew_seq\u001b[49m\u001b[43m,\u001b[49m\u001b[43m \u001b[49m\u001b[43mmhc_proteins\u001b[49m\u001b[43m)\u001b[49m\n\u001b[1;32m     43\u001b[0m     new_rew_tcr_values \u001b[38;5;241m=\u001b[39m tcr_reward(new_seq, tcr_sequences)\n\u001b[1;32m     45\u001b[0m     max_mhc_idx \u001b[38;5;241m=\u001b[39m new_rew_mhc_values\u001b[38;5;241m.\u001b[39mindex(\u001b[38;5;28mmax\u001b[39m(new_rew_mhc_values))\n",
      "Cell \u001b[0;32mIn[4], line 71\u001b[0m, in \u001b[0;36mget_binding_affinity\u001b[0;34m(peptide_sequence, mhc_proteins)\u001b[0m\n\u001b[1;32m     68\u001b[0m rewards \u001b[38;5;241m=\u001b[39m []\n\u001b[1;32m     69\u001b[0m \u001b[38;5;28;01mfor\u001b[39;00m mhc_protein \u001b[38;5;129;01min\u001b[39;00m mhc_proteins:\n\u001b[1;32m     70\u001b[0m     \u001b[38;5;66;03m# Predict binding affinity using MHCflurry 2.0 model\u001b[39;00m\n\u001b[0;32m---> 71\u001b[0m     predicted_ic50s \u001b[38;5;241m=\u001b[39m \u001b[43mpredictor\u001b[49m\u001b[38;5;241;43m.\u001b[39;49m\u001b[43mpredict\u001b[49m\u001b[43m(\u001b[49m\u001b[43m[\u001b[49m\u001b[43mpeptide_sequence\u001b[49m\u001b[43m]\u001b[49m\u001b[43m,\u001b[49m\u001b[43m \u001b[49m\u001b[43m[\u001b[49m\u001b[43mmhc_protein\u001b[49m\u001b[43m]\u001b[49m\u001b[43m)\u001b[49m\n\u001b[1;32m     72\u001b[0m     predicted_ic50 \u001b[38;5;241m=\u001b[39m predicted_ic50s[\u001b[38;5;241m0\u001b[39m]\n\u001b[1;32m     74\u001b[0m     \u001b[38;5;66;03m# Normalize the predicted IC50 to a reward value between 0 and 1\u001b[39;00m\n",
      "File \u001b[0;32m~/Documents/python/single_cell/lib/python3.8/site-packages/mhcflurry/class1_affinity_predictor.py:1085\u001b[0m, in \u001b[0;36mClass1AffinityPredictor.predict\u001b[0;34m(self, peptides, alleles, allele, throw, centrality_measure, model_kwargs)\u001b[0m\n\u001b[1;32m   1047\u001b[0m \u001b[38;5;28;01mdef\u001b[39;00m \u001b[38;5;21mpredict\u001b[39m(\n\u001b[1;32m   1048\u001b[0m         \u001b[38;5;28mself\u001b[39m,\n\u001b[1;32m   1049\u001b[0m         peptides,\n\u001b[0;32m   (...)\u001b[0m\n\u001b[1;32m   1053\u001b[0m         centrality_measure\u001b[38;5;241m=\u001b[39mDEFAULT_CENTRALITY_MEASURE,\n\u001b[1;32m   1054\u001b[0m         model_kwargs\u001b[38;5;241m=\u001b[39m{}):\n\u001b[1;32m   1055\u001b[0m \u001b[38;5;250m    \u001b[39m\u001b[38;5;124;03m\"\"\"\u001b[39;00m\n\u001b[1;32m   1056\u001b[0m \u001b[38;5;124;03m    Predict nM binding affinities.\u001b[39;00m\n\u001b[1;32m   1057\u001b[0m \u001b[38;5;124;03m    \u001b[39;00m\n\u001b[0;32m   (...)\u001b[0m\n\u001b[1;32m   1083\u001b[0m \u001b[38;5;124;03m    numpy.array of predictions\u001b[39;00m\n\u001b[1;32m   1084\u001b[0m \u001b[38;5;124;03m    \"\"\"\u001b[39;00m\n\u001b[0;32m-> 1085\u001b[0m     df \u001b[38;5;241m=\u001b[39m \u001b[38;5;28;43mself\u001b[39;49m\u001b[38;5;241;43m.\u001b[39;49m\u001b[43mpredict_to_dataframe\u001b[49m\u001b[43m(\u001b[49m\n\u001b[1;32m   1086\u001b[0m \u001b[43m        \u001b[49m\u001b[43mpeptides\u001b[49m\u001b[38;5;241;43m=\u001b[39;49m\u001b[43mpeptides\u001b[49m\u001b[43m,\u001b[49m\n\u001b[1;32m   1087\u001b[0m \u001b[43m        \u001b[49m\u001b[43malleles\u001b[49m\u001b[38;5;241;43m=\u001b[39;49m\u001b[43malleles\u001b[49m\u001b[43m,\u001b[49m\n\u001b[1;32m   1088\u001b[0m \u001b[43m        \u001b[49m\u001b[43mallele\u001b[49m\u001b[38;5;241;43m=\u001b[39;49m\u001b[43mallele\u001b[49m\u001b[43m,\u001b[49m\n\u001b[1;32m   1089\u001b[0m \u001b[43m        \u001b[49m\u001b[43mthrow\u001b[49m\u001b[38;5;241;43m=\u001b[39;49m\u001b[43mthrow\u001b[49m\u001b[43m,\u001b[49m\n\u001b[1;32m   1090\u001b[0m \u001b[43m        \u001b[49m\u001b[43minclude_percentile_ranks\u001b[49m\u001b[38;5;241;43m=\u001b[39;49m\u001b[38;5;28;43;01mFalse\u001b[39;49;00m\u001b[43m,\u001b[49m\n\u001b[1;32m   1091\u001b[0m \u001b[43m        \u001b[49m\u001b[43minclude_confidence_intervals\u001b[49m\u001b[38;5;241;43m=\u001b[39;49m\u001b[38;5;28;43;01mFalse\u001b[39;49;00m\u001b[43m,\u001b[49m\n\u001b[1;32m   1092\u001b[0m \u001b[43m        \u001b[49m\u001b[43mcentrality_measure\u001b[49m\u001b[38;5;241;43m=\u001b[39;49m\u001b[43mcentrality_measure\u001b[49m\u001b[43m,\u001b[49m\n\u001b[1;32m   1093\u001b[0m \u001b[43m        \u001b[49m\u001b[43mmodel_kwargs\u001b[49m\u001b[38;5;241;43m=\u001b[39;49m\u001b[43mmodel_kwargs\u001b[49m\n\u001b[1;32m   1094\u001b[0m \u001b[43m    \u001b[49m\u001b[43m)\u001b[49m\n\u001b[1;32m   1095\u001b[0m     \u001b[38;5;28;01mreturn\u001b[39;00m df\u001b[38;5;241m.\u001b[39mprediction\u001b[38;5;241m.\u001b[39mvalues\n",
      "File \u001b[0;32m~/Documents/python/single_cell/lib/python3.8/site-packages/mhcflurry/class1_affinity_predictor.py:1292\u001b[0m, in \u001b[0;36mClass1AffinityPredictor.predict_to_dataframe\u001b[0;34m(self, peptides, alleles, allele, throw, include_individual_model_predictions, include_percentile_ranks, include_confidence_intervals, centrality_measure, model_kwargs)\u001b[0m\n\u001b[1;32m   1288\u001b[0m \u001b[38;5;28;01mif\u001b[39;00m \u001b[38;5;28mself\u001b[39m\u001b[38;5;241m.\u001b[39moptimization_info\u001b[38;5;241m.\u001b[39mget(\u001b[38;5;124m\"\u001b[39m\u001b[38;5;124mpan_models_merged\u001b[39m\u001b[38;5;124m\"\u001b[39m):\n\u001b[1;32m   1289\u001b[0m     \u001b[38;5;66;03m# Multiple pan-allele models have been merged into one\u001b[39;00m\n\u001b[1;32m   1290\u001b[0m     \u001b[38;5;66;03m# at the tensorflow level.\u001b[39;00m\n\u001b[1;32m   1291\u001b[0m     \u001b[38;5;28;01massert\u001b[39;00m \u001b[38;5;28mlen\u001b[39m(\u001b[38;5;28mself\u001b[39m\u001b[38;5;241m.\u001b[39mclass1_pan_allele_models) \u001b[38;5;241m==\u001b[39m \u001b[38;5;241m1\u001b[39m\n\u001b[0;32m-> 1292\u001b[0m     predictions \u001b[38;5;241m=\u001b[39m \u001b[38;5;28;43mself\u001b[39;49m\u001b[38;5;241;43m.\u001b[39;49m\u001b[43mclass1_pan_allele_models\u001b[49m\u001b[43m[\u001b[49m\u001b[38;5;241;43m0\u001b[39;49m\u001b[43m]\u001b[49m\u001b[38;5;241;43m.\u001b[39;49m\u001b[43mpredict\u001b[49m\u001b[43m(\u001b[49m\n\u001b[1;32m   1293\u001b[0m \u001b[43m        \u001b[49m\u001b[43mmasked_peptides\u001b[49m\u001b[43m,\u001b[49m\n\u001b[1;32m   1294\u001b[0m \u001b[43m        \u001b[49m\u001b[43mallele_encoding\u001b[49m\u001b[38;5;241;43m=\u001b[39;49m\u001b[43mmasked_allele_encoding\u001b[49m\u001b[43m,\u001b[49m\n\u001b[1;32m   1295\u001b[0m \u001b[43m        \u001b[49m\u001b[43moutput_index\u001b[49m\u001b[38;5;241;43m=\u001b[39;49m\u001b[38;5;28;43;01mNone\u001b[39;49;00m\u001b[43m,\u001b[49m\n\u001b[1;32m   1296\u001b[0m \u001b[43m        \u001b[49m\u001b[38;5;241;43m*\u001b[39;49m\u001b[38;5;241;43m*\u001b[39;49m\u001b[43mmodel_kwargs\u001b[49m\u001b[43m)\u001b[49m\n\u001b[1;32m   1297\u001b[0m     predictions_array[row_slice, :num_pan_models] \u001b[38;5;241m=\u001b[39m predictions\n\u001b[1;32m   1298\u001b[0m \u001b[38;5;28;01melse\u001b[39;00m:\n",
      "File \u001b[0;32m~/Documents/python/single_cell/lib/python3.8/site-packages/mhcflurry/class1_neural_network.py:1112\u001b[0m, in \u001b[0;36mClass1NeuralNetwork.predict\u001b[0;34m(self, peptides, allele_encoding, batch_size, output_index)\u001b[0m\n\u001b[1;32m   1106\u001b[0m x_dict \u001b[38;5;241m=\u001b[39m {\n\u001b[1;32m   1107\u001b[0m     \u001b[38;5;124m'\u001b[39m\u001b[38;5;124mpeptide\u001b[39m\u001b[38;5;124m'\u001b[39m: \u001b[38;5;28mself\u001b[39m\u001b[38;5;241m.\u001b[39mpeptides_to_network_input(peptides)\n\u001b[1;32m   1108\u001b[0m }\n\u001b[1;32m   1110\u001b[0m \u001b[38;5;28;01mif\u001b[39;00m allele_encoding \u001b[38;5;129;01mis\u001b[39;00m \u001b[38;5;129;01mnot\u001b[39;00m \u001b[38;5;28;01mNone\u001b[39;00m:\n\u001b[1;32m   1111\u001b[0m     (allele_encoding_input, allele_representations) \u001b[38;5;241m=\u001b[39m (\n\u001b[0;32m-> 1112\u001b[0m         \u001b[38;5;28;43mself\u001b[39;49m\u001b[38;5;241;43m.\u001b[39;49m\u001b[43mallele_encoding_to_network_input\u001b[49m\u001b[43m(\u001b[49m\u001b[43mallele_encoding\u001b[49m\u001b[43m)\u001b[49m)\n\u001b[1;32m   1113\u001b[0m     x_dict[\u001b[38;5;124m'\u001b[39m\u001b[38;5;124mallele\u001b[39m\u001b[38;5;124m'\u001b[39m] \u001b[38;5;241m=\u001b[39m allele_encoding_input\n\u001b[1;32m   1114\u001b[0m     \u001b[38;5;28mself\u001b[39m\u001b[38;5;241m.\u001b[39mset_allele_representations(allele_representations)\n",
      "File \u001b[0;32m~/Documents/python/single_cell/lib/python3.8/site-packages/mhcflurry/class1_neural_network.py:495\u001b[0m, in \u001b[0;36mClass1NeuralNetwork.allele_encoding_to_network_input\u001b[0;34m(self, allele_encoding)\u001b[0m\n\u001b[1;32m    477\u001b[0m \u001b[38;5;28;01mdef\u001b[39;00m \u001b[38;5;21mallele_encoding_to_network_input\u001b[39m(\u001b[38;5;28mself\u001b[39m, allele_encoding):\n\u001b[1;32m    478\u001b[0m \u001b[38;5;250m    \u001b[39m\u001b[38;5;124;03m\"\"\"\u001b[39;00m\n\u001b[1;32m    479\u001b[0m \u001b[38;5;124;03m    Encode alleles to the fixed-length encoding expected by the neural\u001b[39;00m\n\u001b[1;32m    480\u001b[0m \u001b[38;5;124;03m    network (which depends on the architecture).\u001b[39;00m\n\u001b[0;32m   (...)\u001b[0m\n\u001b[1;32m    491\u001b[0m \n\u001b[1;32m    492\u001b[0m \u001b[38;5;124;03m    \"\"\"\u001b[39;00m\n\u001b[1;32m    493\u001b[0m     \u001b[38;5;28;01mreturn\u001b[39;00m (\n\u001b[1;32m    494\u001b[0m         allele_encoding\u001b[38;5;241m.\u001b[39mindices,\n\u001b[0;32m--> 495\u001b[0m         \u001b[43mallele_encoding\u001b[49m\u001b[38;5;241;43m.\u001b[39;49m\u001b[43mallele_representations\u001b[49m\u001b[43m(\u001b[49m\n\u001b[1;32m    496\u001b[0m \u001b[43m            \u001b[49m\u001b[38;5;28;43mself\u001b[39;49m\u001b[38;5;241;43m.\u001b[39;49m\u001b[43mhyperparameters\u001b[49m\u001b[43m[\u001b[49m\u001b[38;5;124;43m'\u001b[39;49m\u001b[38;5;124;43mallele_amino_acid_encoding\u001b[39;49m\u001b[38;5;124;43m'\u001b[39;49m\u001b[43m]\u001b[49m\u001b[43m)\u001b[49m)\n",
      "File \u001b[0;32m~/Documents/python/single_cell/lib/python3.8/site-packages/mhcflurry/allele_encoding.py:112\u001b[0m, in \u001b[0;36mAlleleEncoding.allele_representations\u001b[0;34m(self, encoding_name)\u001b[0m\n\u001b[1;32m    108\u001b[0m cache_key \u001b[38;5;241m=\u001b[39m (\n\u001b[1;32m    109\u001b[0m     \u001b[38;5;124m\"\u001b[39m\u001b[38;5;124mallele_representations\u001b[39m\u001b[38;5;124m\"\u001b[39m,\n\u001b[1;32m    110\u001b[0m     encoding_name)\n\u001b[1;32m    111\u001b[0m \u001b[38;5;28;01mif\u001b[39;00m cache_key \u001b[38;5;129;01mnot\u001b[39;00m \u001b[38;5;129;01min\u001b[39;00m \u001b[38;5;28mself\u001b[39m\u001b[38;5;241m.\u001b[39mencoding_cache:\n\u001b[0;32m--> 112\u001b[0m     index_encoded_matrix \u001b[38;5;241m=\u001b[39m \u001b[43mamino_acid\u001b[49m\u001b[38;5;241;43m.\u001b[39;49m\u001b[43mindex_encoding\u001b[49m\u001b[43m(\u001b[49m\n\u001b[1;32m    113\u001b[0m \u001b[43m        \u001b[49m\u001b[38;5;28;43mself\u001b[39;49m\u001b[38;5;241;43m.\u001b[39;49m\u001b[43msequences\u001b[49m\u001b[38;5;241;43m.\u001b[39;49m\u001b[43mvalues\u001b[49m\u001b[43m,\u001b[49m\n\u001b[1;32m    114\u001b[0m \u001b[43m        \u001b[49m\u001b[43mamino_acid\u001b[49m\u001b[38;5;241;43m.\u001b[39;49m\u001b[43mAMINO_ACID_INDEX\u001b[49m\u001b[43m)\u001b[49m\n\u001b[1;32m    115\u001b[0m     vector_encoded \u001b[38;5;241m=\u001b[39m amino_acid\u001b[38;5;241m.\u001b[39mfixed_vectors_encoding(\n\u001b[1;32m    116\u001b[0m         index_encoded_matrix,\n\u001b[1;32m    117\u001b[0m         amino_acid\u001b[38;5;241m.\u001b[39mENCODING_DATA_FRAMES[encoding_name])\n\u001b[1;32m    118\u001b[0m     \u001b[38;5;28mself\u001b[39m\u001b[38;5;241m.\u001b[39mencoding_cache[cache_key] \u001b[38;5;241m=\u001b[39m vector_encoded\n",
      "File \u001b[0;32m~/Documents/python/single_cell/lib/python3.8/site-packages/mhcflurry/amino_acid.py:132\u001b[0m, in \u001b[0;36mindex_encoding\u001b[0;34m(sequences, letter_to_index_dict)\u001b[0m\n\u001b[1;32m    114\u001b[0m \u001b[38;5;250m\u001b[39m\u001b[38;5;124;03m\"\"\"\u001b[39;00m\n\u001b[1;32m    115\u001b[0m \u001b[38;5;124;03mEncode a sequence of same-length strings to a matrix of integers of the\u001b[39;00m\n\u001b[1;32m    116\u001b[0m \u001b[38;5;124;03msame shape. The map from characters to integers is given by\u001b[39;00m\n\u001b[0;32m   (...)\u001b[0m\n\u001b[1;32m    129\u001b[0m \u001b[38;5;124;03mnumpy.array of integers with shape (`k`, `n`)\u001b[39;00m\n\u001b[1;32m    130\u001b[0m \u001b[38;5;124;03m\"\"\"\u001b[39;00m\n\u001b[1;32m    131\u001b[0m df \u001b[38;5;241m=\u001b[39m pandas\u001b[38;5;241m.\u001b[39mDataFrame(\u001b[38;5;28miter\u001b[39m(s) \u001b[38;5;28;01mfor\u001b[39;00m s \u001b[38;5;129;01min\u001b[39;00m sequences)\n\u001b[0;32m--> 132\u001b[0m result \u001b[38;5;241m=\u001b[39m \u001b[43mdf\u001b[49m\u001b[38;5;241;43m.\u001b[39;49m\u001b[43mreplace\u001b[49m\u001b[43m(\u001b[49m\u001b[43mletter_to_index_dict\u001b[49m\u001b[43m)\u001b[49m\n\u001b[1;32m    133\u001b[0m \u001b[38;5;28;01mreturn\u001b[39;00m result\u001b[38;5;241m.\u001b[39mvalues\n",
      "File \u001b[0;32m~/Documents/python/single_cell/lib/python3.8/site-packages/pandas/core/frame.py:5592\u001b[0m, in \u001b[0;36mDataFrame.replace\u001b[0;34m(self, to_replace, value, inplace, limit, regex, method)\u001b[0m\n\u001b[1;32m   5581\u001b[0m \u001b[38;5;129m@doc\u001b[39m(NDFrame\u001b[38;5;241m.\u001b[39mreplace, \u001b[38;5;241m*\u001b[39m\u001b[38;5;241m*\u001b[39m_shared_doc_kwargs)\n\u001b[1;32m   5582\u001b[0m \u001b[38;5;28;01mdef\u001b[39;00m \u001b[38;5;21mreplace\u001b[39m(\n\u001b[1;32m   5583\u001b[0m     \u001b[38;5;28mself\u001b[39m,\n\u001b[0;32m   (...)\u001b[0m\n\u001b[1;32m   5590\u001b[0m     method: Literal[\u001b[38;5;124m\"\u001b[39m\u001b[38;5;124mpad\u001b[39m\u001b[38;5;124m\"\u001b[39m, \u001b[38;5;124m\"\u001b[39m\u001b[38;5;124mffill\u001b[39m\u001b[38;5;124m\"\u001b[39m, \u001b[38;5;124m\"\u001b[39m\u001b[38;5;124mbfill\u001b[39m\u001b[38;5;124m\"\u001b[39m] \u001b[38;5;241m|\u001b[39m lib\u001b[38;5;241m.\u001b[39mNoDefault \u001b[38;5;241m=\u001b[39m lib\u001b[38;5;241m.\u001b[39mno_default,\n\u001b[1;32m   5591\u001b[0m ) \u001b[38;5;241m-\u001b[39m\u001b[38;5;241m>\u001b[39m DataFrame \u001b[38;5;241m|\u001b[39m \u001b[38;5;28;01mNone\u001b[39;00m:\n\u001b[0;32m-> 5592\u001b[0m     \u001b[38;5;28;01mreturn\u001b[39;00m \u001b[38;5;28;43msuper\u001b[39;49m\u001b[43m(\u001b[49m\u001b[43m)\u001b[49m\u001b[38;5;241;43m.\u001b[39;49m\u001b[43mreplace\u001b[49m\u001b[43m(\u001b[49m\n\u001b[1;32m   5593\u001b[0m \u001b[43m        \u001b[49m\u001b[43mto_replace\u001b[49m\u001b[38;5;241;43m=\u001b[39;49m\u001b[43mto_replace\u001b[49m\u001b[43m,\u001b[49m\n\u001b[1;32m   5594\u001b[0m \u001b[43m        \u001b[49m\u001b[43mvalue\u001b[49m\u001b[38;5;241;43m=\u001b[39;49m\u001b[43mvalue\u001b[49m\u001b[43m,\u001b[49m\n\u001b[1;32m   5595\u001b[0m \u001b[43m        \u001b[49m\u001b[43minplace\u001b[49m\u001b[38;5;241;43m=\u001b[39;49m\u001b[43minplace\u001b[49m\u001b[43m,\u001b[49m\n\u001b[1;32m   5596\u001b[0m \u001b[43m        \u001b[49m\u001b[43mlimit\u001b[49m\u001b[38;5;241;43m=\u001b[39;49m\u001b[43mlimit\u001b[49m\u001b[43m,\u001b[49m\n\u001b[1;32m   5597\u001b[0m \u001b[43m        \u001b[49m\u001b[43mregex\u001b[49m\u001b[38;5;241;43m=\u001b[39;49m\u001b[43mregex\u001b[49m\u001b[43m,\u001b[49m\n\u001b[1;32m   5598\u001b[0m \u001b[43m        \u001b[49m\u001b[43mmethod\u001b[49m\u001b[38;5;241;43m=\u001b[39;49m\u001b[43mmethod\u001b[49m\u001b[43m,\u001b[49m\n\u001b[1;32m   5599\u001b[0m \u001b[43m    \u001b[49m\u001b[43m)\u001b[49m\n",
      "File \u001b[0;32m~/Documents/python/single_cell/lib/python3.8/site-packages/pandas/core/generic.py:7299\u001b[0m, in \u001b[0;36mNDFrame.replace\u001b[0;34m(self, to_replace, value, inplace, limit, regex, method)\u001b[0m\n\u001b[1;32m   7296\u001b[0m     \u001b[38;5;28;01melse\u001b[39;00m:\n\u001b[1;32m   7297\u001b[0m         to_replace, value \u001b[38;5;241m=\u001b[39m keys, values\n\u001b[0;32m-> 7299\u001b[0m     \u001b[38;5;28;01mreturn\u001b[39;00m \u001b[38;5;28;43mself\u001b[39;49m\u001b[38;5;241;43m.\u001b[39;49m\u001b[43mreplace\u001b[49m\u001b[43m(\u001b[49m\n\u001b[1;32m   7300\u001b[0m \u001b[43m        \u001b[49m\u001b[43mto_replace\u001b[49m\u001b[43m,\u001b[49m\u001b[43m \u001b[49m\u001b[43mvalue\u001b[49m\u001b[43m,\u001b[49m\u001b[43m \u001b[49m\u001b[43minplace\u001b[49m\u001b[38;5;241;43m=\u001b[39;49m\u001b[43minplace\u001b[49m\u001b[43m,\u001b[49m\u001b[43m \u001b[49m\u001b[43mlimit\u001b[49m\u001b[38;5;241;43m=\u001b[39;49m\u001b[43mlimit\u001b[49m\u001b[43m,\u001b[49m\u001b[43m \u001b[49m\u001b[43mregex\u001b[49m\u001b[38;5;241;43m=\u001b[39;49m\u001b[43mregex\u001b[49m\n\u001b[1;32m   7301\u001b[0m \u001b[43m    \u001b[49m\u001b[43m)\u001b[49m\n\u001b[1;32m   7302\u001b[0m \u001b[38;5;28;01melse\u001b[39;00m:\n\u001b[1;32m   7303\u001b[0m     \u001b[38;5;66;03m# need a non-zero len on all axes\u001b[39;00m\n\u001b[1;32m   7304\u001b[0m     \u001b[38;5;28;01mif\u001b[39;00m \u001b[38;5;129;01mnot\u001b[39;00m \u001b[38;5;28mself\u001b[39m\u001b[38;5;241m.\u001b[39msize:\n",
      "File \u001b[0;32m~/Documents/python/single_cell/lib/python3.8/site-packages/pandas/core/frame.py:5592\u001b[0m, in \u001b[0;36mDataFrame.replace\u001b[0;34m(self, to_replace, value, inplace, limit, regex, method)\u001b[0m\n\u001b[1;32m   5581\u001b[0m \u001b[38;5;129m@doc\u001b[39m(NDFrame\u001b[38;5;241m.\u001b[39mreplace, \u001b[38;5;241m*\u001b[39m\u001b[38;5;241m*\u001b[39m_shared_doc_kwargs)\n\u001b[1;32m   5582\u001b[0m \u001b[38;5;28;01mdef\u001b[39;00m \u001b[38;5;21mreplace\u001b[39m(\n\u001b[1;32m   5583\u001b[0m     \u001b[38;5;28mself\u001b[39m,\n\u001b[0;32m   (...)\u001b[0m\n\u001b[1;32m   5590\u001b[0m     method: Literal[\u001b[38;5;124m\"\u001b[39m\u001b[38;5;124mpad\u001b[39m\u001b[38;5;124m\"\u001b[39m, \u001b[38;5;124m\"\u001b[39m\u001b[38;5;124mffill\u001b[39m\u001b[38;5;124m\"\u001b[39m, \u001b[38;5;124m\"\u001b[39m\u001b[38;5;124mbfill\u001b[39m\u001b[38;5;124m\"\u001b[39m] \u001b[38;5;241m|\u001b[39m lib\u001b[38;5;241m.\u001b[39mNoDefault \u001b[38;5;241m=\u001b[39m lib\u001b[38;5;241m.\u001b[39mno_default,\n\u001b[1;32m   5591\u001b[0m ) \u001b[38;5;241m-\u001b[39m\u001b[38;5;241m>\u001b[39m DataFrame \u001b[38;5;241m|\u001b[39m \u001b[38;5;28;01mNone\u001b[39;00m:\n\u001b[0;32m-> 5592\u001b[0m     \u001b[38;5;28;01mreturn\u001b[39;00m \u001b[38;5;28;43msuper\u001b[39;49m\u001b[43m(\u001b[49m\u001b[43m)\u001b[49m\u001b[38;5;241;43m.\u001b[39;49m\u001b[43mreplace\u001b[49m\u001b[43m(\u001b[49m\n\u001b[1;32m   5593\u001b[0m \u001b[43m        \u001b[49m\u001b[43mto_replace\u001b[49m\u001b[38;5;241;43m=\u001b[39;49m\u001b[43mto_replace\u001b[49m\u001b[43m,\u001b[49m\n\u001b[1;32m   5594\u001b[0m \u001b[43m        \u001b[49m\u001b[43mvalue\u001b[49m\u001b[38;5;241;43m=\u001b[39;49m\u001b[43mvalue\u001b[49m\u001b[43m,\u001b[49m\n\u001b[1;32m   5595\u001b[0m \u001b[43m        \u001b[49m\u001b[43minplace\u001b[49m\u001b[38;5;241;43m=\u001b[39;49m\u001b[43minplace\u001b[49m\u001b[43m,\u001b[49m\n\u001b[1;32m   5596\u001b[0m \u001b[43m        \u001b[49m\u001b[43mlimit\u001b[49m\u001b[38;5;241;43m=\u001b[39;49m\u001b[43mlimit\u001b[49m\u001b[43m,\u001b[49m\n\u001b[1;32m   5597\u001b[0m \u001b[43m        \u001b[49m\u001b[43mregex\u001b[49m\u001b[38;5;241;43m=\u001b[39;49m\u001b[43mregex\u001b[49m\u001b[43m,\u001b[49m\n\u001b[1;32m   5598\u001b[0m \u001b[43m        \u001b[49m\u001b[43mmethod\u001b[49m\u001b[38;5;241;43m=\u001b[39;49m\u001b[43mmethod\u001b[49m\u001b[43m,\u001b[49m\n\u001b[1;32m   5599\u001b[0m \u001b[43m    \u001b[49m\u001b[43m)\u001b[49m\n",
      "File \u001b[0;32m~/Documents/python/single_cell/lib/python3.8/site-packages/pandas/core/generic.py:7347\u001b[0m, in \u001b[0;36mNDFrame.replace\u001b[0;34m(self, to_replace, value, inplace, limit, regex, method)\u001b[0m\n\u001b[1;32m   7342\u001b[0m     \u001b[38;5;28;01mif\u001b[39;00m \u001b[38;5;28mlen\u001b[39m(to_replace) \u001b[38;5;241m!=\u001b[39m \u001b[38;5;28mlen\u001b[39m(value):\n\u001b[1;32m   7343\u001b[0m         \u001b[38;5;28;01mraise\u001b[39;00m \u001b[38;5;167;01mValueError\u001b[39;00m(\n\u001b[1;32m   7344\u001b[0m             \u001b[38;5;124mf\u001b[39m\u001b[38;5;124m\"\u001b[39m\u001b[38;5;124mReplacement lists must match in length. \u001b[39m\u001b[38;5;124m\"\u001b[39m\n\u001b[1;32m   7345\u001b[0m             \u001b[38;5;124mf\u001b[39m\u001b[38;5;124m\"\u001b[39m\u001b[38;5;124mExpecting \u001b[39m\u001b[38;5;132;01m{\u001b[39;00m\u001b[38;5;28mlen\u001b[39m(to_replace)\u001b[38;5;132;01m}\u001b[39;00m\u001b[38;5;124m got \u001b[39m\u001b[38;5;132;01m{\u001b[39;00m\u001b[38;5;28mlen\u001b[39m(value)\u001b[38;5;132;01m}\u001b[39;00m\u001b[38;5;124m \u001b[39m\u001b[38;5;124m\"\u001b[39m\n\u001b[1;32m   7346\u001b[0m         )\n\u001b[0;32m-> 7347\u001b[0m     new_data \u001b[38;5;241m=\u001b[39m \u001b[38;5;28;43mself\u001b[39;49m\u001b[38;5;241;43m.\u001b[39;49m\u001b[43m_mgr\u001b[49m\u001b[38;5;241;43m.\u001b[39;49m\u001b[43mreplace_list\u001b[49m\u001b[43m(\u001b[49m\n\u001b[1;32m   7348\u001b[0m \u001b[43m        \u001b[49m\u001b[43msrc_list\u001b[49m\u001b[38;5;241;43m=\u001b[39;49m\u001b[43mto_replace\u001b[49m\u001b[43m,\u001b[49m\n\u001b[1;32m   7349\u001b[0m \u001b[43m        \u001b[49m\u001b[43mdest_list\u001b[49m\u001b[38;5;241;43m=\u001b[39;49m\u001b[43mvalue\u001b[49m\u001b[43m,\u001b[49m\n\u001b[1;32m   7350\u001b[0m \u001b[43m        \u001b[49m\u001b[43minplace\u001b[49m\u001b[38;5;241;43m=\u001b[39;49m\u001b[43minplace\u001b[49m\u001b[43m,\u001b[49m\n\u001b[1;32m   7351\u001b[0m \u001b[43m        \u001b[49m\u001b[43mregex\u001b[49m\u001b[38;5;241;43m=\u001b[39;49m\u001b[43mregex\u001b[49m\u001b[43m,\u001b[49m\n\u001b[1;32m   7352\u001b[0m \u001b[43m    \u001b[49m\u001b[43m)\u001b[49m\n\u001b[1;32m   7354\u001b[0m \u001b[38;5;28;01melif\u001b[39;00m to_replace \u001b[38;5;129;01mis\u001b[39;00m \u001b[38;5;28;01mNone\u001b[39;00m:\n\u001b[1;32m   7355\u001b[0m     \u001b[38;5;28;01mif\u001b[39;00m \u001b[38;5;129;01mnot\u001b[39;00m (\n\u001b[1;32m   7356\u001b[0m         is_re_compilable(regex)\n\u001b[1;32m   7357\u001b[0m         \u001b[38;5;129;01mor\u001b[39;00m is_list_like(regex)\n\u001b[1;32m   7358\u001b[0m         \u001b[38;5;129;01mor\u001b[39;00m is_dict_like(regex)\n\u001b[1;32m   7359\u001b[0m     ):\n",
      "File \u001b[0;32m~/Documents/python/single_cell/lib/python3.8/site-packages/pandas/core/internals/managers.py:496\u001b[0m, in \u001b[0;36mBaseBlockManager.replace_list\u001b[0;34m(self, src_list, dest_list, inplace, regex)\u001b[0m\n\u001b[1;32m    493\u001b[0m \u001b[38;5;250m\u001b[39m\u001b[38;5;124;03m\"\"\"do a list replace\"\"\"\u001b[39;00m\n\u001b[1;32m    494\u001b[0m inplace \u001b[38;5;241m=\u001b[39m validate_bool_kwarg(inplace, \u001b[38;5;124m\"\u001b[39m\u001b[38;5;124minplace\u001b[39m\u001b[38;5;124m\"\u001b[39m)\n\u001b[0;32m--> 496\u001b[0m bm \u001b[38;5;241m=\u001b[39m \u001b[38;5;28;43mself\u001b[39;49m\u001b[38;5;241;43m.\u001b[39;49m\u001b[43mapply\u001b[49m\u001b[43m(\u001b[49m\n\u001b[1;32m    497\u001b[0m \u001b[43m    \u001b[49m\u001b[38;5;124;43m\"\u001b[39;49m\u001b[38;5;124;43mreplace_list\u001b[39;49m\u001b[38;5;124;43m\"\u001b[39;49m\u001b[43m,\u001b[49m\n\u001b[1;32m    498\u001b[0m \u001b[43m    \u001b[49m\u001b[43msrc_list\u001b[49m\u001b[38;5;241;43m=\u001b[39;49m\u001b[43msrc_list\u001b[49m\u001b[43m,\u001b[49m\n\u001b[1;32m    499\u001b[0m \u001b[43m    \u001b[49m\u001b[43mdest_list\u001b[49m\u001b[38;5;241;43m=\u001b[39;49m\u001b[43mdest_list\u001b[49m\u001b[43m,\u001b[49m\n\u001b[1;32m    500\u001b[0m \u001b[43m    \u001b[49m\u001b[43minplace\u001b[49m\u001b[38;5;241;43m=\u001b[39;49m\u001b[43minplace\u001b[49m\u001b[43m,\u001b[49m\n\u001b[1;32m    501\u001b[0m \u001b[43m    \u001b[49m\u001b[43mregex\u001b[49m\u001b[38;5;241;43m=\u001b[39;49m\u001b[43mregex\u001b[49m\u001b[43m,\u001b[49m\n\u001b[1;32m    502\u001b[0m \u001b[43m    \u001b[49m\u001b[43musing_cow\u001b[49m\u001b[38;5;241;43m=\u001b[39;49m\u001b[43musing_copy_on_write\u001b[49m\u001b[43m(\u001b[49m\u001b[43m)\u001b[49m\u001b[43m,\u001b[49m\n\u001b[1;32m    503\u001b[0m \u001b[43m\u001b[49m\u001b[43m)\u001b[49m\n\u001b[1;32m    504\u001b[0m bm\u001b[38;5;241m.\u001b[39m_consolidate_inplace()\n\u001b[1;32m    505\u001b[0m \u001b[38;5;28;01mreturn\u001b[39;00m bm\n",
      "File \u001b[0;32m~/Documents/python/single_cell/lib/python3.8/site-packages/pandas/core/internals/managers.py:352\u001b[0m, in \u001b[0;36mBaseBlockManager.apply\u001b[0;34m(self, f, align_keys, **kwargs)\u001b[0m\n\u001b[1;32m    350\u001b[0m         applied \u001b[38;5;241m=\u001b[39m b\u001b[38;5;241m.\u001b[39mapply(f, \u001b[38;5;241m*\u001b[39m\u001b[38;5;241m*\u001b[39mkwargs)\n\u001b[1;32m    351\u001b[0m     \u001b[38;5;28;01melse\u001b[39;00m:\n\u001b[0;32m--> 352\u001b[0m         applied \u001b[38;5;241m=\u001b[39m \u001b[38;5;28;43mgetattr\u001b[39;49m\u001b[43m(\u001b[49m\u001b[43mb\u001b[49m\u001b[43m,\u001b[49m\u001b[43m \u001b[49m\u001b[43mf\u001b[49m\u001b[43m)\u001b[49m\u001b[43m(\u001b[49m\u001b[38;5;241;43m*\u001b[39;49m\u001b[38;5;241;43m*\u001b[39;49m\u001b[43mkwargs\u001b[49m\u001b[43m)\u001b[49m\n\u001b[1;32m    353\u001b[0m     result_blocks \u001b[38;5;241m=\u001b[39m extend_blocks(applied, result_blocks)\n\u001b[1;32m    355\u001b[0m out \u001b[38;5;241m=\u001b[39m \u001b[38;5;28mtype\u001b[39m(\u001b[38;5;28mself\u001b[39m)\u001b[38;5;241m.\u001b[39mfrom_blocks(result_blocks, \u001b[38;5;28mself\u001b[39m\u001b[38;5;241m.\u001b[39maxes)\n",
      "File \u001b[0;32m~/Documents/python/single_cell/lib/python3.8/site-packages/pandas/core/internals/blocks.py:788\u001b[0m, in \u001b[0;36mBlock.replace_list\u001b[0;34m(self, src_list, dest_list, inplace, regex, using_cow)\u001b[0m\n\u001b[1;32m    783\u001b[0m     m \u001b[38;5;241m=\u001b[39m mib[blk_num : blk_num \u001b[38;5;241m+\u001b[39m \u001b[38;5;241m1\u001b[39m]\n\u001b[1;32m    785\u001b[0m \u001b[38;5;66;03m# error: Argument \"mask\" to \"_replace_coerce\" of \"Block\" has\u001b[39;00m\n\u001b[1;32m    786\u001b[0m \u001b[38;5;66;03m# incompatible type \"Union[ExtensionArray, ndarray[Any, Any], bool]\";\u001b[39;00m\n\u001b[1;32m    787\u001b[0m \u001b[38;5;66;03m# expected \"ndarray[Any, dtype[bool_]]\"\u001b[39;00m\n\u001b[0;32m--> 788\u001b[0m result \u001b[38;5;241m=\u001b[39m \u001b[43mblk\u001b[49m\u001b[38;5;241;43m.\u001b[39;49m\u001b[43m_replace_coerce\u001b[49m\u001b[43m(\u001b[49m\n\u001b[1;32m    789\u001b[0m \u001b[43m    \u001b[49m\u001b[43mto_replace\u001b[49m\u001b[38;5;241;43m=\u001b[39;49m\u001b[43msrc\u001b[49m\u001b[43m,\u001b[49m\n\u001b[1;32m    790\u001b[0m \u001b[43m    \u001b[49m\u001b[43mvalue\u001b[49m\u001b[38;5;241;43m=\u001b[39;49m\u001b[43mdest\u001b[49m\u001b[43m,\u001b[49m\n\u001b[1;32m    791\u001b[0m \u001b[43m    \u001b[49m\u001b[43mmask\u001b[49m\u001b[38;5;241;43m=\u001b[39;49m\u001b[43mm\u001b[49m\u001b[43m,\u001b[49m\n\u001b[1;32m    792\u001b[0m \u001b[43m    \u001b[49m\u001b[43minplace\u001b[49m\u001b[38;5;241;43m=\u001b[39;49m\u001b[43minplace\u001b[49m\u001b[43m,\u001b[49m\n\u001b[1;32m    793\u001b[0m \u001b[43m    \u001b[49m\u001b[43mregex\u001b[49m\u001b[38;5;241;43m=\u001b[39;49m\u001b[43mregex\u001b[49m\u001b[43m,\u001b[49m\n\u001b[1;32m    794\u001b[0m \u001b[43m    \u001b[49m\u001b[43musing_cow\u001b[49m\u001b[38;5;241;43m=\u001b[39;49m\u001b[43musing_cow\u001b[49m\u001b[43m,\u001b[49m\n\u001b[1;32m    795\u001b[0m \u001b[43m\u001b[49m\u001b[43m)\u001b[49m\n\u001b[1;32m    796\u001b[0m \u001b[38;5;28;01mif\u001b[39;00m convert \u001b[38;5;129;01mand\u001b[39;00m blk\u001b[38;5;241m.\u001b[39mis_object \u001b[38;5;129;01mand\u001b[39;00m \u001b[38;5;129;01mnot\u001b[39;00m \u001b[38;5;28mall\u001b[39m(x \u001b[38;5;129;01mis\u001b[39;00m \u001b[38;5;28;01mNone\u001b[39;00m \u001b[38;5;28;01mfor\u001b[39;00m x \u001b[38;5;129;01min\u001b[39;00m dest_list):\n\u001b[1;32m    797\u001b[0m     \u001b[38;5;66;03m# GH#44498 avoid unwanted cast-back\u001b[39;00m\n\u001b[1;32m    798\u001b[0m     result \u001b[38;5;241m=\u001b[39m extend_blocks(\n\u001b[1;32m    799\u001b[0m         [\n\u001b[1;32m    800\u001b[0m             b\u001b[38;5;241m.\u001b[39mconvert(copy\u001b[38;5;241m=\u001b[39m\u001b[38;5;28;01mTrue\u001b[39;00m \u001b[38;5;129;01mand\u001b[39;00m \u001b[38;5;129;01mnot\u001b[39;00m using_cow, using_cow\u001b[38;5;241m=\u001b[39musing_cow)\n\u001b[1;32m    801\u001b[0m             \u001b[38;5;28;01mfor\u001b[39;00m b \u001b[38;5;129;01min\u001b[39;00m result\n\u001b[1;32m    802\u001b[0m         ]\n\u001b[1;32m    803\u001b[0m     )\n",
      "File \u001b[0;32m~/Documents/python/single_cell/lib/python3.8/site-packages/pandas/core/internals/blocks.py:862\u001b[0m, in \u001b[0;36mBlock._replace_coerce\u001b[0;34m(self, to_replace, value, mask, inplace, regex, using_cow)\u001b[0m\n\u001b[1;32m    860\u001b[0m         \u001b[38;5;28;01mreturn\u001b[39;00m [\u001b[38;5;28mself\u001b[39m\u001b[38;5;241m.\u001b[39mcopy(deep\u001b[38;5;241m=\u001b[39m\u001b[38;5;28;01mFalse\u001b[39;00m)]\n\u001b[1;32m    861\u001b[0m     \u001b[38;5;28;01mreturn\u001b[39;00m [\u001b[38;5;28mself\u001b[39m] \u001b[38;5;28;01mif\u001b[39;00m inplace \u001b[38;5;28;01melse\u001b[39;00m [\u001b[38;5;28mself\u001b[39m\u001b[38;5;241m.\u001b[39mcopy()]\n\u001b[0;32m--> 862\u001b[0m \u001b[38;5;28;01mreturn\u001b[39;00m \u001b[38;5;28;43mself\u001b[39;49m\u001b[38;5;241;43m.\u001b[39;49m\u001b[43mreplace\u001b[49m\u001b[43m(\u001b[49m\n\u001b[1;32m    863\u001b[0m \u001b[43m    \u001b[49m\u001b[43mto_replace\u001b[49m\u001b[38;5;241;43m=\u001b[39;49m\u001b[43mto_replace\u001b[49m\u001b[43m,\u001b[49m\n\u001b[1;32m    864\u001b[0m \u001b[43m    \u001b[49m\u001b[43mvalue\u001b[49m\u001b[38;5;241;43m=\u001b[39;49m\u001b[43mvalue\u001b[49m\u001b[43m,\u001b[49m\n\u001b[1;32m    865\u001b[0m \u001b[43m    \u001b[49m\u001b[43minplace\u001b[49m\u001b[38;5;241;43m=\u001b[39;49m\u001b[43minplace\u001b[49m\u001b[43m,\u001b[49m\n\u001b[1;32m    866\u001b[0m \u001b[43m    \u001b[49m\u001b[43mmask\u001b[49m\u001b[38;5;241;43m=\u001b[39;49m\u001b[43mmask\u001b[49m\u001b[43m,\u001b[49m\n\u001b[1;32m    867\u001b[0m \u001b[43m    \u001b[49m\u001b[43musing_cow\u001b[49m\u001b[38;5;241;43m=\u001b[39;49m\u001b[43musing_cow\u001b[49m\u001b[43m,\u001b[49m\n\u001b[1;32m    868\u001b[0m \u001b[43m\u001b[49m\u001b[43m)\u001b[49m\n",
      "File \u001b[0;32m~/Documents/python/single_cell/lib/python3.8/site-packages/pandas/core/internals/blocks.py:582\u001b[0m, in \u001b[0;36mBlock.replace\u001b[0;34m(self, to_replace, value, inplace, mask, using_cow)\u001b[0m\n\u001b[1;32m    579\u001b[0m     values\u001b[38;5;241m.\u001b[39m_replace(to_replace\u001b[38;5;241m=\u001b[39mto_replace, value\u001b[38;5;241m=\u001b[39mvalue, inplace\u001b[38;5;241m=\u001b[39m\u001b[38;5;28;01mTrue\u001b[39;00m)\n\u001b[1;32m    580\u001b[0m     \u001b[38;5;28;01mreturn\u001b[39;00m [blk]\n\u001b[0;32m--> 582\u001b[0m \u001b[38;5;28;01mif\u001b[39;00m \u001b[38;5;129;01mnot\u001b[39;00m \u001b[38;5;28;43mself\u001b[39;49m\u001b[38;5;241;43m.\u001b[39;49m\u001b[43m_can_hold_element\u001b[49m\u001b[43m(\u001b[49m\u001b[43mto_replace\u001b[49m\u001b[43m)\u001b[49m:\n\u001b[1;32m    583\u001b[0m     \u001b[38;5;66;03m# We cannot hold `to_replace`, so we know immediately that\u001b[39;00m\n\u001b[1;32m    584\u001b[0m     \u001b[38;5;66;03m#  replacing it is a no-op.\u001b[39;00m\n\u001b[1;32m    585\u001b[0m     \u001b[38;5;66;03m# Note: If to_replace were a list, NDFrame.replace would call\u001b[39;00m\n\u001b[1;32m    586\u001b[0m     \u001b[38;5;66;03m#  replace_list instead of replace.\u001b[39;00m\n\u001b[1;32m    587\u001b[0m     \u001b[38;5;28;01mif\u001b[39;00m using_cow:\n\u001b[1;32m    588\u001b[0m         \u001b[38;5;28;01mreturn\u001b[39;00m [\u001b[38;5;28mself\u001b[39m\u001b[38;5;241m.\u001b[39mcopy(deep\u001b[38;5;241m=\u001b[39m\u001b[38;5;28;01mFalse\u001b[39;00m)]\n",
      "File \u001b[0;32m~/Documents/python/single_cell/lib/python3.8/site-packages/pandas/core/internals/blocks.py:298\u001b[0m, in \u001b[0;36mBlock._can_hold_element\u001b[0;34m(self, element)\u001b[0m\n\u001b[1;32m    295\u001b[0m \u001b[38;5;129m@final\u001b[39m\n\u001b[1;32m    296\u001b[0m \u001b[38;5;28;01mdef\u001b[39;00m \u001b[38;5;21m_can_hold_element\u001b[39m(\u001b[38;5;28mself\u001b[39m, element: Any) \u001b[38;5;241m-\u001b[39m\u001b[38;5;241m>\u001b[39m \u001b[38;5;28mbool\u001b[39m:\n\u001b[1;32m    297\u001b[0m \u001b[38;5;250m    \u001b[39m\u001b[38;5;124;03m\"\"\"require the same dtype as ourselves\"\"\"\u001b[39;00m\n\u001b[0;32m--> 298\u001b[0m     element \u001b[38;5;241m=\u001b[39m \u001b[43mextract_array\u001b[49m\u001b[43m(\u001b[49m\u001b[43melement\u001b[49m\u001b[43m,\u001b[49m\u001b[43m \u001b[49m\u001b[43mextract_numpy\u001b[49m\u001b[38;5;241;43m=\u001b[39;49m\u001b[38;5;28;43;01mTrue\u001b[39;49;00m\u001b[43m)\u001b[49m\n\u001b[1;32m    299\u001b[0m     \u001b[38;5;28;01mreturn\u001b[39;00m can_hold_element(\u001b[38;5;28mself\u001b[39m\u001b[38;5;241m.\u001b[39mvalues, element)\n",
      "File \u001b[0;32m~/Documents/python/single_cell/lib/python3.8/site-packages/pandas/core/construction.py:441\u001b[0m, in \u001b[0;36mextract_array\u001b[0;34m(obj, extract_numpy, extract_range)\u001b[0m\n\u001b[1;32m    396\u001b[0m \u001b[38;5;28;01mdef\u001b[39;00m \u001b[38;5;21mextract_array\u001b[39m(\n\u001b[1;32m    397\u001b[0m     obj: T, extract_numpy: \u001b[38;5;28mbool\u001b[39m \u001b[38;5;241m=\u001b[39m \u001b[38;5;28;01mFalse\u001b[39;00m, extract_range: \u001b[38;5;28mbool\u001b[39m \u001b[38;5;241m=\u001b[39m \u001b[38;5;28;01mFalse\u001b[39;00m\n\u001b[1;32m    398\u001b[0m ) \u001b[38;5;241m-\u001b[39m\u001b[38;5;241m>\u001b[39m T \u001b[38;5;241m|\u001b[39m ArrayLike:\n\u001b[1;32m    399\u001b[0m \u001b[38;5;250m    \u001b[39m\u001b[38;5;124;03m\"\"\"\u001b[39;00m\n\u001b[1;32m    400\u001b[0m \u001b[38;5;124;03m    Extract the ndarray or ExtensionArray from a Series or Index.\u001b[39;00m\n\u001b[1;32m    401\u001b[0m \n\u001b[0;32m   (...)\u001b[0m\n\u001b[1;32m    439\u001b[0m \u001b[38;5;124;03m    array([1, 2, 3])\u001b[39;00m\n\u001b[1;32m    440\u001b[0m \u001b[38;5;124;03m    \"\"\"\u001b[39;00m\n\u001b[0;32m--> 441\u001b[0m     \u001b[38;5;28;01mif\u001b[39;00m \u001b[38;5;28;43misinstance\u001b[39;49m\u001b[43m(\u001b[49m\u001b[43mobj\u001b[49m\u001b[43m,\u001b[49m\u001b[43m \u001b[49m\u001b[43m(\u001b[49m\u001b[43mABCIndex\u001b[49m\u001b[43m,\u001b[49m\u001b[43m \u001b[49m\u001b[43mABCSeries\u001b[49m\u001b[43m)\u001b[49m\u001b[43m)\u001b[49m:\n\u001b[1;32m    442\u001b[0m         \u001b[38;5;28;01mif\u001b[39;00m \u001b[38;5;28misinstance\u001b[39m(obj, ABCRangeIndex):\n\u001b[1;32m    443\u001b[0m             \u001b[38;5;28;01mif\u001b[39;00m extract_range:\n",
      "File \u001b[0;32m~/Documents/python/single_cell/lib/python3.8/site-packages/pandas/core/dtypes/generic.py:44\u001b[0m, in \u001b[0;36mcreate_pandas_abc_type.<locals>._instancecheck\u001b[0;34m(cls, inst)\u001b[0m\n\u001b[1;32m     42\u001b[0m \u001b[38;5;129m@classmethod\u001b[39m  \u001b[38;5;66;03m# type: ignore[misc]\u001b[39;00m\n\u001b[1;32m     43\u001b[0m \u001b[38;5;28;01mdef\u001b[39;00m \u001b[38;5;21m_instancecheck\u001b[39m(\u001b[38;5;28mcls\u001b[39m, inst) \u001b[38;5;241m-\u001b[39m\u001b[38;5;241m>\u001b[39m \u001b[38;5;28mbool\u001b[39m:\n\u001b[0;32m---> 44\u001b[0m     \u001b[38;5;28;01mreturn\u001b[39;00m \u001b[43m_check\u001b[49m\u001b[43m(\u001b[49m\u001b[43minst\u001b[49m\u001b[43m)\u001b[49m \u001b[38;5;129;01mand\u001b[39;00m \u001b[38;5;129;01mnot\u001b[39;00m \u001b[38;5;28misinstance\u001b[39m(inst, \u001b[38;5;28mtype\u001b[39m)\n",
      "File \u001b[0;32m~/Documents/python/single_cell/lib/python3.8/site-packages/pandas/core/dtypes/generic.py:38\u001b[0m, in \u001b[0;36mcreate_pandas_abc_type.<locals>._check\u001b[0;34m(inst)\u001b[0m\n\u001b[1;32m     37\u001b[0m \u001b[38;5;28;01mdef\u001b[39;00m \u001b[38;5;21m_check\u001b[39m(inst) \u001b[38;5;241m-\u001b[39m\u001b[38;5;241m>\u001b[39m \u001b[38;5;28mbool\u001b[39m:\n\u001b[0;32m---> 38\u001b[0m     \u001b[38;5;28;01mreturn\u001b[39;00m \u001b[38;5;28;43mgetattr\u001b[39;49m\u001b[43m(\u001b[49m\u001b[43minst\u001b[49m\u001b[43m,\u001b[49m\u001b[43m \u001b[49m\u001b[43mattr\u001b[49m\u001b[43m,\u001b[49m\u001b[43m \u001b[49m\u001b[38;5;124;43m\"\u001b[39;49m\u001b[38;5;124;43m_typ\u001b[39;49m\u001b[38;5;124;43m\"\u001b[39;49m\u001b[43m)\u001b[49m\u001b[43m \u001b[49m\u001b[38;5;129;43;01min\u001b[39;49;00m\u001b[43m \u001b[49m\u001b[43mcomp\u001b[49m\n",
      "\u001b[0;31mKeyboardInterrupt\u001b[0m: "
     ]
    }
   ],
   "source": [
    "import numpy as np\n",
    "\n",
    "def needleman_wunsch_normalized(seq1, seq2, match=2, mismatch=1, gap=0):\n",
    "    def calculate_max_score(seq1, seq2, match, mismatch, gap):\n",
    "        # Calculate the maximum possible score\n",
    "        max_score = max(len(seq1), len(seq2)) * match\n",
    "        return max_score\n",
    "\n",
    "#     Create a matrix to store alignment scores\n",
    "    matrix = np.zeros((len(seq1) + 1, len(seq2) + 1))\n",
    "\n",
    "    #Initialize the first row and first column with gap penalties\n",
    "    for i in range(len(seq1) + 1):\n",
    "        matrix[i][0] = i * gap\n",
    "    for j in range(len(seq2) + 1):\n",
    "        matrix[0][j] = j * gap\n",
    "\n",
    "    # Fill in the matrix\n",
    "    for i in range(1, len(seq1) + 1):\n",
    "        for j in range(1, len(seq2) + 1):\n",
    "            match_score = matrix[i-1][j-1] + (match if seq1[i-1] == seq2[j-1] else mismatch) \n",
    "            delete_score = matrix[i-1][j] + gap\n",
    "            insert_score = matrix[i][j-1] + gap\n",
    "            matrix[i][j] = max(match_score, delete_score, insert_score)\n",
    "\n",
    "    # Calculate the normalized similarity score\n",
    "    similarity_score = matrix[len(seq1)][len(seq2)] / calculate_max_score(seq1, seq2, match, mismatch, gap)\n",
    "\n",
    "    return similarity_score\n",
    "\n",
    "# Check sequence similarity using your Needleman-Wunsch algorithm\n",
    "def is_sequence_similar_to_selected(new_seq, selected_seq, similarity_threshold):\n",
    "    for selected_peptide in selected_seq:\n",
    "        similarity_score = needleman_wunsch_normalized(new_seq, selected_peptide)  \n",
    "\n",
    "        if similarity_score >= similarity_threshold:\n",
    "            return True\n",
    "    return False\n",
    "\n",
    "\n",
    "lmin = 8\n",
    "lmax = 12\n",
    "thr_rew_mhc = 0.82  # Threshold for binding affinity\n",
    "thr_rew_tcr = 0.53  # Threshold for TCR reward\n",
    "similarity_threshold = 0.7\n",
    "\n",
    "\n",
    "# Extend the list of MHC proteins and TCR sequences\n",
    "mhc_proteins = mhc_molecule_list\n",
    "tcr_sequences = tcr_sequence_list\n",
    "aas = load_valid_aas('Dictionary')\n",
    "\n",
    "# Initialize selected sequences dictionary and output data list\n",
    "selected_seq = {}\n",
    "output_data = []\n",
    "\n",
    "# Define a dictionary to track the count of each MHC molecule\n",
    "mhc_counts = {mhc: 0 for mhc in mhc_proteins}\n",
    "tcr_seq_counts = {tcr: 0 for tcr in tcr_sequences}\n",
    "\n",
    "# Initialize max MHC and TCR values and corresponding indices\n",
    "max_mhc_values = [-1] * len(mhc_proteins)\n",
    "max_tcr_values = [-1] * len(tcr_sequences)\n",
    "max_mhc_idx = -1\n",
    "max_tcr_idx = -1\n",
    "\n",
    "# Initialize progress bar\n",
    "pbar = tqdm(desc=\"Processing sequences\")\n",
    "\n",
    "curr_seq = generate_seq(lmin, lmax, aas)  # Initialize curr_seq\n",
    "curr_rew_mhc_values = get_binding_affinity(curr_seq, mhc_proteins) \n",
    "curr_rew_tcr = tcr_reward(curr_seq, tcr_sequences)\n",
    "curr_rew_class = classification_reward(curr_seq)\n",
    "\n",
    "\n",
    "while len(selected_seq) < 100:\n",
    "    new_seq = alter_seq(curr_seq, aas)\n",
    "    accept = False\n",
    "    selected_in_iteration = False\n",
    "\n",
    "    if new_seq != curr_seq and lmin <= len(new_seq) <= lmax:\n",
    "        new_rew_class = classification_reward(new_seq)\n",
    "\n",
    "        if new_rew_class > 0.5:  # Updated condition\n",
    "            # Check if the new sequence is similar to any selected sequence\n",
    "            if not is_sequence_similar_to_selected(new_seq, selected_seq.keys(), similarity_threshold):\n",
    "                new_rew_mhc_values = get_binding_affinity(new_seq, mhc_proteins)\n",
    "                new_rew_tcr_values = tcr_reward(new_seq, tcr_sequences)\n",
    "\n",
    "                max_mhc_idx = new_rew_mhc_values.index(max(new_rew_mhc_values))\n",
    "                max_tcr_idx = new_rew_tcr_values.index(max(new_rew_tcr_values))\n",
    "\n",
    "                # Check if the selected MHC molecule and TCR sequence have exceeded the maximum count\n",
    "                selected_mhc = mhc_proteins[max_mhc_idx]\n",
    "                selected_tcr = tcr_sequences[max_tcr_idx]\n",
    "\n",
    "                if mhc_counts[selected_mhc] < 5 and tcr_seq_counts[selected_tcr] < 5:\n",
    "                    product_value = new_rew_mhc_values[max_mhc_idx] * new_rew_tcr_values[max_tcr_idx]\n",
    "\n",
    "                    if product_value > (curr_rew_mhc_values[max_mhc_idx] * curr_rew_tcr[max_tcr_idx]) - 0.35 * random.random():\n",
    "                        accept = True\n",
    "                        if new_seq not in selected_seq:\n",
    "                            selected_in_iteration = True\n",
    "                            # Update the count of the selected MHC molecule and TCR sequence\n",
    "                            mhc_counts[selected_mhc] += 1\n",
    "                            tcr_seq_counts[selected_tcr] += 1\n",
    "                            selected_seq = update_selected(selected_seq, thr_rew_mhc, thr_rew_tcr, new_seq, selected_mhc, new_rew_mhc_values[max_mhc_idx], new_rew_tcr_values[max_tcr_idx], curr_rew_class, selected_tcr)\n",
    "                            pbar.update(1)\n",
    "\n",
    "                # Initialize max MHC and TCR values and corresponding indices\n",
    "                max_mhc_values = [-1] * len(mhc_proteins)\n",
    "                max_tcr_values = [-1] * len(tcr_sequences)\n",
    "                max_mhc_idx = -1\n",
    "                max_tcr_idx = -1\n",
    "\n",
    "                if selected_in_iteration:\n",
    "                    data_dict = {\n",
    "                        \"Sequence\": new_seq,\n",
    "                        **{f\"MHC_{i+1}\": new_rew_mhc_values[i] for i in range(len(mhc_proteins))},\n",
    "                        **{f\"TCR_{i+1}\": new_rew_tcr_values[i] for i in range(len(tcr_sequences))},\n",
    "                        \"Classification\": new_rew_class,  # Add new_rew_class here\n",
    "                    }\n",
    "                    output_data.append(data_dict)  # Ensure data_dict is appended to output_data\n",
    "\n",
    "                # Remove MHC molecule if its count reaches 10\n",
    "                if mhc_counts[selected_mhc] >= 10:\n",
    "                    mhc_proteins.remove(selected_mhc)\n",
    "\n",
    "                # Remove TCR sequence if its count reaches 10\n",
    "                if tcr_seq_counts[selected_tcr] >= 10:\n",
    "                    tcr_sequences.remove(selected_tcr)\n",
    "\n",
    "pbar.close()"
   ]
  },
  {
   "cell_type": "code",
   "execution_count": 61,
   "id": "76648125-20d0-49a5-91c6-6cbc600f71f5",
   "metadata": {
    "scrolled": true
   },
   "outputs": [
    {
     "data": {
      "text/plain": [
       "{'CEFNVTLYMQ': {'MHC': 'A*33:01',\n",
       "  'Rew_MHC': 0.9489160381622447,\n",
       "  'TCR_Seq': 'CASSAGGEVEQFF',\n",
       "  'Rew_TCR': 0.9954808601338971,\n",
       "  'Classification': 0.7000799820038158,\n",
       "  'Product': 0.6613149809258351},\n",
       " 'QQLGKCYDI': {'MHC': 'B*39:01',\n",
       "  'Rew_MHC': 0.9589481535307446,\n",
       "  'TCR_Seq': 'CASSPGLTYNEQFF',\n",
       "  'Rew_TCR': 0.9908462956943362,\n",
       "  'Classification': 0.6856054256297502,\n",
       "  'Product': 0.651441862004128},\n",
       " 'CTPWEMCSWMI': {'MHC': 'A*02:01',\n",
       "  'Rew_MHC': 0.9498812884704296,\n",
       "  'TCR_Seq': 'CASRAFYGNTIYF',\n",
       "  'Rew_TCR': 0.9965813179432552,\n",
       "  'Classification': 0.8671989378408155,\n",
       "  'Product': 0.8209199528018131},\n",
       " 'EMMARLQHFC': {'MHC': 'A*02:02',\n",
       "  'Rew_MHC': 0.9552031071419421,\n",
       "  'TCR_Seq': 'CSGTGRSYEQYF',\n",
       "  'Rew_TCR': 0.9835268156751132,\n",
       "  'Classification': 0.7865116058478026,\n",
       "  'Product': 0.7389023833044297},\n",
       " 'MSEASFSRYYQ': {'MHC': 'A*02:01',\n",
       "  'Rew_MHC': 0.9221558277759538,\n",
       "  'TCR_Seq': 'CASSQDLGPSEKLFF',\n",
       "  'Rew_TCR': 0.8945305649870059,\n",
       "  'Classification': 0.6008002053595624,\n",
       "  'Product': 0.495598030835191},\n",
       " 'CYVSRNDVN': {'MHC': 'A*02:16',\n",
       "  'Rew_MHC': 0.9540051503312494,\n",
       "  'TCR_Seq': 'CASSSYNPGLEGEQFF',\n",
       "  'Rew_TCR': 0.9905615002863125,\n",
       "  'Classification': 0.5373580100173558,\n",
       "  'Product': 0.507803734840377},\n",
       " 'PGNQCKAWSYN': {'MHC': 'B*51:01',\n",
       "  'Rew_MHC': 0.9041781551771908,\n",
       "  'TCR_Seq': 'CASSAGGEVEQFF',\n",
       "  'Rew_TCR': 0.9850311399363896,\n",
       "  'Classification': 0.6487692500946189,\n",
       "  'Product': 0.5778222057105464},\n",
       " 'VKPVWIEAFW': {'MHC': 'A*24:03',\n",
       "  'Rew_MHC': 0.9954526500013232,\n",
       "  'TCR_Seq': 'CASSPPTSGIPEQYF',\n",
       "  'Rew_TCR': 0.9950791313633206,\n",
       "  'Classification': 0.6936082365212981,\n",
       "  'Product': 0.6870565229010938},\n",
       " 'LGPFFVVLFG': {'MHC': 'B*07:02',\n",
       "  'Rew_MHC': 0.9626681912630276,\n",
       "  'TCR_Seq': 'CASKRTSVYNEQFF',\n",
       "  'Rew_TCR': 0.906320484218997,\n",
       "  'Classification': 0.5599943046014483,\n",
       "  'Product': 0.48858713554379224},\n",
       " 'NRSTVPEQHMH': {'MHC': 'A*33:01',\n",
       "  'Rew_MHC': 0.9420240436905284,\n",
       "  'TCR_Seq': 'CATALRDRVDQPQHF',\n",
       "  'Rew_TCR': 0.982515051381868,\n",
       "  'Classification': 0.6540750881082164,\n",
       "  'Product': 0.6053810303139019},\n",
       " 'LVNWVNSNR': {'MHC': 'A*02:16',\n",
       "  'Rew_MHC': 0.9653174957722973,\n",
       "  'TCR_Seq': 'CASSLGGGNQPQHF',\n",
       "  'Rew_TCR': 0.9556087559666909,\n",
       "  'Classification': 0.8746358725840313,\n",
       "  'Product': 0.8068217247351314},\n",
       " 'MDTCMPHEHQ': {'MHC': 'A*02:02',\n",
       "  'Rew_MHC': 0.9715335139640545,\n",
       "  'TCR_Seq': 'CASSRDRGNYGYTF',\n",
       "  'Rew_TCR': 0.991409292443721,\n",
       "  'Classification': 0.8985431334044011,\n",
       "  'Product': 0.8654653828171616},\n",
       " 'YRKCQRAIY': {'MHC': 'A*11:01',\n",
       "  'Rew_MHC': 0.9288063316687798,\n",
       "  'TCR_Seq': 'CAWSAGGGKLFF',\n",
       "  'Rew_TCR': 0.9684593407710641,\n",
       "  'Classification': 0.643200623402566,\n",
       "  'Product': 0.5785661438041598},\n",
       " 'SLVYMDALC': {'MHC': 'B*57:01',\n",
       "  'Rew_MHC': 0.9493163130729436,\n",
       "  'TCR_Seq': 'CASSLEQGISGYTF',\n",
       "  'Rew_TCR': 0.8071452103436667,\n",
       "  'Classification': 0.6530738897302398,\n",
       "  'Product': 0.5004088002041037},\n",
       " 'TFGPALKGVM': {'MHC': 'A*68:02',\n",
       "  'Rew_MHC': 0.9385428877088516,\n",
       "  'TCR_Seq': 'CAWSAGGGKLFF',\n",
       "  'Rew_TCR': 0.9987166804844465,\n",
       "  'Classification': 0.5345076778898643,\n",
       "  'Product': 0.5010145915207408},\n",
       " 'MQNIWTRFPCI': {'MHC': 'B*51:01',\n",
       "  'Rew_MHC': 0.8268435167610628,\n",
       "  'TCR_Seq': 'CARRTGGSAFF',\n",
       "  'Rew_TCR': 0.9392757760174426,\n",
       "  'Classification': 0.7052214974599496,\n",
       "  'Product': 0.5476990530020969},\n",
       " 'DKYLLICPFML': {'MHC': 'A*02:06',\n",
       "  'Rew_MHC': 0.9547855431303269,\n",
       "  'TCR_Seq': 'CASSQEGRDRGDEQYF',\n",
       "  'Rew_TCR': 0.9111129226884017,\n",
       "  'Classification': 0.7121128519934277,\n",
       "  'Product': 0.6194793939983613},\n",
       " 'DHTHTHWHNN': {'MHC': 'A*02:06',\n",
       "  'Rew_MHC': 0.9342324170836371,\n",
       "  'TCR_Seq': 'CASSFSGRAFDNEQFF',\n",
       "  'Rew_TCR': 0.8136223960131883,\n",
       "  'Classification': 0.8621251518677071,\n",
       "  'Product': 0.655312033477846},\n",
       " 'NVFWDFNNPD': {'MHC': 'A*02:01',\n",
       "  'Rew_MHC': 0.9880644550907132,\n",
       "  'TCR_Seq': 'CASRPTGSEEQYF',\n",
       "  'Rew_TCR': 0.8166053858306269,\n",
       "  'Classification': 0.7174650787286011,\n",
       "  'Product': 0.5788929805913924},\n",
       " 'GQMDRLRTYNT': {'MHC': 'A*11:01',\n",
       "  'Rew_MHC': 0.9987424863025315,\n",
       "  'TCR_Seq': 'CASSFSGRAFDNEQFF',\n",
       "  'Rew_TCR': 0.7528354294520324,\n",
       "  'Classification': 0.7134633263038761,\n",
       "  'Product': 0.5364450333084706},\n",
       " 'GYVLLDAPKD': {'MHC': 'A*03:01',\n",
       "  'Rew_MHC': 0.9988459418610094,\n",
       "  'TCR_Seq': 'CASSPGLTYNEQFF',\n",
       "  'Rew_TCR': 0.7071404664219665,\n",
       "  'Classification': 0.6033146934369746,\n",
       "  'Product': 0.42613587993080454},\n",
       " 'IRVCNRKLQ': {'MHC': 'A*02:01',\n",
       "  'Rew_MHC': 0.9155841749489977,\n",
       "  'TCR_Seq': 'CASSLEQGISGYTF',\n",
       "  'Rew_TCR': 0.9837196031183897,\n",
       "  'Classification': 0.8532851808018431,\n",
       "  'Product': 0.7685352764286707},\n",
       " 'VYPRMKALYD': {'MHC': 'B*57:01',\n",
       "  'Rew_MHC': 0.9278243332282722,\n",
       "  'TCR_Seq': 'CASSQEGRDRGDEQYF',\n",
       "  'Rew_TCR': 0.9209665684224242,\n",
       "  'Classification': 0.8716813022937215,\n",
       "  'Product': 0.7448474820034381},\n",
       " 'DDLITDERTEE': {'MHC': 'A*02:06',\n",
       "  'Rew_MHC': 0.9036355262070377,\n",
       "  'TCR_Seq': 'CSARDVSPGTQYF',\n",
       "  'Rew_TCR': 0.998415036696897,\n",
       "  'Classification': 0.5976607308576913,\n",
       "  'Product': 0.5392114819022732},\n",
       " 'EHQWKKRMKPF': {'MHC': 'A*68:01',\n",
       "  'Rew_MHC': 0.9370254541400017,\n",
       "  'TCR_Seq': 'CASSRQSTGELFF',\n",
       "  'Rew_TCR': 0.9164765898933304,\n",
       "  'Classification': 0.7147558938810937,\n",
       "  'Product': 0.6138051243575078},\n",
       " 'LKSGIPYSS': {'MHC': 'B*57:01',\n",
       "  'Rew_MHC': 0.9303805126194159,\n",
       "  'TCR_Seq': 'CASSAGWGNKVNNEQFF',\n",
       "  'Rew_TCR': 0.9904808168821629,\n",
       "  'Classification': 0.5345380463742846,\n",
       "  'Product': 0.49258966545437965},\n",
       " 'INVKCWPVTW': {'MHC': 'B*57:01',\n",
       "  'Rew_MHC': 0.9215214722520823,\n",
       "  'TCR_Seq': 'CASRIAGNSQNYGYTF',\n",
       "  'Rew_TCR': 0.8472483422963983,\n",
       "  'Classification': 0.8482121659118451,\n",
       "  'Product': 0.6622480438485363},\n",
       " 'YPCIVYFIA': {'MHC': 'A*02:06',\n",
       "  'Rew_MHC': 0.9949921746650543,\n",
       "  'TCR_Seq': 'CASSLGLARAGYEQYF',\n",
       "  'Rew_TCR': 0.9770455516704111,\n",
       "  'Classification': 0.7846134905327877,\n",
       "  'Product': 0.7627641061759362},\n",
       " 'TMHRPLPQEEG': {'MHC': 'A*11:01',\n",
       "  'Rew_MHC': 0.9251401476739818,\n",
       "  'TCR_Seq': 'CATALRDRVDQPQHF',\n",
       "  'Rew_TCR': 0.9476122064621811,\n",
       "  'Classification': 0.6094751315452038,\n",
       "  'Product': 0.53431106036224},\n",
       " 'CKESYQNTN': {'MHC': 'B*39:01',\n",
       "  'Rew_MHC': 0.9983742693374664,\n",
       "  'TCR_Seq': 'CASSLALAYGYTF',\n",
       "  'Rew_TCR': 0.8723240731477868,\n",
       "  'Classification': 0.9247808200409332,\n",
       "  'Product': 0.8053970808463045},\n",
       " 'SLWNDHRCI': {'MHC': 'B*07:02',\n",
       "  'Rew_MHC': 0.8244290985576553,\n",
       "  'TCR_Seq': 'CASSDRNSPLHF',\n",
       "  'Rew_TCR': 0.9319461023137429,\n",
       "  'Classification': 0.5697210752837133,\n",
       "  'Product': 0.43773008205977876},\n",
       " 'WSFIWYKHA': {'MHC': 'A*02:02',\n",
       "  'Rew_MHC': 0.9972145269702506,\n",
       "  'TCR_Seq': 'CASSLRGVSGELFF',\n",
       "  'Rew_TCR': 0.9005186894765659,\n",
       "  'Classification': 0.9007883743533569,\n",
       "  'Product': 0.8089172553633327},\n",
       " 'SWMVCESKYSN': {'MHC': 'A*02:16',\n",
       "  'Rew_MHC': 0.998787185562942,\n",
       "  'TCR_Seq': 'CASDQSYSNQPQHF',\n",
       "  'Rew_TCR': 0.8490916096832258,\n",
       "  'Classification': 0.6948231612080241,\n",
       "  'Product': 0.5892529940612148},\n",
       " 'PYAAEWVVVF': {'MHC': 'A*02:02',\n",
       "  'Rew_MHC': 0.9981987831122218,\n",
       "  'TCR_Seq': 'CSARDVSPGTQYF',\n",
       "  'Rew_TCR': 0.9904805512948657,\n",
       "  'Classification': 0.6758828394320039,\n",
       "  'Product': 0.6682429849139381},\n",
       " 'SVNRMYTCI': {'MHC': 'A*68:02',\n",
       "  'Rew_MHC': 0.843785501771452,\n",
       "  'TCR_Seq': 'CASSQGTGKVYGYTF',\n",
       "  'Rew_TCR': 0.8552984198017426,\n",
       "  'Classification': 0.7400255693916333,\n",
       "  'Product': 0.5340678738078884},\n",
       " 'CMCFCYVFC': {'MHC': 'A*02:06',\n",
       "  'Rew_MHC': 0.8529939629395317,\n",
       "  'TCR_Seq': 'CASNGDATYEQYF',\n",
       "  'Rew_TCR': 0.943735474046006,\n",
       "  'Classification': 0.8225807053419172,\n",
       "  'Product': 0.6621780123265594},\n",
       " 'ITMGNDTPK': {'MHC': 'B*51:01',\n",
       "  'Rew_MHC': 0.9987960574759208,\n",
       "  'TCR_Seq': 'CASSLRGVSGELFF',\n",
       "  'Rew_TCR': 0.965326388168861,\n",
       "  'Classification': 0.5457033882286749,\n",
       "  'Product': 0.5261476656631228},\n",
       " 'WGTNVSWTCEE': {'MHC': 'A*02:02',\n",
       "  'Rew_MHC': 0.8966955967980144,\n",
       "  'TCR_Seq': 'CASSYSDNIDEQFF',\n",
       "  'Rew_TCR': 0.8868054788228145,\n",
       "  'Classification': 0.6006920469589063,\n",
       "  'Product': 0.47766705282863986},\n",
       " 'SYIPHHACNI': {'MHC': 'A*11:01',\n",
       "  'Rew_MHC': 0.9719824977626492,\n",
       "  'TCR_Seq': 'CASSPVPGQGARNEQFF',\n",
       "  'Rew_TCR': 0.916429884247016,\n",
       "  'Classification': 0.6636677450441634,\n",
       "  'Product': 0.591164571088284},\n",
       " 'DWNRDLVEW': {'MHC': 'A*69:01',\n",
       "  'Rew_MHC': 0.9748817221675286,\n",
       "  'TCR_Seq': 'CASSFLSGTDTQYF',\n",
       "  'Rew_TCR': 0.987270361169447,\n",
       "  'Classification': 0.9286619621269812,\n",
       "  'Product': 0.8938109780857245},\n",
       " 'DCVEEICQF': {'MHC': 'B*51:01',\n",
       "  'Rew_MHC': 0.9914766206020876,\n",
       "  'TCR_Seq': 'CASSQGTGKVYGYTF',\n",
       "  'Rew_TCR': 0.7729400700882352,\n",
       "  'Classification': 0.6482933530220505,\n",
       "  'Product': 0.4968209132628105},\n",
       " 'HQAHHMAWD': {'MHC': 'A*68:02',\n",
       "  'Rew_MHC': 0.9981389281185418,\n",
       "  'TCR_Seq': 'CASSAGGEVEQFF',\n",
       "  'Rew_TCR': 0.9692680976371284,\n",
       "  'Classification': 0.6277592039663938,\n",
       "  'Product': 0.6073345686351531},\n",
       " 'ARLTHCWDPDG': {'MHC': 'B*57:01',\n",
       "  'Rew_MHC': 0.998508968998777,\n",
       "  'TCR_Seq': 'CASSLVGVYGYEQYF',\n",
       "  'Rew_TCR': 0.9215409176661892,\n",
       "  'Classification': 0.8082496918947373,\n",
       "  'Product': 0.7437245904535966},\n",
       " 'SPKFPDICR': {'MHC': 'A*24:03',\n",
       "  'Rew_MHC': 0.8401904868189607,\n",
       "  'TCR_Seq': 'CSGTGRSYEQYF',\n",
       "  'Rew_TCR': 0.9109679987711107,\n",
       "  'Classification': 0.8213103708991332,\n",
       "  'Product': 0.6286199904064556},\n",
       " 'GWRGRSMDFRG': {'MHC': 'B*07:02',\n",
       "  'Rew_MHC': 0.9975190005054917,\n",
       "  'TCR_Seq': 'CASSLAPGSSGYTF',\n",
       "  'Rew_TCR': 0.9606504979243162,\n",
       "  'Classification': 0.8806991105584208,\n",
       "  'Product': 0.8439450042461615},\n",
       " 'GVPESVWFES': {'MHC': 'A*11:01',\n",
       "  'Rew_MHC': 0.8689469918659334,\n",
       "  'TCR_Seq': 'CASRYTTGDSYEQYF',\n",
       "  'Rew_TCR': 0.9867631401059571,\n",
       "  'Classification': 0.6362631942578857,\n",
       "  'Product': 0.545560606973811},\n",
       " 'FCFADEADCCC': {'MHC': 'A*03:01',\n",
       "  'Rew_MHC': 0.9981748949892337,\n",
       "  'TCR_Seq': 'CASKRTSVYNEQFF',\n",
       "  'Rew_TCR': 0.9921179087312686,\n",
       "  'Classification': 0.8231089802381368,\n",
       "  'Product': 0.8151307407605332},\n",
       " 'YYTWVTEYKF': {'MHC': 'B*39:01',\n",
       "  'Rew_MHC': 0.9270169121173597,\n",
       "  'TCR_Seq': 'CARRTGGSAFF',\n",
       "  'Rew_TCR': 0.9580015288764593,\n",
       "  'Classification': 0.5433928297203118,\n",
       "  'Product': 0.4825782708125069},\n",
       " 'RAGPNHPALS': {'MHC': 'B*53:01',\n",
       "  'Rew_MHC': 0.8721021651452322,\n",
       "  'TCR_Seq': 'CSARAPGSYNSPLHF',\n",
       "  'Rew_TCR': 0.8605017613156634,\n",
       "  'Classification': 0.9063210972833686,\n",
       "  'Product': 0.6801445429291763},\n",
       " 'AFGYLWHKM': {'MHC': 'A*32:01',\n",
       "  'Rew_MHC': 0.8387716262470858,\n",
       "  'TCR_Seq': 'CAIGTGYGTDTQYF',\n",
       "  'Rew_TCR': 0.8704511858826681,\n",
       "  'Classification': 0.6676185580938396,\n",
       "  'Product': 0.48743482305268704},\n",
       " 'VSRDFWCDIH': {'MHC': 'A*68:02',\n",
       "  'Rew_MHC': 0.8917568608815736,\n",
       "  'TCR_Seq': 'CASSIISGNTEAFF',\n",
       "  'Rew_TCR': 0.7883297963985871,\n",
       "  'Classification': 0.9214665694532196,\n",
       "  'Product': 0.647789620342219},\n",
       " 'CMSITKTDARK': {'MHC': 'C*04:01',\n",
       "  'Rew_MHC': 0.9228314904937022,\n",
       "  'TCR_Seq': 'CSARDVSPGTQYF',\n",
       "  'Rew_TCR': 0.9087884391465288,\n",
       "  'Classification': 0.7098821629504458,\n",
       "  'Product': 0.5953487737333257},\n",
       " 'DTYVFISS': {'MHC': 'B*15:09',\n",
       "  'Rew_MHC': 0.8714863500392713,\n",
       "  'TCR_Seq': 'CASSRQSTGELFF',\n",
       "  'Rew_TCR': 0.8889467066773019,\n",
       "  'Classification': 0.5590758427365076,\n",
       "  'Product': 0.4331188064581106},\n",
       " 'YNDSDPVQGD': {'MHC': 'B*40:13',\n",
       "  'Rew_MHC': 0.8253099446354711,\n",
       "  'TCR_Seq': 'CASSLVVGQPSYEQYF',\n",
       "  'Rew_TCR': 0.9420904010472757,\n",
       "  'Classification': 0.6264106929869382,\n",
       "  'Product': 0.48704469763823105},\n",
       " 'EQEFHKHVTH': {'MHC': 'A*80:01',\n",
       "  'Rew_MHC': 0.9004488658024746,\n",
       "  'TCR_Seq': 'CASSSTGHQINEQFF',\n",
       "  'Rew_TCR': 0.986820337539612,\n",
       "  'Classification': 0.6860012130508654,\n",
       "  'Product': 0.6095678179244728},\n",
       " 'RPRQRVGRI': {'MHC': 'B*38:01',\n",
       "  'Rew_MHC': 0.9235207719586267,\n",
       "  'TCR_Seq': 'CASSIISGNTEAFF',\n",
       "  'Rew_TCR': 0.9490185060655236,\n",
       "  'Classification': 0.6943486126230975,\n",
       "  'Product': 0.6085537199632157},\n",
       " 'TQASRSLG': {'MHC': 'B*15:17',\n",
       "  'Rew_MHC': 0.9904252820434047,\n",
       "  'TCR_Seq': 'CSARDVSPGTQYF',\n",
       "  'Rew_TCR': 0.8102227238453037,\n",
       "  'Classification': 0.5109214906068368,\n",
       "  'Product': 0.40999664961317406},\n",
       " 'YWTPYLPVPH': {'MHC': 'C*07:01',\n",
       "  'Rew_MHC': 0.911198254594943,\n",
       "  'TCR_Seq': 'CASSQGTGKVYGYTF',\n",
       "  'Rew_TCR': 0.8942030980337227,\n",
       "  'Classification': 0.7919618778108506,\n",
       "  'Product': 0.6452876095091712},\n",
       " 'EIWYDCDWLRIS': {'MHC': 'A*01:01',\n",
       "  'Rew_MHC': 0.9441879554434228,\n",
       "  'TCR_Seq': 'CASRLQNVSPLHF',\n",
       "  'Rew_TCR': 0.8685443294364763,\n",
       "  'Classification': 0.6988348978404085,\n",
       "  'Product': 0.5730929019626646},\n",
       " 'MHARWSGSVMEI': {'MHC': 'A*69:01',\n",
       "  'Rew_MHC': 0.8568530333133446,\n",
       "  'TCR_Seq': 'CASSSTGHQINEQFF',\n",
       "  'Rew_TCR': 0.7401216239488957,\n",
       "  'Classification': 0.5122710779268556,\n",
       "  'Product': 0.3248697457212751},\n",
       " 'NNETCDMAQSP': {'MHC': 'B*51:01',\n",
       "  'Rew_MHC': 0.9097232399193411,\n",
       "  'TCR_Seq': 'CASDQSYSNQPQHF',\n",
       "  'Rew_TCR': 0.7441492748787788,\n",
       "  'Classification': 0.6744231820145608,\n",
       "  'Product': 0.4565641868875227},\n",
       " 'NGAPGGFSIV': {'MHC': 'A*02:19',\n",
       "  'Rew_MHC': 0.9939466169733784,\n",
       "  'TCR_Seq': 'CASSAGGEVEQFF',\n",
       "  'Rew_TCR': 0.7581743044341993,\n",
       "  'Classification': 0.6980563147025822,\n",
       "  'Product': 0.5260446178110606},\n",
       " 'AFVLTAIDKP': {'MHC': 'A*24:03',\n",
       "  'Rew_MHC': 0.8693763200477844,\n",
       "  'TCR_Seq': 'CASSSYNPGLEGEQFF',\n",
       "  'Rew_TCR': 0.7169915342753636,\n",
       "  'Classification': 0.5434545160943676,\n",
       "  'Product': 0.3387544716340109},\n",
       " 'FPTQADDDNG': {'MHC': 'B*08:02',\n",
       "  'Rew_MHC': 0.8897636660415461,\n",
       "  'TCR_Seq': 'CASSRDRGNYGYTF',\n",
       "  'Rew_TCR': 0.8106399483550666,\n",
       "  'Classification': 0.7502730505343038,\n",
       "  'Product': 0.5411554245518151},\n",
       " 'KCFHELYY': {'MHC': 'B*07:02',\n",
       "  'Rew_MHC': 0.8825679434998907,\n",
       "  'TCR_Seq': 'CASRLQNVSPLHF',\n",
       "  'Rew_TCR': 0.8276808733310594,\n",
       "  'Classification': 0.8426252249207071,\n",
       "  'Product': 0.6155247556425091},\n",
       " 'QKKRSATE': {'MHC': 'B*35:03',\n",
       "  'Rew_MHC': 0.8641730339503823,\n",
       "  'TCR_Seq': 'CASRPNRQGATTEAFF',\n",
       "  'Rew_TCR': 0.8766405111970246,\n",
       "  'Classification': 0.6142345699686502,\n",
       "  'Product': 0.46532512436814644},\n",
       " 'RPANKLHGKRHD': {'MHC': 'B*08:01',\n",
       "  'Rew_MHC': 0.9141943065143963,\n",
       "  'TCR_Seq': 'CASRIAGNSQNYGYTF',\n",
       "  'Rew_TCR': 0.9403402008681668,\n",
       "  'Classification': 0.5559422664698395,\n",
       "  'Product': 0.4779178029076953},\n",
       " 'RLDAHGLMPT': {'MHC': 'A*02:01',\n",
       "  'Rew_MHC': 0.8358254146139715,\n",
       "  'TCR_Seq': 'CASSLALAYGYTF',\n",
       "  'Rew_TCR': 0.8574901447800234,\n",
       "  'Classification': 0.7066306515100174,\n",
       "  'Product': 0.5064507069266697},\n",
       " 'FVCSQNRAH': {'MHC': 'B*15:01',\n",
       "  'Rew_MHC': 0.8296600517665976,\n",
       "  'TCR_Seq': 'CASSFDPGTGYFEQYF',\n",
       "  'Rew_TCR': 0.9879723015057393,\n",
       "  'Classification': 0.8854411870867311,\n",
       "  'Product': 0.7257794512069012},\n",
       " 'GVYAWMVEQW': {'MHC': 'A*32:07',\n",
       "  'Rew_MHC': 0.9612029776977865,\n",
       "  'TCR_Seq': 'CASSRQSTGELFF',\n",
       "  'Rew_TCR': 0.9295911834376435,\n",
       "  'Classification': 0.7232932322259685,\n",
       "  'Product': 0.6462811737685047},\n",
       " 'YVRFCMLLPLMR': {'MHC': 'A*03:01',\n",
       "  'Rew_MHC': 0.8049260528706468,\n",
       "  'TCR_Seq': 'CASSAGGEVEQFF',\n",
       "  'Rew_TCR': 0.7367432273925476,\n",
       "  'Classification': 0.5196598989815661,\n",
       "  'Product': 0.3081706973577588},\n",
       " 'AVPCTFNHPVA': {'MHC': 'B*39:06',\n",
       "  'Rew_MHC': 0.8724863700525362,\n",
       "  'TCR_Seq': 'CSAKDGTYEQYF',\n",
       "  'Rew_TCR': 0.9770040586012334,\n",
       "  'Classification': 0.865536806428908,\n",
       "  'Product': 0.7378032427912022},\n",
       " 'ACRVNWQPVWED': {'MHC': 'B*07:02',\n",
       "  'Rew_MHC': 0.8359556311163325,\n",
       "  'TCR_Seq': 'CSAPQGARPATEAFF',\n",
       "  'Rew_TCR': 0.8203789227150011,\n",
       "  'Classification': 0.6670663679330103,\n",
       "  'Product': 0.4574743686755526},\n",
       " 'QKWARACG': {'MHC': 'B*14:02',\n",
       "  'Rew_MHC': 0.9137937560281392,\n",
       "  'TCR_Seq': 'CASSLALAYGYTF',\n",
       "  'Rew_TCR': 0.827186017688177,\n",
       "  'Classification': 0.7997825787226762,\n",
       "  'Product': 0.6045375905960606},\n",
       " 'HYQVENKDCR': {'MHC': 'B*40:13',\n",
       "  'Rew_MHC': 0.9074084402820674,\n",
       "  'TCR_Seq': 'CASSLVGVYGYEQYF',\n",
       "  'Rew_TCR': 0.82738371557213,\n",
       "  'Classification': 0.7778547455227399,\n",
       "  'Product': 0.5839938707933531},\n",
       " 'VSKQFYTWNMQN': {'MHC': 'B*57:01',\n",
       "  'Rew_MHC': 0.8033048845412083,\n",
       "  'TCR_Seq': 'CASSLDPGSHEQYF',\n",
       "  'Rew_TCR': 0.8122206291104435,\n",
       "  'Classification': 0.8047029044996424,\n",
       "  'Product': 0.5250370997776392},\n",
       " 'ECQFRDGGCD': {'MHC': 'A*02:16',\n",
       "  'Rew_MHC': 0.8880072669634921,\n",
       "  'TCR_Seq': 'CASKRTSVYNEQFF',\n",
       "  'Rew_TCR': 0.8806189429396847,\n",
       "  'Classification': 0.8764753370882747,\n",
       "  'Product': 0.685400225893935},\n",
       " 'FYSHIWTYVE': {'MHC': 'B*27:03',\n",
       "  'Rew_MHC': 0.8408777151963692,\n",
       "  'TCR_Seq': 'CASSQEGQGGRTEAFF',\n",
       "  'Rew_TCR': 0.9246097061047702,\n",
       "  'Classification': 0.5907019065385747,\n",
       "  'Product': 0.4592611021901239},\n",
       " 'RHYESIFHNSVR': {'MHC': 'A*02:03',\n",
       "  'Rew_MHC': 0.8994846842726837,\n",
       "  'TCR_Seq': 'CSARAPGSYNSPLHF',\n",
       "  'Rew_TCR': 0.776591328191305,\n",
       "  'Classification': 0.6618828970657697,\n",
       "  'Product': 0.46234638759083874},\n",
       " 'GAFCANPEVAE': {'MHC': 'A*23:01',\n",
       "  'Rew_MHC': 0.8863018777789872,\n",
       "  'TCR_Seq': 'CSGTGRSYEQYF',\n",
       "  'Rew_TCR': 0.7236214072497228,\n",
       "  'Classification': 0.5470184539487408,\n",
       "  'Product': 0.35082865097432225},\n",
       " 'GRSKSDFV': {'MHC': 'B*54:01',\n",
       "  'Rew_MHC': 0.8161156178493802,\n",
       "  'TCR_Seq': 'CASSLVGVYGYEQYF',\n",
       "  'Rew_TCR': 0.8914004382286046,\n",
       "  'Classification': 0.8380313814596885,\n",
       "  'Product': 0.6096559462208857},\n",
       " 'CFHVLGCAHIFP': {'MHC': 'A*24:02',\n",
       "  'Rew_MHC': 0.9094044570362101,\n",
       "  'TCR_Seq': 'CATSPPAGGNRAGNTIYF',\n",
       "  'Rew_TCR': 0.8093187705121099,\n",
       "  'Classification': 0.8595607385105751,\n",
       "  'Product': 0.632635067857098},\n",
       " 'AYHPMYKG': {'MHC': 'A*02:01',\n",
       "  'Rew_MHC': 0.9423191483086673,\n",
       "  'TCR_Seq': 'CASSLRGVSGELFF',\n",
       "  'Rew_TCR': 0.905475870509107,\n",
       "  'Classification': 0.6710897998401272,\n",
       "  'Product': 0.5726055269630188},\n",
       " 'LFWARLDMHMTY': {'MHC': 'B*15:09',\n",
       "  'Rew_MHC': 0.9276097757441262,\n",
       "  'TCR_Seq': 'CATALRDRVDQPQHF',\n",
       "  'Rew_TCR': 0.9949412479705264,\n",
       "  'Classification': 0.530913481995368,\n",
       "  'Product': 0.48998919906242555},\n",
       " 'NKERDCWYS': {'MHC': 'B*38:01',\n",
       "  'Rew_MHC': 0.8212995532951785,\n",
       "  'TCR_Seq': 'CASSDRNSPLHF',\n",
       "  'Rew_TCR': 0.9619191558457573,\n",
       "  'Classification': 0.8619879454513248,\n",
       "  'Product': 0.6809909689478665},\n",
       " 'MMDLDSNY': {'MHC': 'B*48:01',\n",
       "  'Rew_MHC': 0.8255989931719654,\n",
       "  'TCR_Seq': 'CASSQEGRDRGDEQYF',\n",
       "  'Rew_TCR': 0.8167727500960283,\n",
       "  'Classification': 0.7090928762549739,\n",
       "  'Product': 0.47816030187598046},\n",
       " 'FDTFNLHRPK': {'MHC': 'A*02:06',\n",
       "  'Rew_MHC': 0.9360240523325869,\n",
       "  'TCR_Seq': 'CASTPGMGGTYEQYF',\n",
       "  'Rew_TCR': 0.9065628838181049,\n",
       "  'Classification': 0.89077361047357,\n",
       "  'Product': 0.7558790096548385},\n",
       " 'PRVKWWHRVHHR': {'MHC': 'B*15:01',\n",
       "  'Rew_MHC': 0.8642190642223437,\n",
       "  'TCR_Seq': 'CSGTGRSYEQYF',\n",
       "  'Rew_TCR': 0.9088885822459156,\n",
       "  'Classification': 0.8706387639192679,\n",
       "  'Product': 0.6838683263692762},\n",
       " 'VHMPKIKAMR': {'MHC': 'B*27:04',\n",
       "  'Rew_MHC': 0.8768318381349763,\n",
       "  'TCR_Seq': 'CSARDVSPGTQYF',\n",
       "  'Rew_TCR': 0.9546949264759695,\n",
       "  'Classification': 0.7125863751882096,\n",
       "  'Product': 0.5965109766752075},\n",
       " 'ISSFIGVHIVAA': {'MHC': 'B*45:01',\n",
       "  'Rew_MHC': 0.9653197329320392,\n",
       "  'TCR_Seq': 'CASSPGLTYNEQFF',\n",
       "  'Rew_TCR': 0.9668320789398478,\n",
       "  'Classification': 0.8926869928710994,\n",
       "  'Product': 0.8331466310136991},\n",
       " 'FSHQLICISDVD': {'MHC': 'B*58:01',\n",
       "  'Rew_MHC': 0.9422110947490305,\n",
       "  'TCR_Seq': 'CASRIAGNSQNYGYTF',\n",
       "  'Rew_TCR': 0.7955862637666898,\n",
       "  'Classification': 0.8678438353924557,\n",
       "  'Product': 0.6505445949667795},\n",
       " 'AYAMSDTCWAEK': {'MHC': 'A*68:01',\n",
       "  'Rew_MHC': 0.9576936152939759,\n",
       "  'TCR_Seq': 'CASSFSGRAFDNEQFF',\n",
       "  'Rew_TCR': 0.8690364616985122,\n",
       "  'Classification': 0.774650854282759,\n",
       "  'Product': 0.6447191861501038},\n",
       " 'LTGPDQIWEW': {'MHC': 'B*15:03',\n",
       "  'Rew_MHC': 0.8156004452910961,\n",
       "  'TCR_Seq': 'CARRTGGSAFF',\n",
       "  'Rew_TCR': 0.835469810954494,\n",
       "  'Classification': 0.7559658549713977,\n",
       "  'Product': 0.5151223529317962},\n",
       " 'GCDTGYWNKPPN': {'MHC': 'A*02:17',\n",
       "  'Rew_MHC': 0.8653964616309437,\n",
       "  'TCR_Seq': 'CASSAGWGNKVNNEQFF',\n",
       "  'Rew_TCR': 0.771206125954078,\n",
       "  'Classification': 0.8471792624756691,\n",
       "  'Product': 0.565406637149112},\n",
       " 'CAPSLHDP': {'MHC': 'C*06:02',\n",
       "  'Rew_MHC': 0.9673790989199047,\n",
       "  'TCR_Seq': 'CASRPNRQGATTEAFF',\n",
       "  'Rew_TCR': 0.8032330142944432,\n",
       "  'Classification': 0.7962286490136444,\n",
       "  'Product': 0.6186942076870956},\n",
       " 'NISHLQIDGPF': {'MHC': 'A*02:01',\n",
       "  'Rew_MHC': 0.8225908529069633,\n",
       "  'TCR_Seq': 'CASSLRGVSGELFF',\n",
       "  'Rew_TCR': 0.9368470045854423,\n",
       "  'Classification': 0.5137758381032842,\n",
       "  'Product': 0.3959371246219514},\n",
       " 'RWWVIHCQKR': {'MHC': 'A*02:12',\n",
       "  'Rew_MHC': 0.8962551187111214,\n",
       "  'TCR_Seq': 'CASSAGGEVEQFF',\n",
       "  'Rew_TCR': 0.9349455917427764,\n",
       "  'Classification': 0.7250309546043038,\n",
       "  'Product': 0.6075395233326282},\n",
       " 'VGHGQPPK': {'MHC': 'B*27:04',\n",
       "  'Rew_MHC': 0.997458380018297,\n",
       "  'TCR_Seq': 'CASSFSGRAFDNEQFF',\n",
       "  'Rew_TCR': 0.8814585921484469,\n",
       "  'Classification': 0.7842524909026549,\n",
       "  'Product': 0.6895291099639783},\n",
       " 'LQSEPSSLK': {'MHC': 'B*27:04',\n",
       "  'Rew_MHC': 0.8760547842502336,\n",
       "  'TCR_Seq': 'CSGTGRSYEQYF',\n",
       "  'Rew_TCR': 0.864819748835063,\n",
       "  'Classification': 0.6801321499904283,\n",
       "  'Product': 0.5152881660954383},\n",
       " 'HQESQNFTILYP': {'MHC': 'B*15:17',\n",
       "  'Rew_MHC': 0.8609930352329486,\n",
       "  'TCR_Seq': 'CASSPVPGQGARNEQFF',\n",
       "  'Rew_TCR': 0.7254327854317844,\n",
       "  'Classification': 0.6501587286141377,\n",
       "  'Product': 0.4060843149751181}}"
      ]
     },
     "execution_count": 61,
     "metadata": {},
     "output_type": "execute_result"
    }
   ],
   "source": [
    "selected_seq"
   ]
  },
  {
   "cell_type": "code",
   "execution_count": 56,
   "id": "ca4d3d71-a4b5-4477-a95b-e16a393e6c95",
   "metadata": {
    "scrolled": true
   },
   "outputs": [
    {
     "data": {
      "text/plain": [
       "{'A*33:01': 2,\n",
       " 'B*39:01': 3,\n",
       " 'A*02:01': 7,\n",
       " 'A*02:02': 5,\n",
       " 'A*02:16': 4,\n",
       " 'B*51:01': 5,\n",
       " 'A*24:03': 3,\n",
       " 'B*07:02': 5,\n",
       " 'A*11:01': 5,\n",
       " 'B*57:01': 6,\n",
       " 'A*68:02': 4,\n",
       " 'A*02:06': 6,\n",
       " 'A*03:01': 3,\n",
       " 'A*68:01': 2,\n",
       " 'A*69:01': 2,\n",
       " 'B*53:01': 1,\n",
       " 'A*32:01': 1,\n",
       " 'C*04:01': 1,\n",
       " 'B*15:09': 2,\n",
       " 'B*40:13': 2,\n",
       " 'A*80:01': 1,\n",
       " 'B*38:01': 2,\n",
       " 'B*15:17': 2,\n",
       " 'C*07:01': 1,\n",
       " 'A*01:01': 1,\n",
       " 'A*02:19': 1,\n",
       " 'B*08:02': 1,\n",
       " 'B*35:03': 1,\n",
       " 'B*08:01': 1,\n",
       " 'B*15:01': 2,\n",
       " 'A*32:07': 1,\n",
       " 'B*39:06': 1,\n",
       " 'B*14:02': 1,\n",
       " 'B*27:03': 1,\n",
       " 'A*02:03': 1,\n",
       " 'A*23:01': 1,\n",
       " 'B*54:01': 1,\n",
       " 'A*24:02': 1,\n",
       " 'B*48:01': 1,\n",
       " 'B*27:04': 3,\n",
       " 'B*45:01': 1,\n",
       " 'B*58:01': 1,\n",
       " 'B*15:03': 1,\n",
       " 'A*02:17': 1,\n",
       " 'C*06:02': 1,\n",
       " 'A*02:12': 1}"
      ]
     },
     "execution_count": 56,
     "metadata": {},
     "output_type": "execute_result"
    }
   ],
   "source": [
    "mhc_counts"
   ]
  },
  {
   "cell_type": "code",
   "execution_count": 58,
   "id": "9c09a313-23a7-44f0-928d-21f2e2cb4a35",
   "metadata": {
    "scrolled": true
   },
   "outputs": [
    {
     "data": {
      "text/plain": [
       "{'CASSAGGEVEQFF': 6,\n",
       " 'CASSPGLTYNEQFF': 3,\n",
       " 'CASRAFYGNTIYF': 1,\n",
       " 'CSGTGRSYEQYF': 5,\n",
       " 'CASSQDLGPSEKLFF': 1,\n",
       " 'CASSSYNPGLEGEQFF': 2,\n",
       " 'CASSPPTSGIPEQYF': 1,\n",
       " 'CASKRTSVYNEQFF': 3,\n",
       " 'CATALRDRVDQPQHF': 3,\n",
       " 'CASSLGGGNQPQHF': 1,\n",
       " 'CASSRDRGNYGYTF': 2,\n",
       " 'CAWSAGGGKLFF': 2,\n",
       " 'CASSLEQGISGYTF': 2,\n",
       " 'CARRTGGSAFF': 3,\n",
       " 'CASSQEGRDRGDEQYF': 3,\n",
       " 'CASSFSGRAFDNEQFF': 4,\n",
       " 'CASRPTGSEEQYF': 1,\n",
       " 'CSARDVSPGTQYF': 5,\n",
       " 'CASSRQSTGELFF': 3,\n",
       " 'CASSAGWGNKVNNEQFF': 2,\n",
       " 'CASRIAGNSQNYGYTF': 3,\n",
       " 'CASSLGLARAGYEQYF': 1,\n",
       " 'CASSLALAYGYTF': 3,\n",
       " 'CASSDRNSPLHF': 2,\n",
       " 'CASSLRGVSGELFF': 4,\n",
       " 'CASDQSYSNQPQHF': 2,\n",
       " 'CASSQGTGKVYGYTF': 3,\n",
       " 'CASNGDATYEQYF': 1,\n",
       " 'CASSYSDNIDEQFF': 1,\n",
       " 'CASSPVPGQGARNEQFF': 2,\n",
       " 'CASSFLSGTDTQYF': 1,\n",
       " 'CASSLVGVYGYEQYF': 3,\n",
       " 'CASSLAPGSSGYTF': 1,\n",
       " 'CASRYTTGDSYEQYF': 1,\n",
       " 'CSARAPGSYNSPLHF': 2,\n",
       " 'CAIGTGYGTDTQYF': 1,\n",
       " 'CASSIISGNTEAFF': 2,\n",
       " 'CASSLVVGQPSYEQYF': 1,\n",
       " 'CASSSTGHQINEQFF': 2,\n",
       " 'CASRLQNVSPLHF': 2,\n",
       " 'CASRPNRQGATTEAFF': 2,\n",
       " 'CASSFDPGTGYFEQYF': 1,\n",
       " 'CSAKDGTYEQYF': 1,\n",
       " 'CSAPQGARPATEAFF': 1,\n",
       " 'CASSLDPGSHEQYF': 1,\n",
       " 'CASSQEGQGGRTEAFF': 1,\n",
       " 'CATSPPAGGNRAGNTIYF': 1,\n",
       " 'CASTPGMGGTYEQYF': 1}"
      ]
     },
     "execution_count": 58,
     "metadata": {},
     "output_type": "execute_result"
    }
   ],
   "source": [
    "tcr_seq_counts"
   ]
  },
  {
   "cell_type": "code",
   "execution_count": 59,
   "id": "c53c062b-8625-477d-8c7f-6247d2887e46",
   "metadata": {},
   "outputs": [
    {
     "name": "stdout",
     "output_type": "stream",
     "text": [
      "Peptide: DWNRDLVEW, MHC: A*69:01, TCR_Seq: CASSFLSGTDTQYF, Rew_MHC: 0.9748817221675286, Rew_TCR: 0.987270361169447, Classification: 0.9286619621269812, Product: 0.8938109780857245\n",
      "Peptide: MDTCMPHEHQ, MHC: A*02:02, TCR_Seq: CASSRDRGNYGYTF, Rew_MHC: 0.9715335139640545, Rew_TCR: 0.991409292443721, Classification: 0.8985431334044011, Product: 0.8654653828171616\n",
      "Peptide: GWRGRSMDFRG, MHC: B*07:02, TCR_Seq: CASSLAPGSSGYTF, Rew_MHC: 0.9975190005054917, Rew_TCR: 0.9606504979243162, Classification: 0.8806991105584208, Product: 0.8439450042461615\n",
      "Peptide: ISSFIGVHIVAA, MHC: B*45:01, TCR_Seq: CASSPGLTYNEQFF, Rew_MHC: 0.9653197329320392, Rew_TCR: 0.9668320789398478, Classification: 0.8926869928710994, Product: 0.8331466310136991\n",
      "Peptide: CTPWEMCSWMI, MHC: A*02:01, TCR_Seq: CASRAFYGNTIYF, Rew_MHC: 0.9498812884704296, Rew_TCR: 0.9965813179432552, Classification: 0.8671989378408155, Product: 0.8209199528018131\n"
     ]
    }
   ],
   "source": [
    "# Calculate the product of Rew_MHC, Rew_TCR, and Classification for each entry\n",
    "for key, value in selected_seq.items():\n",
    "    product = value['Rew_MHC'] * value['Rew_TCR'] * value['Classification']\n",
    "    selected_seq[key]['Product'] = product\n",
    "\n",
    "# Sort the entries by the product value in descending order and get the top 5\n",
    "top_5_entries = sorted(selected_seq.items(), key=lambda x: x[1]['Product'], reverse=True)[:5]\n",
    "\n",
    "# Print top 5 entries\n",
    "for key, value in top_5_entries:\n",
    "    print(f\"Peptide: {key}, MHC: {value['MHC']}, TCR_Seq: {value['TCR_Seq']}, \"\n",
    "          f\"Rew_MHC: {value['Rew_MHC']}, Rew_TCR: {value['Rew_TCR']}, \"\n",
    "          f\"Classification: {value['Classification']}, Product: {value['Product']}\")"
   ]
  },
  {
   "cell_type": "markdown",
   "id": "82aff5bd-4d3e-4287-98f7-6e6fdf84f621",
   "metadata": {},
   "source": [
    "### Patient D"
   ]
  },
  {
   "cell_type": "code",
   "execution_count": 50,
   "id": "2b238266-e63f-4960-a602-8049cffa8e6c",
   "metadata": {},
   "outputs": [
    {
     "data": {
      "text/html": [
       "<div>\n",
       "<style scoped>\n",
       "    .dataframe tbody tr th:only-of-type {\n",
       "        vertical-align: middle;\n",
       "    }\n",
       "\n",
       "    .dataframe tbody tr th {\n",
       "        vertical-align: top;\n",
       "    }\n",
       "\n",
       "    .dataframe thead th {\n",
       "        text-align: right;\n",
       "    }\n",
       "</style>\n",
       "<table border=\"1\" class=\"dataframe\">\n",
       "  <thead>\n",
       "    <tr style=\"text-align: right;\">\n",
       "      <th></th>\n",
       "      <th>antigen</th>\n",
       "      <th>mhc_molecule</th>\n",
       "      <th>sequence</th>\n",
       "      <th>tcr_sequence</th>\n",
       "      <th>neo_vs_anti</th>\n",
       "      <th>mhc_presentation_score</th>\n",
       "      <th>tcr_probability</th>\n",
       "    </tr>\n",
       "  </thead>\n",
       "  <tbody>\n",
       "    <tr>\n",
       "      <th>0</th>\n",
       "      <td>CLMMILPAA</td>\n",
       "      <td>B*08:01</td>\n",
       "      <td>YDSEYRNIFTNTDESNLYLSYNYYTWAVDAYTWY</td>\n",
       "      <td>CASRAFYGNTIYF</td>\n",
       "      <td>1</td>\n",
       "      <td>0.998458</td>\n",
       "      <td>0.667109</td>\n",
       "    </tr>\n",
       "    <tr>\n",
       "      <th>1</th>\n",
       "      <td>CLMMILPAA</td>\n",
       "      <td>B*08:01</td>\n",
       "      <td>YSSEYEERAGHTDADTLYLTYHYYTWAEVAYTWY</td>\n",
       "      <td>CASSLDPGSHEQYF</td>\n",
       "      <td>1</td>\n",
       "      <td>0.998458</td>\n",
       "      <td>0.667109</td>\n",
       "    </tr>\n",
       "    <tr>\n",
       "      <th>2</th>\n",
       "      <td>CLMMILPAA</td>\n",
       "      <td>B*08:01</td>\n",
       "      <td>YYAMYREISTNTYVGNLYWTYRFYTWAWLAYTWY</td>\n",
       "      <td>CASRPTGSEEQYF</td>\n",
       "      <td>1</td>\n",
       "      <td>0.998458</td>\n",
       "      <td>0.667109</td>\n",
       "    </tr>\n",
       "    <tr>\n",
       "      <th>3</th>\n",
       "      <td>AYISSEATTPV</td>\n",
       "      <td>A*32:01</td>\n",
       "      <td>YFAMYQENVAHTDESIAYIMYQDYTWAVLAYTWY</td>\n",
       "      <td>CARRTGGSAFF</td>\n",
       "      <td>1</td>\n",
       "      <td>0.998458</td>\n",
       "      <td>0.638850</td>\n",
       "    </tr>\n",
       "    <tr>\n",
       "      <th>4</th>\n",
       "      <td>AATIRVLAL</td>\n",
       "      <td>B*07:02</td>\n",
       "      <td>YYSEYRNIYAQTDESNLYLSYDYYTWAERAYEWY</td>\n",
       "      <td>CSARAPGSYNSPLHF</td>\n",
       "      <td>1</td>\n",
       "      <td>0.998421</td>\n",
       "      <td>0.627347</td>\n",
       "    </tr>\n",
       "    <tr>\n",
       "      <th>...</th>\n",
       "      <td>...</td>\n",
       "      <td>...</td>\n",
       "      <td>...</td>\n",
       "      <td>...</td>\n",
       "      <td>...</td>\n",
       "      <td>...</td>\n",
       "      <td>...</td>\n",
       "    </tr>\n",
       "    <tr>\n",
       "      <th>1936</th>\n",
       "      <td>GHQASPVTY</td>\n",
       "      <td>A*02:01</td>\n",
       "      <td>YFAMYEESAAHTDVDTLYIIYRDYTWAARAYTWY</td>\n",
       "      <td>CASSLIPQAYEQYF</td>\n",
       "      <td>1</td>\n",
       "      <td>0.000164</td>\n",
       "      <td>0.001323</td>\n",
       "    </tr>\n",
       "    <tr>\n",
       "      <th>1937</th>\n",
       "      <td>CEALKDSRAL</td>\n",
       "      <td>A*02:01</td>\n",
       "      <td>YFAMYGEKVAHTHVDTLYVRYHYYTWAVLAYTWY</td>\n",
       "      <td>CASSLRGVSGELFF</td>\n",
       "      <td>1</td>\n",
       "      <td>0.000164</td>\n",
       "      <td>0.000432</td>\n",
       "    </tr>\n",
       "    <tr>\n",
       "      <th>1938</th>\n",
       "      <td>CEALKDSRAL</td>\n",
       "      <td>A*02:01</td>\n",
       "      <td>YFAMYEESAAHTDVDTLYIIYRDYTWAARAYTWY</td>\n",
       "      <td>CASTPGMGGTYEQYF</td>\n",
       "      <td>1</td>\n",
       "      <td>0.000164</td>\n",
       "      <td>0.000432</td>\n",
       "    </tr>\n",
       "    <tr>\n",
       "      <th>1939</th>\n",
       "      <td>CNYVPEEAK</td>\n",
       "      <td>A*02:01</td>\n",
       "      <td>YFAMYGEKVAHTHVDTLYVRYHYYTWAVLAYTWY</td>\n",
       "      <td>CASSAGWGNKVNNEQFF</td>\n",
       "      <td>1</td>\n",
       "      <td>0.000164</td>\n",
       "      <td>0.000344</td>\n",
       "    </tr>\n",
       "    <tr>\n",
       "      <th>1940</th>\n",
       "      <td>CNYVPEEAK</td>\n",
       "      <td>A*02:01</td>\n",
       "      <td>YFAMYEESAAHTDVDTLYIIYRDYTWAARAYTWY</td>\n",
       "      <td>CARRTGGSAFF</td>\n",
       "      <td>1</td>\n",
       "      <td>0.000164</td>\n",
       "      <td>0.000344</td>\n",
       "    </tr>\n",
       "  </tbody>\n",
       "</table>\n",
       "<p>1941 rows × 7 columns</p>\n",
       "</div>"
      ],
      "text/plain": [
       "          antigen mhc_molecule  ... mhc_presentation_score tcr_probability\n",
       "0       CLMMILPAA      B*08:01  ...               0.998458        0.667109\n",
       "1       CLMMILPAA      B*08:01  ...               0.998458        0.667109\n",
       "2       CLMMILPAA      B*08:01  ...               0.998458        0.667109\n",
       "3     AYISSEATTPV      A*32:01  ...               0.998458        0.638850\n",
       "4       AATIRVLAL      B*07:02  ...               0.998421        0.627347\n",
       "...           ...          ...  ...                    ...             ...\n",
       "1936    GHQASPVTY      A*02:01  ...               0.000164        0.001323\n",
       "1937   CEALKDSRAL      A*02:01  ...               0.000164        0.000432\n",
       "1938   CEALKDSRAL      A*02:01  ...               0.000164        0.000432\n",
       "1939    CNYVPEEAK      A*02:01  ...               0.000164        0.000344\n",
       "1940    CNYVPEEAK      A*02:01  ...               0.000164        0.000344\n",
       "\n",
       "[1941 rows x 7 columns]"
      ]
     },
     "execution_count": 50,
     "metadata": {},
     "output_type": "execute_result"
    }
   ],
   "source": [
    "patient_d = pd.read_csv('patient_d.csv')\n",
    "patient_d"
   ]
  },
  {
   "cell_type": "code",
   "execution_count": 51,
   "id": "474a38f8-2d63-49ca-b318-89776456dd67",
   "metadata": {},
   "outputs": [],
   "source": [
    "mhc_molecule_list = patient_d['mhc_molecule'].unique().tolist()\n",
    "tcr_sequence_list = patient_d['tcr_sequence'].unique().tolist()"
   ]
  },
  {
   "cell_type": "code",
   "execution_count": 152,
   "id": "90abc643-01da-4360-a3a6-628ffd4b634c",
   "metadata": {
    "scrolled": true
   },
   "outputs": [
    {
     "name": "stderr",
     "output_type": "stream",
     "text": [
      "\n",
      "Processing sequences: 0it [00:00, ?it/s]\u001b[A\n",
      "Processing sequences: 1it [00:04,  4.90s/it]\u001b[A"
     ]
    },
    {
     "name": "stdout",
     "output_type": "stream",
     "text": [
      " selected"
     ]
    },
    {
     "name": "stderr",
     "output_type": "stream",
     "text": [
      "\n",
      "Processing sequences: 2it [00:07,  3.45s/it]\u001b[A"
     ]
    },
    {
     "name": "stdout",
     "output_type": "stream",
     "text": [
      " selected"
     ]
    },
    {
     "name": "stderr",
     "output_type": "stream",
     "text": [
      "\n",
      "Processing sequences: 3it [00:09,  2.99s/it]\u001b[A"
     ]
    },
    {
     "name": "stdout",
     "output_type": "stream",
     "text": [
      " selected"
     ]
    },
    {
     "name": "stderr",
     "output_type": "stream",
     "text": [
      "\n",
      "Processing sequences: 4it [00:12,  2.77s/it]\u001b[A"
     ]
    },
    {
     "name": "stdout",
     "output_type": "stream",
     "text": [
      " selected"
     ]
    },
    {
     "name": "stderr",
     "output_type": "stream",
     "text": [
      "\n",
      "Processing sequences: 5it [00:14,  2.68s/it]\u001b[A"
     ]
    },
    {
     "name": "stdout",
     "output_type": "stream",
     "text": [
      " selected"
     ]
    },
    {
     "name": "stderr",
     "output_type": "stream",
     "text": [
      "\n",
      "Processing sequences: 6it [00:17,  2.57s/it]\u001b[A"
     ]
    },
    {
     "name": "stdout",
     "output_type": "stream",
     "text": [
      " selected"
     ]
    },
    {
     "name": "stderr",
     "output_type": "stream",
     "text": [
      "\n",
      "Processing sequences: 7it [00:19,  2.55s/it]\u001b[A"
     ]
    },
    {
     "name": "stdout",
     "output_type": "stream",
     "text": [
      " selected"
     ]
    },
    {
     "name": "stderr",
     "output_type": "stream",
     "text": [
      "\n",
      "Processing sequences: 8it [00:22,  2.59s/it]\u001b[A"
     ]
    },
    {
     "name": "stdout",
     "output_type": "stream",
     "text": [
      " selected"
     ]
    },
    {
     "name": "stderr",
     "output_type": "stream",
     "text": [
      "\n",
      "Processing sequences: 9it [00:24,  2.60s/it]\u001b[A"
     ]
    },
    {
     "name": "stdout",
     "output_type": "stream",
     "text": [
      " selected"
     ]
    },
    {
     "name": "stderr",
     "output_type": "stream",
     "text": [
      "\n",
      "Processing sequences: 10it [00:27,  2.58s/it]\u001b[A"
     ]
    },
    {
     "name": "stdout",
     "output_type": "stream",
     "text": [
      " selected"
     ]
    },
    {
     "name": "stderr",
     "output_type": "stream",
     "text": [
      "\n",
      "Processing sequences: 11it [00:32,  3.34s/it]\u001b[A"
     ]
    },
    {
     "name": "stdout",
     "output_type": "stream",
     "text": [
      " selected"
     ]
    },
    {
     "name": "stderr",
     "output_type": "stream",
     "text": [
      "\n",
      "Processing sequences: 12it [00:34,  3.05s/it]\u001b[A"
     ]
    },
    {
     "name": "stdout",
     "output_type": "stream",
     "text": [
      " selected"
     ]
    },
    {
     "name": "stderr",
     "output_type": "stream",
     "text": [
      "\n",
      "Processing sequences: 13it [00:44,  5.07s/it]\u001b[A"
     ]
    },
    {
     "name": "stdout",
     "output_type": "stream",
     "text": [
      " selected"
     ]
    },
    {
     "name": "stderr",
     "output_type": "stream",
     "text": [
      "\n",
      "Processing sequences: 14it [00:54,  6.51s/it]\u001b[A"
     ]
    },
    {
     "name": "stdout",
     "output_type": "stream",
     "text": [
      " selected"
     ]
    },
    {
     "name": "stderr",
     "output_type": "stream",
     "text": [
      "\n",
      "Processing sequences: 15it [00:56,  5.29s/it]\u001b[A"
     ]
    },
    {
     "name": "stdout",
     "output_type": "stream",
     "text": [
      " selected"
     ]
    },
    {
     "name": "stderr",
     "output_type": "stream",
     "text": [
      "\n",
      "Processing sequences: 16it [01:06,  6.66s/it]\u001b[A"
     ]
    },
    {
     "name": "stdout",
     "output_type": "stream",
     "text": [
      " selected"
     ]
    },
    {
     "name": "stderr",
     "output_type": "stream",
     "text": [
      "\n",
      "Processing sequences: 17it [01:11,  6.12s/it]\u001b[A"
     ]
    },
    {
     "name": "stdout",
     "output_type": "stream",
     "text": [
      " selected"
     ]
    },
    {
     "name": "stderr",
     "output_type": "stream",
     "text": [
      "\n",
      "Processing sequences: 18it [01:14,  5.02s/it]\u001b[A"
     ]
    },
    {
     "name": "stdout",
     "output_type": "stream",
     "text": [
      " selected"
     ]
    },
    {
     "name": "stderr",
     "output_type": "stream",
     "text": [
      "\n",
      "Processing sequences: 19it [01:16,  4.23s/it]\u001b[A"
     ]
    },
    {
     "name": "stdout",
     "output_type": "stream",
     "text": [
      " selected"
     ]
    },
    {
     "name": "stderr",
     "output_type": "stream",
     "text": [
      "\n",
      "Processing sequences: 20it [01:18,  3.70s/it]\u001b[A"
     ]
    },
    {
     "name": "stdout",
     "output_type": "stream",
     "text": [
      " selected"
     ]
    },
    {
     "name": "stderr",
     "output_type": "stream",
     "text": [
      "\n",
      "Processing sequences: 21it [01:26,  4.87s/it]\u001b[A"
     ]
    },
    {
     "name": "stdout",
     "output_type": "stream",
     "text": [
      " selected"
     ]
    },
    {
     "name": "stderr",
     "output_type": "stream",
     "text": [
      "\n",
      "Processing sequences: 22it [01:39,  7.29s/it]\u001b[A"
     ]
    },
    {
     "name": "stdout",
     "output_type": "stream",
     "text": [
      " selected"
     ]
    },
    {
     "name": "stderr",
     "output_type": "stream",
     "text": [
      "\n",
      "Processing sequences: 23it [01:47,  7.40s/it]\u001b[A"
     ]
    },
    {
     "name": "stdout",
     "output_type": "stream",
     "text": [
      " selected"
     ]
    },
    {
     "name": "stderr",
     "output_type": "stream",
     "text": [
      "\n",
      "Processing sequences: 24it [02:06, 11.06s/it]\u001b[A"
     ]
    },
    {
     "name": "stdout",
     "output_type": "stream",
     "text": [
      " selected"
     ]
    },
    {
     "name": "stderr",
     "output_type": "stream",
     "text": [
      "\n",
      "Processing sequences: 25it [02:14,  9.94s/it]\u001b[A"
     ]
    },
    {
     "name": "stdout",
     "output_type": "stream",
     "text": [
      " selected"
     ]
    },
    {
     "name": "stderr",
     "output_type": "stream",
     "text": [
      "\n",
      "Processing sequences: 26it [02:18,  8.39s/it]\u001b[A"
     ]
    },
    {
     "name": "stdout",
     "output_type": "stream",
     "text": [
      " selected"
     ]
    },
    {
     "name": "stderr",
     "output_type": "stream",
     "text": [
      "\n",
      "Processing sequences: 27it [02:21,  6.59s/it]\u001b[A"
     ]
    },
    {
     "name": "stdout",
     "output_type": "stream",
     "text": [
      " selected"
     ]
    },
    {
     "name": "stderr",
     "output_type": "stream",
     "text": [
      "\n",
      "Processing sequences: 28it [02:28,  6.79s/it]\u001b[A"
     ]
    },
    {
     "name": "stdout",
     "output_type": "stream",
     "text": [
      " selected"
     ]
    },
    {
     "name": "stderr",
     "output_type": "stream",
     "text": [
      "\n",
      "Processing sequences: 29it [02:30,  5.48s/it]\u001b[A"
     ]
    },
    {
     "name": "stdout",
     "output_type": "stream",
     "text": [
      " selected"
     ]
    },
    {
     "name": "stderr",
     "output_type": "stream",
     "text": [
      "\n",
      "Processing sequences: 30it [02:42,  7.44s/it]\u001b[A"
     ]
    },
    {
     "name": "stdout",
     "output_type": "stream",
     "text": [
      " selected"
     ]
    },
    {
     "name": "stderr",
     "output_type": "stream",
     "text": [
      "\n",
      "Processing sequences: 31it [02:59, 10.27s/it]\u001b[A"
     ]
    },
    {
     "name": "stdout",
     "output_type": "stream",
     "text": [
      " selected"
     ]
    },
    {
     "name": "stderr",
     "output_type": "stream",
     "text": [
      "\n",
      "Processing sequences: 32it [03:04,  8.65s/it]\u001b[A"
     ]
    },
    {
     "name": "stdout",
     "output_type": "stream",
     "text": [
      " selected"
     ]
    },
    {
     "name": "stderr",
     "output_type": "stream",
     "text": [
      "\n",
      "Processing sequences: 33it [03:16,  9.71s/it]\u001b[A"
     ]
    },
    {
     "name": "stdout",
     "output_type": "stream",
     "text": [
      " selected"
     ]
    },
    {
     "name": "stderr",
     "output_type": "stream",
     "text": [
      "\n",
      "Processing sequences: 34it [03:33, 11.87s/it]\u001b[A"
     ]
    },
    {
     "name": "stdout",
     "output_type": "stream",
     "text": [
      " selected"
     ]
    },
    {
     "name": "stderr",
     "output_type": "stream",
     "text": [
      "\n",
      "Processing sequences: 35it [05:05, 35.77s/it]\u001b[A"
     ]
    },
    {
     "name": "stdout",
     "output_type": "stream",
     "text": [
      " selected"
     ]
    },
    {
     "name": "stderr",
     "output_type": "stream",
     "text": [
      "\n",
      "Processing sequences: 36it [05:10, 26.48s/it]\u001b[A"
     ]
    },
    {
     "name": "stdout",
     "output_type": "stream",
     "text": [
      " selected"
     ]
    },
    {
     "name": "stderr",
     "output_type": "stream",
     "text": [
      "Processing sequences: 81it [20:54, 15.49s/it]\n",
      "\n",
      "Processing sequences: 37it [06:44, 46.79s/it]\u001b[A"
     ]
    },
    {
     "name": "stdout",
     "output_type": "stream",
     "text": [
      " selected"
     ]
    },
    {
     "name": "stderr",
     "output_type": "stream",
     "text": [
      "\n",
      "Processing sequences: 38it [07:27, 45.68s/it]\u001b[A"
     ]
    },
    {
     "name": "stdout",
     "output_type": "stream",
     "text": [
      " selected"
     ]
    },
    {
     "name": "stderr",
     "output_type": "stream",
     "text": [
      "\n",
      "Processing sequences: 39it [07:56, 40.65s/it]\u001b[A"
     ]
    },
    {
     "name": "stdout",
     "output_type": "stream",
     "text": [
      " selected"
     ]
    },
    {
     "name": "stderr",
     "output_type": "stream",
     "text": [
      "\n",
      "Processing sequences: 40it [08:20, 35.68s/it]\u001b[A"
     ]
    },
    {
     "name": "stdout",
     "output_type": "stream",
     "text": [
      " selected"
     ]
    },
    {
     "name": "stderr",
     "output_type": "stream",
     "text": [
      "\n",
      "Processing sequences: 41it [09:01, 37.29s/it]\u001b[A"
     ]
    },
    {
     "name": "stdout",
     "output_type": "stream",
     "text": [
      " selected"
     ]
    },
    {
     "name": "stderr",
     "output_type": "stream",
     "text": [
      "\n",
      "Processing sequences: 42it [10:14, 48.07s/it]\u001b[A"
     ]
    },
    {
     "name": "stdout",
     "output_type": "stream",
     "text": [
      " selected"
     ]
    },
    {
     "name": "stderr",
     "output_type": "stream",
     "text": [
      "\n",
      "Processing sequences: 43it [10:28, 37.95s/it]\u001b[A"
     ]
    },
    {
     "name": "stdout",
     "output_type": "stream",
     "text": [
      " selected"
     ]
    },
    {
     "name": "stderr",
     "output_type": "stream",
     "text": [
      "\n",
      "Processing sequences: 44it [10:55, 34.55s/it]\u001b[A"
     ]
    },
    {
     "name": "stdout",
     "output_type": "stream",
     "text": [
      " selected"
     ]
    },
    {
     "name": "stderr",
     "output_type": "stream",
     "text": [
      "\n",
      "Processing sequences: 45it [11:10, 28.52s/it]\u001b[A"
     ]
    },
    {
     "name": "stdout",
     "output_type": "stream",
     "text": [
      " selected"
     ]
    },
    {
     "name": "stderr",
     "output_type": "stream",
     "text": [
      "\n",
      "Processing sequences: 46it [12:20, 41.05s/it]\u001b[A"
     ]
    },
    {
     "name": "stdout",
     "output_type": "stream",
     "text": [
      " selected"
     ]
    },
    {
     "name": "stderr",
     "output_type": "stream",
     "text": [
      "\n",
      "Processing sequences: 47it [13:43, 53.62s/it]\u001b[A"
     ]
    },
    {
     "name": "stdout",
     "output_type": "stream",
     "text": [
      " selected"
     ]
    },
    {
     "name": "stderr",
     "output_type": "stream",
     "text": [
      "\n",
      "Processing sequences: 48it [14:00, 42.72s/it]\u001b[A"
     ]
    },
    {
     "name": "stdout",
     "output_type": "stream",
     "text": [
      " selected"
     ]
    },
    {
     "name": "stderr",
     "output_type": "stream",
     "text": [
      "\n",
      "Processing sequences: 49it [14:32, 39.35s/it]\u001b[A"
     ]
    },
    {
     "name": "stdout",
     "output_type": "stream",
     "text": [
      " selected"
     ]
    },
    {
     "name": "stderr",
     "output_type": "stream",
     "text": [
      "\n",
      "Processing sequences: 50it [15:15, 40.65s/it]\u001b[A"
     ]
    },
    {
     "name": "stdout",
     "output_type": "stream",
     "text": [
      " selected"
     ]
    },
    {
     "name": "stderr",
     "output_type": "stream",
     "text": [
      "\n",
      "Processing sequences: 51it [16:49, 56.47s/it]\u001b[A"
     ]
    },
    {
     "name": "stdout",
     "output_type": "stream",
     "text": [
      " selected"
     ]
    },
    {
     "ename": "KeyboardInterrupt",
     "evalue": "",
     "output_type": "error",
     "traceback": [
      "\u001b[0;31m---------------------------------------------------------------------------\u001b[0m",
      "\u001b[0;31mKeyboardInterrupt\u001b[0m                         Traceback (most recent call last)",
      "Cell \u001b[0;32mIn[152], line 42\u001b[0m\n\u001b[1;32m     39\u001b[0m new_rew_class \u001b[38;5;241m=\u001b[39m classification_reward(new_seq)\n\u001b[1;32m     41\u001b[0m \u001b[38;5;28;01mif\u001b[39;00m new_rew_class \u001b[38;5;241m==\u001b[39m \u001b[38;5;241m1\u001b[39m:\n\u001b[0;32m---> 42\u001b[0m     new_rew_mhc_values \u001b[38;5;241m=\u001b[39m \u001b[43mget_binding_affinity\u001b[49m\u001b[43m(\u001b[49m\u001b[43mnew_seq\u001b[49m\u001b[43m,\u001b[49m\u001b[43m \u001b[49m\u001b[43mmhc_proteins\u001b[49m\u001b[43m)\u001b[49m\n\u001b[1;32m     43\u001b[0m     new_rew_tcr_values \u001b[38;5;241m=\u001b[39m tcr_reward(new_seq, tcr_sequences)\n\u001b[1;32m     45\u001b[0m     max_mhc_idx \u001b[38;5;241m=\u001b[39m new_rew_mhc_values\u001b[38;5;241m.\u001b[39mindex(\u001b[38;5;28mmax\u001b[39m(new_rew_mhc_values))\n",
      "Cell \u001b[0;32mIn[4], line 71\u001b[0m, in \u001b[0;36mget_binding_affinity\u001b[0;34m(peptide_sequence, mhc_proteins)\u001b[0m\n\u001b[1;32m     68\u001b[0m rewards \u001b[38;5;241m=\u001b[39m []\n\u001b[1;32m     69\u001b[0m \u001b[38;5;28;01mfor\u001b[39;00m mhc_protein \u001b[38;5;129;01min\u001b[39;00m mhc_proteins:\n\u001b[1;32m     70\u001b[0m     \u001b[38;5;66;03m# Predict binding affinity using MHCflurry 2.0 model\u001b[39;00m\n\u001b[0;32m---> 71\u001b[0m     predicted_ic50s \u001b[38;5;241m=\u001b[39m \u001b[43mpredictor\u001b[49m\u001b[38;5;241;43m.\u001b[39;49m\u001b[43mpredict\u001b[49m\u001b[43m(\u001b[49m\u001b[43m[\u001b[49m\u001b[43mpeptide_sequence\u001b[49m\u001b[43m]\u001b[49m\u001b[43m,\u001b[49m\u001b[43m \u001b[49m\u001b[43m[\u001b[49m\u001b[43mmhc_protein\u001b[49m\u001b[43m]\u001b[49m\u001b[43m)\u001b[49m\n\u001b[1;32m     72\u001b[0m     predicted_ic50 \u001b[38;5;241m=\u001b[39m predicted_ic50s[\u001b[38;5;241m0\u001b[39m]\n\u001b[1;32m     74\u001b[0m     \u001b[38;5;66;03m# Normalize the predicted IC50 to a reward value between 0 and 1\u001b[39;00m\n",
      "File \u001b[0;32m~/Documents/python/single_cell/lib/python3.8/site-packages/mhcflurry/class1_affinity_predictor.py:1085\u001b[0m, in \u001b[0;36mClass1AffinityPredictor.predict\u001b[0;34m(self, peptides, alleles, allele, throw, centrality_measure, model_kwargs)\u001b[0m\n\u001b[1;32m   1047\u001b[0m \u001b[38;5;28;01mdef\u001b[39;00m \u001b[38;5;21mpredict\u001b[39m(\n\u001b[1;32m   1048\u001b[0m         \u001b[38;5;28mself\u001b[39m,\n\u001b[1;32m   1049\u001b[0m         peptides,\n\u001b[0;32m   (...)\u001b[0m\n\u001b[1;32m   1053\u001b[0m         centrality_measure\u001b[38;5;241m=\u001b[39mDEFAULT_CENTRALITY_MEASURE,\n\u001b[1;32m   1054\u001b[0m         model_kwargs\u001b[38;5;241m=\u001b[39m{}):\n\u001b[1;32m   1055\u001b[0m \u001b[38;5;250m    \u001b[39m\u001b[38;5;124;03m\"\"\"\u001b[39;00m\n\u001b[1;32m   1056\u001b[0m \u001b[38;5;124;03m    Predict nM binding affinities.\u001b[39;00m\n\u001b[1;32m   1057\u001b[0m \u001b[38;5;124;03m    \u001b[39;00m\n\u001b[0;32m   (...)\u001b[0m\n\u001b[1;32m   1083\u001b[0m \u001b[38;5;124;03m    numpy.array of predictions\u001b[39;00m\n\u001b[1;32m   1084\u001b[0m \u001b[38;5;124;03m    \"\"\"\u001b[39;00m\n\u001b[0;32m-> 1085\u001b[0m     df \u001b[38;5;241m=\u001b[39m \u001b[38;5;28;43mself\u001b[39;49m\u001b[38;5;241;43m.\u001b[39;49m\u001b[43mpredict_to_dataframe\u001b[49m\u001b[43m(\u001b[49m\n\u001b[1;32m   1086\u001b[0m \u001b[43m        \u001b[49m\u001b[43mpeptides\u001b[49m\u001b[38;5;241;43m=\u001b[39;49m\u001b[43mpeptides\u001b[49m\u001b[43m,\u001b[49m\n\u001b[1;32m   1087\u001b[0m \u001b[43m        \u001b[49m\u001b[43malleles\u001b[49m\u001b[38;5;241;43m=\u001b[39;49m\u001b[43malleles\u001b[49m\u001b[43m,\u001b[49m\n\u001b[1;32m   1088\u001b[0m \u001b[43m        \u001b[49m\u001b[43mallele\u001b[49m\u001b[38;5;241;43m=\u001b[39;49m\u001b[43mallele\u001b[49m\u001b[43m,\u001b[49m\n\u001b[1;32m   1089\u001b[0m \u001b[43m        \u001b[49m\u001b[43mthrow\u001b[49m\u001b[38;5;241;43m=\u001b[39;49m\u001b[43mthrow\u001b[49m\u001b[43m,\u001b[49m\n\u001b[1;32m   1090\u001b[0m \u001b[43m        \u001b[49m\u001b[43minclude_percentile_ranks\u001b[49m\u001b[38;5;241;43m=\u001b[39;49m\u001b[38;5;28;43;01mFalse\u001b[39;49;00m\u001b[43m,\u001b[49m\n\u001b[1;32m   1091\u001b[0m \u001b[43m        \u001b[49m\u001b[43minclude_confidence_intervals\u001b[49m\u001b[38;5;241;43m=\u001b[39;49m\u001b[38;5;28;43;01mFalse\u001b[39;49;00m\u001b[43m,\u001b[49m\n\u001b[1;32m   1092\u001b[0m \u001b[43m        \u001b[49m\u001b[43mcentrality_measure\u001b[49m\u001b[38;5;241;43m=\u001b[39;49m\u001b[43mcentrality_measure\u001b[49m\u001b[43m,\u001b[49m\n\u001b[1;32m   1093\u001b[0m \u001b[43m        \u001b[49m\u001b[43mmodel_kwargs\u001b[49m\u001b[38;5;241;43m=\u001b[39;49m\u001b[43mmodel_kwargs\u001b[49m\n\u001b[1;32m   1094\u001b[0m \u001b[43m    \u001b[49m\u001b[43m)\u001b[49m\n\u001b[1;32m   1095\u001b[0m     \u001b[38;5;28;01mreturn\u001b[39;00m df\u001b[38;5;241m.\u001b[39mprediction\u001b[38;5;241m.\u001b[39mvalues\n",
      "File \u001b[0;32m~/Documents/python/single_cell/lib/python3.8/site-packages/mhcflurry/class1_affinity_predictor.py:1292\u001b[0m, in \u001b[0;36mClass1AffinityPredictor.predict_to_dataframe\u001b[0;34m(self, peptides, alleles, allele, throw, include_individual_model_predictions, include_percentile_ranks, include_confidence_intervals, centrality_measure, model_kwargs)\u001b[0m\n\u001b[1;32m   1288\u001b[0m \u001b[38;5;28;01mif\u001b[39;00m \u001b[38;5;28mself\u001b[39m\u001b[38;5;241m.\u001b[39moptimization_info\u001b[38;5;241m.\u001b[39mget(\u001b[38;5;124m\"\u001b[39m\u001b[38;5;124mpan_models_merged\u001b[39m\u001b[38;5;124m\"\u001b[39m):\n\u001b[1;32m   1289\u001b[0m     \u001b[38;5;66;03m# Multiple pan-allele models have been merged into one\u001b[39;00m\n\u001b[1;32m   1290\u001b[0m     \u001b[38;5;66;03m# at the tensorflow level.\u001b[39;00m\n\u001b[1;32m   1291\u001b[0m     \u001b[38;5;28;01massert\u001b[39;00m \u001b[38;5;28mlen\u001b[39m(\u001b[38;5;28mself\u001b[39m\u001b[38;5;241m.\u001b[39mclass1_pan_allele_models) \u001b[38;5;241m==\u001b[39m \u001b[38;5;241m1\u001b[39m\n\u001b[0;32m-> 1292\u001b[0m     predictions \u001b[38;5;241m=\u001b[39m \u001b[38;5;28;43mself\u001b[39;49m\u001b[38;5;241;43m.\u001b[39;49m\u001b[43mclass1_pan_allele_models\u001b[49m\u001b[43m[\u001b[49m\u001b[38;5;241;43m0\u001b[39;49m\u001b[43m]\u001b[49m\u001b[38;5;241;43m.\u001b[39;49m\u001b[43mpredict\u001b[49m\u001b[43m(\u001b[49m\n\u001b[1;32m   1293\u001b[0m \u001b[43m        \u001b[49m\u001b[43mmasked_peptides\u001b[49m\u001b[43m,\u001b[49m\n\u001b[1;32m   1294\u001b[0m \u001b[43m        \u001b[49m\u001b[43mallele_encoding\u001b[49m\u001b[38;5;241;43m=\u001b[39;49m\u001b[43mmasked_allele_encoding\u001b[49m\u001b[43m,\u001b[49m\n\u001b[1;32m   1295\u001b[0m \u001b[43m        \u001b[49m\u001b[43moutput_index\u001b[49m\u001b[38;5;241;43m=\u001b[39;49m\u001b[38;5;28;43;01mNone\u001b[39;49;00m\u001b[43m,\u001b[49m\n\u001b[1;32m   1296\u001b[0m \u001b[43m        \u001b[49m\u001b[38;5;241;43m*\u001b[39;49m\u001b[38;5;241;43m*\u001b[39;49m\u001b[43mmodel_kwargs\u001b[49m\u001b[43m)\u001b[49m\n\u001b[1;32m   1297\u001b[0m     predictions_array[row_slice, :num_pan_models] \u001b[38;5;241m=\u001b[39m predictions\n\u001b[1;32m   1298\u001b[0m \u001b[38;5;28;01melse\u001b[39;00m:\n",
      "File \u001b[0;32m~/Documents/python/single_cell/lib/python3.8/site-packages/mhcflurry/class1_neural_network.py:1118\u001b[0m, in \u001b[0;36mClass1NeuralNetwork.predict\u001b[0;34m(self, peptides, allele_encoding, batch_size, output_index)\u001b[0m\n\u001b[1;32m   1116\u001b[0m \u001b[38;5;28;01melse\u001b[39;00m:\n\u001b[1;32m   1117\u001b[0m     network \u001b[38;5;241m=\u001b[39m \u001b[38;5;28mself\u001b[39m\u001b[38;5;241m.\u001b[39mnetwork(borrow\u001b[38;5;241m=\u001b[39m\u001b[38;5;28;01mTrue\u001b[39;00m)\n\u001b[0;32m-> 1118\u001b[0m raw_predictions \u001b[38;5;241m=\u001b[39m \u001b[43mnetwork\u001b[49m\u001b[38;5;241;43m.\u001b[39;49m\u001b[43mpredict\u001b[49m\u001b[43m(\u001b[49m\u001b[43mx_dict\u001b[49m\u001b[43m,\u001b[49m\u001b[43m \u001b[49m\u001b[43mbatch_size\u001b[49m\u001b[38;5;241;43m=\u001b[39;49m\u001b[43mbatch_size\u001b[49m\u001b[43m)\u001b[49m\n\u001b[1;32m   1119\u001b[0m predictions \u001b[38;5;241m=\u001b[39m numpy\u001b[38;5;241m.\u001b[39marray(raw_predictions, dtype\u001b[38;5;241m=\u001b[39m\u001b[38;5;124m\"\u001b[39m\u001b[38;5;124mfloat64\u001b[39m\u001b[38;5;124m\"\u001b[39m)\n\u001b[1;32m   1120\u001b[0m \u001b[38;5;28;01mif\u001b[39;00m output_index \u001b[38;5;129;01mis\u001b[39;00m \u001b[38;5;129;01mnot\u001b[39;00m \u001b[38;5;28;01mNone\u001b[39;00m:\n",
      "File \u001b[0;32m~/Documents/python/single_cell/lib/python3.8/site-packages/keras/src/engine/training_v1.py:1059\u001b[0m, in \u001b[0;36mModel.predict\u001b[0;34m(self, x, batch_size, verbose, steps, callbacks, max_queue_size, workers, use_multiprocessing)\u001b[0m\n\u001b[1;32m   1056\u001b[0m \u001b[38;5;28mself\u001b[39m\u001b[38;5;241m.\u001b[39m_check_call_args(\u001b[38;5;124m\"\u001b[39m\u001b[38;5;124mpredict\u001b[39m\u001b[38;5;124m\"\u001b[39m)\n\u001b[1;32m   1058\u001b[0m func \u001b[38;5;241m=\u001b[39m \u001b[38;5;28mself\u001b[39m\u001b[38;5;241m.\u001b[39m_select_training_loop(x)\n\u001b[0;32m-> 1059\u001b[0m \u001b[38;5;28;01mreturn\u001b[39;00m \u001b[43mfunc\u001b[49m\u001b[38;5;241;43m.\u001b[39;49m\u001b[43mpredict\u001b[49m\u001b[43m(\u001b[49m\n\u001b[1;32m   1060\u001b[0m \u001b[43m    \u001b[49m\u001b[38;5;28;43mself\u001b[39;49m\u001b[43m,\u001b[49m\n\u001b[1;32m   1061\u001b[0m \u001b[43m    \u001b[49m\u001b[43mx\u001b[49m\u001b[38;5;241;43m=\u001b[39;49m\u001b[43mx\u001b[49m\u001b[43m,\u001b[49m\n\u001b[1;32m   1062\u001b[0m \u001b[43m    \u001b[49m\u001b[43mbatch_size\u001b[49m\u001b[38;5;241;43m=\u001b[39;49m\u001b[43mbatch_size\u001b[49m\u001b[43m,\u001b[49m\n\u001b[1;32m   1063\u001b[0m \u001b[43m    \u001b[49m\u001b[43mverbose\u001b[49m\u001b[38;5;241;43m=\u001b[39;49m\u001b[43mverbose\u001b[49m\u001b[43m,\u001b[49m\n\u001b[1;32m   1064\u001b[0m \u001b[43m    \u001b[49m\u001b[43msteps\u001b[49m\u001b[38;5;241;43m=\u001b[39;49m\u001b[43msteps\u001b[49m\u001b[43m,\u001b[49m\n\u001b[1;32m   1065\u001b[0m \u001b[43m    \u001b[49m\u001b[43mcallbacks\u001b[49m\u001b[38;5;241;43m=\u001b[39;49m\u001b[43mcallbacks\u001b[49m\u001b[43m,\u001b[49m\n\u001b[1;32m   1066\u001b[0m \u001b[43m    \u001b[49m\u001b[43mmax_queue_size\u001b[49m\u001b[38;5;241;43m=\u001b[39;49m\u001b[43mmax_queue_size\u001b[49m\u001b[43m,\u001b[49m\n\u001b[1;32m   1067\u001b[0m \u001b[43m    \u001b[49m\u001b[43mworkers\u001b[49m\u001b[38;5;241;43m=\u001b[39;49m\u001b[43mworkers\u001b[49m\u001b[43m,\u001b[49m\n\u001b[1;32m   1068\u001b[0m \u001b[43m    \u001b[49m\u001b[43muse_multiprocessing\u001b[49m\u001b[38;5;241;43m=\u001b[39;49m\u001b[43muse_multiprocessing\u001b[49m\u001b[43m,\u001b[49m\n\u001b[1;32m   1069\u001b[0m \u001b[43m\u001b[49m\u001b[43m)\u001b[49m\n",
      "File \u001b[0;32m~/Documents/python/single_cell/lib/python3.8/site-packages/keras/src/engine/training_arrays_v1.py:801\u001b[0m, in \u001b[0;36mArrayLikeTrainingLoop.predict\u001b[0;34m(self, model, x, batch_size, verbose, steps, callbacks, **kwargs)\u001b[0m\n\u001b[1;32m    797\u001b[0m batch_size \u001b[38;5;241m=\u001b[39m model\u001b[38;5;241m.\u001b[39m_validate_or_infer_batch_size(batch_size, steps, x)\n\u001b[1;32m    798\u001b[0m x, _, _ \u001b[38;5;241m=\u001b[39m model\u001b[38;5;241m.\u001b[39m_standardize_user_data(\n\u001b[1;32m    799\u001b[0m     x, check_steps\u001b[38;5;241m=\u001b[39m\u001b[38;5;28;01mTrue\u001b[39;00m, steps_name\u001b[38;5;241m=\u001b[39m\u001b[38;5;124m\"\u001b[39m\u001b[38;5;124msteps\u001b[39m\u001b[38;5;124m\"\u001b[39m, steps\u001b[38;5;241m=\u001b[39msteps\n\u001b[1;32m    800\u001b[0m )\n\u001b[0;32m--> 801\u001b[0m \u001b[38;5;28;01mreturn\u001b[39;00m \u001b[43mpredict_loop\u001b[49m\u001b[43m(\u001b[49m\n\u001b[1;32m    802\u001b[0m \u001b[43m    \u001b[49m\u001b[43mmodel\u001b[49m\u001b[43m,\u001b[49m\n\u001b[1;32m    803\u001b[0m \u001b[43m    \u001b[49m\u001b[43mx\u001b[49m\u001b[43m,\u001b[49m\n\u001b[1;32m    804\u001b[0m \u001b[43m    \u001b[49m\u001b[43mbatch_size\u001b[49m\u001b[38;5;241;43m=\u001b[39;49m\u001b[43mbatch_size\u001b[49m\u001b[43m,\u001b[49m\n\u001b[1;32m    805\u001b[0m \u001b[43m    \u001b[49m\u001b[43mverbose\u001b[49m\u001b[38;5;241;43m=\u001b[39;49m\u001b[43mverbose\u001b[49m\u001b[43m,\u001b[49m\n\u001b[1;32m    806\u001b[0m \u001b[43m    \u001b[49m\u001b[43msteps\u001b[49m\u001b[38;5;241;43m=\u001b[39;49m\u001b[43msteps\u001b[49m\u001b[43m,\u001b[49m\n\u001b[1;32m    807\u001b[0m \u001b[43m    \u001b[49m\u001b[43mcallbacks\u001b[49m\u001b[38;5;241;43m=\u001b[39;49m\u001b[43mcallbacks\u001b[49m\u001b[43m,\u001b[49m\n\u001b[1;32m    808\u001b[0m \u001b[43m\u001b[49m\u001b[43m)\u001b[49m\n",
      "File \u001b[0;32m~/Documents/python/single_cell/lib/python3.8/site-packages/keras/src/engine/training_arrays_v1.py:421\u001b[0m, in \u001b[0;36mmodel_iteration\u001b[0;34m(model, inputs, targets, sample_weights, batch_size, epochs, verbose, callbacks, val_inputs, val_targets, val_sample_weights, shuffle, initial_epoch, steps_per_epoch, validation_steps, validation_freq, mode, validation_in_fit, prepared_feed_values_from_dataset, steps_name, **kwargs)\u001b[0m\n\u001b[1;32m    416\u001b[0m callbacks\u001b[38;5;241m.\u001b[39m_call_batch_hook(\n\u001b[1;32m    417\u001b[0m     mode, \u001b[38;5;124m\"\u001b[39m\u001b[38;5;124mbegin\u001b[39m\u001b[38;5;124m\"\u001b[39m, batch_index, batch_logs\n\u001b[1;32m    418\u001b[0m )\n\u001b[1;32m    420\u001b[0m \u001b[38;5;66;03m# Get outputs.\u001b[39;00m\n\u001b[0;32m--> 421\u001b[0m batch_outs \u001b[38;5;241m=\u001b[39m \u001b[43mf\u001b[49m\u001b[43m(\u001b[49m\u001b[43mins_batch\u001b[49m\u001b[43m)\u001b[49m\n\u001b[1;32m    422\u001b[0m \u001b[38;5;28;01mif\u001b[39;00m \u001b[38;5;129;01mnot\u001b[39;00m \u001b[38;5;28misinstance\u001b[39m(batch_outs, \u001b[38;5;28mlist\u001b[39m):\n\u001b[1;32m    423\u001b[0m     batch_outs \u001b[38;5;241m=\u001b[39m [batch_outs]\n",
      "File \u001b[0;32m~/Documents/python/single_cell/lib/python3.8/site-packages/keras/src/backend.py:4567\u001b[0m, in \u001b[0;36mGraphExecutionFunction.__call__\u001b[0;34m(self, inputs)\u001b[0m\n\u001b[1;32m   4561\u001b[0m \u001b[38;5;28;01mdef\u001b[39;00m \u001b[38;5;21m__call__\u001b[39m(\u001b[38;5;28mself\u001b[39m, inputs):\n\u001b[1;32m   4562\u001b[0m     inputs \u001b[38;5;241m=\u001b[39m tf\u001b[38;5;241m.\u001b[39mnest\u001b[38;5;241m.\u001b[39mflatten(\n\u001b[1;32m   4563\u001b[0m         tf_utils\u001b[38;5;241m.\u001b[39mconvert_variables_to_tensors(inputs),\n\u001b[1;32m   4564\u001b[0m         expand_composites\u001b[38;5;241m=\u001b[39m\u001b[38;5;28;01mTrue\u001b[39;00m,\n\u001b[1;32m   4565\u001b[0m     )\n\u001b[0;32m-> 4567\u001b[0m     session \u001b[38;5;241m=\u001b[39m \u001b[43mget_session\u001b[49m\u001b[43m(\u001b[49m\u001b[43minputs\u001b[49m\u001b[43m)\u001b[49m\n\u001b[1;32m   4568\u001b[0m     feed_arrays \u001b[38;5;241m=\u001b[39m []\n\u001b[1;32m   4569\u001b[0m     array_vals \u001b[38;5;241m=\u001b[39m []\n",
      "File \u001b[0;32m~/Documents/python/single_cell/lib/python3.8/site-packages/keras/src/backend.py:783\u001b[0m, in \u001b[0;36mget_session\u001b[0;34m(op_input_list)\u001b[0m\n\u001b[1;32m    760\u001b[0m \u001b[38;5;129m@keras_export\u001b[39m(v1\u001b[38;5;241m=\u001b[39m[\u001b[38;5;124m\"\u001b[39m\u001b[38;5;124mkeras.backend.get_session\u001b[39m\u001b[38;5;124m\"\u001b[39m])\n\u001b[1;32m    761\u001b[0m \u001b[38;5;28;01mdef\u001b[39;00m \u001b[38;5;21mget_session\u001b[39m(op_input_list\u001b[38;5;241m=\u001b[39m()):\n\u001b[1;32m    762\u001b[0m \u001b[38;5;250m    \u001b[39m\u001b[38;5;124;03m\"\"\"Returns the TF session to be used by the backend.\u001b[39;00m\n\u001b[1;32m    763\u001b[0m \n\u001b[1;32m    764\u001b[0m \u001b[38;5;124;03m    If a default TensorFlow session is available, we will return it.\u001b[39;00m\n\u001b[0;32m   (...)\u001b[0m\n\u001b[1;32m    781\u001b[0m \u001b[38;5;124;03m        A TensorFlow session.\u001b[39;00m\n\u001b[1;32m    782\u001b[0m \u001b[38;5;124;03m    \"\"\"\u001b[39;00m\n\u001b[0;32m--> 783\u001b[0m     session \u001b[38;5;241m=\u001b[39m \u001b[43m_get_session\u001b[49m\u001b[43m(\u001b[49m\u001b[43mop_input_list\u001b[49m\u001b[43m)\u001b[49m\n\u001b[1;32m    784\u001b[0m     \u001b[38;5;28;01mif\u001b[39;00m \u001b[38;5;129;01mnot\u001b[39;00m _MANUAL_VAR_INIT:\n\u001b[1;32m    785\u001b[0m         \u001b[38;5;28;01mwith\u001b[39;00m session\u001b[38;5;241m.\u001b[39mgraph\u001b[38;5;241m.\u001b[39mas_default():\n",
      "File \u001b[0;32m~/Documents/python/single_cell/lib/python3.8/site-packages/keras/src/backend.py:743\u001b[0m, in \u001b[0;36m_get_session\u001b[0;34m(op_input_list)\u001b[0m\n\u001b[1;32m    736\u001b[0m     \u001b[38;5;28;01mraise\u001b[39;00m \u001b[38;5;167;01mRuntimeError\u001b[39;00m(\n\u001b[1;32m    737\u001b[0m         \u001b[38;5;124m\"\u001b[39m\u001b[38;5;124mCannot get session inside Tensorflow graph function.\u001b[39m\u001b[38;5;124m\"\u001b[39m\n\u001b[1;32m    738\u001b[0m     )\n\u001b[1;32m    739\u001b[0m \u001b[38;5;66;03m# If we don't have a session, or that session does not match the current\u001b[39;00m\n\u001b[1;32m    740\u001b[0m \u001b[38;5;66;03m# graph, create and cache a new session.\u001b[39;00m\n\u001b[1;32m    741\u001b[0m \u001b[38;5;28;01mif\u001b[39;00m \u001b[38;5;28mgetattr\u001b[39m(\n\u001b[1;32m    742\u001b[0m     _SESSION, \u001b[38;5;124m\"\u001b[39m\u001b[38;5;124msession\u001b[39m\u001b[38;5;124m\"\u001b[39m, \u001b[38;5;28;01mNone\u001b[39;00m\n\u001b[0;32m--> 743\u001b[0m ) \u001b[38;5;129;01mis\u001b[39;00m \u001b[38;5;28;01mNone\u001b[39;00m \u001b[38;5;129;01mor\u001b[39;00m _SESSION\u001b[38;5;241m.\u001b[39msession\u001b[38;5;241m.\u001b[39mgraph \u001b[38;5;129;01mis\u001b[39;00m \u001b[38;5;129;01mnot\u001b[39;00m \u001b[43m_current_graph\u001b[49m\u001b[43m(\u001b[49m\n\u001b[1;32m    744\u001b[0m \u001b[43m    \u001b[49m\u001b[43mop_input_list\u001b[49m\n\u001b[1;32m    745\u001b[0m \u001b[43m\u001b[49m\u001b[43m)\u001b[49m:\n\u001b[1;32m    746\u001b[0m     \u001b[38;5;66;03m# If we are creating the Session inside a tf.distribute.Strategy\u001b[39;00m\n\u001b[1;32m    747\u001b[0m     \u001b[38;5;66;03m# scope, we ask the strategy for the right session options to use.\u001b[39;00m\n\u001b[1;32m    748\u001b[0m     \u001b[38;5;28;01mif\u001b[39;00m tf\u001b[38;5;241m.\u001b[39mdistribute\u001b[38;5;241m.\u001b[39mhas_strategy():\n\u001b[1;32m    749\u001b[0m         configure_and_create_distributed_session(\n\u001b[1;32m    750\u001b[0m             tf\u001b[38;5;241m.\u001b[39mdistribute\u001b[38;5;241m.\u001b[39mget_strategy()\n\u001b[1;32m    751\u001b[0m         )\n",
      "File \u001b[0;32m~/Documents/python/single_cell/lib/python3.8/site-packages/keras/src/backend.py:708\u001b[0m, in \u001b[0;36m_current_graph\u001b[0;34m(op_input_list, graph)\u001b[0m\n\u001b[1;32m    704\u001b[0m original_graph_element \u001b[38;5;241m=\u001b[39m \u001b[38;5;28;01mNone\u001b[39;00m\n\u001b[1;32m    705\u001b[0m \u001b[38;5;28;01mfor\u001b[39;00m op_input \u001b[38;5;129;01min\u001b[39;00m op_input_list:\n\u001b[1;32m    706\u001b[0m     \u001b[38;5;28;01mif\u001b[39;00m \u001b[38;5;28misinstance\u001b[39m(\n\u001b[1;32m    707\u001b[0m         op_input, (tf\u001b[38;5;241m.\u001b[39mOperation, tf\u001b[38;5;241m.\u001b[39m__internal__\u001b[38;5;241m.\u001b[39mCompositeTensor)\n\u001b[0;32m--> 708\u001b[0m     ) \u001b[38;5;129;01mor\u001b[39;00m \u001b[43m_is_symbolic_tensor\u001b[49m\u001b[43m(\u001b[49m\u001b[43mop_input\u001b[49m\u001b[43m)\u001b[49m:\n\u001b[1;32m    709\u001b[0m         graph_element \u001b[38;5;241m=\u001b[39m op_input\n\u001b[1;32m    710\u001b[0m     \u001b[38;5;28;01melse\u001b[39;00m:\n",
      "File \u001b[0;32m~/Documents/python/single_cell/lib/python3.8/site-packages/keras/src/backend.py:695\u001b[0m, in \u001b[0;36m_current_graph.<locals>._is_symbolic_tensor\u001b[0;34m(tensor)\u001b[0m\n\u001b[1;32m    694\u001b[0m \u001b[38;5;28;01mdef\u001b[39;00m \u001b[38;5;21m_is_symbolic_tensor\u001b[39m(tensor):\n\u001b[0;32m--> 695\u001b[0m     \u001b[38;5;28;01mif\u001b[39;00m \u001b[38;5;28;43mhasattr\u001b[39;49m(tf, \u001b[38;5;124m\"\u001b[39m\u001b[38;5;124mis_symbolic_tensor\u001b[39m\u001b[38;5;124m\"\u001b[39m):\n\u001b[1;32m    696\u001b[0m         \u001b[38;5;28;01mreturn\u001b[39;00m tf\u001b[38;5;241m.\u001b[39mis_symbolic_tensor(tensor)\n\u001b[1;32m    697\u001b[0m     \u001b[38;5;28;01mreturn\u001b[39;00m \u001b[38;5;28mtype\u001b[39m(tensor) \u001b[38;5;241m==\u001b[39m tf\u001b[38;5;241m.\u001b[39mTensor\n",
      "\u001b[0;31mKeyboardInterrupt\u001b[0m: "
     ]
    }
   ],
   "source": [
    "import numpy as np\n",
    "\n",
    "def needleman_wunsch_normalized(seq1, seq2, match=2, mismatch=1, gap=0):\n",
    "    def calculate_max_score(seq1, seq2, match, mismatch, gap):\n",
    "        # Calculate the maximum possible score\n",
    "        max_score = max(len(seq1), len(seq2)) * match\n",
    "        return max_score\n",
    "\n",
    "#     Create a matrix to store alignment scores\n",
    "    matrix = np.zeros((len(seq1) + 1, len(seq2) + 1))\n",
    "\n",
    "    #Initialize the first row and first column with gap penalties\n",
    "    for i in range(len(seq1) + 1):\n",
    "        matrix[i][0] = i * gap\n",
    "    for j in range(len(seq2) + 1):\n",
    "        matrix[0][j] = j * gap\n",
    "\n",
    "    # Fill in the matrix\n",
    "    for i in range(1, len(seq1) + 1):\n",
    "        for j in range(1, len(seq2) + 1):\n",
    "            match_score = matrix[i-1][j-1] + (match if seq1[i-1] == seq2[j-1] else mismatch) \n",
    "            delete_score = matrix[i-1][j] + gap\n",
    "            insert_score = matrix[i][j-1] + gap\n",
    "            matrix[i][j] = max(match_score, delete_score, insert_score)\n",
    "\n",
    "    # Calculate the normalized similarity score\n",
    "    similarity_score = matrix[len(seq1)][len(seq2)] / calculate_max_score(seq1, seq2, match, mismatch, gap)\n",
    "\n",
    "    return similarity_score\n",
    "\n",
    "# Check sequence similarity using your Needleman-Wunsch algorithm\n",
    "def is_sequence_similar_to_selected(new_seq, selected_seq, similarity_threshold):\n",
    "    for selected_peptide in selected_seq:\n",
    "        similarity_score = needleman_wunsch_normalized(new_seq, selected_peptide)  \n",
    "\n",
    "        if similarity_score >= similarity_threshold:\n",
    "            return True\n",
    "    return False\n",
    "\n",
    "\n",
    "lmin = 8\n",
    "lmax = 12\n",
    "thr_rew_mhc = 0.82  # Threshold for binding affinity\n",
    "thr_rew_tcr = 0.53  # Threshold for TCR reward\n",
    "similarity_threshold = 0.7\n",
    "\n",
    "\n",
    "# Extend the list of MHC proteins and TCR sequences\n",
    "mhc_proteins = mhc_molecule_list\n",
    "tcr_sequences = tcr_sequence_list\n",
    "aas = load_valid_aas('Dictionary')\n",
    "\n",
    "# Initialize selected sequences dictionary and output data list\n",
    "selected_seq = {}\n",
    "output_data = []\n",
    "\n",
    "# Define a dictionary to track the count of each MHC molecule\n",
    "mhc_counts = {mhc: 0 for mhc in mhc_proteins}\n",
    "tcr_seq_counts = {tcr: 0 for tcr in tcr_sequences}\n",
    "\n",
    "# Initialize max MHC and TCR values and corresponding indices\n",
    "max_mhc_values = [-1] * len(mhc_proteins)\n",
    "max_tcr_values = [-1] * len(tcr_sequences)\n",
    "max_mhc_idx = -1\n",
    "max_tcr_idx = -1\n",
    "\n",
    "# Initialize progress bar\n",
    "pbar = tqdm(desc=\"Processing sequences\")\n",
    "\n",
    "curr_seq = generate_seq(lmin, lmax, aas)  # Initialize curr_seq\n",
    "curr_rew_mhc_values = get_binding_affinity(curr_seq, mhc_proteins) \n",
    "curr_rew_tcr = tcr_reward(curr_seq, tcr_sequences)\n",
    "curr_rew_class = classification_reward(curr_seq)\n",
    "\n",
    "\n",
    "while len(selected_seq) < 100:\n",
    "    new_seq = alter_seq(curr_seq, aas)\n",
    "    accept = False\n",
    "    selected_in_iteration = False\n",
    "\n",
    "    if new_seq != curr_seq and lmin <= len(new_seq) <= lmax:\n",
    "        new_rew_class = classification_reward(new_seq)\n",
    "\n",
    "        if new_rew_class > 0.5:  # Updated condition\n",
    "            # Check if the new sequence is similar to any selected sequence\n",
    "            if not is_sequence_similar_to_selected(new_seq, selected_seq.keys(), similarity_threshold):\n",
    "                new_rew_mhc_values = get_binding_affinity(new_seq, mhc_proteins)\n",
    "                new_rew_tcr_values = tcr_reward(new_seq, tcr_sequences)\n",
    "\n",
    "                max_mhc_idx = new_rew_mhc_values.index(max(new_rew_mhc_values))\n",
    "                max_tcr_idx = new_rew_tcr_values.index(max(new_rew_tcr_values))\n",
    "\n",
    "                # Check if the selected MHC molecule and TCR sequence have exceeded the maximum count\n",
    "                selected_mhc = mhc_proteins[max_mhc_idx]\n",
    "                selected_tcr = tcr_sequences[max_tcr_idx]\n",
    "\n",
    "                if mhc_counts[selected_mhc] < 5 and tcr_seq_counts[selected_tcr] < 5:\n",
    "                    product_value = new_rew_mhc_values[max_mhc_idx] * new_rew_tcr_values[max_tcr_idx]\n",
    "\n",
    "                    if product_value > (curr_rew_mhc_values[max_mhc_idx] * curr_rew_tcr[max_tcr_idx]) - 0.35 * random.random():\n",
    "                        accept = True\n",
    "                        if new_seq not in selected_seq:\n",
    "                            selected_in_iteration = True\n",
    "                            # Update the count of the selected MHC molecule and TCR sequence\n",
    "                            mhc_counts[selected_mhc] += 1\n",
    "                            tcr_seq_counts[selected_tcr] += 1\n",
    "                            selected_seq = update_selected(selected_seq, thr_rew_mhc, thr_rew_tcr, new_seq, selected_mhc, new_rew_mhc_values[max_mhc_idx], new_rew_tcr_values[max_tcr_idx], curr_rew_class, selected_tcr)\n",
    "                            pbar.update(1)\n",
    "\n",
    "                # Initialize max MHC and TCR values and corresponding indices\n",
    "                max_mhc_values = [-1] * len(mhc_proteins)\n",
    "                max_tcr_values = [-1] * len(tcr_sequences)\n",
    "                max_mhc_idx = -1\n",
    "                max_tcr_idx = -1\n",
    "\n",
    "                if selected_in_iteration:\n",
    "                    data_dict = {\n",
    "                        \"Sequence\": new_seq,\n",
    "                        **{f\"MHC_{i+1}\": new_rew_mhc_values[i] for i in range(len(mhc_proteins))},\n",
    "                        **{f\"TCR_{i+1}\": new_rew_tcr_values[i] for i in range(len(tcr_sequences))},\n",
    "                        \"Classification\": new_rew_class,  # Add new_rew_class here\n",
    "                    }\n",
    "                    output_data.append(data_dict)  # Ensure data_dict is appended to output_data\n",
    "\n",
    "                # Remove MHC molecule if its count reaches 10\n",
    "                if mhc_counts[selected_mhc] >= 10:\n",
    "                    mhc_proteins.remove(selected_mhc)\n",
    "\n",
    "                # Remove TCR sequence if its count reaches 10\n",
    "                if tcr_seq_counts[selected_tcr] >= 10:\n",
    "                    tcr_sequences.remove(selected_tcr)\n",
    "\n",
    "pbar.close()"
   ]
  },
  {
   "cell_type": "code",
   "execution_count": 71,
   "id": "84f3424f-9020-41ae-abaf-a512d9522082",
   "metadata": {
    "scrolled": true
   },
   "outputs": [
    {
     "data": {
      "text/plain": [
       "{'KGESIICIIFY': {'MHC': 'B*14:02',\n",
       "  'Rew_MHC': 0.998305738949775,\n",
       "  'TCR_Seq': 'CASRYTTGDSYEQYF',\n",
       "  'Rew_TCR': 0.9857495589472043,\n",
       "  'Classification': 0.8952227205725236},\n",
       " 'GEPWSWVLGMQ': {'MHC': 'A*02:01',\n",
       "  'Rew_MHC': 0.9952393838380741,\n",
       "  'TCR_Seq': 'CASSFDPGTGYFEQYF',\n",
       "  'Rew_TCR': 0.9103326787856073,\n",
       "  'Classification': 0.5175404946085987},\n",
       " 'YVPEQSWKYS': {'MHC': 'A*80:01',\n",
       "  'Rew_MHC': 0.9975548859986684,\n",
       "  'TCR_Seq': 'CASSLVVGQPSYEQYF',\n",
       "  'Rew_TCR': 0.9867157006058705,\n",
       "  'Classification': 0.8447803123067259},\n",
       " 'NDAYALGMDNK': {'MHC': 'C*06:02',\n",
       "  'Rew_MHC': 0.9980542926363493,\n",
       "  'TCR_Seq': 'CASRLQNVSPLHF',\n",
       "  'Rew_TCR': 0.8585986534337591,\n",
       "  'Classification': 0.7989730295128217},\n",
       " 'MWKTHDHPTDY': {'MHC': 'B*39:01',\n",
       "  'Rew_MHC': 0.9983832708365995,\n",
       "  'TCR_Seq': 'CASSPPTSGIPEQYF',\n",
       "  'Rew_TCR': 0.9540402012188997,\n",
       "  'Classification': 0.7288610495952547},\n",
       " 'YRGDRPGMNY': {'MHC': 'B*37:01',\n",
       "  'Rew_MHC': 0.9978410271195682,\n",
       "  'TCR_Seq': 'CASSFDPGTGYFEQYF',\n",
       "  'Rew_TCR': 0.978165145823791,\n",
       "  'Classification': 0.6903753768151315},\n",
       " 'YISSEGFGI': {'MHC': 'A*66:01',\n",
       "  'Rew_MHC': 0.9986073624070501,\n",
       "  'TCR_Seq': 'CASSLTGLAGFGEQYF',\n",
       "  'Rew_TCR': 0.9716504142213068,\n",
       "  'Classification': 0.6716284346590933},\n",
       " 'TNRFSFQACA': {'MHC': 'A*80:01',\n",
       "  'Rew_MHC': 0.998246958098527,\n",
       "  'TCR_Seq': 'CASNGDATYEQYF',\n",
       "  'Rew_TCR': 0.9760423589157288,\n",
       "  'Classification': 0.7475613848193401},\n",
       " 'MWHVPKRQSF': {'MHC': 'A*02:11',\n",
       "  'Rew_MHC': 0.9981843003618827,\n",
       "  'TCR_Seq': 'CASSPGLTYNEQFF',\n",
       "  'Rew_TCR': 0.7039265449158298,\n",
       "  'Classification': 0.8926746436350921},\n",
       " 'YVLFTRSSPN': {'MHC': 'B*45:01',\n",
       "  'Rew_MHC': 0.996031837167149,\n",
       "  'TCR_Seq': 'CAWSAGGGKLFF',\n",
       "  'Rew_TCR': 0.9806654383069571,\n",
       "  'Classification': 0.5468631645956773},\n",
       " 'HWSFNRPEA': {'MHC': 'A*25:01',\n",
       "  'Rew_MHC': 0.9971410346888634,\n",
       "  'TCR_Seq': 'CASDQSYSNQPQHF',\n",
       "  'Rew_TCR': 0.9721523458927407,\n",
       "  'Classification': 0.6772197423936742},\n",
       " 'HLPNNQYHN': {'MHC': 'A*02:01',\n",
       "  'Rew_MHC': 0.9978917321366519,\n",
       "  'TCR_Seq': 'CASSQEGRDRGDEQYF',\n",
       "  'Rew_TCR': 0.9976677861352514,\n",
       "  'Classification': 0.8348586818878099},\n",
       " 'WKKQCPTALC': {'MHC': 'A*80:01',\n",
       "  'Rew_MHC': 0.9976400475917059,\n",
       "  'TCR_Seq': 'CSARAPGSYNSPLHF',\n",
       "  'Rew_TCR': 0.9939768389476005,\n",
       "  'Classification': 0.6094453169194828},\n",
       " 'QEMLILTIQI': {'MHC': 'A*29:02',\n",
       "  'Rew_MHC': 0.9281221596252573,\n",
       "  'TCR_Seq': 'CATALRDRVDQPQHF',\n",
       "  'Rew_TCR': 0.9941369291542482,\n",
       "  'Classification': 0.6675468709566656},\n",
       " 'WFKPWQWNLEY': {'MHC': 'B*39:06',\n",
       "  'Rew_MHC': 0.9818807462429983,\n",
       "  'TCR_Seq': 'CASSAGGEVEQFF',\n",
       "  'Rew_TCR': 0.9227422718672911,\n",
       "  'Classification': 0.6379453754364534},\n",
       " 'EMWKPQYAND': {'MHC': 'C*12:03',\n",
       "  'Rew_MHC': 0.9102039698951749,\n",
       "  'TCR_Seq': 'CATALRDRVDQPQHF',\n",
       "  'Rew_TCR': 0.8433384789456133,\n",
       "  'Classification': 0.855424030802398},\n",
       " 'RKDHQDIRFG': {'MHC': 'B*15:03',\n",
       "  'Rew_MHC': 0.9949399811094581,\n",
       "  'TCR_Seq': 'CASRPNRQGATTEAFF',\n",
       "  'Rew_TCR': 0.9933573766817853,\n",
       "  'Classification': 0.7609525376846864},\n",
       " 'CCTHCVAYP': {'MHC': 'A*25:01',\n",
       "  'Rew_MHC': 0.9981982499654309,\n",
       "  'TCR_Seq': 'CASRAFYGNTIYF',\n",
       "  'Rew_TCR': 0.9982326198975128,\n",
       "  'Classification': 0.8827781062770239},\n",
       " 'PQEFMEDWPNG': {'MHC': 'A*68:02',\n",
       "  'Rew_MHC': 0.9991041353565496,\n",
       "  'TCR_Seq': 'CASSQEGQGGRTEAFF',\n",
       "  'Rew_TCR': 0.9050663000895023,\n",
       "  'Classification': 0.584283389590375},\n",
       " 'YFQFQPDMGTE': {'MHC': 'A*80:01',\n",
       "  'Rew_MHC': 0.9987800264915275,\n",
       "  'TCR_Seq': 'CAWSAGGGKLFF',\n",
       "  'Rew_TCR': 0.9919736362526196,\n",
       "  'Classification': 0.6064882622238044},\n",
       " 'FWKEHCRMAG': {'MHC': 'A*26:02',\n",
       "  'Rew_MHC': 0.9988455500147064,\n",
       "  'TCR_Seq': 'CASSAGWGNKVNNEQFF',\n",
       "  'Rew_TCR': 0.9746574912956125,\n",
       "  'Classification': 0.82525246437843},\n",
       " 'DHIRCVKAQ': {'MHC': 'B*35:01',\n",
       "  'Rew_MHC': 0.9572673231061922,\n",
       "  'TCR_Seq': 'CASSPGLTYNEQFF',\n",
       "  'Rew_TCR': 0.8242831068382747,\n",
       "  'Classification': 0.6542800978067667},\n",
       " 'WTFDNGFWFFP': {'MHC': 'B*18:01',\n",
       "  'Rew_MHC': 0.9578330915818603,\n",
       "  'TCR_Seq': 'CASSRDRGNYGYTF',\n",
       "  'Rew_TCR': 0.9282974066706957,\n",
       "  'Classification': 0.8525208123234582},\n",
       " 'MTTGCLCMYKP': {'MHC': 'A*66:01',\n",
       "  'Rew_MHC': 0.9891913054007383,\n",
       "  'TCR_Seq': 'CASSPVPGQGARNEQFF',\n",
       "  'Rew_TCR': 0.9864368508230312,\n",
       "  'Classification': 0.5634340729075693},\n",
       " 'MVMCSSSVWP': {'MHC': 'A*31:01',\n",
       "  'Rew_MHC': 0.9949129699834898,\n",
       "  'TCR_Seq': 'CASSFLSGTDTQYF',\n",
       "  'Rew_TCR': 0.9553303538133302,\n",
       "  'Classification': 0.5570476392005488},\n",
       " 'KIDDPRPPYFD': {'MHC': 'B*27:05',\n",
       "  'Rew_MHC': 0.9809482838951468,\n",
       "  'TCR_Seq': 'CASSFDPGTGYFEQYF',\n",
       "  'Rew_TCR': 0.9725954427990672,\n",
       "  'Classification': 0.7619928739554682},\n",
       " 'TSHCYFTGL': {'MHC': 'A*26:02',\n",
       "  'Rew_MHC': 0.997687337106652,\n",
       "  'TCR_Seq': 'CATALRDRVDQPQHF',\n",
       "  'Rew_TCR': 0.9969244567956553,\n",
       "  'Classification': 0.7035060696321707},\n",
       " 'PFDQLWLTDPM': {'MHC': 'C*04:01',\n",
       "  'Rew_MHC': 0.9747543637361209,\n",
       "  'TCR_Seq': 'CASSSTGHQINEQFF',\n",
       "  'Rew_TCR': 0.9152715806720763,\n",
       "  'Classification': 0.8889010475767252},\n",
       " 'RQEMKWSHGD': {'MHC': 'B*15:03',\n",
       "  'Rew_MHC': 0.998770325939142,\n",
       "  'TCR_Seq': 'CASSLTGLAGFGEQYF',\n",
       "  'Rew_TCR': 0.8336516076592642,\n",
       "  'Classification': 0.5278595695839939},\n",
       " 'HVSYQEMWHIP': {'MHC': 'A*29:02',\n",
       "  'Rew_MHC': 0.9831675179022398,\n",
       "  'TCR_Seq': 'CASRRGGQGSNYGYTF',\n",
       "  'Rew_TCR': 0.9591721026523259,\n",
       "  'Classification': 0.6083947105075045},\n",
       " 'WIYWVECELH': {'MHC': 'A*30:01',\n",
       "  'Rew_MHC': 0.9954312930029684,\n",
       "  'TCR_Seq': 'CSARGGSNQPQHF',\n",
       "  'Rew_TCR': 0.9470185376577165,\n",
       "  'Classification': 0.5700690877022947},\n",
       " 'SKNPKSRIYCR': {'MHC': 'A*02:16',\n",
       "  'Rew_MHC': 0.9986148254226617,\n",
       "  'TCR_Seq': 'CASSLEQGISGYTF',\n",
       "  'Rew_TCR': 0.9434579002812633,\n",
       "  'Classification': 0.9110359476899068},\n",
       " 'TRSAHDMATID': {'MHC': 'B*42:01',\n",
       "  'Rew_MHC': 0.9989268584228465,\n",
       "  'TCR_Seq': 'CASGNLLSYEQYF',\n",
       "  'Rew_TCR': 0.9737496405295407,\n",
       "  'Classification': 0.5406091679636855},\n",
       " 'VKRLERNDQP': {'MHC': 'B*54:01',\n",
       "  'Rew_MHC': 0.9938008671898425,\n",
       "  'TCR_Seq': 'CASSLVGVYGYEQYF',\n",
       "  'Rew_TCR': 0.9439326021000152,\n",
       "  'Classification': 0.8772776200262136},\n",
       " 'TCVYENRYDV': {'MHC': 'A*26:03',\n",
       "  'Rew_MHC': 0.9882585774977943,\n",
       "  'TCR_Seq': 'CSALREVANTEAFF',\n",
       "  'Rew_TCR': 0.9737455158699698,\n",
       "  'Classification': 0.651429695922773},\n",
       " 'AKFGEVMWAMK': {'MHC': 'B*39:06',\n",
       "  'Rew_MHC': 0.9981080000471242,\n",
       "  'TCR_Seq': 'CAWSAGGGKLFF',\n",
       "  'Rew_TCR': 0.8414933275078245,\n",
       "  'Classification': 0.8374025632033344},\n",
       " 'PDIGQPWTI': {'MHC': 'C*07:01',\n",
       "  'Rew_MHC': 0.9992519447573965,\n",
       "  'TCR_Seq': 'CASSPRGGQGENGYTF',\n",
       "  'Rew_TCR': 0.9197267087724894,\n",
       "  'Classification': 0.5381366382258188},\n",
       " 'EHMLFHWINEM': {'MHC': 'A*02:16',\n",
       "  'Rew_MHC': 0.9878579321064525,\n",
       "  'TCR_Seq': 'CASSLTGLAGFGEQYF',\n",
       "  'Rew_TCR': 0.9322741441179018,\n",
       "  'Classification': 0.6048921907353131},\n",
       " 'CIKFMLQSQ': {'MHC': 'A*02:06',\n",
       "  'Rew_MHC': 0.9953067862312456,\n",
       "  'TCR_Seq': 'CASSAGWGNKVNNEQFF',\n",
       "  'Rew_TCR': 0.9961663557534511,\n",
       "  'Classification': 0.6273931501819358},\n",
       " 'DALWVHSKE': {'MHC': 'A*30:01',\n",
       "  'Rew_MHC': 0.9985264244583286,\n",
       "  'TCR_Seq': 'CASSFDPGTGYFEQYF',\n",
       "  'Rew_TCR': 0.8280261242938295,\n",
       "  'Classification': 0.892003101021305},\n",
       " 'QEHFYCPGGVP': {'MHC': 'B*27:04',\n",
       "  'Rew_MHC': 0.9987789479801622,\n",
       "  'TCR_Seq': 'CSAKDGTYEQYF',\n",
       "  'Rew_TCR': 0.9917018222588594,\n",
       "  'Classification': 0.5792137906508116},\n",
       " 'PGEVHQRLV': {'MHC': 'A*31:01',\n",
       "  'Rew_MHC': 0.9757464522971493,\n",
       "  'TCR_Seq': 'CASSFLSGTDTQYF',\n",
       "  'Rew_TCR': 0.9001148013160885,\n",
       "  'Classification': 0.8233953982901194},\n",
       " 'TVWRINDYMAY': {'MHC': 'A*26:01',\n",
       "  'Rew_MHC': 0.9934961635515261,\n",
       "  'TCR_Seq': 'CASSPGLTYNEQFF',\n",
       "  'Rew_TCR': 0.861884855694266,\n",
       "  'Classification': 0.9168843574284549},\n",
       " 'FCMTVDYWWWS': {'MHC': 'B*15:01',\n",
       "  'Rew_MHC': 0.9751322700524637,\n",
       "  'TCR_Seq': 'CSGTGRSYEQYF',\n",
       "  'Rew_TCR': 0.9337482878585225,\n",
       "  'Classification': 0.915806466364606},\n",
       " 'WKYTIEFDS': {'MHC': 'A*31:01',\n",
       "  'Rew_MHC': 0.998885286158589,\n",
       "  'TCR_Seq': 'CASSLEQGISGYTF',\n",
       "  'Rew_TCR': 0.9278281849556498,\n",
       "  'Classification': 0.6194292205698032},\n",
       " 'PPYSYAVFN': {'MHC': 'B*14:01',\n",
       "  'Rew_MHC': 0.9992250716506561,\n",
       "  'TCR_Seq': 'CASSLDPGSHEQYF',\n",
       "  'Rew_TCR': 0.8714310279679662,\n",
       "  'Classification': 0.5127162016987038},\n",
       " 'RDKISWTNK': {'MHC': 'A*80:01',\n",
       "  'Rew_MHC': 0.9993500863871991,\n",
       "  'TCR_Seq': 'CARRTGGSAFF',\n",
       "  'Rew_TCR': 0.9265787170719759,\n",
       "  'Classification': 0.6471093842146547},\n",
       " 'GVQNWLHNNF': {'MHC': 'B*39:01',\n",
       "  'Rew_MHC': 0.983853960890027,\n",
       "  'TCR_Seq': 'CASRRGGQGSNYGYTF',\n",
       "  'Rew_TCR': 0.97098987847273,\n",
       "  'Classification': 0.5393603987500138},\n",
       " 'WGDQNHWGI': {'MHC': 'A*66:01',\n",
       "  'Rew_MHC': 0.985853296476217,\n",
       "  'TCR_Seq': 'CASSDRNSPLHF',\n",
       "  'Rew_TCR': 0.895061389932688,\n",
       "  'Classification': 0.8042874028558771},\n",
       " 'PTVTFYPNFR': {'MHC': 'C*06:02',\n",
       "  'Rew_MHC': 0.9627014230900799,\n",
       "  'TCR_Seq': 'CSARAPGSYNSPLHF',\n",
       "  'Rew_TCR': 0.9138418018344211,\n",
       "  'Classification': 0.591015921659237},\n",
       " 'ECDIPKGSH': {'MHC': 'C*03:03',\n",
       "  'Rew_MHC': 0.9818304444925227,\n",
       "  'TCR_Seq': 'CASSYSDNIDEQFF',\n",
       "  'Rew_TCR': 0.9900166230533605,\n",
       "  'Classification': 0.6085662427213485},\n",
       " 'FKVYKWTPDPR': {'MHC': 'C*14:02',\n",
       "  'Rew_MHC': 0.854368002365219,\n",
       "  'TCR_Seq': 'CASRRGGQGSNYGYTF',\n",
       "  'Rew_TCR': 0.8968220205883869,\n",
       "  'Classification': 0.662585057347474},\n",
       " 'YTSFCVHGE': {'MHC': 'B*35:01',\n",
       "  'Rew_MHC': 0.9835715487030554,\n",
       "  'TCR_Seq': 'CAWIARTGSSYEQYF',\n",
       "  'Rew_TCR': 0.9520052021685422,\n",
       "  'Classification': 0.7444135999984884},\n",
       " 'RHDGIKRQEM': {'MHC': 'A*02:11',\n",
       "  'Rew_MHC': 0.8203968575280349,\n",
       "  'TCR_Seq': 'CASRPNRQGATTEAFF',\n",
       "  'Rew_TCR': 0.815877382676255,\n",
       "  'Classification': 0.5687147317341392},\n",
       " 'LHMVFSIDMY': {'MHC': 'B*45:01',\n",
       "  'Rew_MHC': 0.8703726292463639,\n",
       "  'TCR_Seq': 'CSARDVSPGTQYF',\n",
       "  'Rew_TCR': 0.8430433966550025,\n",
       "  'Classification': 0.6652309566172452},\n",
       " 'GHSKNLPQHTP': {'MHC': 'C*06:02',\n",
       "  'Rew_MHC': 0.9042538456892182,\n",
       "  'TCR_Seq': 'CASSQGTGKVYGYTF',\n",
       "  'Rew_TCR': 0.8720928512452562,\n",
       "  'Classification': 0.6864807157754592},\n",
       " 'DAAVSIVMKP': {'MHC': 'A*02:19',\n",
       "  'Rew_MHC': 0.8479686986070533,\n",
       "  'TCR_Seq': 'CASNGDATYEQYF',\n",
       "  'Rew_TCR': 0.9812076455355422,\n",
       "  'Classification': 0.7052661858781885},\n",
       " 'LANIDSNFCE': {'MHC': 'A*01:01',\n",
       "  'Rew_MHC': 0.9356074641513056,\n",
       "  'TCR_Seq': 'CASSLDPGSHEQYF',\n",
       "  'Rew_TCR': 0.9504085304175429,\n",
       "  'Classification': 0.8798297492024512},\n",
       " 'DMQDMLWYVAP': {'MHC': 'A*02:16',\n",
       "  'Rew_MHC': 0.9987089036124097,\n",
       "  'TCR_Seq': 'CASTSLLLSSTYEQYF',\n",
       "  'Rew_TCR': 0.7400410729810185,\n",
       "  'Classification': 0.6953937803881362},\n",
       " 'CYKRTMGLI': {'MHC': 'B*15:09',\n",
       "  'Rew_MHC': 0.8348251000675828,\n",
       "  'TCR_Seq': 'CASTSLLLSSTYEQYF',\n",
       "  'Rew_TCR': 0.9866924290142407,\n",
       "  'Classification': 0.7363419194818868},\n",
       " 'LVIFDLHCF': {'MHC': 'B*37:01',\n",
       "  'Rew_MHC': 0.8741553380295007,\n",
       "  'TCR_Seq': 'CSARGGSNQPQHF',\n",
       "  'Rew_TCR': 0.9206952263651818,\n",
       "  'Classification': 0.9124352915918601},\n",
       " 'AGRQTCAVLTNG': {'MHC': 'B*53:01',\n",
       "  'Rew_MHC': 0.8709907680524112,\n",
       "  'TCR_Seq': 'CASRYTTGDSYEQYF',\n",
       "  'Rew_TCR': 0.9510233524723115,\n",
       "  'Classification': 0.6191436575757336},\n",
       " 'YDPRYMCLPCTG': {'MHC': 'A*02:12',\n",
       "  'Rew_MHC': 0.8463202866320014,\n",
       "  'TCR_Seq': 'CASRAFYGNTIYF',\n",
       "  'Rew_TCR': 0.7922642754587659,\n",
       "  'Classification': 0.8461771865128576},\n",
       " 'WDIMCRIAT': {'MHC': 'A*30:02',\n",
       "  'Rew_MHC': 0.8370861589263152,\n",
       "  'TCR_Seq': 'CASKRTSVYNEQFF',\n",
       "  'Rew_TCR': 0.8052170103159837,\n",
       "  'Classification': 0.658899792408377},\n",
       " 'NVEVLMQVNFH': {'MHC': 'A*01:01',\n",
       "  'Rew_MHC': 0.9090640352985316,\n",
       "  'TCR_Seq': 'CASSQEGQGGRTEAFF',\n",
       "  'Rew_TCR': 0.9008456016798442,\n",
       "  'Classification': 0.6765843423579255},\n",
       " 'LMYGWLVKNAP': {'MHC': 'A*26:01',\n",
       "  'Rew_MHC': 0.8224976373587174,\n",
       "  'TCR_Seq': 'CASSLVGVYGYEQYF',\n",
       "  'Rew_TCR': 0.8706000291162307,\n",
       "  'Classification': 0.9006312575892038},\n",
       " 'MFAYNAYDKTG': {'MHC': 'A*24:03',\n",
       "  'Rew_MHC': 0.8507664447776849,\n",
       "  'TCR_Seq': 'CSGTGRSYEQYF',\n",
       "  'Rew_TCR': 0.9416146359188668,\n",
       "  'Classification': 0.8443135837756327},\n",
       " 'SFHLDMNISHS': {'MHC': 'B*46:01',\n",
       "  'Rew_MHC': 0.8459820746865462,\n",
       "  'TCR_Seq': 'CASSQGTGKVYGYTF',\n",
       "  'Rew_TCR': 0.8576142776884275,\n",
       "  'Classification': 0.8258563279531975},\n",
       " 'WRVHMKGLADAH': {'MHC': 'C*05:01',\n",
       "  'Rew_MHC': 0.8297011542692093,\n",
       "  'TCR_Seq': 'CASSSYNPGLEGEQFF',\n",
       "  'Rew_TCR': 0.7133391054967062,\n",
       "  'Classification': 0.740523732844762},\n",
       " 'KFCDRCLQA': {'MHC': 'B*44:02',\n",
       "  'Rew_MHC': 0.8115425483971013,\n",
       "  'TCR_Seq': 'CASSLTGLAGFGEQYF',\n",
       "  'Rew_TCR': 0.8050243546799474,\n",
       "  'Classification': 0.7523378845080688},\n",
       " 'WKSSRIQQC': {'MHC': 'B*35:01',\n",
       "  'Rew_MHC': 0.9350572309540781,\n",
       "  'TCR_Seq': 'CAWSAGGGKLFF',\n",
       "  'Rew_TCR': 0.9908649785381796,\n",
       "  'Classification': 0.6526536215532701},\n",
       " 'WMKYNVVLHSNT': {'MHC': 'A*23:01',\n",
       "  'Rew_MHC': 0.9223174460531236,\n",
       "  'TCR_Seq': 'CASSLVGVYGYEQYF',\n",
       "  'Rew_TCR': 0.8678246670994461,\n",
       "  'Classification': 0.5123085752791973},\n",
       " 'EYASCSSM': {'MHC': 'A*02:03',\n",
       "  'Rew_MHC': 0.9523977531594029,\n",
       "  'TCR_Seq': 'CASSLIPQAYEQYF',\n",
       "  'Rew_TCR': 0.8977777744958365,\n",
       "  'Classification': 0.7714723518459476},\n",
       " 'IAVCKPPKYSI': {'MHC': 'B*08:02',\n",
       "  'Rew_MHC': 0.8141951075056101,\n",
       "  'TCR_Seq': 'CASSIISGNTEAFF',\n",
       "  'Rew_TCR': 0.7732783517289766,\n",
       "  'Classification': 0.6016441349715576},\n",
       " 'HERIRFAFH': {'MHC': 'B*07:02',\n",
       "  'Rew_MHC': 0.8911345783063719,\n",
       "  'TCR_Seq': 'CASSFSGRAFDNEQFF',\n",
       "  'Rew_TCR': 0.8377362109331492,\n",
       "  'Classification': 0.9203667656965375},\n",
       " 'MVFKSLFH': {'MHC': 'A*32:07',\n",
       "  'Rew_MHC': 0.8001708933778017,\n",
       "  'TCR_Seq': 'CARRTGGSAFF',\n",
       "  'Rew_TCR': 0.9921099807788754,\n",
       "  'Classification': 0.7352857607451364},\n",
       " 'DWWYSKHY': {'MHC': 'B*45:01',\n",
       "  'Rew_MHC': 0.8798427687126898,\n",
       "  'TCR_Seq': 'CASSLALAYGYTF',\n",
       "  'Rew_TCR': 0.7848292173468693,\n",
       "  'Classification': 0.6566468907384456},\n",
       " 'IKAKMGSAVTH': {'MHC': 'B*27:04',\n",
       "  'Rew_MHC': 0.8292061956836286,\n",
       "  'TCR_Seq': 'CASSPRGGQGENGYTF',\n",
       "  'Rew_TCR': 0.9509550111378621,\n",
       "  'Classification': 0.867364107298232},\n",
       " 'MVFDKHEK': {'MHC': 'A*11:01',\n",
       "  'Rew_MHC': 0.8063805668990002,\n",
       "  'TCR_Seq': 'CSAPQGARPATEAFF',\n",
       "  'Rew_TCR': 0.9654144017229089,\n",
       "  'Classification': 0.6887930076289699},\n",
       " 'QLDFILHG': {'MHC': 'B*35:01',\n",
       "  'Rew_MHC': 0.9555175801684793,\n",
       "  'TCR_Seq': 'CSAPQGARPATEAFF',\n",
       "  'Rew_TCR': 0.858039297767871,\n",
       "  'Classification': 0.74856796388377},\n",
       " 'FTGTGFAGC': {'MHC': 'A*02:02',\n",
       "  'Rew_MHC': 0.9125141519279988,\n",
       "  'TCR_Seq': 'CASSLRGVSGELFF',\n",
       "  'Rew_TCR': 0.9297883860322894,\n",
       "  'Classification': 0.64174270608971},\n",
       " 'HHATALQYKR': {'MHC': 'B*46:01',\n",
       "  'Rew_MHC': 0.977873069060162,\n",
       "  'TCR_Seq': 'CASSQEGQGGRTEAFF',\n",
       "  'Rew_TCR': 0.8532556647191637,\n",
       "  'Classification': 0.9255682760400661},\n",
       " 'HVAMTHWPTE': {'MHC': 'B*40:13',\n",
       "  'Rew_MHC': 0.8927357804468784,\n",
       "  'TCR_Seq': 'CASSAGGEVEQFF',\n",
       "  'Rew_TCR': 0.8933183462040004,\n",
       "  'Classification': 0.5465772488181737},\n",
       " 'TIKKANCHSW': {'MHC': 'A*02:01',\n",
       "  'Rew_MHC': 0.9690792508615915,\n",
       "  'TCR_Seq': 'CASSQGTGKVYGYTF',\n",
       "  'Rew_TCR': 0.8629728925388348,\n",
       "  'Classification': 0.685506240880384},\n",
       " 'LKKIMMWQCVW': {'MHC': 'A*02:16',\n",
       "  'Rew_MHC': 0.9409025975496753,\n",
       "  'TCR_Seq': 'CATSPPAGGNRAGNTIYF',\n",
       "  'Rew_TCR': 0.7118795800041252,\n",
       "  'Classification': 0.7268387143212175},\n",
       " 'SQNGCVWEKYA': {'MHC': 'A*31:01',\n",
       "  'Rew_MHC': 0.9990997578773659,\n",
       "  'TCR_Seq': 'CASSLRGVSGELFF',\n",
       "  'Rew_TCR': 0.9629811677231357,\n",
       "  'Classification': 0.6133503497812351},\n",
       " 'MAIAIEFMY': {'MHC': 'B*53:01',\n",
       "  'Rew_MHC': 0.8678451602503101,\n",
       "  'TCR_Seq': 'CASSFSGRAFDNEQFF',\n",
       "  'Rew_TCR': 0.7425532918791659,\n",
       "  'Classification': 0.9111524350828908},\n",
       " 'WGLNWQNDR': {'MHC': 'B*51:01',\n",
       "  'Rew_MHC': 0.8779192113435289,\n",
       "  'TCR_Seq': 'CASSQDLGPSEKLFF',\n",
       "  'Rew_TCR': 0.9188871040928173,\n",
       "  'Classification': 0.6258915033608728},\n",
       " 'MWSHQEIKAS': {'MHC': 'A*24:03',\n",
       "  'Rew_MHC': 0.9673284994371383,\n",
       "  'TCR_Seq': 'CASGNLLSYEQYF',\n",
       "  'Rew_TCR': 0.9538167205979866,\n",
       "  'Classification': 0.8166424256111395},\n",
       " 'CKKGLIELK': {'MHC': 'A*26:03',\n",
       "  'Rew_MHC': 0.8064074233074536,\n",
       "  'TCR_Seq': 'CASSQEGRDRGDEQYF',\n",
       "  'Rew_TCR': 0.7050766277425138,\n",
       "  'Classification': 0.9053676653106075},\n",
       " 'VAIKFQNGYEWK': {'MHC': 'C*04:01',\n",
       "  'Rew_MHC': 0.9272666988700855,\n",
       "  'TCR_Seq': 'CATALRDRVDQPQHF',\n",
       "  'Rew_TCR': 0.8710436108777418,\n",
       "  'Classification': 0.5951205021994276},\n",
       " 'HMWYGQFAFKY': {'MHC': 'B*40:01',\n",
       "  'Rew_MHC': 0.9130859831674217,\n",
       "  'TCR_Seq': 'CASRRGGQGSNYGYTF',\n",
       "  'Rew_TCR': 0.8145294285453352,\n",
       "  'Classification': 0.555299244446767},\n",
       " 'VMMVTRSEGG': {'MHC': 'A*24:03',\n",
       "  'Rew_MHC': 0.9922337426482636,\n",
       "  'TCR_Seq': 'CASSYSDNIDEQFF',\n",
       "  'Rew_TCR': 0.9492863942257308,\n",
       "  'Classification': 0.8254572652796579},\n",
       " 'ARGMCACFYCN': {'MHC': 'A*11:01',\n",
       "  'Rew_MHC': 0.9298814764189545,\n",
       "  'TCR_Seq': 'CASSRQSTGELFF',\n",
       "  'Rew_TCR': 0.9932937592498822,\n",
       "  'Classification': 0.9017632070417938},\n",
       " 'QFVHLNKQVI': {'MHC': 'C*05:01',\n",
       "  'Rew_MHC': 0.8227118115230028,\n",
       "  'TCR_Seq': 'CASSFSGRAFDNEQFF',\n",
       "  'Rew_TCR': 0.7580630543309231,\n",
       "  'Classification': 0.721407353140118},\n",
       " 'PSHDCWGSSTF': {'MHC': 'B*15:09',\n",
       "  'Rew_MHC': 0.8631982688205815,\n",
       "  'TCR_Seq': 'CASSLGLARAGYEQYF',\n",
       "  'Rew_TCR': 0.7343354032564441,\n",
       "  'Classification': 0.87375532207883},\n",
       " 'MTNPRELWWWV': {'MHC': 'A*29:02',\n",
       "  'Rew_MHC': 0.8274852395012788,\n",
       "  'TCR_Seq': 'CASSPPTSGIPEQYF',\n",
       "  'Rew_TCR': 0.7687725133338531,\n",
       "  'Classification': 0.7841669133472309},\n",
       " 'LIGCGITSQAL': {'MHC': 'B*37:01',\n",
       "  'Rew_MHC': 0.8730502155716653,\n",
       "  'TCR_Seq': 'CASRRGGQGSNYGYTF',\n",
       "  'Rew_TCR': 0.8246817816287588,\n",
       "  'Classification': 0.6549710558986731},\n",
       " 'PDRWIVPDT': {'MHC': 'B*57:01',\n",
       "  'Rew_MHC': 0.9914952402739834,\n",
       "  'TCR_Seq': 'CATSPPAGGNRAGNTIYF',\n",
       "  'Rew_TCR': 0.8566941254668752,\n",
       "  'Classification': 0.6453144373424363},\n",
       " 'VVMKRIDAEQ': {'MHC': 'A*26:03',\n",
       "  'Rew_MHC': 0.9051728245124879,\n",
       "  'TCR_Seq': 'CASRRGGQGSNYGYTF',\n",
       "  'Rew_TCR': 0.9321463880562343,\n",
       "  'Classification': 0.8423286470948425}}"
      ]
     },
     "execution_count": 71,
     "metadata": {},
     "output_type": "execute_result"
    }
   ],
   "source": [
    "selected_seq"
   ]
  },
  {
   "cell_type": "code",
   "execution_count": 67,
   "id": "9d5e2d9e-344c-4a48-bafd-6def28bb2927",
   "metadata": {
    "scrolled": true
   },
   "outputs": [
    {
     "data": {
      "text/plain": [
       "{'B*14:02': 1,\n",
       " 'A*02:01': 3,\n",
       " 'A*80:01': 5,\n",
       " 'C*06:02': 3,\n",
       " 'B*39:01': 2,\n",
       " 'B*37:01': 3,\n",
       " 'A*66:01': 3,\n",
       " 'A*02:11': 2,\n",
       " 'B*45:01': 3,\n",
       " 'A*25:01': 2,\n",
       " 'A*29:02': 3,\n",
       " 'B*39:06': 2,\n",
       " 'C*12:03': 1,\n",
       " 'B*15:03': 2,\n",
       " 'A*68:02': 1,\n",
       " 'A*26:02': 2,\n",
       " 'B*35:01': 4,\n",
       " 'B*18:01': 1,\n",
       " 'A*31:01': 4,\n",
       " 'B*27:05': 1,\n",
       " 'C*04:01': 2,\n",
       " 'A*30:01': 2,\n",
       " 'A*02:16': 4,\n",
       " 'B*42:01': 1,\n",
       " 'B*54:01': 1,\n",
       " 'A*26:03': 3,\n",
       " 'C*07:01': 1,\n",
       " 'A*02:06': 1,\n",
       " 'B*27:04': 2,\n",
       " 'A*26:01': 2,\n",
       " 'B*15:01': 1,\n",
       " 'B*14:01': 1,\n",
       " 'C*03:03': 1,\n",
       " 'C*14:02': 1,\n",
       " 'A*02:19': 1,\n",
       " 'A*01:01': 2,\n",
       " 'B*15:09': 2,\n",
       " 'B*53:01': 2,\n",
       " 'A*02:12': 1,\n",
       " 'A*30:02': 1,\n",
       " 'A*24:03': 3,\n",
       " 'B*46:01': 2,\n",
       " 'C*05:01': 2,\n",
       " 'B*44:02': 1,\n",
       " 'A*23:01': 1,\n",
       " 'A*02:03': 1,\n",
       " 'B*08:02': 1,\n",
       " 'B*07:02': 1,\n",
       " 'A*32:07': 1,\n",
       " 'A*11:01': 2,\n",
       " 'A*02:02': 1,\n",
       " 'B*40:13': 1,\n",
       " 'B*51:01': 1,\n",
       " 'B*40:01': 1,\n",
       " 'B*57:01': 1}"
      ]
     },
     "execution_count": 67,
     "metadata": {},
     "output_type": "execute_result"
    }
   ],
   "source": [
    "mhc_counts"
   ]
  },
  {
   "cell_type": "code",
   "execution_count": 68,
   "id": "865bacfc-11f4-4c2d-8668-4616949bfd6f",
   "metadata": {
    "scrolled": true
   },
   "outputs": [
    {
     "data": {
      "text/plain": [
       "{'CASRYTTGDSYEQYF': 2,\n",
       " 'CASSFDPGTGYFEQYF': 4,\n",
       " 'CASSLVVGQPSYEQYF': 1,\n",
       " 'CASRLQNVSPLHF': 1,\n",
       " 'CASSPPTSGIPEQYF': 2,\n",
       " 'CASSLTGLAGFGEQYF': 4,\n",
       " 'CASNGDATYEQYF': 2,\n",
       " 'CASSPGLTYNEQFF': 3,\n",
       " 'CAWSAGGGKLFF': 4,\n",
       " 'CASDQSYSNQPQHF': 1,\n",
       " 'CASSQEGRDRGDEQYF': 2,\n",
       " 'CSARAPGSYNSPLHF': 2,\n",
       " 'CATALRDRVDQPQHF': 4,\n",
       " 'CASSAGGEVEQFF': 2,\n",
       " 'CASRPNRQGATTEAFF': 2,\n",
       " 'CASRAFYGNTIYF': 2,\n",
       " 'CASSQEGQGGRTEAFF': 3,\n",
       " 'CASSAGWGNKVNNEQFF': 2,\n",
       " 'CASSRDRGNYGYTF': 1,\n",
       " 'CASSPVPGQGARNEQFF': 1,\n",
       " 'CASSFLSGTDTQYF': 2,\n",
       " 'CASSSTGHQINEQFF': 1,\n",
       " 'CASRRGGQGSNYGYTF': 6,\n",
       " 'CSARGGSNQPQHF': 2,\n",
       " 'CASSLEQGISGYTF': 2,\n",
       " 'CASGNLLSYEQYF': 2,\n",
       " 'CASSLVGVYGYEQYF': 3,\n",
       " 'CSALREVANTEAFF': 1,\n",
       " 'CASSPRGGQGENGYTF': 2,\n",
       " 'CSAKDGTYEQYF': 1,\n",
       " 'CSGTGRSYEQYF': 2,\n",
       " 'CASSLDPGSHEQYF': 2,\n",
       " 'CARRTGGSAFF': 2,\n",
       " 'CASSDRNSPLHF': 1,\n",
       " 'CASSYSDNIDEQFF': 2,\n",
       " 'CAWIARTGSSYEQYF': 1,\n",
       " 'CSARDVSPGTQYF': 1,\n",
       " 'CASSQGTGKVYGYTF': 3,\n",
       " 'CASTSLLLSSTYEQYF': 2,\n",
       " 'CASKRTSVYNEQFF': 1,\n",
       " 'CASSSYNPGLEGEQFF': 1,\n",
       " 'CASSLIPQAYEQYF': 1,\n",
       " 'CASSIISGNTEAFF': 1,\n",
       " 'CASSFSGRAFDNEQFF': 3,\n",
       " 'CASSLALAYGYTF': 1,\n",
       " 'CSAPQGARPATEAFF': 2,\n",
       " 'CASSLRGVSGELFF': 2,\n",
       " 'CATSPPAGGNRAGNTIYF': 2,\n",
       " 'CASSQDLGPSEKLFF': 1,\n",
       " 'CASSRQSTGELFF': 1,\n",
       " 'CASSLGLARAGYEQYF': 1}"
      ]
     },
     "execution_count": 68,
     "metadata": {},
     "output_type": "execute_result"
    }
   ],
   "source": [
    "tcr_seq_counts"
   ]
  },
  {
   "cell_type": "code",
   "execution_count": 73,
   "id": "b1b8f0b5-f6d3-4aff-9c3a-6c3497d50052",
   "metadata": {},
   "outputs": [
    {
     "name": "stdout",
     "output_type": "stream",
     "text": [
      "Peptide: KGESIICIIFY, MHC: B*14:02, TCR_Seq: CASRYTTGDSYEQYF, Rew_MHC: 0.998305738949775, Rew_TCR: 0.9857495589472043, Classification: 0.8952227205725236, Product: 0.8809702752051629\n",
      "Peptide: CCTHCVAYP, MHC: A*25:01, TCR_Seq: CASRAFYGNTIYF, Rew_MHC: 0.9981982499654309, Rew_TCR: 0.9982326198975128, Classification: 0.8827781062770239, Product: 0.8796301674320167\n",
      "Peptide: SKNPKSRIYCR, MHC: A*02:16, TCR_Seq: CASSLEQGISGYTF, Rew_MHC: 0.9986148254226617, Rew_TCR: 0.9434579002812633, Classification: 0.9110359476899068, Product: 0.8583334714085781\n",
      "Peptide: FCMTVDYWWWS, MHC: B*15:01, TCR_Seq: CSGTGRSYEQYF, Rew_MHC: 0.9751322700524637, Rew_TCR: 0.9337482878585225, Classification: 0.915806466364606, Product: 0.8338675104280064\n",
      "Peptide: ARGMCACFYCN, MHC: A*11:01, TCR_Seq: CASSRQSTGELFF, Rew_MHC: 0.9298814764189545, Rew_TCR: 0.9932937592498822, Classification: 0.9017632070417938, Product: 0.8329094988242985\n"
     ]
    }
   ],
   "source": [
    "# Calculate the product of Rew_MHC, Rew_TCR, and Classification for each entry\n",
    "for key, value in selected_seq.items():\n",
    "    product = value['Rew_MHC'] * value['Rew_TCR'] * value['Classification']\n",
    "    selected_seq[key]['Product'] = product\n",
    "\n",
    "# Sort the entries by the product value in descending order and get the top 5\n",
    "top_5_entries = sorted(selected_seq.items(), key=lambda x: x[1]['Product'], reverse=True)[:5]\n",
    "\n",
    "# Print top 5 entries\n",
    "for key, value in top_5_entries:\n",
    "    print(f\"Peptide: {key}, MHC: {value['MHC']}, TCR_Seq: {value['TCR_Seq']}, \"\n",
    "          f\"Rew_MHC: {value['Rew_MHC']}, Rew_TCR: {value['Rew_TCR']}, \"\n",
    "          f\"Classification: {value['Classification']}, Product: {value['Product']}\")"
   ]
  },
  {
   "cell_type": "markdown",
   "id": "28a4474e-f42e-4b32-8ff7-bfa94677f998",
   "metadata": {},
   "source": [
    "### Patient E"
   ]
  },
  {
   "cell_type": "code",
   "execution_count": 95,
   "id": "a63af1d4-08f7-43a6-9f29-1d6313739b49",
   "metadata": {},
   "outputs": [
    {
     "data": {
      "text/html": [
       "<div>\n",
       "<style scoped>\n",
       "    .dataframe tbody tr th:only-of-type {\n",
       "        vertical-align: middle;\n",
       "    }\n",
       "\n",
       "    .dataframe tbody tr th {\n",
       "        vertical-align: top;\n",
       "    }\n",
       "\n",
       "    .dataframe thead th {\n",
       "        text-align: right;\n",
       "    }\n",
       "</style>\n",
       "<table border=\"1\" class=\"dataframe\">\n",
       "  <thead>\n",
       "    <tr style=\"text-align: right;\">\n",
       "      <th></th>\n",
       "      <th>antigen</th>\n",
       "      <th>mhc_molecule</th>\n",
       "      <th>sequence</th>\n",
       "      <th>tcr_sequence</th>\n",
       "      <th>neo_vs_anti</th>\n",
       "      <th>mhc_presentation_score</th>\n",
       "      <th>tcr_probability</th>\n",
       "    </tr>\n",
       "  </thead>\n",
       "  <tbody>\n",
       "    <tr>\n",
       "      <th>0</th>\n",
       "      <td>CLMMILPAA</td>\n",
       "      <td>B*08:01</td>\n",
       "      <td>YDSEYRNIFTNTDESNLYLSYNYYTWAVDAYTWY</td>\n",
       "      <td>CASSLSGAYEQYF</td>\n",
       "      <td>1</td>\n",
       "      <td>0.998458</td>\n",
       "      <td>0.583619</td>\n",
       "    </tr>\n",
       "    <tr>\n",
       "      <th>1</th>\n",
       "      <td>CLMMILPAA</td>\n",
       "      <td>B*08:01</td>\n",
       "      <td>YSSEYEERAGHTDADTLYLTYHYYTWAEVAYTWY</td>\n",
       "      <td>CASSRNPGQGAKSAYGYTF</td>\n",
       "      <td>1</td>\n",
       "      <td>0.998458</td>\n",
       "      <td>0.583619</td>\n",
       "    </tr>\n",
       "    <tr>\n",
       "      <th>2</th>\n",
       "      <td>CLMMILPAA</td>\n",
       "      <td>B*08:01</td>\n",
       "      <td>YYAMYREISTNTYVGNLYWTYRFYTWAWLAYTWY</td>\n",
       "      <td>CASSPAVGNTGELFF</td>\n",
       "      <td>1</td>\n",
       "      <td>0.998458</td>\n",
       "      <td>0.583619</td>\n",
       "    </tr>\n",
       "    <tr>\n",
       "      <th>3</th>\n",
       "      <td>AVFKDSFLGK</td>\n",
       "      <td>B*07:02</td>\n",
       "      <td>YYSEYRNIYAQTDESNLYLSYDYYTWAERAYEWY</td>\n",
       "      <td>CASSRNPGQGAKSAYGYTF</td>\n",
       "      <td>1</td>\n",
       "      <td>0.938766</td>\n",
       "      <td>0.561518</td>\n",
       "    </tr>\n",
       "    <tr>\n",
       "      <th>4</th>\n",
       "      <td>AVFKDSFLGK</td>\n",
       "      <td>B*07:02</td>\n",
       "      <td>YLTMYRENVAFTYENIAYITFRYYTWAVHAYLWY</td>\n",
       "      <td>CATSRLAGKGEQYF</td>\n",
       "      <td>1</td>\n",
       "      <td>0.938766</td>\n",
       "      <td>0.561518</td>\n",
       "    </tr>\n",
       "    <tr>\n",
       "      <th>...</th>\n",
       "      <td>...</td>\n",
       "      <td>...</td>\n",
       "      <td>...</td>\n",
       "      <td>...</td>\n",
       "      <td>...</td>\n",
       "      <td>...</td>\n",
       "      <td>...</td>\n",
       "    </tr>\n",
       "    <tr>\n",
       "      <th>812</th>\n",
       "      <td>FLNPVIYTF</td>\n",
       "      <td>C*04:01</td>\n",
       "      <td>YSAGYREKYRQADVNKLYLRFNFYTWAERAYTWY</td>\n",
       "      <td>CASSIQGAVGTEAFF</td>\n",
       "      <td>1</td>\n",
       "      <td>0.203471</td>\n",
       "      <td>0.192312</td>\n",
       "    </tr>\n",
       "    <tr>\n",
       "      <th>813</th>\n",
       "      <td>FLNPVIYTF</td>\n",
       "      <td>C*04:01</td>\n",
       "      <td>YYAGYREKYRQADVNKLYLKYEFYTWAALAYLWY</td>\n",
       "      <td>CASSLGDSQETQYF</td>\n",
       "      <td>1</td>\n",
       "      <td>0.203471</td>\n",
       "      <td>0.192312</td>\n",
       "    </tr>\n",
       "    <tr>\n",
       "      <th>814</th>\n",
       "      <td>ASDRISGIL</td>\n",
       "      <td>A*02:01</td>\n",
       "      <td>YFAMYGEKVAHTHVDTLYVRYHYYTWAVLAYTWY</td>\n",
       "      <td>CASSTGGFGTDTQYF</td>\n",
       "      <td>1</td>\n",
       "      <td>0.203348</td>\n",
       "      <td>0.192094</td>\n",
       "    </tr>\n",
       "    <tr>\n",
       "      <th>815</th>\n",
       "      <td>ASDRISGIL</td>\n",
       "      <td>A*02:01</td>\n",
       "      <td>YFAMYEESAAHTDVDTLYIIYRDYTWAARAYTWY</td>\n",
       "      <td>CASSFDASGAGNTEAFF</td>\n",
       "      <td>1</td>\n",
       "      <td>0.203348</td>\n",
       "      <td>0.192094</td>\n",
       "    </tr>\n",
       "    <tr>\n",
       "      <th>816</th>\n",
       "      <td>DAVEDFLAF</td>\n",
       "      <td>A*68:02</td>\n",
       "      <td>YYAMYRNNVAQTDVDTLYIRYHYYTWAVWAYTWY</td>\n",
       "      <td>CASSLEGYEQYF</td>\n",
       "      <td>1</td>\n",
       "      <td>0.203348</td>\n",
       "      <td>0.191680</td>\n",
       "    </tr>\n",
       "  </tbody>\n",
       "</table>\n",
       "<p>817 rows × 7 columns</p>\n",
       "</div>"
      ],
      "text/plain": [
       "        antigen mhc_molecule  ... mhc_presentation_score tcr_probability\n",
       "0     CLMMILPAA      B*08:01  ...               0.998458        0.583619\n",
       "1     CLMMILPAA      B*08:01  ...               0.998458        0.583619\n",
       "2     CLMMILPAA      B*08:01  ...               0.998458        0.583619\n",
       "3    AVFKDSFLGK      B*07:02  ...               0.938766        0.561518\n",
       "4    AVFKDSFLGK      B*07:02  ...               0.938766        0.561518\n",
       "..          ...          ...  ...                    ...             ...\n",
       "812   FLNPVIYTF      C*04:01  ...               0.203471        0.192312\n",
       "813   FLNPVIYTF      C*04:01  ...               0.203471        0.192312\n",
       "814   ASDRISGIL      A*02:01  ...               0.203348        0.192094\n",
       "815   ASDRISGIL      A*02:01  ...               0.203348        0.192094\n",
       "816   DAVEDFLAF      A*68:02  ...               0.203348        0.191680\n",
       "\n",
       "[817 rows x 7 columns]"
      ]
     },
     "execution_count": 95,
     "metadata": {},
     "output_type": "execute_result"
    }
   ],
   "source": [
    "patient_e = pd.read_csv('patient_e.csv')\n",
    "patient_e"
   ]
  },
  {
   "cell_type": "code",
   "execution_count": 96,
   "id": "8839aa6c-ad41-4298-b6c4-a95feaffc53d",
   "metadata": {},
   "outputs": [],
   "source": [
    "mhc_molecule_list = patient_e['mhc_molecule'].unique().tolist()\n",
    "tcr_sequence_list = patient_e['tcr_sequence'].unique().tolist()\n"
   ]
  },
  {
   "cell_type": "code",
   "execution_count": 138,
   "id": "faa54020-00cf-47f7-89a5-a95544592d04",
   "metadata": {
    "scrolled": true
   },
   "outputs": [
    {
     "name": "stderr",
     "output_type": "stream",
     "text": [
      "Processing sequences: 1it [00:04,  4.75s/it]"
     ]
    },
    {
     "name": "stdout",
     "output_type": "stream",
     "text": [
      " selected"
     ]
    },
    {
     "name": "stderr",
     "output_type": "stream",
     "text": [
      "Processing sequences: 2it [00:07,  3.40s/it]"
     ]
    },
    {
     "name": "stdout",
     "output_type": "stream",
     "text": [
      " selected"
     ]
    },
    {
     "name": "stderr",
     "output_type": "stream",
     "text": [
      "Processing sequences: 3it [00:09,  2.88s/it]"
     ]
    },
    {
     "name": "stdout",
     "output_type": "stream",
     "text": [
      " selected"
     ]
    },
    {
     "name": "stderr",
     "output_type": "stream",
     "text": [
      "Processing sequences: 4it [00:11,  2.62s/it]"
     ]
    },
    {
     "name": "stdout",
     "output_type": "stream",
     "text": [
      " selected"
     ]
    },
    {
     "name": "stderr",
     "output_type": "stream",
     "text": [
      "Processing sequences: 5it [00:14,  2.53s/it]"
     ]
    },
    {
     "name": "stdout",
     "output_type": "stream",
     "text": [
      " selected"
     ]
    },
    {
     "name": "stderr",
     "output_type": "stream",
     "text": [
      "Processing sequences: 6it [00:16,  2.44s/it]"
     ]
    },
    {
     "name": "stdout",
     "output_type": "stream",
     "text": [
      " selected"
     ]
    },
    {
     "name": "stderr",
     "output_type": "stream",
     "text": [
      "Processing sequences: 7it [00:18,  2.36s/it]"
     ]
    },
    {
     "name": "stdout",
     "output_type": "stream",
     "text": [
      " selected"
     ]
    },
    {
     "name": "stderr",
     "output_type": "stream",
     "text": [
      "Processing sequences: 8it [00:20,  2.33s/it]"
     ]
    },
    {
     "name": "stdout",
     "output_type": "stream",
     "text": [
      " selected"
     ]
    },
    {
     "name": "stderr",
     "output_type": "stream",
     "text": [
      "Processing sequences: 9it [00:22,  2.29s/it]"
     ]
    },
    {
     "name": "stdout",
     "output_type": "stream",
     "text": [
      " selected"
     ]
    },
    {
     "name": "stderr",
     "output_type": "stream",
     "text": [
      "Processing sequences: 10it [00:25,  2.31s/it]"
     ]
    },
    {
     "name": "stdout",
     "output_type": "stream",
     "text": [
      " selected"
     ]
    },
    {
     "name": "stderr",
     "output_type": "stream",
     "text": [
      "Processing sequences: 11it [00:27,  2.29s/it]"
     ]
    },
    {
     "name": "stdout",
     "output_type": "stream",
     "text": [
      " selected"
     ]
    },
    {
     "name": "stderr",
     "output_type": "stream",
     "text": [
      "Processing sequences: 13it [00:32,  2.26s/it]"
     ]
    },
    {
     "name": "stdout",
     "output_type": "stream",
     "text": [
      " selected"
     ]
    },
    {
     "name": "stderr",
     "output_type": "stream",
     "text": [
      "Processing sequences: 12it [15:10, 75.86s/it]\n",
      "Processing sequences: 17it [00:41,  2.39s/it]"
     ]
    },
    {
     "name": "stdout",
     "output_type": "stream",
     "text": [
      " selected"
     ]
    },
    {
     "name": "stderr",
     "output_type": "stream",
     "text": [
      "Processing sequences: 19it [00:46,  2.35s/it]"
     ]
    },
    {
     "name": "stdout",
     "output_type": "stream",
     "text": [
      " selected"
     ]
    },
    {
     "name": "stderr",
     "output_type": "stream",
     "text": [
      "Processing sequences: 22it [00:55,  2.61s/it]"
     ]
    },
    {
     "name": "stdout",
     "output_type": "stream",
     "text": [
      " selected"
     ]
    },
    {
     "name": "stderr",
     "output_type": "stream",
     "text": [
      "Processing sequences: 24it [01:00,  2.61s/it]"
     ]
    },
    {
     "name": "stdout",
     "output_type": "stream",
     "text": [
      " selected"
     ]
    },
    {
     "name": "stderr",
     "output_type": "stream",
     "text": [
      "Processing sequences: 27it [01:07,  2.43s/it]"
     ]
    },
    {
     "name": "stdout",
     "output_type": "stream",
     "text": [
      " selected"
     ]
    },
    {
     "name": "stderr",
     "output_type": "stream",
     "text": [
      "Processing sequences: 28it [01:09,  2.42s/it]"
     ]
    },
    {
     "name": "stdout",
     "output_type": "stream",
     "text": [
      " selected"
     ]
    },
    {
     "name": "stderr",
     "output_type": "stream",
     "text": [
      "Processing sequences: 32it [01:18,  2.28s/it]"
     ]
    },
    {
     "name": "stdout",
     "output_type": "stream",
     "text": [
      " selected"
     ]
    },
    {
     "name": "stderr",
     "output_type": "stream",
     "text": [
      "Processing sequences: 33it [01:20,  2.27s/it]"
     ]
    },
    {
     "name": "stdout",
     "output_type": "stream",
     "text": [
      " selected"
     ]
    },
    {
     "name": "stderr",
     "output_type": "stream",
     "text": [
      "Processing sequences: 34it [01:23,  2.26s/it]"
     ]
    },
    {
     "name": "stdout",
     "output_type": "stream",
     "text": [
      " selected"
     ]
    },
    {
     "name": "stderr",
     "output_type": "stream",
     "text": [
      "Processing sequences: 35it [01:25,  2.33s/it]"
     ]
    },
    {
     "name": "stdout",
     "output_type": "stream",
     "text": [
      " selected"
     ]
    },
    {
     "name": "stderr",
     "output_type": "stream",
     "text": [
      "Processing sequences: 39it [01:41,  3.93s/it]"
     ]
    },
    {
     "name": "stdout",
     "output_type": "stream",
     "text": [
      " selected"
     ]
    },
    {
     "name": "stderr",
     "output_type": "stream",
     "text": [
      "Processing sequences: 40it [01:44,  3.41s/it]"
     ]
    },
    {
     "name": "stdout",
     "output_type": "stream",
     "text": [
      " selected"
     ]
    },
    {
     "name": "stderr",
     "output_type": "stream",
     "text": [
      "Processing sequences: 41it [01:46,  3.07s/it]"
     ]
    },
    {
     "name": "stdout",
     "output_type": "stream",
     "text": [
      " selected"
     ]
    },
    {
     "name": "stderr",
     "output_type": "stream",
     "text": [
      "Processing sequences: 42it [01:48,  2.83s/it]"
     ]
    },
    {
     "name": "stdout",
     "output_type": "stream",
     "text": [
      " selected"
     ]
    },
    {
     "name": "stderr",
     "output_type": "stream",
     "text": [
      "Processing sequences: 43it [01:50,  2.70s/it]"
     ]
    },
    {
     "name": "stdout",
     "output_type": "stream",
     "text": [
      " selected"
     ]
    },
    {
     "name": "stderr",
     "output_type": "stream",
     "text": [
      "Processing sequences: 46it [01:57,  2.42s/it]"
     ]
    },
    {
     "name": "stdout",
     "output_type": "stream",
     "text": [
      " selected"
     ]
    },
    {
     "name": "stderr",
     "output_type": "stream",
     "text": [
      "Processing sequences: 47it [02:00,  2.35s/it]"
     ]
    },
    {
     "name": "stdout",
     "output_type": "stream",
     "text": [
      " selected"
     ]
    },
    {
     "name": "stderr",
     "output_type": "stream",
     "text": [
      "Processing sequences: 48it [02:04,  2.99s/it]"
     ]
    },
    {
     "name": "stdout",
     "output_type": "stream",
     "text": [
      " selected"
     ]
    },
    {
     "name": "stderr",
     "output_type": "stream",
     "text": [
      "Processing sequences: 49it [02:06,  2.78s/it]"
     ]
    },
    {
     "name": "stdout",
     "output_type": "stream",
     "text": [
      " selected"
     ]
    },
    {
     "name": "stderr",
     "output_type": "stream",
     "text": [
      "Processing sequences: 52it [02:13,  2.40s/it]"
     ]
    },
    {
     "name": "stdout",
     "output_type": "stream",
     "text": [
      " selected"
     ]
    },
    {
     "name": "stderr",
     "output_type": "stream",
     "text": [
      "Processing sequences: 59it [02:31,  2.41s/it]"
     ]
    },
    {
     "name": "stdout",
     "output_type": "stream",
     "text": [
      " selected"
     ]
    },
    {
     "name": "stderr",
     "output_type": "stream",
     "text": [
      "Processing sequences: 64it [02:42,  2.19s/it]"
     ]
    },
    {
     "name": "stdout",
     "output_type": "stream",
     "text": [
      " selected"
     ]
    },
    {
     "name": "stderr",
     "output_type": "stream",
     "text": [
      "Processing sequences: 67it [02:48,  2.17s/it]"
     ]
    },
    {
     "name": "stdout",
     "output_type": "stream",
     "text": [
      " selected"
     ]
    },
    {
     "name": "stderr",
     "output_type": "stream",
     "text": [
      "Processing sequences: 70it [02:57,  2.44s/it]"
     ]
    },
    {
     "name": "stdout",
     "output_type": "stream",
     "text": [
      " selected"
     ]
    },
    {
     "name": "stderr",
     "output_type": "stream",
     "text": [
      "Processing sequences: 71it [02:59,  2.34s/it]"
     ]
    },
    {
     "name": "stdout",
     "output_type": "stream",
     "text": [
      " selected"
     ]
    },
    {
     "name": "stderr",
     "output_type": "stream",
     "text": [
      "Processing sequences: 73it [03:03,  2.21s/it]"
     ]
    },
    {
     "name": "stdout",
     "output_type": "stream",
     "text": [
      " selected"
     ]
    },
    {
     "name": "stderr",
     "output_type": "stream",
     "text": [
      "Processing sequences: 74it [03:05,  2.19s/it]"
     ]
    },
    {
     "name": "stdout",
     "output_type": "stream",
     "text": [
      " selected"
     ]
    },
    {
     "name": "stderr",
     "output_type": "stream",
     "text": [
      "Processing sequences: 79it [03:16,  2.15s/it]"
     ]
    },
    {
     "name": "stdout",
     "output_type": "stream",
     "text": [
      " selected"
     ]
    },
    {
     "name": "stderr",
     "output_type": "stream",
     "text": [
      "Processing sequences: 81it [03:20,  2.10s/it]"
     ]
    },
    {
     "ename": "ValueError",
     "evalue": "list.remove(x): x not in list",
     "output_type": "error",
     "traceback": [
      "\u001b[0;31m---------------------------------------------------------------------------\u001b[0m",
      "\u001b[0;31mValueError\u001b[0m                                Traceback (most recent call last)",
      "Cell \u001b[0;32mIn[138], line 81\u001b[0m\n\u001b[1;32m     79\u001b[0m \u001b[38;5;66;03m# Remove MHC molecule if its count reaches 10\u001b[39;00m\n\u001b[1;32m     80\u001b[0m \u001b[38;5;28;01mif\u001b[39;00m mhc_count[selected_mhc] \u001b[38;5;241m>\u001b[39m\u001b[38;5;241m=\u001b[39m \u001b[38;5;241m10\u001b[39m:\n\u001b[0;32m---> 81\u001b[0m     \u001b[43mmhc_proteins\u001b[49m\u001b[38;5;241;43m.\u001b[39;49m\u001b[43mremove\u001b[49m\u001b[43m(\u001b[49m\u001b[43mselected_mhc\u001b[49m\u001b[43m)\u001b[49m\n\u001b[1;32m     83\u001b[0m \u001b[38;5;66;03m# Remove TCR sequence if its count reaches 10\u001b[39;00m\n\u001b[1;32m     84\u001b[0m \u001b[38;5;28;01mif\u001b[39;00m tcr_count[selected_tcr] \u001b[38;5;241m>\u001b[39m\u001b[38;5;241m=\u001b[39m \u001b[38;5;241m10\u001b[39m:\n",
      "\u001b[0;31mValueError\u001b[0m: list.remove(x): x not in list"
     ]
    }
   ],
   "source": [
    "import numpy as np\n",
    "\n",
    "def needleman_wunsch_normalized(seq1, seq2, match=2, mismatch=1, gap=0):\n",
    "    def calculate_max_score(seq1, seq2, match, mismatch, gap):\n",
    "        # Calculate the maximum possible score\n",
    "        max_score = max(len(seq1), len(seq2)) * match\n",
    "        return max_score\n",
    "\n",
    "#     Create a matrix to store alignment scores\n",
    "    matrix = np.zeros((len(seq1) + 1, len(seq2) + 1))\n",
    "\n",
    "    #Initialize the first row and first column with gap penalties\n",
    "    for i in range(len(seq1) + 1):\n",
    "        matrix[i][0] = i * gap\n",
    "    for j in range(len(seq2) + 1):\n",
    "        matrix[0][j] = j * gap\n",
    "\n",
    "    # Fill in the matrix\n",
    "    for i in range(1, len(seq1) + 1):\n",
    "        for j in range(1, len(seq2) + 1):\n",
    "            match_score = matrix[i-1][j-1] + (match if seq1[i-1] == seq2[j-1] else mismatch) \n",
    "            delete_score = matrix[i-1][j] + gap\n",
    "            insert_score = matrix[i][j-1] + gap\n",
    "            matrix[i][j] = max(match_score, delete_score, insert_score)\n",
    "\n",
    "    # Calculate the normalized similarity score\n",
    "    similarity_score = matrix[len(seq1)][len(seq2)] / calculate_max_score(seq1, seq2, match, mismatch, gap)\n",
    "\n",
    "    return similarity_score\n",
    "\n",
    "# Check sequence similarity using your Needleman-Wunsch algorithm\n",
    "def is_sequence_similar_to_selected(new_seq, selected_seq, similarity_threshold):\n",
    "    for selected_peptide in selected_seq:\n",
    "        similarity_score = needleman_wunsch_normalized(new_seq, selected_peptide)  \n",
    "\n",
    "        if similarity_score >= similarity_threshold:\n",
    "            return True\n",
    "    return False\n",
    "\n",
    "\n",
    "lmin = 8\n",
    "lmax = 12\n",
    "thr_rew_mhc = 0.82  # Threshold for binding affinity\n",
    "thr_rew_tcr = 0.53  # Threshold for TCR reward\n",
    "similarity_threshold = 0.7\n",
    "\n",
    "\n",
    "# Extend the list of MHC proteins and TCR sequences\n",
    "mhc_proteins = mhc_molecule_list\n",
    "tcr_sequences = tcr_sequence_list\n",
    "aas = load_valid_aas('Dictionary')\n",
    "\n",
    "# Initialize selected sequences dictionary and output data list\n",
    "selected_seq = {}\n",
    "output_data = []\n",
    "\n",
    "# Define a dictionary to track the count of each MHC molecule\n",
    "mhc_counts = {mhc: 0 for mhc in mhc_proteins}\n",
    "tcr_seq_counts = {tcr: 0 for tcr in tcr_sequences}\n",
    "\n",
    "# Initialize max MHC and TCR values and corresponding indices\n",
    "max_mhc_values = [-1] * len(mhc_proteins)\n",
    "max_tcr_values = [-1] * len(tcr_sequences)\n",
    "max_mhc_idx = -1\n",
    "max_tcr_idx = -1\n",
    "\n",
    "# Initialize progress bar\n",
    "pbar = tqdm(desc=\"Processing sequences\")\n",
    "\n",
    "curr_seq = generate_seq(lmin, lmax, aas)  # Initialize curr_seq\n",
    "curr_rew_mhc_values = get_binding_affinity(curr_seq, mhc_proteins) \n",
    "curr_rew_tcr = tcr_reward(curr_seq, tcr_sequences)\n",
    "curr_rew_class = classification_reward(curr_seq)\n",
    "\n",
    "\n",
    "while len(selected_seq) < 100:\n",
    "    new_seq = alter_seq(curr_seq, aas)\n",
    "    accept = False\n",
    "    selected_in_iteration = False\n",
    "\n",
    "    if new_seq != curr_seq and lmin <= len(new_seq) <= lmax:\n",
    "        new_rew_class = classification_reward(new_seq)\n",
    "\n",
    "        if new_rew_class > 0.5:  # Updated condition\n",
    "            # Check if the new sequence is similar to any selected sequence\n",
    "            if not is_sequence_similar_to_selected(new_seq, selected_seq.keys(), similarity_threshold):\n",
    "                new_rew_mhc_values = get_binding_affinity(new_seq, mhc_proteins)\n",
    "                new_rew_tcr_values = tcr_reward(new_seq, tcr_sequences)\n",
    "\n",
    "                max_mhc_idx = new_rew_mhc_values.index(max(new_rew_mhc_values))\n",
    "                max_tcr_idx = new_rew_tcr_values.index(max(new_rew_tcr_values))\n",
    "\n",
    "                # Check if the selected MHC molecule and TCR sequence have exceeded the maximum count\n",
    "                selected_mhc = mhc_proteins[max_mhc_idx]\n",
    "                selected_tcr = tcr_sequences[max_tcr_idx]\n",
    "\n",
    "                if mhc_counts[selected_mhc] < 5 and tcr_seq_counts[selected_tcr] < 5:\n",
    "                    product_value = new_rew_mhc_values[max_mhc_idx] * new_rew_tcr_values[max_tcr_idx]\n",
    "\n",
    "                    if product_value > (curr_rew_mhc_values[max_mhc_idx] * curr_rew_tcr[max_tcr_idx]) - 0.35 * random.random():\n",
    "                        accept = True\n",
    "                        if new_seq not in selected_seq:\n",
    "                            selected_in_iteration = True\n",
    "                            # Update the count of the selected MHC molecule and TCR sequence\n",
    "                            mhc_counts[selected_mhc] += 1\n",
    "                            tcr_seq_counts[selected_tcr] += 1\n",
    "                            selected_seq = update_selected(selected_seq, thr_rew_mhc, thr_rew_tcr, new_seq, selected_mhc, new_rew_mhc_values[max_mhc_idx], new_rew_tcr_values[max_tcr_idx], curr_rew_class, selected_tcr)\n",
    "                            pbar.update(1)\n",
    "\n",
    "                # Initialize max MHC and TCR values and corresponding indices\n",
    "                max_mhc_values = [-1] * len(mhc_proteins)\n",
    "                max_tcr_values = [-1] * len(tcr_sequences)\n",
    "                max_mhc_idx = -1\n",
    "                max_tcr_idx = -1\n",
    "\n",
    "                if selected_in_iteration:\n",
    "                    data_dict = {\n",
    "                        \"Sequence\": new_seq,\n",
    "                        **{f\"MHC_{i+1}\": new_rew_mhc_values[i] for i in range(len(mhc_proteins))},\n",
    "                        **{f\"TCR_{i+1}\": new_rew_tcr_values[i] for i in range(len(tcr_sequences))},\n",
    "                        \"Classification\": new_rew_class,  # Add new_rew_class here\n",
    "                    }\n",
    "                    output_data.append(data_dict)  # Ensure data_dict is appended to output_data\n",
    "\n",
    "                # Remove MHC molecule if its count reaches 10\n",
    "                if mhc_counts[selected_mhc] >= 10:\n",
    "                    mhc_proteins.remove(selected_mhc)\n",
    "\n",
    "                # Remove TCR sequence if its count reaches 10\n",
    "                if tcr_seq_counts[selected_tcr] >= 10:\n",
    "                    tcr_sequences.remove(selected_tcr)\n",
    "\n",
    "pbar.close()\n"
   ]
  },
  {
   "cell_type": "code",
   "execution_count": 112,
   "id": "90d6bdcf-bfa7-4aa6-840a-a4f530e9b9a0",
   "metadata": {
    "scrolled": true
   },
   "outputs": [
    {
     "data": {
      "text/plain": [
       "{'DENTTRVQDP': {'MHC': 'C*08:02',\n",
       "  'Rew_MHC': 0.947291786839106,\n",
       "  'TCR_Seq': 'CASSPTLARAKSYEQYF',\n",
       "  'Rew_TCR': 0.9903045490851207,\n",
       "  'Classification': 0.6623920427351176},\n",
       " 'VQDKRYDWDA': {'MHC': 'A*02:19',\n",
       "  'Rew_MHC': 0.9311545315817835,\n",
       "  'TCR_Seq': 'CATRMAGSSSYEQYF',\n",
       "  'Rew_TCR': 0.7158193900959976,\n",
       "  'Classification': 0.7243686569976767},\n",
       " 'INAWAKFFNDPH': {'MHC': 'A*31:01',\n",
       "  'Rew_MHC': 0.981462085399,\n",
       "  'TCR_Seq': 'CASSTGGFGTDTQYF',\n",
       "  'Rew_TCR': 0.9045124050337902,\n",
       "  'Classification': 0.8683505745089966},\n",
       " 'EYFDYYRAQQ': {'MHC': 'A*02:12',\n",
       "  'Rew_MHC': 0.8918173956639238,\n",
       "  'TCR_Seq': 'CATSDQKGTATYEQYF',\n",
       "  'Rew_TCR': 0.7713062514196012,\n",
       "  'Classification': 0.8821885488119556},\n",
       " 'FSMSKFAFHLV': {'MHC': 'B*35:03',\n",
       "  'Rew_MHC': 0.8546631485489588,\n",
       "  'TCR_Seq': 'CASKRGGETQYF',\n",
       "  'Rew_TCR': 0.9843698182337453,\n",
       "  'Classification': 0.9224647871854761},\n",
       " 'IQYHHWHLQCWN': {'MHC': 'A*31:01',\n",
       "  'Rew_MHC': 0.9335635731221138,\n",
       "  'TCR_Seq': 'CAWSGTANSPLHF',\n",
       "  'Rew_TCR': 0.7861901501959466,\n",
       "  'Classification': 0.709851202340751},\n",
       " 'HTCLDLNLP': {'MHC': 'A*80:01',\n",
       "  'Rew_MHC': 0.9899962159841343,\n",
       "  'TCR_Seq': 'CSASWGGRTEAFF',\n",
       "  'Rew_TCR': 0.7633993146487924,\n",
       "  'Classification': 0.9135217966758039},\n",
       " 'HINDEQRLS': {'MHC': 'A*24:02',\n",
       "  'Rew_MHC': 0.8061118457081405,\n",
       "  'TCR_Seq': 'CASSQGTSGRNEQFF',\n",
       "  'Rew_TCR': 0.9054228492544504,\n",
       "  'Classification': 0.8281251736245498},\n",
       " 'ESWMCYFFV': {'MHC': 'A*01:01',\n",
       "  'Rew_MHC': 0.9718908979888948,\n",
       "  'TCR_Seq': 'CASSQGTSGRNEQFF',\n",
       "  'Rew_TCR': 0.9231265126029784,\n",
       "  'Classification': 0.8959082501852114},\n",
       " 'GLTYCYWIA': {'MHC': 'B*57:01',\n",
       "  'Rew_MHC': 0.8928277476956923,\n",
       "  'TCR_Seq': 'CASSTGGFGTDTQYF',\n",
       "  'Rew_TCR': 0.8702720746327919,\n",
       "  'Classification': 0.7534757579507316},\n",
       " 'KVLEHLNGQ': {'MHC': 'B*35:01',\n",
       "  'Rew_MHC': 0.9335794994327252,\n",
       "  'TCR_Seq': 'CASRTTVSSYEQYF',\n",
       "  'Rew_TCR': 0.9945939204268658,\n",
       "  'Classification': 0.7267292406206386},\n",
       " 'AETARNTDNVP': {'MHC': 'A*02:12',\n",
       "  'Rew_MHC': 0.9544440197665595,\n",
       "  'TCR_Seq': 'CAWSVIAGQNTEAFF',\n",
       "  'Rew_TCR': 0.7339454979485228,\n",
       "  'Classification': 0.805057830921327},\n",
       " 'RIIVAWYVN': {'MHC': 'B*54:01',\n",
       "  'Rew_MHC': 0.9444396559454127,\n",
       "  'TCR_Seq': 'CASSLEGVPSYNEQFF',\n",
       "  'Rew_TCR': 0.848545536745087,\n",
       "  'Classification': 0.8888774946309913},\n",
       " 'ANDRAFPDFV': {'MHC': 'B*38:01',\n",
       "  'Rew_MHC': 0.9422565961022281,\n",
       "  'TCR_Seq': 'CASSLGDSQETQYF',\n",
       "  'Rew_TCR': 0.7971191545691455,\n",
       "  'Classification': 0.5817641396904932},\n",
       " 'FQDKIRWCK': {'MHC': 'A*30:01',\n",
       "  'Rew_MHC': 0.8719861830166022,\n",
       "  'TCR_Seq': 'CASRPGPHGLQPQHF',\n",
       "  'Rew_TCR': 0.8383717981519726,\n",
       "  'Classification': 0.8211799627011132},\n",
       " 'HPYRRWELVH': {'MHC': 'A*24:03',\n",
       "  'Rew_MHC': 0.8065386315896443,\n",
       "  'TCR_Seq': 'CASKRGGETQYF',\n",
       "  'Rew_TCR': 0.9449531692171497,\n",
       "  'Classification': 0.6598054190165623},\n",
       " 'GTNHFVVQGAQ': {'MHC': 'B*40:02',\n",
       "  'Rew_MHC': 0.8582360198720653,\n",
       "  'TCR_Seq': 'CASSTGAGGNYGYTF',\n",
       "  'Rew_TCR': 0.8486664326749261,\n",
       "  'Classification': 0.7380798147549569},\n",
       " 'SMTCTHPTQAEE': {'MHC': 'B*15:03',\n",
       "  'Rew_MHC': 0.8822612265339321,\n",
       "  'TCR_Seq': 'CASSRNPGQGAKSAYGYTF',\n",
       "  'Rew_TCR': 0.790735252542814,\n",
       "  'Classification': 0.6983579026361322},\n",
       " 'FRGVVRFKWW': {'MHC': 'B*45:01',\n",
       "  'Rew_MHC': 0.9524485500242164,\n",
       "  'TCR_Seq': 'CASSFWRDDYGYTF',\n",
       "  'Rew_TCR': 0.7162484823359782,\n",
       "  'Classification': 0.6599244600093104},\n",
       " 'VGHKIIKED': {'MHC': 'B*15:01',\n",
       "  'Rew_MHC': 0.932342088681947,\n",
       "  'TCR_Seq': 'CAWGTSGGGSYNEQFF',\n",
       "  'Rew_TCR': 0.9084321022187533,\n",
       "  'Classification': 0.7080559249134658},\n",
       " 'CILQNRLYTMTN': {'MHC': 'A*24:03',\n",
       "  'Rew_MHC': 0.9662015255706333,\n",
       "  'TCR_Seq': 'CASSFWRDDYGYTF',\n",
       "  'Rew_TCR': 0.9984354278783043,\n",
       "  'Classification': 0.5663592367079213},\n",
       " 'CCWIDNYSGP': {'MHC': 'A*30:01',\n",
       "  'Rew_MHC': 0.9345047122837625,\n",
       "  'TCR_Seq': 'CATSRLAGKGEQYF',\n",
       "  'Rew_TCR': 0.9665320470297925,\n",
       "  'Classification': 0.7845037835355118},\n",
       " 'PPCFFHDG': {'MHC': 'A*02:19',\n",
       "  'Rew_MHC': 0.888103611760941,\n",
       "  'TCR_Seq': 'CASSRNPGQGAKSAYGYTF',\n",
       "  'Rew_TCR': 0.734902704888769,\n",
       "  'Classification': 0.8178978668132684},\n",
       " 'VDLMMDPGWQDT': {'MHC': 'C*12:03',\n",
       "  'Rew_MHC': 0.9286474212023283,\n",
       "  'TCR_Seq': 'CASSTGAGGNYGYTF',\n",
       "  'Rew_TCR': 0.8519909671493272,\n",
       "  'Classification': 0.8937248563174474},\n",
       " 'ENVAHFDN': {'MHC': 'A*30:02',\n",
       "  'Rew_MHC': 0.8934792113391431,\n",
       "  'TCR_Seq': 'CASRRWDANTGELFF',\n",
       "  'Rew_TCR': 0.9345345305567404,\n",
       "  'Classification': 0.8435136474077024},\n",
       " 'KPKRNFFAA': {'MHC': 'A*23:01',\n",
       "  'Rew_MHC': 0.9037725637065792,\n",
       "  'TCR_Seq': 'CAISEEGYGELFF',\n",
       "  'Rew_TCR': 0.7050274899239973,\n",
       "  'Classification': 0.689539672239146},\n",
       " 'GSVISPNSH': {'MHC': 'B*46:01',\n",
       "  'Rew_MHC': 0.8571813264333635,\n",
       "  'TCR_Seq': 'CASSIQGAVGTEAFF',\n",
       "  'Rew_TCR': 0.9953440931045718,\n",
       "  'Classification': 0.6493107900829076},\n",
       " 'FFTAIEDA': {'MHC': 'B*40:01',\n",
       "  'Rew_MHC': 0.8170714484472422,\n",
       "  'TCR_Seq': 'CASSPTLARAKSYEQYF',\n",
       "  'Rew_TCR': 0.7748533917528907,\n",
       "  'Classification': 0.9112233729376069},\n",
       " 'TPRDWRLDQ': {'MHC': 'B*35:01',\n",
       "  'Rew_MHC': 0.9782835447775774,\n",
       "  'TCR_Seq': 'CASSFWRDDYGYTF',\n",
       "  'Rew_TCR': 0.9732195921149823,\n",
       "  'Classification': 0.6532042646263234},\n",
       " 'FVMTFMVQI': {'MHC': 'B*44:03',\n",
       "  'Rew_MHC': 0.9150759900208103,\n",
       "  'TCR_Seq': 'CASTSVSGTYTEAFF',\n",
       "  'Rew_TCR': 0.9607941836634274,\n",
       "  'Classification': 0.5972802601713103},\n",
       " 'CYLEKAHI': {'MHC': 'B*18:01',\n",
       "  'Rew_MHC': 0.9073385908821622,\n",
       "  'TCR_Seq': 'CASRHQGYEQYF',\n",
       "  'Rew_TCR': 0.7648547437986066,\n",
       "  'Classification': 0.6072326825981228},\n",
       " 'DWGAALIM': {'MHC': 'A*33:01',\n",
       "  'Rew_MHC': 0.9463157687545353,\n",
       "  'TCR_Seq': 'CASRSGLAGGRVFF',\n",
       "  'Rew_TCR': 0.9247765517730486,\n",
       "  'Classification': 0.5111029851152097},\n",
       " 'LPWQTARAH': {'MHC': 'B*53:01',\n",
       "  'Rew_MHC': 0.9682336343398649,\n",
       "  'TCR_Seq': 'CASSLLNSNQPQHF',\n",
       "  'Rew_TCR': 0.9527156061719282,\n",
       "  'Classification': 0.7554137066779402},\n",
       " 'MHLWWSNWNQ': {'MHC': 'A*02:12',\n",
       "  'Rew_MHC': 0.8313335914928184,\n",
       "  'TCR_Seq': 'CASSLDGSSTGELFF',\n",
       "  'Rew_TCR': 0.8857546144371948,\n",
       "  'Classification': 0.8961126106501566},\n",
       " 'LHYMNTPA': {'MHC': 'A*02:06',\n",
       "  'Rew_MHC': 0.8763894762362315,\n",
       "  'TCR_Seq': 'CASSLDPGSYEQYF',\n",
       "  'Rew_TCR': 0.8586622019015694,\n",
       "  'Classification': 0.5794523507730382},\n",
       " 'TPRTARIEERK': {'MHC': 'A*02:11',\n",
       "  'Rew_MHC': 0.9524803690194417,\n",
       "  'TCR_Seq': 'CASIFRGPTYEQYF',\n",
       "  'Rew_TCR': 0.8317936844108915,\n",
       "  'Classification': 0.6429203722249364},\n",
       " 'YDQHCWQWRNNA': {'MHC': 'B*18:01',\n",
       "  'Rew_MHC': 0.8333815222466048,\n",
       "  'TCR_Seq': 'CASSPAVGNTGELFF',\n",
       "  'Rew_TCR': 0.9538025157662138,\n",
       "  'Classification': 0.8620221324378885},\n",
       " 'YKPAAMLD': {'MHC': 'C*04:01',\n",
       "  'Rew_MHC': 0.8971447426008112,\n",
       "  'TCR_Seq': 'CASSPGQGPRETOQYF',\n",
       "  'Rew_TCR': 0.7522385870438031,\n",
       "  'Classification': 0.7891977581133982},\n",
       " 'TACHFKTMENYV': {'MHC': 'A*66:01',\n",
       "  'Rew_MHC': 0.8649585673793709,\n",
       "  'TCR_Seq': 'CASKRGGETQYF',\n",
       "  'Rew_TCR': 0.8143163117241818,\n",
       "  'Classification': 0.8869324832747209},\n",
       " 'VQWHKGASV': {'MHC': 'A*01:01',\n",
       "  'Rew_MHC': 0.9981399400469678,\n",
       "  'TCR_Seq': 'CAISEEGYGELFF',\n",
       "  'Rew_TCR': 0.7880901121333937,\n",
       "  'Classification': 0.8150434075825475},\n",
       " 'WHMHDRMECWQP': {'MHC': 'B*08:01',\n",
       "  'Rew_MHC': 0.9742882266465313,\n",
       "  'TCR_Seq': 'CASIFRGPTYEQYF',\n",
       "  'Rew_TCR': 0.7378432582395491,\n",
       "  'Classification': 0.7615192650797444},\n",
       " 'RCLYNIQIVW': {'MHC': 'A*29:02',\n",
       "  'Rew_MHC': 0.8243618687466847,\n",
       "  'TCR_Seq': 'CASTSVSGTYTEAFF',\n",
       "  'Rew_TCR': 0.9649719826932952,\n",
       "  'Classification': 0.5900044314431789},\n",
       " 'NMMYTAIP': {'MHC': 'B*45:01',\n",
       "  'Rew_MHC': 0.9089407794981778,\n",
       "  'TCR_Seq': 'CSASWGGRTEAFF',\n",
       "  'Rew_TCR': 0.9455140437093752,\n",
       "  'Classification': 0.7508567710426128},\n",
       " 'RTKCHSYA': {'MHC': 'A*25:01',\n",
       "  'Rew_MHC': 0.8113515846843838,\n",
       "  'TCR_Seq': 'CASSSTSGPAYNEQFF',\n",
       "  'Rew_TCR': 0.9475092793532262,\n",
       "  'Classification': 0.6730436728332565},\n",
       " 'FKLQPWNARNPC': {'MHC': 'A*02:02',\n",
       "  'Rew_MHC': 0.8747330138753201,\n",
       "  'TCR_Seq': 'CATSRLAGKGEQYF',\n",
       "  'Rew_TCR': 0.7302861558930553,\n",
       "  'Classification': 0.681335131347202},\n",
       " 'RNMVEGWWM': {'MHC': 'A*32:01',\n",
       "  'Rew_MHC': 0.990198943064051,\n",
       "  'TCR_Seq': 'CASSFWRDDYGYTF',\n",
       "  'Rew_TCR': 0.9557863452522011,\n",
       "  'Classification': 0.5412382484969019},\n",
       " 'RRDCMQRQIT': {'MHC': 'A*33:01',\n",
       "  'Rew_MHC': 0.9750717225179809,\n",
       "  'TCR_Seq': 'CASSQGTSGRNEQFF',\n",
       "  'Rew_TCR': 0.9587235877685298,\n",
       "  'Classification': 0.5319914608250655},\n",
       " 'INSSNSLESE': {'MHC': 'A*26:02',\n",
       "  'Rew_MHC': 0.8909715656775163,\n",
       "  'TCR_Seq': 'CASRHQGYEQYF',\n",
       "  'Rew_TCR': 0.8315869209746408,\n",
       "  'Classification': 0.7944065790889887},\n",
       " 'SNDDWHREQR': {'MHC': 'A*23:01',\n",
       "  'Rew_MHC': 0.902540707017889,\n",
       "  'TCR_Seq': 'CASSLDPGSYEQYF',\n",
       "  'Rew_TCR': 0.9368055301300421,\n",
       "  'Classification': 0.7834567659799886},\n",
       " 'RIRKHLCNQ': {'MHC': 'A*24:02',\n",
       "  'Rew_MHC': 0.8810472206135493,\n",
       "  'TCR_Seq': 'CASRPGPHGLQPQHF',\n",
       "  'Rew_TCR': 0.8219499170473791,\n",
       "  'Classification': 0.7267110993956428},\n",
       " 'TGCSDKMHG': {'MHC': 'A*24:03',\n",
       "  'Rew_MHC': 0.9088235873886724,\n",
       "  'TCR_Seq': 'CASSLEGVPSYNEQFF',\n",
       "  'Rew_TCR': 0.841558586815302,\n",
       "  'Classification': 0.6868505867162082},\n",
       " 'PYVYATELEN': {'MHC': 'B*57:01',\n",
       "  'Rew_MHC': 0.9374472554097397,\n",
       "  'TCR_Seq': 'CASSLEGVPSYNEQFF',\n",
       "  'Rew_TCR': 0.7670949712715842,\n",
       "  'Classification': 0.6847688529679676},\n",
       " 'KHYGVCMKLFVQ': {'MHC': 'C*12:03',\n",
       "  'Rew_MHC': 0.845838852728965,\n",
       "  'TCR_Seq': 'CAWGTSGGGSYNEQFF',\n",
       "  'Rew_TCR': 0.852030202326047,\n",
       "  'Classification': 0.8325558462194746},\n",
       " 'HLKTKHSPV': {'MHC': 'A*24:03',\n",
       "  'Rew_MHC': 0.9336485214009823,\n",
       "  'TCR_Seq': 'CASRPLGQKNEKLFF',\n",
       "  'Rew_TCR': 0.8877024665618183,\n",
       "  'Classification': 0.7611075188256224},\n",
       " 'CNMILKVGCIA': {'MHC': 'A*80:01',\n",
       "  'Rew_MHC': 0.9144854251928363,\n",
       "  'TCR_Seq': 'CARSGVRLAKETQYF',\n",
       "  'Rew_TCR': 0.919302388305967,\n",
       "  'Classification': 0.7524379542278188},\n",
       " 'AWKTIVSLQMKG': {'MHC': 'A*02:10',\n",
       "  'Rew_MHC': 0.80563654973097,\n",
       "  'TCR_Seq': 'CAWSVIAGQNTEAFF',\n",
       "  'Rew_TCR': 0.9647624110092741,\n",
       "  'Classification': 0.6188507270701235},\n",
       " 'TSGQMRKNIN': {'MHC': 'A*31:01',\n",
       "  'Rew_MHC': 0.9827310641622513,\n",
       "  'TCR_Seq': 'CASSGDRMTLGYTF',\n",
       "  'Rew_TCR': 0.731332777400698,\n",
       "  'Classification': 0.8557096100646253},\n",
       " 'CSERRSEDEEP': {'MHC': 'A*33:01',\n",
       "  'Rew_MHC': 0.903632870441785,\n",
       "  'TCR_Seq': 'CASSTGAGGNYGYTF',\n",
       "  'Rew_TCR': 0.9441332295664973,\n",
       "  'Classification': 0.740276873005566},\n",
       " 'AREMHFND': {'MHC': 'B*35:01',\n",
       "  'Rew_MHC': 0.8695271928996204,\n",
       "  'TCR_Seq': 'CASRRWDANTGELFF',\n",
       "  'Rew_TCR': 0.8295059184297218,\n",
       "  'Classification': 0.5896059663871005},\n",
       " 'IKEGWAPHYNN': {'MHC': 'C*14:02',\n",
       "  'Rew_MHC': 0.9717071248996371,\n",
       "  'TCR_Seq': 'CASTSVSGTYTEAFF',\n",
       "  'Rew_TCR': 0.7255776238360548,\n",
       "  'Classification': 0.8941533297202826},\n",
       " 'DWWQCRDGSRQ': {'MHC': 'C*08:02',\n",
       "  'Rew_MHC': 0.8464573332891173,\n",
       "  'TCR_Seq': 'CASSARGSGQYF',\n",
       "  'Rew_TCR': 0.7611603315217141,\n",
       "  'Classification': 0.9073509296464232},\n",
       " 'VQDMCCDVH': {'MHC': 'C*04:01',\n",
       "  'Rew_MHC': 0.9392117325670694,\n",
       "  'TCR_Seq': 'CASTSVSGTYTEAFF',\n",
       "  'Rew_TCR': 0.9833528606098114,\n",
       "  'Classification': 0.7407543006460485},\n",
       " 'NVNFLKVIPG': {'MHC': 'B*44:03',\n",
       "  'Rew_MHC': 0.8349920070887707,\n",
       "  'TCR_Seq': 'CASSLDGSSTGELFF',\n",
       "  'Rew_TCR': 0.8182153257131717,\n",
       "  'Classification': 0.7666983116672621},\n",
       " 'YEVMFGPLNT': {'MHC': 'B*08:02',\n",
       "  'Rew_MHC': 0.8617579752779608,\n",
       "  'TCR_Seq': 'CASRPLGQKNEKLFF',\n",
       "  'Rew_TCR': 0.8869784036706607,\n",
       "  'Classification': 0.8885249903662013},\n",
       " 'DYRFVTDNNDNR': {'MHC': 'B*38:01',\n",
       "  'Rew_MHC': 0.9117087119217084,\n",
       "  'TCR_Seq': 'CASSTGGFGTDTQYF',\n",
       "  'Rew_TCR': 0.8237837616806549,\n",
       "  'Classification': 0.6850327789761348},\n",
       " 'WNPSVVKAPKQ': {'MHC': 'B*40:02',\n",
       "  'Rew_MHC': 0.8042333624867406,\n",
       "  'TCR_Seq': 'CASSLGNGYTF',\n",
       "  'Rew_TCR': 0.8141449498556875,\n",
       "  'Classification': 0.6471642693405437},\n",
       " 'QASVQLEK': {'MHC': 'B*07:02',\n",
       "  'Rew_MHC': 0.8451141624820382,\n",
       "  'TCR_Seq': 'CASSPTLARAKSYEQYF',\n",
       "  'Rew_TCR': 0.782078362957454,\n",
       "  'Classification': 0.7714948617046771},\n",
       " 'DLDAEWGSLCAD': {'MHC': 'B*44:02',\n",
       "  'Rew_MHC': 0.9622447153095397,\n",
       "  'TCR_Seq': 'CAWSGTANSPLHF',\n",
       "  'Rew_TCR': 0.7190075754089789,\n",
       "  'Classification': 0.5222944342638104},\n",
       " 'PFRFFGGY': {'MHC': 'C*08:02',\n",
       "  'Rew_MHC': 0.9027022108906344,\n",
       "  'TCR_Seq': 'CATSDQKGTATYEQYF',\n",
       "  'Rew_TCR': 0.9246619631753731,\n",
       "  'Classification': 0.5185431031240852},\n",
       " 'HPCYGCRPVGN': {'MHC': 'B*45:01',\n",
       "  'Rew_MHC': 0.9063005931289205,\n",
       "  'TCR_Seq': 'CSAIGQSNEQFF',\n",
       "  'Rew_TCR': 0.8712414536320225,\n",
       "  'Classification': 0.8677745756211983},\n",
       " 'MHLCSGEYAHFV': {'MHC': 'B*35:03',\n",
       "  'Rew_MHC': 0.8156525282404448,\n",
       "  'TCR_Seq': 'CASSLGNGYTF',\n",
       "  'Rew_TCR': 0.7651503842996583,\n",
       "  'Classification': 0.722188352137188},\n",
       " 'HCGLTEPY': {'MHC': 'B*45:01',\n",
       "  'Rew_MHC': 0.8273989940508863,\n",
       "  'TCR_Seq': 'CAWGTSGGGSYNEQFF',\n",
       "  'Rew_TCR': 0.978959001982207,\n",
       "  'Classification': 0.8498821370576403},\n",
       " 'KWFKTMQT': {'MHC': 'C*08:02',\n",
       "  'Rew_MHC': 0.9858771203718111,\n",
       "  'TCR_Seq': 'CASRPLGQKNEKLFF',\n",
       "  'Rew_TCR': 0.7065653766292168,\n",
       "  'Classification': 0.6104800283967691},\n",
       " 'SPKLDIYAAI': {'MHC': 'A*01:01',\n",
       "  'Rew_MHC': 0.9819132170919873,\n",
       "  'TCR_Seq': 'CATGTGTYEQYF',\n",
       "  'Rew_TCR': 0.7528109300205713,\n",
       "  'Classification': 0.8268463056588767},\n",
       " 'MGKEGMMSRQHV': {'MHC': 'A*29:02',\n",
       "  'Rew_MHC': 0.9648710338178759,\n",
       "  'TCR_Seq': 'CASRSGLAGGRVFF',\n",
       "  'Rew_TCR': 0.9941503271179009,\n",
       "  'Classification': 0.6631510265967598},\n",
       " 'TPRLPEEP': {'MHC': 'B*46:01',\n",
       "  'Rew_MHC': 0.9241607514627839,\n",
       "  'TCR_Seq': 'CASRPGPHGLQPQHF',\n",
       "  'Rew_TCR': 0.8705366880254578,\n",
       "  'Classification': 0.927919899945073},\n",
       " 'IRNKQVFGE': {'MHC': 'B*18:01',\n",
       "  'Rew_MHC': 0.916756725529896,\n",
       "  'TCR_Seq': 'CAISEEGYGELFF',\n",
       "  'Rew_TCR': 0.9757152277970051,\n",
       "  'Classification': 0.6304797626151692},\n",
       " 'KLPKGTLR': {'MHC': 'C*14:02',\n",
       "  'Rew_MHC': 0.938768723703231,\n",
       "  'TCR_Seq': 'CASSFWRDDYGYTF',\n",
       "  'Rew_TCR': 0.849699685444286,\n",
       "  'Classification': 0.6176276573681677},\n",
       " 'RHFQRRSWYCN': {'MHC': 'B*40:01',\n",
       "  'Rew_MHC': 0.9005023733963485,\n",
       "  'TCR_Seq': 'CASSSTSGPAYNEQFF',\n",
       "  'Rew_TCR': 0.9410629911080255,\n",
       "  'Classification': 0.6357523951396045},\n",
       " 'GWHYFGLPTF': {'MHC': 'A*68:02',\n",
       "  'Rew_MHC': 0.8925522253835471,\n",
       "  'TCR_Seq': 'CASSPAVGNTGELFF',\n",
       "  'Rew_TCR': 0.9296731707236608,\n",
       "  'Classification': 0.8528132408928373},\n",
       " 'LEQGEHYM': {'MHC': 'A*69:01',\n",
       "  'Rew_MHC': 0.9583837155062664,\n",
       "  'TCR_Seq': 'CARSGVRLAKETQYF',\n",
       "  'Rew_TCR': 0.8973858336282321,\n",
       "  'Classification': 0.9099569824661862},\n",
       " 'TYNRSFVKDF': {'MHC': 'A*66:01',\n",
       "  'Rew_MHC': 0.9610846170415344,\n",
       "  'TCR_Seq': 'CASSTGGFGTDTQYF',\n",
       "  'Rew_TCR': 0.8819548633092468,\n",
       "  'Classification': 0.5539903527500633},\n",
       " 'SIWHTHRT': {'MHC': 'B*35:01',\n",
       "  'Rew_MHC': 0.9563282000819742,\n",
       "  'TCR_Seq': 'CASRTTVSSYEQYF',\n",
       "  'Rew_TCR': 0.9626095035890597,\n",
       "  'Classification': 0.7931349862433119},\n",
       " 'EMIPNHLN': {'MHC': 'A*26:02',\n",
       "  'Rew_MHC': 0.9783578183755383,\n",
       "  'TCR_Seq': 'CASRHQGYEQYF',\n",
       "  'Rew_TCR': 0.9174944137608548,\n",
       "  'Classification': 0.829064852469626},\n",
       " 'TVEQFYTVHVN': {'MHC': 'A*03:01',\n",
       "  'Rew_MHC': 0.8126016695098136,\n",
       "  'TCR_Seq': 'CASRPGPHGLQPQHF',\n",
       "  'Rew_TCR': 0.9932114715534093,\n",
       "  'Classification': 0.5194040858681794},\n",
       " 'HLIKELNYIVP': {'MHC': 'A*68:01',\n",
       "  'Rew_MHC': 0.8599377108731062,\n",
       "  'TCR_Seq': 'CATSRLAGKGEQYF',\n",
       "  'Rew_TCR': 0.87418299178211,\n",
       "  'Classification': 0.6541725248607329},\n",
       " 'PYHIKHVFDA': {'MHC': 'A*69:01',\n",
       "  'Rew_MHC': 0.8263998484973963,\n",
       "  'TCR_Seq': 'CASSMTGKDQPQHF',\n",
       "  'Rew_TCR': 0.8160651411268907,\n",
       "  'Classification': 0.6000733815440924},\n",
       " 'WDEMGFSIEE': {'MHC': 'B*57:01',\n",
       "  'Rew_MHC': 0.880811701080405,\n",
       "  'TCR_Seq': 'CASSYDSPGTDEKLFF',\n",
       "  'Rew_TCR': 0.7136967582788523,\n",
       "  'Classification': 0.5576078590337188},\n",
       " 'NVNKRIVDYM': {'MHC': 'C*12:03',\n",
       "  'Rew_MHC': 0.8249647257366084,\n",
       "  'TCR_Seq': 'CASSPAVGNTGELFF',\n",
       "  'Rew_TCR': 0.8742449562166594,\n",
       "  'Classification': 0.5218331501951704},\n",
       " 'FKIVHDAF': {'MHC': 'B*48:01',\n",
       "  'Rew_MHC': 0.8033194402628978,\n",
       "  'TCR_Seq': 'CAWSKRLAGAYEQYF',\n",
       "  'Rew_TCR': 0.8965217436568808,\n",
       "  'Classification': 0.6000749605537339},\n",
       " 'HFQLGSQWN': {'MHC': 'A*68:01',\n",
       "  'Rew_MHC': 0.9097539518575742,\n",
       "  'TCR_Seq': 'CASSLEGVPSYNEQFF',\n",
       "  'Rew_TCR': 0.7889771819123523,\n",
       "  'Classification': 0.7791927969458304},\n",
       " 'NYILKDFFG': {'MHC': 'B*51:01',\n",
       "  'Rew_MHC': 0.8116290803753978,\n",
       "  'TCR_Seq': 'CATRMAGSSSYEQYF',\n",
       "  'Rew_TCR': 0.7684006469381233,\n",
       "  'Classification': 0.8831353126275963},\n",
       " 'LDAPKGYLM': {'MHC': 'A*02:11',\n",
       "  'Rew_MHC': 0.9175786525601811,\n",
       "  'TCR_Seq': 'CASSLDPGSYEQYF',\n",
       "  'Rew_TCR': 0.7003607805512067,\n",
       "  'Classification': 0.8465558391824115},\n",
       " 'FYHTGRNDNIWS': {'MHC': 'B*44:03',\n",
       "  'Rew_MHC': 0.9827221085617475,\n",
       "  'TCR_Seq': 'CASRRWDANTGELFF',\n",
       "  'Rew_TCR': 0.9715664170267921,\n",
       "  'Classification': 0.659422385906067},\n",
       " 'FWDLINTWLY': {'MHC': 'B*51:01',\n",
       "  'Rew_MHC': 0.9131514715305715,\n",
       "  'TCR_Seq': 'CASSGDRMTLGYTF',\n",
       "  'Rew_TCR': 0.9208174857495084,\n",
       "  'Classification': 0.5922321444649324},\n",
       " 'KAVAPWEPLL': {'MHC': 'A*30:01',\n",
       "  'Rew_MHC': 0.8747304772813469,\n",
       "  'TCR_Seq': 'CASSLGDSQETQYF',\n",
       "  'Rew_TCR': 0.7432400969815944,\n",
       "  'Classification': 0.8130510460064347},\n",
       " 'MRGCEAQLS': {'MHC': 'B*15:01',\n",
       "  'Rew_MHC': 0.8298632743952755,\n",
       "  'TCR_Seq': 'CAWGTSGGGSYNEQFF',\n",
       "  'Rew_TCR': 0.7806206988610461,\n",
       "  'Classification': 0.739401996579564},\n",
       " 'LCMNTSAG': {'MHC': 'B*08:02',\n",
       "  'Rew_MHC': 0.8640474560357815,\n",
       "  'TCR_Seq': 'CAWSKRLAGAYEQYF',\n",
       "  'Rew_TCR': 0.9655482508959796,\n",
       "  'Classification': 0.6321863333241786},\n",
       " 'ECYQVEAYR': {'MHC': 'C*14:02',\n",
       "  'Rew_MHC': 0.8838876073748018,\n",
       "  'TCR_Seq': 'CASSQGTSGRNEQFF',\n",
       "  'Rew_TCR': 0.9244154868321006,\n",
       "  'Classification': 0.9236119482144277},\n",
       " 'SHDGGEVT': {'MHC': 'A*24:03',\n",
       "  'Rew_MHC': 0.9767003288305245,\n",
       "  'TCR_Seq': 'CASSLLNSNQPQHF',\n",
       "  'Rew_TCR': 0.77693379881973,\n",
       "  'Classification': 0.854277947477212}}"
      ]
     },
     "execution_count": 112,
     "metadata": {},
     "output_type": "execute_result"
    }
   ],
   "source": [
    "selected_seq"
   ]
  },
  {
   "cell_type": "code",
   "execution_count": 108,
   "id": "06dee486-3a14-4a62-949b-026aa4fe6081",
   "metadata": {
    "scrolled": true
   },
   "outputs": [
    {
     "data": {
      "text/plain": [
       "{'C*08:02': 4,\n",
       " 'A*02:19': 2,\n",
       " 'A*31:01': 3,\n",
       " 'A*02:12': 3,\n",
       " 'B*35:03': 2,\n",
       " 'A*80:01': 2,\n",
       " 'A*24:02': 2,\n",
       " 'A*01:01': 3,\n",
       " 'B*57:01': 3,\n",
       " 'B*35:01': 4,\n",
       " 'B*54:01': 1,\n",
       " 'B*38:01': 2,\n",
       " 'A*30:01': 3,\n",
       " 'A*24:03': 5,\n",
       " 'B*40:02': 2,\n",
       " 'B*15:03': 1,\n",
       " 'B*45:01': 4,\n",
       " 'B*15:01': 2,\n",
       " 'C*12:03': 3,\n",
       " 'A*30:02': 1,\n",
       " 'A*23:01': 2,\n",
       " 'B*46:01': 2,\n",
       " 'B*40:01': 2,\n",
       " 'B*44:03': 3,\n",
       " 'B*18:01': 3,\n",
       " 'A*33:01': 3,\n",
       " 'B*53:01': 1,\n",
       " 'A*02:06': 1,\n",
       " 'A*02:11': 2,\n",
       " 'C*04:01': 2,\n",
       " 'A*66:01': 2,\n",
       " 'B*08:01': 1,\n",
       " 'A*29:02': 2,\n",
       " 'A*25:01': 1,\n",
       " 'A*02:02': 1,\n",
       " 'A*32:01': 1,\n",
       " 'A*26:02': 2,\n",
       " 'A*02:10': 1,\n",
       " 'C*14:02': 3,\n",
       " 'B*08:02': 2,\n",
       " 'B*07:02': 1,\n",
       " 'B*44:02': 1,\n",
       " 'A*68:02': 1,\n",
       " 'A*69:01': 2,\n",
       " 'A*03:01': 1,\n",
       " 'A*68:01': 2,\n",
       " 'B*48:01': 1,\n",
       " 'B*51:01': 2}"
      ]
     },
     "execution_count": 108,
     "metadata": {},
     "output_type": "execute_result"
    }
   ],
   "source": [
    "mhc_counts"
   ]
  },
  {
   "cell_type": "code",
   "execution_count": 109,
   "id": "0cee72f9-d81d-4edb-b535-527a6750e8cf",
   "metadata": {
    "scrolled": true
   },
   "outputs": [
    {
     "data": {
      "text/plain": [
       "{'CASSPTLARAKSYEQYF': 3,\n",
       " 'CATRMAGSSSYEQYF': 2,\n",
       " 'CASSTGGFGTDTQYF': 4,\n",
       " 'CATSDQKGTATYEQYF': 2,\n",
       " 'CASKRGGETQYF': 3,\n",
       " 'CAWSGTANSPLHF': 2,\n",
       " 'CSASWGGRTEAFF': 2,\n",
       " 'CASSQGTSGRNEQFF': 4,\n",
       " 'CASRTTVSSYEQYF': 2,\n",
       " 'CAWSVIAGQNTEAFF': 2,\n",
       " 'CASSLEGVPSYNEQFF': 4,\n",
       " 'CASSLGDSQETQYF': 2,\n",
       " 'CASRPGPHGLQPQHF': 4,\n",
       " 'CASSTGAGGNYGYTF': 3,\n",
       " 'CASSRNPGQGAKSAYGYTF': 2,\n",
       " 'CASSFWRDDYGYTF': 5,\n",
       " 'CAWGTSGGGSYNEQFF': 4,\n",
       " 'CATSRLAGKGEQYF': 3,\n",
       " 'CASRRWDANTGELFF': 3,\n",
       " 'CAISEEGYGELFF': 3,\n",
       " 'CASSIQGAVGTEAFF': 1,\n",
       " 'CASTSVSGTYTEAFF': 4,\n",
       " 'CASRHQGYEQYF': 3,\n",
       " 'CASRSGLAGGRVFF': 2,\n",
       " 'CASSLLNSNQPQHF': 2,\n",
       " 'CASSLDGSSTGELFF': 2,\n",
       " 'CASSLDPGSYEQYF': 3,\n",
       " 'CASIFRGPTYEQYF': 2,\n",
       " 'CASSPAVGNTGELFF': 3,\n",
       " 'CASSPGQGPRETOQYF': 1,\n",
       " 'CASSSTSGPAYNEQFF': 2,\n",
       " 'CASRPLGQKNEKLFF': 3,\n",
       " 'CARSGVRLAKETQYF': 2,\n",
       " 'CASSGDRMTLGYTF': 2,\n",
       " 'CASSARGSGQYF': 1,\n",
       " 'CASSLGNGYTF': 2,\n",
       " 'CSAIGQSNEQFF': 1,\n",
       " 'CATGTGTYEQYF': 1,\n",
       " 'CASSMTGKDQPQHF': 1,\n",
       " 'CASSYDSPGTDEKLFF': 1,\n",
       " 'CAWSKRLAGAYEQYF': 2}"
      ]
     },
     "execution_count": 109,
     "metadata": {},
     "output_type": "execute_result"
    }
   ],
   "source": [
    "tcr_seq_counts"
   ]
  },
  {
   "cell_type": "code",
   "execution_count": 147,
   "id": "dd546091-8d05-47f1-9ddb-17707fdd472d",
   "metadata": {},
   "outputs": [
    {
     "name": "stdout",
     "output_type": "stream",
     "text": [
      "Peptide: ESWMCYFFV, MHC: A*01:01, TCR_Seq: CASSQGTSGRNEQFF, Rew_MHC: 0.9718908979888948, Rew_TCR: 0.9231265126029784, Classification: 0.8959082501852114, Product: 0.8037894008020394\n",
      "Peptide: LEQGEHYM, MHC: A*69:01, TCR_Seq: CARSGVRLAKETQYF, Rew_MHC: 0.9583837155062664, Rew_TCR: 0.8973858336282321, Classification: 0.9099569824661862, Product: 0.782599375424067\n",
      "Peptide: FSMSKFAFHLV, MHC: B*35:03, TCR_Seq: CASKRGGETQYF, Rew_MHC: 0.8546631485489588, Rew_TCR: 0.9843698182337453, Classification: 0.9224647871854761, Product: 0.7760738763505057\n",
      "Peptide: INAWAKFFNDPH, MHC: A*31:01, TCR_Seq: CASSTGGFGTDTQYF, Rew_MHC: 0.981462085399, Rew_TCR: 0.9045124050337902, Classification: 0.8683505745089966, Product: 0.7708735606185536\n",
      "Peptide: ECYQVEAYR, MHC: C*14:02, TCR_Seq: CASSQGTSGRNEQFF, Rew_MHC: 0.8838876073748018, Rew_TCR: 0.9244154868321006, Classification: 0.9236119482144277, Product: 0.754664289900284\n"
     ]
    }
   ],
   "source": [
    "# Calculate the product of Rew_MHC, Rew_TCR, and Classification for each entry\n",
    "for key, value in selected_seq.items():\n",
    "    product = value['Rew_MHC'] * value['Rew_TCR'] * value['Classification']\n",
    "    selected_seq[key]['Product'] = product\n",
    "\n",
    "# Sort the entries by the product value in descending order and get the top 5\n",
    "top_5_entries = sorted(selected_seq.items(), key=lambda x: x[1]['Product'], reverse=True)[:5]\n",
    "\n",
    "# Print top 5 entries\n",
    "for key, value in top_5_entries:\n",
    "    print(f\"Peptide: {key}, MHC: {value['MHC']}, TCR_Seq: {value['TCR_Seq']}, \"\n",
    "          f\"Rew_MHC: {value['Rew_MHC']}, Rew_TCR: {value['Rew_TCR']}, \"\n",
    "          f\"Classification: {value['Classification']}, Product: {value['Product']}\")"
   ]
  },
  {
   "cell_type": "code",
   "execution_count": null,
   "id": "bbfd3101-94f5-4700-84f3-d1205e833a3e",
   "metadata": {},
   "outputs": [],
   "source": []
  }
 ],
 "metadata": {
  "kernelspec": {
   "display_name": "Python 3 (ipykernel)",
   "language": "python",
   "name": "python3"
  },
  "language_info": {
   "codemirror_mode": {
    "name": "ipython",
    "version": 3
   },
   "file_extension": ".py",
   "mimetype": "text/x-python",
   "name": "python",
   "nbconvert_exporter": "python",
   "pygments_lexer": "ipython3",
   "version": "3.8.10"
  }
 },
 "nbformat": 4,
 "nbformat_minor": 5
}
