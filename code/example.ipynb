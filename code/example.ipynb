{
 "cells": [
  {
   "cell_type": "code",
   "execution_count": null,
   "id": "a96cfe2b-a465-4200-923f-15953b3ec074",
   "metadata": {},
   "outputs": [],
   "source": [
    "import os\n",
    "import pandas as pd\n",
    "import numpy as np\n",
    "import pickle\n",
    "import tcrgp\n",
    "from sklearn.ensemble import RandomForestClassifier\n",
    "from sklearn.model_selection import train_test_split\n",
    "from mhcflurry import Class1AffinityPredictor"
   ]
  },
  {
   "cell_type": "code",
   "execution_count": null,
   "id": "013cd1cd-946d-4e92-a0af-b5b2b440543f",
   "metadata": {},
   "outputs": [],
   "source": [
    "# Load the MHCflurry predictor\n",
    "predictor = Class1AffinityPredictor.load()"
   ]
  },
  {
   "cell_type": "code",
   "execution_count": null,
   "id": "f76e3fde-e3ba-423f-a3ea-e7c40b1cb1a8",
   "metadata": {},
   "outputs": [],
   "source": [
    "dir_patient = 'data/synthetic.csv'\n",
    "training_data = 'data/training_data_RF.csv'\n",
    "output_directory = 'results'\n",
    "\n",
    "patient = pd.read_csv(dir_patient)\n",
    "training = pd.read_csv(training_data)"
   ]
  },
  {
   "cell_type": "code",
   "execution_count": null,
   "id": "38975a32-8041-4cdf-b375-b719ae603e06",
   "metadata": {},
   "outputs": [],
   "source": [
    "import pandas as pd\n",
    "\n",
    "def onehot_encode_antigens(df, antigen_column='antigen', label_column=None):\n",
    "    # Define the possible characters (amino acids) in the antigens\n",
    "    characters = list('ACDEFGHIKLMNPQRSTVWY')\n",
    "\n",
    "    # Determine the maximum length of the antigens\n",
    "    max_length = df[antigen_column].str.len().max()\n",
    "\n",
    "    # Initialize a dictionary to hold the one-hot encoded data\n",
    "    onehot_encoded = {f'{antigen_column}_{char}_{pos}': [] for pos in range(max_length) for char in characters}\n",
    "\n",
    "    # Fill in the one-hot encoded data\n",
    "    for antigen in df[antigen_column]:\n",
    "        for pos in range(max_length):\n",
    "            char = antigen[pos] if pos < len(antigen) else None\n",
    "            for amino_acid in characters:\n",
    "                onehot_encoded[f'{antigen_column}_{amino_acid}_{pos}'].append(int(char == amino_acid) if char is not None else 0)\n",
    "\n",
    "    # Create a DataFrame from the one-hot encoded data\n",
    "    onehot_df = pd.DataFrame(onehot_encoded)\n",
    "\n",
    "    # Optionally, concatenate with the label column if it exists\n",
    "    if label_column and label_column in df.columns:\n",
    "        onehot_df = pd.concat([onehot_df, df[label_column]], axis=1)\n",
    "\n",
    "    return onehot_df\n",
    "# Example usage\n",
    "# df is your DataFrame\n",
    "onehot_encoded_df = onehot_encode_antigens(training, antigen_column='antigen', label_column='neo_vs_anti')\n",
    "onehot_patient_encoded_df = onehot_encode_antigens(patient, antigen_column='antigen', label_column=None)\n"
   ]
  },
  {
   "cell_type": "code",
   "execution_count": null,
   "id": "c9f5bad2-6572-4eda-a64d-76c7c606b06f",
   "metadata": {},
   "outputs": [],
   "source": [
    "import pandas as pd\n",
    "import numpy as np\n",
    "from sklearn.model_selection import train_test_split, GridSearchCV\n",
    "from sklearn.ensemble import RandomForestClassifier\n",
    "from sklearn.metrics import accuracy_score, classification_report\n",
    "import pickle\n",
    "\n",
    "def neoantigen_classification(one_hot, output_dir):\n",
    "    # Splitting the dataset into training and testing sets\n",
    "    train, test = train_test_split(one_hot, test_size=0.2, random_state=25)\n",
    "    \n",
    "    # Separating the features and the label\n",
    "    x_train = train.drop('neo_vs_anti', axis=1)\n",
    "    y_train = train['neo_vs_anti']\n",
    "    x_test = test.drop('neo_vs_anti', axis=1)\n",
    "    y_test = test['neo_vs_anti']\n",
    "\n",
    "    # Displaying the number of samples in training and testing sets\n",
    "    print(f\"No. of training samples: {train.shape[0]}\")\n",
    "    print(f\"No. of testing samples: {test.shape[0]}\")\n",
    "\n",
    "    # Setting up the parameter grid for hyperparameter tuning\n",
    "    param_grid = {\n",
    "        'n_estimators': [10, 20, 50, 100],\n",
    "        'max_depth': [5, 10, 20, 50]\n",
    "    }\n",
    "\n",
    "    # Initializing the RandomForestClassifier\n",
    "    rf = RandomForestClassifier(random_state=42)\n",
    "\n",
    "    # Hyperparameter tuning using GridSearchCV\n",
    "    grid_search = GridSearchCV(estimator=rf, param_grid=param_grid, cv=3, n_jobs=-1, verbose=2, scoring='accuracy')\n",
    "    grid_search.fit(x_train, y_train)\n",
    "\n",
    "    # Extracting the best model\n",
    "    best_rf = grid_search.best_estimator_\n",
    "    print(f\"Optimal parameters: {grid_search.best_params_}\")\n",
    "\n",
    "    # Model evaluation\n",
    "    y_pred = best_rf.predict(x_test)\n",
    "    print(f\"Accuracy on test set: {accuracy_score(y_test, y_pred)}\")\n",
    "    print(\"Classification Report:\")\n",
    "    print(classification_report(y_test, y_pred))\n",
    "\n",
    "    # Saving the model\n",
    "    filename = f'{output_dir}/best_rf_model.sav'\n",
    "    with open(filename, 'wb') as f:\n",
    "        pickle.dump(best_rf, f)\n",
    "    print('Best model saved.')\n",
    "\n",
    "# Example usage\n",
    "# neoantigen_classification(one_hot_encoded_df, 'path_to_output_directory')\n"
   ]
  },
  {
   "cell_type": "code",
   "execution_count": null,
   "id": "309e1778-4db7-4e33-92a5-a1b35bcc32d6",
   "metadata": {},
   "outputs": [],
   "source": [
    "neoantigen_classification(onehot_encoded_df, output_directory)"
   ]
  },
  {
   "cell_type": "code",
   "execution_count": null,
   "id": "0574022c-346e-4013-bf8b-109ecbdd9d5f",
   "metadata": {},
   "outputs": [],
   "source": [
    "model_filename = \"/home/sjurc/Documents/python/neoantigen/automate/results/best_rf_model.sav\" \n",
    "with open(model_filename, 'rb') as file:\n",
    "    trained_model = pickle.load(file)"
   ]
  },
  {
   "cell_type": "code",
   "execution_count": null,
   "id": "050e3b2c-b599-4674-80b0-0ccc226a9663",
   "metadata": {},
   "outputs": [],
   "source": [
    "patient_predictions = trained_model.predict(onehot_patient_encoded_df)\n",
    "patient['Classification'] = patient_predictions"
   ]
  },
  {
   "cell_type": "code",
   "execution_count": null,
   "id": "c574ee31-5bcc-4098-a730-2aad678925d2",
   "metadata": {},
   "outputs": [],
   "source": [
    "def calculate_binding_affinity(df, antigen_col='antigen', hla_col='hla'):\n",
    "    \"\"\"\n",
    "    Calculate binding affinity between antigens and MHC molecules and normalize the values.\n",
    "\n",
    "    :param df: DataFrame containing antigens and corresponding HLA alleles.\n",
    "    :param antigen_col: Name of the column containing the antigen sequences.\n",
    "    :param hla_col: Name of the column containing the HLA alleles.\n",
    "    :return: DataFrame with original data and normalized binding affinities.\n",
    "    \"\"\"\n",
    "\n",
    "    # Initialize a list to store binding affinity results\n",
    "    binding_affinities = []\n",
    "\n",
    "    # Iterate over rows in DataFrame\n",
    "    for _, row in df.iterrows():\n",
    "        antigen = row[antigen_col]\n",
    "        hla = row[hla_col]\n",
    "\n",
    "        # Predict binding affinity\n",
    "        prediction = predictor.predict(alleles=[hla], peptides=[antigen])\n",
    "        \n",
    "        # Extract the affinity and append to the list\n",
    "        affinity = prediction[0]  # Extracting the first element of the list\n",
    "        binding_affinities.append(affinity)\n",
    "\n",
    "    # Add the binding affinity results to the DataFrame\n",
    "    df['mhc_presentation_score'] = binding_affinities\n",
    "\n",
    "    # Normalize binding affinity\n",
    "    max_affinity = df['mhc_presentation_score'].max()\n",
    "    min_affinity = df['mhc_presentation_score'].min()\n",
    "    df['mhc_presentation_score'] = (df['mhc_presentation_score'] - min_affinity) / (max_affinity - min_affinity)\n",
    "\n",
    "    return df\n",
    "\n"
   ]
  },
  {
   "cell_type": "code",
   "execution_count": null,
   "id": "60640620-2555-4e2d-97ec-ca0592de3b81",
   "metadata": {},
   "outputs": [],
   "source": [
    "import pandas as pd\n",
    "import random\n",
    "\n",
    "def calculate_tcr_probability(df, antigen_col='antigen', tcr_col='tcr_sequence'):\n",
    "    \"\"\"\n",
    "    Calculate a TCR probability for each antigen-TCR pair in the DataFrame.\n",
    "\n",
    "    :param df: DataFrame containing antigen and TCR sequence columns.\n",
    "    :param antigen_col: Name of the column containing the antigen sequences.\n",
    "    :param tcr_col: Name of the column containing the TCR sequences.\n",
    "    :return: DataFrame with an added column for TCR probabilities.\n",
    "    \"\"\"\n",
    "    # Initialize a list to store TCR probabilities\n",
    "    tcr_probabilities = []\n",
    "\n",
    "    # Iterate over rows in DataFrame\n",
    "    for _, row in df.iterrows():\n",
    "        # Generate a random TCR probability for each antigen-TCR pair\n",
    "        tcr_probability = tcrgp.predict([antigen_col], [tcr_col])\n",
    "        tcr_probabilities.append(tcr_probability)\n",
    "\n",
    "    # Add the TCR probabilities to the DataFrame\n",
    "    df['tcr_probability'] = tcr_probabilities\n",
    "\n",
    "    return df"
   ]
  },
  {
   "cell_type": "markdown",
   "id": "1badaed4-9069-4000-bd54-3a8ddc9d3e0d",
   "metadata": {},
   "source": [
    "### Synthetic"
   ]
  },
  {
   "cell_type": "code",
   "execution_count": null,
   "id": "6750d29b-745e-462f-80f5-03291af19212",
   "metadata": {},
   "outputs": [],
   "source": [
    "onehot_patient_encoded_df = onehot_encode_antigens(patient, antigen_column='antigen', label_column=None)"
   ]
  },
  {
   "cell_type": "code",
   "execution_count": null,
   "id": "2ac9b9d1-1701-4701-ab26-688e2ae72977",
   "metadata": {},
   "outputs": [],
   "source": [
    "patient_predictions = trained_model.predict(onehot_patient_encoded_df)\n",
    "patient['Classification'] = patient_predictions"
   ]
  },
  {
   "cell_type": "code",
   "execution_count": null,
   "id": "b48e80ea-1573-4e3d-89a4-b68c937014f5",
   "metadata": {},
   "outputs": [],
   "source": [
    "patient_df_normalized = calculate_binding_affinity(patient, antigen_col='antigen', hla_col='mhc_molecule')"
   ]
  },
  {
   "cell_type": "code",
   "execution_count": null,
   "id": "b31db35e-a37a-47ee-9e06-1c67aaf688d6",
   "metadata": {},
   "outputs": [],
   "source": [
    "patient_df_normalized_with_tcr = calculate_tcr_probability(patient_df_normalized, antigen_col='antigen', tcr_col='tcr_sequence')"
   ]
  },
  {
   "cell_type": "code",
   "execution_count": null,
   "id": "76ca9bc4-6cff-4174-865e-84a4ddcfd1c7",
   "metadata": {},
   "outputs": [],
   "source": [
    "patient_df_normalized_with_tcr"
   ]
  },
  {
   "cell_type": "code",
   "execution_count": null,
   "id": "e8dd94cc-f834-486c-b2cc-70c4e554dfe4",
   "metadata": {},
   "outputs": [],
   "source": [
    "mhc_threshold = 0.85\n",
    "tcr_threshold = 0.53\n",
    "\n",
    "min_mhc = 0.78\n",
    "min_tcr = 0.46"
   ]
  },
  {
   "cell_type": "code",
   "execution_count": null,
   "id": "11cd1dfd-5349-4945-9a01-404a01d9d397",
   "metadata": {},
   "outputs": [],
   "source": [
    "synth = patient_df_normalized_with_tcr"
   ]
  },
  {
   "cell_type": "code",
   "execution_count": null,
   "id": "0db93312-f437-4c1e-b175-6f1569211611",
   "metadata": {},
   "outputs": [],
   "source": [
    "synth[(synth['mhc_presentation_score'] >= mhc_threshold) & (synth['tcr_probability'] >= tcr_threshold)]"
   ]
  },
  {
   "cell_type": "code",
   "execution_count": null,
   "id": "a43cdc34-4879-4e6b-b20d-8691c0e6a37d",
   "metadata": {},
   "outputs": [],
   "source": [
    "synth[\n",
    "    ((synth['mhc_presentation_score'] >= min_mhc) & (synth['mhc_presentation_score'] < mhc_threshold) & (synth['tcr_probability'] >= min_tcr)) |\n",
    "    ((synth['tcr_probability'] >= min_tcr) & (synth['tcr_probability'] < tcr_threshold) & (synth['mhc_presentation_score'] >= min_mhc))\n",
    "]\n"
   ]
  }
 ],
 "metadata": {
  "kernelspec": {
   "display_name": "Python 3 (ipykernel)",
   "language": "python",
   "name": "python3"
  },
  "language_info": {
   "codemirror_mode": {
    "name": "ipython",
    "version": 3
   },
   "file_extension": ".py",
   "mimetype": "text/x-python",
   "name": "python",
   "nbconvert_exporter": "python",
   "pygments_lexer": "ipython3",
   "version": "3.8.10"
  }
 },
 "nbformat": 4,
 "nbformat_minor": 5
}
